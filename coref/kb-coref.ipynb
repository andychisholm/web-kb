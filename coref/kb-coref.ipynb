{
 "cells": [
  {
   "cell_type": "code",
   "execution_count": 1,
   "metadata": {},
   "outputs": [
    {
     "data": {
      "text/html": [
       "\n",
       "        <div>\n",
       "            <p><b>SparkContext</b></p>\n",
       "\n",
       "            <p><a href=\"http://schwa11.it.usyd.edu.au:4040\">Spark UI</a></p>\n",
       "\n",
       "            <dl>\n",
       "              <dt>Version</dt>\n",
       "                <dd><code>v2.2.0</code></dd>\n",
       "              <dt>Master</dt>\n",
       "                <dd><code>spark://schwa11:7077</code></dd>\n",
       "              <dt>AppName</dt>\n",
       "                <dd><code>PySparkShell</code></dd>\n",
       "            </dl>\n",
       "        </div>\n",
       "        "
      ],
      "text/plain": [
       "<SparkContext master=spark://schwa11:7077 appName=PySparkShell>"
      ]
     },
     "execution_count": 1,
     "metadata": {},
     "output_type": "execute_result"
    }
   ],
   "source": [
    "sc"
   ]
  },
  {
   "cell_type": "code",
   "execution_count": 2,
   "metadata": {},
   "outputs": [],
   "source": [
    "data_path = 'hdfs://schwa11:9000/webkb'"
   ]
  },
  {
   "cell_type": "code",
   "execution_count": 3,
   "metadata": {},
   "outputs": [],
   "source": [
    "from HTMLParser import HTMLParser\n",
    "import ujson as json\n",
    "from operator import add\n",
    "from collections import Counter\n",
    "from itertools import combinations\n",
    "import re\n",
    "\n",
    "def trim_utm(url):\n",
    "    if \"utm_\" not in url:\n",
    "        return url\n",
    "    matches = re.findall('(.+\\?)([^#]*)(.*)', url)\n",
    "    if len(matches) == 0:\n",
    "        return url\n",
    "    match = matches[0]\n",
    "    query = match[1]\n",
    "    sanitized_query = '&'.join([p for p in query.split('&') if not p.startswith('utm_')])\n",
    "    return match[0]+sanitized_query+match[2]\n",
    "\n",
    "html_parser = HTMLParser()\n",
    "\n",
    "def normalize_url(url, base=None):\n",
    "    if base:\n",
    "        try:\n",
    "            url = urlparse.urljoin(base, url)\n",
    "        except ValueError:\n",
    "            pass\n",
    "\n",
    "    url = html_parser.unescape(url)\n",
    "    url = url.lower()\n",
    "    if url.startswith('https://'):\n",
    "        url = url[8:]\n",
    "    if url.startswith('http://'):\n",
    "        url = url[7:]\n",
    "    if url.startswith('www.'):\n",
    "        url = url[4:]\n",
    "    url = trim_utm(url)\n",
    "    url = url.strip('/?#')\n",
    "    return url\n",
    "\n",
    "def normalize_endpoint_url(url):\n",
    "    url = normalize_url(url)\n",
    "    # convert 'blah.com/users.php?id=bob' into 'blah.com/users.php/id=bob'\n",
    "    url = re.sub('([a-z]+)\\?', r\"\\1/\", url)\n",
    "    url = re.sub('[0-9]', 'N', url) # todo: maybe remove\n",
    "    # convert 'blah.com/users#bob' into 'blah.com/users/bob'\n",
    "    url = url.replace('#', '/')\n",
    "\n",
    "    parts = url.rstrip('/').split('/')\n",
    "    suffix = parts[-1].lower()\n",
    "    if len(parts) > 1 and suffix.startswith('index') or suffix.startswith('default'):\n",
    "        parts = parts[:-1]\n",
    "    if len(parts) > 1:\n",
    "        parts[-1] = '<eid>'\n",
    "    else:\n",
    "        parts.append('<nil>')\n",
    "    return '/'.join(parts)"
   ]
  },
  {
   "cell_type": "code",
   "execution_count": 4,
   "metadata": {},
   "outputs": [],
   "source": [
    "from sift.models import text\n",
    "from sift.util import ngrams"
   ]
  },
  {
   "cell_type": "code",
   "execution_count": 5,
   "metadata": {},
   "outputs": [],
   "source": [
    "# mention count\n",
    "if False:\n",
    "    links = sc\\\n",
    "        .textFile(data_path + '/docs')\\\n",
    "        .map(json.loads)\\\n",
    "        .flatMap(lambda d: (l for l in d['links'] if l['endpoint'] >= 0.825))\\\n",
    "        .cache()\n",
    "    links.count()\n",
    "    links.map(lambda l: normalize_url(l['target'])).distinct().count()\n",
    "    links.map(lambda l: normalize_endpoint_url(l['target'])).distinct().count()"
   ]
  },
  {
   "cell_type": "code",
   "execution_count": 6,
   "metadata": {},
   "outputs": [],
   "source": [
    "bad_anchors = sc\\\n",
    "    .textFile(data_path + '/docs')\\\n",
    "    .map(json.loads)\\\n",
    "    .flatMap(lambda d: (\n",
    "            (d['text'][l['start']:l['stop']].lower().strip(), l['target']) for l in d['links'] if l['endpoint'] > 0.99))\\\n",
    "    .distinct()\\\n",
    "    .groupByKey()\\\n",
    "    .mapValues(list)\\\n",
    "    .coalesce(128)\\\n",
    "    .mapValues(lambda urls: Counter(normalize_endpoint_url(u) for u in urls))\\\n",
    "    .map(lambda (a, urls): (a, sum(1.0 for k, v in urls.iteritems() if v >= 10)))\\\n",
    "    .sortBy(lambda (k, count): count, ascending=False)\\\n",
    "    .filter(lambda (k, count): count >= 3)\\\n",
    "    .map(lambda (k, c): k)\\\n",
    "    .collect()\n",
    "bad_anchors = set(bad_anchors)"
   ]
  },
  {
   "cell_type": "code",
   "execution_count": 7,
   "metadata": {},
   "outputs": [],
   "source": [
    "# todo: exclude anchors that are named entities"
   ]
  },
  {
   "cell_type": "code",
   "execution_count": 8,
   "metadata": {},
   "outputs": [],
   "source": [
    "def filter_doc_endpoint_links(doc, threshold=0.95):\n",
    "    links = []\n",
    "    for l in doc['links']:\n",
    "        if l['endpoint'] > threshold:\n",
    "            anchor = doc['text'][l['start']:l['stop']].lower().strip()\n",
    "            if anchor not in bad_anchors:\n",
    "                l['target'] = normalize_url(l['target'])\n",
    "                links.append(l)\n",
    "    doc['links'] = links\n",
    "    return doc"
   ]
  },
  {
   "cell_type": "code",
   "execution_count": 9,
   "metadata": {},
   "outputs": [],
   "source": [
    "if False:\n",
    "    sc\\\n",
    "        .textFile(data_path + '/docs')\\\n",
    "        .map(json.loads)\\\n",
    "        .flatMap(lambda d: (l['target'] for l in d['links']))\\\n",
    "        .map(normalize_url)\\\n",
    "        .filter(lambda l: '?' in l)\\\n",
    "        .flatMap(lambda l: l.split('?')[-1].split('&'))\\\n",
    "        .map(lambda params: params.split('=')[0])\\\n",
    "        .map(lambda k: (k, 1))\\\n",
    "        .reduceByKey(add)\\\n",
    "        .map(lambda (k, v): (v, k))\\\n",
    "        .sortByKey(ascending=False)\\\n",
    "        .take(1000)"
   ]
  },
  {
   "cell_type": "code",
   "execution_count": 10,
   "metadata": {},
   "outputs": [
    {
     "data": {
      "text/plain": [
       "1712230"
      ]
     },
     "execution_count": 10,
     "metadata": {},
     "output_type": "execute_result"
    }
   ],
   "source": [
    "docs = sc\\\n",
    "    .textFile(data_path + '/docs')\\\n",
    "    .map(json.loads)\\\n",
    "    .map(filter_doc_endpoint_links)\\\n",
    "    .filter(lambda d: d['links'])\\\n",
    "    .map(lambda d: (d['_id'], d))\\\n",
    "    .groupByKey()\\\n",
    "    .map(lambda (k, ds): list(ds)[0])\\\n",
    "    .cache()\n",
    "docs.count()"
   ]
  },
  {
   "cell_type": "code",
   "execution_count": 11,
   "metadata": {},
   "outputs": [],
   "source": [
    "from ngram import NGram"
   ]
  },
  {
   "cell_type": "code",
   "execution_count": 12,
   "metadata": {},
   "outputs": [],
   "source": [
    "from nltk.corpus import stopwords\n",
    "stop = set(stopwords.words('english'))"
   ]
  },
  {
   "cell_type": "code",
   "execution_count": 13,
   "metadata": {},
   "outputs": [],
   "source": [
    "import random\n",
    "import math\n",
    "from collections import defaultdict\n",
    "\n",
    "def get_ngrams(text):\n",
    "    return [t for t in ngrams(text, 2) if t not in stop]\n",
    "\n",
    "def get_entity_rep(mentions):\n",
    "    anchor_ngrams = set()\n",
    "    text_ngrams = set()\n",
    "    sources = set()\n",
    "    for m in mentions:\n",
    "        sources.add(m['source'])\n",
    "        anchor_ngrams = anchor_ngrams.union(get_ngrams(m['text'][slice(*m['span'])]))\n",
    "        text_ngrams = text_ngrams.union(get_ngrams(m['text']))\n",
    "    return sources, anchor_ngrams, text_ngrams\n",
    "\n",
    "def set_features(x, y):\n",
    "    for f in x.intersection(y):\n",
    "        yield 'SAME:' + f\n",
    "    for f in x.symmetric_difference(y):\n",
    "        yield 'DIFF:' + f\n",
    "\n",
    "def aggregate_mentions(mentions):\n",
    "    anchors, texts = Counter(), Counter()\n",
    "    for _, anchor, text in mentions:\n",
    "        anchors.update(anchor)\n",
    "        texts.update(text)\n",
    "    return anchors, texts\n",
    "\n",
    "def bucket_normalize_counts(counts, buckets):\n",
    "    total = float(max(v for v in counts.itervalues()))\n",
    "    return {k:int(round(buckets*(v/total))) for k, v in counts.iteritems()}\n",
    "\n",
    "from pyspark.ml.linalg import Vectors\n",
    "import math\n",
    "\n",
    "def bow_sim(a, b, norm=True):\n",
    "    if not a or not b:\n",
    "        return 0.\n",
    "\n",
    "    if norm:\n",
    "        a_sq = 1.0 * math.sqrt(sum(val * val for val in a.values()))\n",
    "        b_sq = 1.0 * math.sqrt(sum(val * val for val in b.values()))\n",
    "\n",
    "    if len(b) < len(a):\n",
    "        a, b = b, a\n",
    "\n",
    "    cossim = sum(value * b.get(index, 0.0) for index, value in a.items())\n",
    "    if norm:\n",
    "        cossim /= a_sq * b_sq\n",
    "\n",
    "    return cossim\n",
    "\n",
    "def get_base_features(a, b):\n",
    "    a_anchor, a_body = a\n",
    "    b_anchor, b_body = b\n",
    "\n",
    "    features = []\n",
    "    features.append(bow_sim(a_anchor, b_anchor))\n",
    "    features.append(bow_sim(a_body, b_body))\n",
    "    \n",
    "    if a_anchor and b_anchor:\n",
    "        top_a = a_anchor.most_common(1)[0][0]\n",
    "        top_b = b_anchor.most_common(1)[0][0]\n",
    "        features.append(NGram.compare(top_a, top_b, N=3))\n",
    "    else:\n",
    "        features.append(0.0)\n",
    "\n",
    "    return Vectors.dense(features)\n",
    "\n",
    "def similarity_features(a_counts, b_counts):\n",
    "    if len(a_counts) > len(b_counts):\n",
    "        a_counts, b_counts = b_counts, a_counts\n",
    "\n",
    "    bucket_size = 10\n",
    "    if any(c > bucket_size for c in a_counts.itervalues()):\n",
    "        a_counts = bucket_normalize_counts(a_counts, bucket_size)\n",
    "    if any(c > bucket_size for c in b_counts.itervalues()):\n",
    "        b_counts = bucket_normalize_counts(b_counts, bucket_size)\n",
    "\n",
    "    for k, a_count in a_counts.iteritems():\n",
    "        b_count = b_counts.get(k, 0)\n",
    "        if a_count > 0 and b_count > 0:\n",
    "            for _ in xrange(min(a_count, b_count)):\n",
    "                yield k\n",
    "\n",
    "    for k in set(a_counts.iterkeys()).symmetric_difference(b_counts.iterkeys()):\n",
    "        n = max(a_counts.get(k, 0), b_counts.get(k, 0))\n",
    "        if n > 1:\n",
    "            for _ in xrange(n-1):\n",
    "                yield 'NOT:' + k\n",
    "\n",
    "def generate_pair_features(a, b):\n",
    "    #a_src, a_anchor, a_body = a\n",
    "    #b_src, b_anchor, b_body = b\n",
    "    \n",
    "    a_anchor, a_body = a #aggregate_mentions(a)\n",
    "    b_anchor, b_body = b #aggregate_mentions(b)\n",
    "\n",
    "    for f in similarity_features(a_anchor, b_anchor):\n",
    "        yield 'ANCH:'+f\n",
    "    for f in similarity_features(a_body, b_body):\n",
    "        yield 'TEXT:'+f\n",
    "\n",
    "    #if a_anchor == b_anchor:\n",
    "    #    yield 'ANCH:EQUAL'\n",
    "    #if a_anchor.intersection(b_anchor):\n",
    "    #    yield 'ANCH:OVERLAP'\n",
    "    #for f in set_features(a_anchor, b_anchor):\n",
    "    #    yield 'ANCH:' + f\n",
    "    #for f in set_features(a_body, b_body):\n",
    "    #    yield 'TEXT:' + f\n",
    "\n",
    "def get_positives(instances, num=2):\n",
    "    for _ in xrange(num):\n",
    "        random.shuffle(instances)\n",
    "\n",
    "        sources = set()\n",
    "        filtered_instances = []\n",
    "        for i in instances:\n",
    "            src, anchor, text = i\n",
    "            if src not in sources:\n",
    "                sources.add(src)\n",
    "                filtered_instances.append(i)\n",
    "\n",
    "        split_idx = int((0.5 * random.random() + 0.25) * len(filtered_instances))\n",
    "        if split_idx == 0 or split_idx == len(filtered_instances):\n",
    "            split_idx == 1\n",
    "\n",
    "        a_inst, b_inst = filtered_instances[:split_idx], filtered_instances[split_idx:]\n",
    "        if a_inst and b_inst:\n",
    "            yield aggregate_mentions(a_inst), aggregate_mentions(b_inst) #list(generate_pair_features(a_ms, b_ms)), get_base_features(a_ms, b_ms)\n",
    "\n",
    "def get_positives_by_inst(instances):\n",
    "    sources = set()\n",
    "    instances_by_src = defaultdict(list)\n",
    "    for i in instances:\n",
    "        src, anchor, text = i\n",
    "        sources.add(src)\n",
    "        instances_by_src[src].append(i)\n",
    "\n",
    "    if len(sources) >= 2:\n",
    "        for source, inst in instances_by_src.iteritems():\n",
    "            other_sources = list(sources - set([source]))\n",
    "            for i in inst:\n",
    "                a = i\n",
    "                b = random.choice(instances_by_src[random.choice(other_sources)])\n",
    "                yield list(generate_pair_features(a, b))"
   ]
  },
  {
   "cell_type": "code",
   "execution_count": 14,
   "metadata": {},
   "outputs": [],
   "source": [
    "import random\n",
    "\n",
    "MAX_MENTIONS = 500\n",
    "\n",
    "def fold_mention(mentions, mention):\n",
    "    if isinstance(mention, list):\n",
    "        mentions.extend(mention)\n",
    "    else:\n",
    "        mentions.append(mention)\n",
    "    \n",
    "    if len(mentions) == MAX_MENTIONS + 1:\n",
    "        del mentions[random.randint(0, MAX_MENTIONS)]\n",
    "    elif len(mentions) > MAX_MENTIONS:\n",
    "        mentions = random.sample(mentions, MAX_MENTIONS)\n",
    "    return mentions\n",
    "\n",
    "def fold_aggregate_mentions(agg_mentions, mention):\n",
    "    a_anchors, a_texts = agg_mentions\n",
    "    b_anchors, b_texts = mention\n",
    "    \n",
    "    if len(b_anchors) < len(a_anchors):\n",
    "        a_anchors, b_anchors = b_anchors, a_anchors\n",
    "    if len(b_texts) < len(a_texts):\n",
    "        a_texts, b_texts = b_texts, a_texts\n",
    "    \n",
    "    for k, v in a_anchors.iteritems():\n",
    "        b_anchors[k] += v\n",
    "    for k, v in a_texts.iteritems():\n",
    "        b_texts[k] += v\n",
    "    \n",
    "    return b_anchors, b_texts\n",
    "\n",
    "em = text.EntityMentions(sentence_window=3, lowercase=True, normalize_url=False, strict_sentences=False)\n",
    "\n",
    "mentions_by_target = em(docs)\\\n",
    "    .map(lambda m: (m['_id'], m))\\\n",
    "    .foldByKey([], fold_mention, 1000)\\\n",
    "    .mapValues(lambda ms: [(m['source'], get_ngrams(m['text'][slice(*m['span'])]), get_ngrams(m['text'])) for m in ms])\\\n",
    "    .repartition(512)\\\n",
    "    .cache()"
   ]
  },
  {
   "cell_type": "code",
   "execution_count": 15,
   "metadata": {},
   "outputs": [],
   "source": [
    "if False:\n",
    "    reload(text)\n",
    "    em = text.EntityMentions(sentence_window=3, lowercase=True, normalize_url=False, strict_sentences=False)\n",
    "\n",
    "    mentions = em(docs)\\\n",
    "        .map(lambda m: (m['_id'], m))\\\n",
    "        .mapValues(lambda m: (m['source'], get_ngrams(m['text'][slice(*m['span'])]), get_ngrams(m['text'])))\\\n",
    "        .cache()\n",
    "    mentions.count() #3966013\n",
    "\n",
    "    mentions_by_target = mentions\\\n",
    "        .groupByKey()\\\n",
    "        .mapValues(list)\\\n",
    "        .repartition(256)\\\n",
    "        .cache()"
   ]
  },
  {
   "cell_type": "code",
   "execution_count": 16,
   "metadata": {},
   "outputs": [
    {
     "data": {
      "text/plain": [
       "1079730"
      ]
     },
     "execution_count": 16,
     "metadata": {},
     "output_type": "execute_result"
    }
   ],
   "source": [
    "mentions_by_target.count()"
   ]
  },
  {
   "cell_type": "code",
   "execution_count": 17,
   "metadata": {},
   "outputs": [],
   "source": [
    "agg_mentions_by_target = mentions_by_target.mapValues(aggregate_mentions).cache()\n",
    "num_entities = agg_mentions_by_target.count()"
   ]
  },
  {
   "cell_type": "code",
   "execution_count": 18,
   "metadata": {},
   "outputs": [],
   "source": [
    "neg_pair_sample_rate = 2\n",
    "pos_pair_sample_rate = 2"
   ]
  },
  {
   "cell_type": "code",
   "execution_count": 19,
   "metadata": {},
   "outputs": [],
   "source": [
    "from itertools import repeat\n",
    "\n",
    "random_pairs = agg_mentions_by_target\\\n",
    "    .flatMap(lambda m: repeat(m, neg_pair_sample_rate))\\\n",
    "    .map(lambda m: (random.randint(0, num_entities), m))\\\n",
    "    .join(agg_mentions_by_target.zipWithUniqueId().map(lambda (k, v): (v, k)))\\\n",
    "    .map(lambda (k, (a, b)): (a, b))\\\n",
    "    .filter(lambda (a, b): (a[0] != b[0]) and len(\n",
    "            set(re.findall(r\"[a-zA-Z]+\", a[0].split('/')[-1].lower())).intersection(\n",
    "                re.findall(r\"[a-zA-Z]+\", b[0].split('/')[-1].lower()))) == 0\n",
    "    )\\\n",
    "    .map(lambda (a, b): (random.random(), a, b, 0.0))\n",
    "\n",
    "positive_pairs =  mentions_by_target\\\n",
    "    .filter(lambda (t, ms): len(ms) >= 2)\\\n",
    "    .mapValues(lambda vs: (random.random(), get_positives(vs, pos_pair_sample_rate)))\\\n",
    "    .flatMap(lambda (target, (split_idx, insts)): ((split_idx, (target, inst[0]), (target, inst[1])) for inst in insts if inst is not None))\\\n",
    "    .map(lambda (split_idx, a, b): (split_idx, a, b, 1.0))\\"
   ]
  },
  {
   "cell_type": "code",
   "execution_count": 20,
   "metadata": {},
   "outputs": [],
   "source": [
    "#dataset = random_pairs.union(positive_pairs)\\\n",
    "#    .map(lambda (split_idx, a, b, label): (split_idx, a[0], b[0], label, get_base_features(a[1], b[1]), list(generate_pair_features(a[1], b[1]))))\\\n",
    "#    .toDF(['split_idx', 'left', 'right', 'label', 'base_features', 'sim_features'])\n",
    "    \n",
    "dataset = random_pairs.union(positive_pairs)\\\n",
    "    .map(lambda (split_idx, a, b, label): (split_idx, a[0], b[0], label, get_base_features(a[1], b[1])))\\\n",
    "    .toDF(['split_idx', 'left', 'right', 'label', 'base_features'])"
   ]
  },
  {
   "cell_type": "code",
   "execution_count": 21,
   "metadata": {},
   "outputs": [
    {
     "data": {
      "text/plain": [
       "(486698, 563487)"
      ]
     },
     "execution_count": 21,
     "metadata": {},
     "output_type": "execute_result"
    }
   ],
   "source": [
    "dataset.where(dataset.label == 1.0).count(), dataset.where(dataset.label == 0.0).count()"
   ]
  },
  {
   "cell_type": "code",
   "execution_count": 22,
   "metadata": {},
   "outputs": [
    {
     "data": {
      "text/plain": [
       "(945286, 105112)"
      ]
     },
     "execution_count": 22,
     "metadata": {},
     "output_type": "execute_result"
    }
   ],
   "source": [
    "# todo: with resampling some instance pairs may be repeated, and thereful we can have duplicates across train/test\n",
    "train = dataset.filter(dataset.split_idx < 0.9)\n",
    "test = dataset.filter(dataset.split_idx >= 0.9)\n",
    "train.count(), test.count()"
   ]
  },
  {
   "cell_type": "code",
   "execution_count": 23,
   "metadata": {},
   "outputs": [],
   "source": [
    "from pyspark.ml.classification import NaiveBayes, LogisticRegression, RandomForestClassifier, MultilayerPerceptronClassifier, GBTClassifier\n",
    "from pyspark.ml.feature import VectorAssembler, HashingTF, IDF, StringIndexer, CountVectorizer\n",
    "from pyspark.ml import Pipeline\n",
    "\n",
    "feature_columns = []\n",
    "feature_stages = []\n",
    "\n",
    "feature_columns.append(\"base_features\")\n",
    "\n",
    "#feature_stages += [\n",
    "#    HashingTF(inputCol=\"sim_features\", outputCol=\"hashed_sim_features\", numFeatures=int(math.pow(2, 20))),\n",
    "#    IDF(inputCol=\"hashed_sim_features\", outputCol=\"idf_hashed_sim_features\"),\n",
    "#]\n",
    "#feature_columns.append(\"idf_hashed_sim_features\")\n",
    "\n",
    "pipeline = Pipeline(stages=feature_stages + [\n",
    "    VectorAssembler(inputCols=feature_columns, outputCol=\"features\"),\n",
    "    LogisticRegression(featuresCol=\"features\")\n",
    "])"
   ]
  },
  {
   "cell_type": "code",
   "execution_count": 24,
   "metadata": {},
   "outputs": [],
   "source": [
    "from pyspark.ml.evaluation import BinaryClassificationEvaluator, MulticlassClassificationEvaluator\n",
    "\n",
    "if False:\n",
    "    model = pipeline.fit(train)\n",
    "    \n",
    "    predictions = model.transform(test).cache()\n",
    "    \n",
    "    evaluator = BinaryClassificationEvaluator(labelCol=\"label\", rawPredictionCol=\"prediction\", metricName=\"areaUnderROC\")\n",
    "    areaUnderROC = evaluator.evaluate(predictions)\n",
    "    evaluator = BinaryClassificationEvaluator(labelCol=\"label\", rawPredictionCol=\"prediction\", metricName=\"areaUnderPR\")\n",
    "    areaUnderPR = evaluator.evaluate(predictions)\n",
    "    f1 = MulticlassClassificationEvaluator(labelCol=\"label\", predictionCol=\"prediction\", metricName=\"f1\").evaluate(predictions)\n",
    "    print(\"F1 = %s\" % f1)\n",
    "    print(\"Area under PR = %s\" % areaUnderPR)\n",
    "    print(\"Area under ROC = %s\" % areaUnderROC)"
   ]
  },
  {
   "cell_type": "code",
   "execution_count": 25,
   "metadata": {},
   "outputs": [],
   "source": [
    "# Basic\n",
    "# F1 = 0.990590483548\n",
    "# Area under PR = 0.994198922704\n",
    "# Area under ROC = 0.990303278748\n",
    "\n",
    "# RF Sim\n",
    "# Area under PR = 0.973362932404\n",
    "# Area under ROC = 0.953585027892"
   ]
  },
  {
   "cell_type": "code",
   "execution_count": 26,
   "metadata": {},
   "outputs": [],
   "source": [
    "if False:\n",
    "    from numpy.random import choice\n",
    "    from itertools import tee\n",
    "    import ujson as json\n",
    "    from collections import Counter\n",
    "\n",
    "    instances = []\n",
    "    with open('kbco-annotations.jsonl', 'r') as f:\n",
    "        for line in f:\n",
    "            instances.append(json.loads(line))\n",
    "\n",
    "    decisions = []\n",
    "\n",
    "    for instance in instances:\n",
    "        a_valid_link = instance['annotation']['a_link_type'] in ['entity', 'tag']\n",
    "        b_valid_link = instance['annotation']['b_link_type'] in ['entity', 'tag']\n",
    "        if a_valid_link and b_valid_link:\n",
    "            decision = instance['annotation']['decision']\n",
    "            if decision in ['yes', 'no']:\n",
    "                decisions.append(decision)\n",
    "    Counter(decisions)"
   ]
  },
  {
   "cell_type": "code",
   "execution_count": 27,
   "metadata": {},
   "outputs": [],
   "source": [
    "# evaluate p/r/f at different thresholds\n",
    "if False:\n",
    "    def stats_at_p(r, p):\n",
    "        tp = 1.0 if (r['label'] == 1.0 and r['probability'][1] >= p) else 0.0\n",
    "        fp = 1.0 if (r['label'] == 0.0 and r['probability'][1] >= p) else 0.0\n",
    "        fn = 1.0 if (r['label'] == 1.0 and r['probability'][1] < p) else 0.0\n",
    "        return p, (tp, fp, fn)\n",
    "\n",
    "    def evaluate(dataset, ps = None):\n",
    "        if ps == None:\n",
    "            ps = [0.5]\n",
    "        stats_by_p = dataset\\\n",
    "            .flatMap(lambda r: (stats_at_p(r, p) for p in ps))\\\n",
    "            .reduceByKey(lambda a, b: [x+y for x,y in zip(a, b)])\\\n",
    "            .filter(lambda (p, (tp, fp, fn)): (tp+fp) > 0 and (tp+fn) > 0)\\\n",
    "            .mapValues(lambda (tp, fp, fn): ((float(tp) / (tp+fp)), (float(tp) / (tp+fn))))\\\n",
    "            .mapValues(lambda (p, r): (p, r, 2 * (p*r/(p+r))))\\\n",
    "            .collect()\n",
    "        return stats_by_p\n",
    "\n",
    "    ps = [0.1, 0.25, 0.5, 0.75, 0.9, 0.95, 0.99, 0.995]\n",
    "    dev_prs = evaluate(model.transform(test).rdd, ps=ps)\n",
    "\n",
    "    for c in ps:\n",
    "        p, r, f = dict(dev_prs)[c]\n",
    "        print '%.2f P/R=(%.2f, %.2f, %.2f)' % (c, p, r, f)"
   ]
  },
  {
   "cell_type": "code",
   "execution_count": 28,
   "metadata": {},
   "outputs": [],
   "source": [
    "if False:\n",
    "    sample_mentions = agg_mentions_by_target.filter(lambda (t, ms): ('trump' in t))\n",
    "    x_target, x_mentions = sample_mentions.filter(lambda (t, _): t == 'uproxx.com/topic/donald-trump').collect()[0]\n",
    "    model.transform(\n",
    "        sample_mentions\\\n",
    "            .map(lambda (y_target, y_mentions): (x_target, y_target, list(generate_pair_features(x_mentions, y_mentions))))\\\n",
    "            .toDF(['x', 'y', 'features']))\\\n",
    "        .select(['x', 'y', 'probability', 'features'])\\\n",
    "        .rdd\\\n",
    "        .map(lambda r: (r['x'], r['y'], round(r['probability'][1], 3)))\\\n",
    "        .filter(lambda r: 'photo' not in r[1])\\\n",
    "        .collect()"
   ]
  },
  {
   "cell_type": "code",
   "execution_count": 29,
   "metadata": {},
   "outputs": [],
   "source": [
    "model = pipeline.fit(train.union(test))"
   ]
  },
  {
   "cell_type": "code",
   "execution_count": 3,
   "metadata": {},
   "outputs": [],
   "source": [
    "import ujson as json"
   ]
  },
  {
   "cell_type": "code",
   "execution_count": 16,
   "metadata": {},
   "outputs": [],
   "source": [
    "ats_path = 'hdfs://schwa11:9000/webkb/candidates'"
   ]
  },
  {
   "cell_type": "code",
   "execution_count": 23,
   "metadata": {},
   "outputs": [
    {
     "data": {
      "text/plain": [
       "431493"
      ]
     },
     "execution_count": 23,
     "metadata": {},
     "output_type": "execute_result"
    }
   ],
   "source": [
    "sc.textFile(ats_path).count()"
   ]
  },
  {
   "cell_type": "code",
   "execution_count": 27,
   "metadata": {},
   "outputs": [],
   "source": [
    "redirects = dict(sc\\\n",
    "    .textFile('hdfs://schwa11:9000/webkb/clusters')\\\n",
    "    .map(json.loads)\\\n",
    "    .collect())"
   ]
  },
  {
   "cell_type": "code",
   "execution_count": 28,
   "metadata": {},
   "outputs": [],
   "source": [
    "sources_by_target = {}\n",
    "for src, target in redirects.iteritems():\n",
    "    sources_by_target.setdefault(target, set()).add(src)"
   ]
  },
  {
   "cell_type": "code",
   "execution_count": 32,
   "metadata": {},
   "outputs": [
    {
     "data": {
      "text/plain": [
       "[(u'data.cnbc.com/quotes/tsla',\n",
       "  {u'abcnews.go.com/topics/news/energy/electric-cars.htm',\n",
       "   u'baltimoresun.com/topic/business/automotive-industry/tesla-motors-orcrp006147-topic.html',\n",
       "   u'bloomberg.com/quote/tsla:us',\n",
       "   u'chicagotribune.com/topic/business/automotive-industry/tesla-motors-orcrp006147-topic.html',\n",
       "   u'chron.com/search/?action=search&channel=business%2ftechnology&inlinelink=1&searchindex=gsa&query=%22tesla+motors%22',\n",
       "   u'courant.com/topic/business/automotive-industry/tesla-motors-orcrp006147-topic.html',\n",
       "   u'dailyrecord.co.uk/all-about/electric-vehicles',\n",
       "   u'data.cnbc.com/quotes/tsla',\n",
       "   u'economictimes.indiatimes.com/topic/electric-cars',\n",
       "   u'firmenpresse.de/directory/515606/tesla-motors-inc.html',\n",
       "   u'gadgets.ndtv.com/tags/tesla',\n",
       "   u'globalnews.ca/tag/tesla',\n",
       "   u'latimes.com/topic/business/automotive-industry/tesla-orcrp006147-topic.html',\n",
       "   u'leftlanenews.com/new-car-buying/tesla/model-x',\n",
       "   u'markets.businessinsider.com/stock/tsla-quote',\n",
       "   u'mashable.com/category/tesla-model-s',\n",
       "   u'mirror.co.uk/all-about/electric-cars',\n",
       "   u'nashvilleledger.com/nasearch.aspx?ln=tesla&redir=1',\n",
       "   u'orlandosentinel.com/topic/business/automotive-industry/tesla-motors-orcrp006147-topic.html',\n",
       "   u'planetsave.com/tag/electric-cars',\n",
       "   u'siliconvalley.com/topics?tesla%20motors',\n",
       "   u'techcrunch.com/topic/company/tesla-motors',\n",
       "   u'triplepundit.com/topic/tesla-motors',\n",
       "   u'wired.com/tag/tesla'}),\n",
       " (u'play.google.com/store/apps/details?id=com.teslamotors.tesla',\n",
       "  {u'play.google.com/store/apps/details?id=com.teslamotors.tesla'}),\n",
       " (u'http://www.autonews.com/article/20170406/OEM04/304069905/tesla-model-3-prototypes-caught-on-camera',\n",
       "  {u'http://www.autonews.com/article/20170406/OEM04/304069905/tesla-model-3-prototypes-caught-on-camera'}),\n",
       " (u'europe.autonews.com/article/20170102/ane/170109990/tesla-postpones-brexit-price-increase-in-uk',\n",
       "  {u'autonews.com/article/20170227/oem04/302279958/a-major-face-lift-for-buick-enclave',\n",
       "   u'europe.autonews.com/article/20170102/ane/170109990/tesla-postpones-brexit-price-increase-in-uk'}),\n",
       " (u'autonews.com/article/20170104/oem01/170109950/tesla-launches-battery-production-at-gigafactory',\n",
       "  {u'autonews.com/article/20170104/oem01/170109950/tesla-launches-battery-production-at-gigafactory'}),\n",
       " (u'justjared.com/tags/2017-oscars',\n",
       "  {u'abc7news.com/sports/abc-news-exclusive-curry-defends-wifes-comments-from-2016-nba-finals/2062177',\n",
       "   u'africanexaminer.com/category/interview',\n",
       "   u'aftonbladet.se//nyheter/krim/a/789p4/misstanks-ha-antastat-11-aring-och-15-aring',\n",
       "   u'archdaily.com/tag/interview',\n",
       "   u'autocar.co.uk/car-news/new-cars/peugeot-chief-no-new-performance-cars-\\u2018until-we\\u2019re-truly-global',\n",
       "   u'bearswire.usatoday.com/tag/interview',\n",
       "   u'boiseweekly.com/boise/articlearchives?category=920055',\n",
       "   u'breitbart.com/tag/linda-sarsour',\n",
       "   u'brevity.wordpress.com/tag/interview',\n",
       "   u'catch21.co.uk/tag/interview',\n",
       "   u'citynews.com.au/tag/news-2',\n",
       "   u'colorlines.com/tags/linda-sarsour',\n",
       "   u'dailycollegian.com/tag/linda-sarsour',\n",
       "   u'datzhott.com/tag/89th-academy-awards',\n",
       "   u'deadline.com/tag/89th-academy-awards',\n",
       "   u'di.se/nyheter/stefan-lofven-presenterar-ny-strategi-i-salen',\n",
       "   u'diariogol.com/es/notices/2017/03/la-oferta-del-barca-a-isco-alarcon-y-la-bestial-amenaza-de-florentino-perez-72792.php',\n",
       "   u'discoverthenetworks.org/individualprofile.asp?indid=2730',\n",
       "   u'diverseeducation.com/article/tag/linda-sarsour',\n",
       "   u'dn.se/nyheter/sverige/must-spionage-identifierat-i-sverige',\n",
       "   u'dr.dk/nyheder/regionale/nordjylland/skoleopgave-foerte-til-opdagelsen-af-tysk-fly-og-pilot-fra-2',\n",
       "   u'economictimes.indiatimes.com/small-biz/startups/after-flipkart-softbank-eyes-a-stake-in-paytm/articleshow/58249218.cms?from=mdr',\n",
       "   u'economictimes.indiatimes.com/small-biz/startups/paypal-seeks-licence-to-enter-competitive-mobile-wallet-space-in-india/articleshow/58391131.cms',\n",
       "   u'ecumenicalnews.com/article/scream-queens-cast-news-lea-michele-exits-the-show-to-join-new-comedy-pilot/59242.htm',\n",
       "   u'elle.com/culture/celebrities/news/a40311/miley-cyrus-on-liam-hemsworth-engagement-ring',\n",
       "   u'emmytvlegends.org/interviews/people/adam-west',\n",
       "   u'empireonline.com/people/bill-skarsgard/stephen-king-exclusive-terrifying-new-look-pennywise-clown',\n",
       "   u'en.wikipedia.org/wiki/linda_sarsour',\n",
       "   u'eonline.com/au/news/831542/oscar.com',\n",
       "   u'eonline.com/ca/news/830971/oscar.com',\n",
       "   u'espn.com/blog/atlanta-falcons/post/_/id/26299/falcons-coach-dan-quinn-on-dontari-poe-i-do-want-him-here',\n",
       "   u'espn.com/college-football/story/_/id/19553173/michigan-wolverines-coach-jim-harbaugh-attends-camp-florida-atlantic-owls-coach-lane-kiffin',\n",
       "   u'espn.com/mlb/story/_/id/19170882/baltimore-orioles-closer-zach-britton-dl-sore-forearm?ex_cid=espnapi_public',\n",
       "   u'espn.com/nfl/story/_/id/18758105/jacksonville-jaguars-vp-tom-coughlin-commit-blake-bortles-starting-qb-2017',\n",
       "   u'europe.autonews.com/article/20160714/ane/160709932/italdesign-eyes-apple-google-tesla-to-reduce-reliance-on-vw-group',\n",
       "   u'eurweb.com/tag/moonlight',\n",
       "   u'expressen.se/debatt/sverige-har-exporterat-terrorism-till-andra-lander',\n",
       "   u'expressen.se/kvallsposten/tva-man-far-fangelse-och-utvisning-efter-valdtakt',\n",
       "   u'expressen.se/nyheter/attackerade-polis-i-paris-har-studerat-till-journalist-i-sverige',\n",
       "   u'forums.rlfans.com/memberlist.php?mode=viewprofile&u=18825&sid=edfefb263e93e6f35d7c6e99dd02e3cf',\n",
       "   u'gadgets.ndtv.com/tags/oscars',\n",
       "   u'gaycitynews.nyc/tag/linda-sarsour',\n",
       "   u'gerweck.net/tag/interview',\n",
       "   u'gina.gov.gy/tag/interview',\n",
       "   u'globalnews.ca/tag/oscars',\n",
       "   u'herald.ng/tag/interview',\n",
       "   u'huffingtonpost.com/topic/the-oscars',\n",
       "   u'imdb.com/title/tt0039294/trivia',\n",
       "   u'independent.co.uk/topic/oscars-2017',\n",
       "   u'indiewire.com/t/interview',\n",
       "   u'instyle.com/celebrity/victoria-beckham-april-cover',\n",
       "   u'jacquelinemhadel.com/tag/interview',\n",
       "   u'justjared.com/tags/2017-oscars',\n",
       "   u'laaficion.milenio.com/americano/tom_brady-von_miller-mauricio_ortega-new_england_patriots-milenio-la_aficion_0_923907601.html',\n",
       "   u'latercera.com/noticia/desarrollo-continua-la-lucha-los-incendios',\n",
       "   u'lbc.co.uk/radio/presenters/iain-dale/ken-livingstones-remarkable-lbc-interview-in-full',\n",
       "   u'luxuryactivist.com/on-the-spot/gaby-machado-entrevista-exclusiva-para-luxuryactivist-com',\n",
       "   u'marca.com/en/football/barcelona/2017/06/14/59415f77e5fdea4b748b4623.html',\n",
       "   u'marca.com/en/football/real-madrid/2017/06/18/594587c5268e3ee03f8b45a6.html',\n",
       "   u'marieclaire.com/celebrity/a25191/scarlett-johansson-march-2017-cover',\n",
       "   u'marieclaire.com/celebrity/news/a26684/chris-pratt-says-blue-collar-america-isnt-represented/?src=socialflowtw',\n",
       "   u'marieclaire.com/celebrity/news/a28001/first-trailer-new-jumanji',\n",
       "   u'marieclaire.com/culture/a26757/emily-steel-bill-oreilly',\n",
       "   u'mashable.com/category/academy-awards',\n",
       "   u'mic.com/topic/2017-academy-awards',\n",
       "   u'mirror.co.uk/all-about/the-oscars',\n",
       "   u'mitti.se/nyheter/postnord-stoppar-postutdelning',\n",
       "   u'mysteriousuniverse.org/tag/news',\n",
       "   u'news.com.au/entertainment/celebrity-life/actor-bill-paxton-who-starred-in-aliens-and-titanic-dies-at-61/news-story/fc94432827c04af34a727c2bf38eba1b',\n",
       "   u'news.com.au/entertainment/celebrity-life/celebrity-kids/it-was-all-happening-for-amanda-seyfried-on-set-of-the-last-word/news-story/fb8aa10f9eef32659581a44977fd86eb',\n",
       "   u'news.com.au/entertainment/celebrity-life/chloe-lattanzi-quits-instagram-over-mean-comments-about-her-mum-olivia-newtonjohn/news-story/19596dd18afd2e531155295867d61157',\n",
       "   u'news.com.au/entertainment/celebrity-life/cyclone-debbie-keeps-guests-from-attending-tv-wedding-of-sylvia-jeffreys-and-peter-stefanovic/news-story/1b9e1959ed94cde6fe761173c4e0a314',\n",
       "   u'news.com.au/entertainment/celebrity-life/dirty-rotten-scoundrels-and-dick-tracy-star-glenne-headly-dies-at-63/news-story/c5ff12ece7ee1c93b760ebf9a5e9d7c6',\n",
       "   u'news.com.au/entertainment/celebrity-life/hook-ups-break-ups/chris-hemsworth-crashes-couples-byron-bay-wedding-photos/news-story/28295d72293e8ff0b44e907354585ed8',\n",
       "   u'news.com.au/entertainment/celebrity-life/karlie-kloss-opens-up-about-her-millionaire-investor-boyfriend-joshua-kushner/news-story/297d1831f118c1edf0547cbe3903204a',\n",
       "   u'news.com.au/entertainment/movies/minions-hog-the-limelight-in-despicable-me-3-in-which-gru-goes-over-to-the-dark-side/news-story/4d0c284322449606a98af9a818983589',\n",
       "   u'news.com.au/entertainment/movies/stephen-curry-and-eric-bana-on-the-great-australian-film-the-castle-thats-now-20-years-old/news-story/c9d9f5d29e18280890582adedfc00dd2',\n",
       "   u'news.com.au/entertainment/movies/upcoming-movies/charlize-theron-i-was-a-centimetre-away-from-being-completely-paralysed/news-story/51da2fe48fe7b1d884b98538a7898230',\n",
       "   u'news.com.au/entertainment/music/aussie-rockers-grinspoon-reunite-to-celebrate-20th-anniversary-of-guide-to-better-living-album/news-story/a01920dbf28b40aa7526a8e98db4fb5d',\n",
       "   u'news.com.au/entertainment/music/harry-styles-might-ruin-his-mate-ed-sheerans-shot-at-australian-chart-history/news-story/693c7aaa47c4665c097fb15b3c71f7e4',\n",
       "   u'news.com.au/entertainment/music/katy-perrys-witness-misses-out-on-third-consecutive-no-1-album-spot-in-australia/news-story/76df09288e0697c4ea5460223affe412',\n",
       "   u'news.com.au/entertainment/music/little-mix-hit-back-at-former-spice-girl-mel-c-over-claims-their-new-image-is-to-sexual/news-story/37757349e717cd73ea8069d4f53dc139',\n",
       "   u'news.com.au/entertainment/music/lovedup-jon-stevens-exorcises-demons-with-help-from-a-beatle-and-a-eurythmic/news-story/020efbb549fce5f3a5f8043d3cf7636b',\n",
       "   u'news.com.au/entertainment/music/music-videos/katy-perry-responds-to-appropriating-cultural-on-her-72hour-livestream/news-story/fd79aaa43f4217b162c014d32860676a',\n",
       "   u'news.com.au/entertainment/music/patti-smith-and-bonnie-raitt-show-age-is-no-barrier-to-rocking-out-with-fiery-gigs-ahead-of-bluesfest/news-story/8871fc5126bca5eaee35830ef1901448',\n",
       "   u'news.com.au/entertainment/music/tina-arena-goes-high-end-on-her-new-perfume-renaissance-its-not-fly-spray/news-story/3e565ca8d01303474f59924ebc49f20c',\n",
       "   u'news.com.au/entertainment/music/tours/adele-wears-pink-poncho-as-final-nz-show-is-nearly-rained-out/news-story/cc30a456a2e3d3ca1e5d1d15f8a8cf14',\n",
       "   u'news.com.au/entertainment/tv/current-affairs/a-current-affair-reporter-ben-mccormack-in-hospital-being-assessed/news-story/9e43435d625d53b87a55102614b71f7c',\n",
       "   u'news.com.au/entertainment/tv/current-affairs/the-truth-about-tim-baileys-age/news-story/1add82087022ce81d830d03b78b7edbb',\n",
       "   u'news.com.au/entertainment/tv/flashback/alyson-hannigan-reveals-her-frustration-with-how-i-met-your-mother-finale/news-story/4015f97ed147e6604680a5e66e9dc5ba',\n",
       "   u'news.com.au/entertainment/tv/radio/kyle-jackie-o-remain-on-top-as-sydneys-number-one-fm-breakfast-radio-show/news-story/60d97178fed60764365bf38041157c2d',\n",
       "   u'news.com.au/entertainment/tv/radio/lisa-wilkinson-on-hubby-peter-fitzsimons-weight-loss-ive-got-a-former-rugby-champ-in-my-bed/news-story/d7ad2710542e62ad29196db78e32b94f',\n",
       "   u'news.com.au/entertainment/tv/reality-tv/keira-maguire-opens-about-her-cult-upbringing-on-im-a-celeb/news-story/b4fc0debe2b5d34aaec8dbd843925bb8',\n",
       "   u'news.com.au/entertainment/tv/reality-tv/my-kitchen-rules-angry-angry-man-tyson-murr-is-a-loner-not-a-loser-says-his-sister/news-story/5386478ba41260944749e7f2850d66d8',\n",
       "   u'news.com.au/entertainment/tv/reality-tv/natalie-bassingthwaighte-is-scared-of-heights-and-spiders-but-mostly-being-without-fake-tan-in-tv-jungle/news-story/73944dee01e9618a146fa432f668b4f2',\n",
       "   u'news.com.au/entertainment/tv/tv-shows/wentworth-spoiler-warning-will-the-freak-escape-being-buried-alive/news-story/f29d6ee0847c3b7b7296d17b9281d6b8',\n",
       "   u'news.com.au/lifestyle/beauty/face-body/guess-what-it-super-sucks-to-be-fat-in-summer/news-story/ec0b277e0317bf39dbb5741779cb753c',\n",
       "   u'news.com.au/lifestyle/fashion/designers/saint-laurents-ad-campaign-is-degrading-violent/news-story/b45afce25bd6ff4db8e3fb4584bf865e',\n",
       "   u'news.com.au/lifestyle/fashion/fashion-shows/miss-universe-pageant-2017-beauty-queens-vie-for-300k-crown/news-story/335800caf71b31f84a0414db79839e90',\n",
       "   u'news.com.au/lifestyle/fashion/people/australian-model-steph-smith-reveals-how-shes-been-shamed-for-being-too-big/news-story/3f26d99a5afd1ea5edfaa33b380891c5',\n",
       "   u'news.com.au/lifestyle/fashion/people/jesinta-franklin-opens-up-about-married-life-fashion-and-her-fridge/news-story/8f0d56768b36f436d16b5a26a44f46c5',\n",
       "   u'news.com.au/lifestyle/food/restaurants-bars/ray-jayner-delivers-scathing-review-of-le-cinq-paris/news-story/cebaf1e957721794fb0b6d06a3f5560a#itm=newscomau%7chome%7cnca-homepage-topstories%7c1%7clink%7chomepage%7chomepage&itmt=1491788884438',\n",
       "   u'news.com.au/lifestyle/food/restaurants-bars/sydney-woman-claims-she-was-refused-entry-into-coogee-pavilion-because-of-her-neck-and-hand-tattoos/news-story/08555c5452dce05e5848a308bc4d7683',\n",
       "   u'news.com.au/lifestyle/health/diet/is-this-the-key-to-achieving-your-weight-loss-goals/news-story/caa4cee054206901249324cf0a726946',\n",
       "   u'news.com.au/lifestyle/parenting/kids/jessica-biel-and-justin-timberlake-juggle-parenting-like-the-rest-of-us/news-story/ea79799cb1e340ef11f06930016d5e56',\n",
       "   u'news.com.au/lifestyle/parenting/kids/the-gun-massacre-america-isnt-talking-about/news-story/2ce3d693d182cb31ca7dbab186b2564c',\n",
       "   u'news.com.au/lifestyle/real-life/aussie-mother-begs-daughters-killer-to-break-18year-silence-and-turn-himself-in/news-story/2cd3d194cd2f3f11c78fb495e1908da8',\n",
       "   u'news.com.au/lifestyle/real-life/news-life/american-woman-seeks-compensation-after-injuring-herself-at-overcrowded-egg-hunt/news-story/ba8d2405a2c9fbb6f3fd741f35a2ccfd',\n",
       "   u'news.com.au/lifestyle/real-life/news-life/exclusive-james-cook-university-adviser-douglas-steele-was-promoted-after-pleading-guilty-to-raping-a-student/news-story/fd0b00c9aa8eb528e1f43c3a5ac9c223',\n",
       "   u'news.com.au/lifestyle/real-life/news-life/exclusive-james-cook-university-knew-douglas-steele-was-guilty-of-rape/news-story/686a17970273325239e703b8d97591e2',\n",
       "   u'news.com.au/lifestyle/real-life/news-life/exclusive-they-pissed-in-my-bed-vicious-hazing-at-elite-st-pauls-college-exposed/news-story/ef422cd6a6691a4ac1cd1f12b865ba97',\n",
       "   u'news.com.au/lifestyle/real-life/news-life/experts-say-madeleine-mccanns-body-is-almost-impossible-to-find/news-story/8dcc199098cb77d7d35aac8d8ca97f8c',\n",
       "   u'news.com.au/lifestyle/real-life/news-life/footage-of-brazen-sex-attack-at-sydney-university-released-under-foi/news-story/ee2100e832fdf4911b8723fae0de0429',\n",
       "   u'news.com.au/lifestyle/real-life/news-life/heres-what-blind-prophet-baba-vanga-predicted-for-2016-and-beyond-its-not-good/news-story/6adaca964c9bde14e21103ee7d4fbc1d',\n",
       "   u'news.com.au/lifestyle/real-life/news-life/hunting-the-kgb-killers-reveals-true-story-behind-the-death-of-former-russian-spy-alexander-litvinenko-for-the-first-time/news-story/5be71f232a52a927ce660f2bedf91f57',\n",
       "   u'news.com.au/lifestyle/real-life/news-life/its-too-late-for-the-girls-leaving-primary-school-to-work-and-care-for-siblings/news-story/37ecdb711ab20c50ced10f7153b39ea3',\n",
       "   u'news.com.au/lifestyle/real-life/news-life/scores-of-chinese-billionaires-and-ceos-have-disappeared-in-statesanctioned-abductions/news-story/7d2d1cfeadd6b47ab66087d7f44d877f',\n",
       "   u'news.com.au/lifestyle/real-life/news-life/youtuber-promises-to-release-sex-tape/news-story/e2140530c0fc7c7e6d31cecda89bbc39',\n",
       "   u'news.com.au/lifestyle/real-life/true-stories/abducted-and-tortured-by-one-of-americas-most-prolific-serial-killers/news-story/abfe1052c16caf376b372103fe9cc7fb',\n",
       "   u'news.com.au/lifestyle/real-life/true-stories/australian-millionaire-turned-castaway-david-glasheen-celebrates-20years-on-desert-island/news-story/209f9f3a383b7c7446f60a49fb2d7e34',\n",
       "   u'news.com.au/lifestyle/real-life/true-stories/i-was-sexually-abused-by-my-mother-and-i-need-to-talk-about-it/news-story/4ff1289b352146a6afc0bf9ee3b08268',\n",
       "   u'news.com.au/lifestyle/real-life/true-stories/raped-in-iran-and-facing-torture-if-she-returns-mojgan-is-begging-to-be-allowed-to-stay-in-australia/news-story/b14be9789a31e997477f6ad41583e722',\n",
       "   u'news.com.au/lifestyle/real-life/true-stories/titanic-anniversary-rescue-crews-reveal-the-grisly-aftermath-of-the-titanic-tragedy/news-story/99b1fc1af1e7fb7577ff137c13226e3d#itm=newscomau%7clifestyle%7cnca-lifestyle-plmnt-trending%7c1%7csection-lifestyle%7cindex%7chealth&itmt=1492202042680',\n",
       "   u'news.com.au/lifestyle/relationships/marriage/mummy-blogger-constance-hall-hits-back-at-claims-made-by-her-estranged-husband/news-story/e9c9400346ff22954b4f87f2803116fc',\n",
       "   u'news.com.au/lifestyle/relationships/marriage/nightmare-situation-mums-daughter-and-husband-caught-having-an-affair/news-story/0ed734861b9f29aedbad5f3dc7d295b8',\n",
       "   u'news.com.au/lifestyle/sunday-style/people/sonia-kruger-and-her-daughter-maggie-ive-got-what-i-always-wanted/news-story/acc59b3536794812cf4cdd9abee0bcd2',\n",
       "   u'news.com.au/national/courts-law/exclusive-video-of-terrifying-moment-axecarrying-woman-attacks-two-customers-in-suburban-7eleven/news-story/d0bbcf82bef2a10914fd075614c6b037',\n",
       "   u'news.com.au/national/crime/survivor-of-alleged-elite-paedophile-ring-including-former-prime-minister-speaks-out/story-fns0kb1g-1227579834065',\n",
       "   u'news.com.au/national/khaled-sharrouf-stripped-of-his-australian-citizenship/news-story/064275809955d93b59ac7636245569f9',\n",
       "   u'news.com.au/national/killer-escaped-prison-after-being-issued-picture-of-master-key-to-all-locks/news-story/a4c808944aadf36380b24f6981d9883c',\n",
       "   u'news.com.au/national/no-religion-tops-religion-question-in-census/news-story/a3b45e6b2e35df695932a83535078f51',\n",
       "   u'news.com.au/national/nsw-act/courts-law/bail-for-man-accused-of-sickening-tyre-iron-attack/news-story/9cced8c9b34e723cbc89e388628650c4',\n",
       "   u'news.com.au/national/nsw-act/news/cpr-performed-after-toddler-pulled-from-water-at-fairfield-west/news-story/e0451a08220acb9914c9416f3ee0155e',\n",
       "   u'news.com.au/news/bins-barrels-freezers-and-mailbags-the-shocking-places-human-bodies-have-been-found-in-australia/news-story/cbc6538168a37b2bf0fb6529e61c1558',\n",
       "   u'news.com.au/technology/environment/cyclone-debbie-update-qld-evacuations-underway-as-monster-storm-approaches/news-story/acfd57081e8d2d9fd93403d8e888c9fb',\n",
       "   u'news.com.au/technology/innovation/motoring/the-highways-masquerading-as-secret-military-airfields/news-story/adccbeb1ed6ab0d4ce20ac92bce72d20',\n",
       "   u'news.com.au/technology/science/space/theyre-real-and-contain-hidden-messages-scientist-says/news-story/05f450e958f71dac46a2a61f47968f16',\n",
       "   u'news.com.au/travel/travel-advice/flights/qantas-announces-winners-of-its-dreamliner-naming-competition/news-story/f253466abd3bddcfbc6e037df97c9f78',\n",
       "   u'news.com.au/travel/travel-advice/travellers-stories/tassie-man-found-his-namesake-online-this-is-what-happened-when-he-invited-him-over/news-story/8edacc4c64924b67d16c086b85772a2b',\n",
       "   u'news.com.au/travel/travel-ideas/weird-and-wacky/a-married-man-faked-a-terror-plot-to-get-out-of-paying-for-a-holiday-with-his-girlfriend/news-story/585165839fcf55be1f990f67d34e4b2d',\n",
       "   u'news.com.au/travel/travel-updates/misleading-fees-land-jetstar-and-virgin-australia-in-745000-in-fines/news-story/26064bedc178812357eb774fedc176de',\n",
       "   u'news.com.au/travel/travel-updates/no-access-the-worlds-art-treasures-and-natural-wonders-disappearing-from-view/news-story/6588bc02c2a1279f5cb370809edd3a76',\n",
       "   u'news.com.au/travel/travel-updates/warnings/melbourne-schoolboy-denied-us-visa-after-president-trump-presidential-order/news-story/437a761f710d484d9172b2406e268ce3',\n",
       "   u'news.com.au/travel/world-travel/europe/barcelona-just-passed-a-tough-new-law-that-aims-to-limit-tourism/news-story/9181ac8d828a5b244dbbdef719316ba7',\n",
       "   u'news.com.au/travel/world-travel/europe/secret-island-off-the-coast-of-albania-now-open-for-island-hopping/news-story/f30c8e510c912f9ddedd72277d77dd06',\n",
       "   u'news.com.au/travel/world-travel/north-america/the-secret-life-of-americas-modern-amish/news-story/fbfb279e870b942b083398f1eadb32a1',\n",
       "   u'news.com.au/travel/world-travel/pacific/new-caledonia-new-hot-spot-for-australians-according-to-flight-centre/news-story/7b13b18a75b362a45136cb73695ef719',\n",
       "   u'news.com.au/world/a-us-navy-destroyer-has-collided-with-a-merchant-ship-off-the-coast-of-japan/news-story/ae999c55808f97ff1cf8de3dccbcffc8',\n",
       "   u'news.com.au/world/china-pledges-to-build-indestructible-force-in-military-reshuffle/news-story/55f4fd1f0612998235aeef750863bf80',\n",
       "   u'news.com.au/world/europe/turkey-to-stop-teaching-darwins-theory-of-evolution-in-high-schools/news-story/a5f4862da7715833c3565e6c85a14ab1',\n",
       "   u'news.com.au/world/north-america/clinton-to-trump-congratulations-donald/news-story/65e421f4b5296ebf25b9a7c8a61cc757',\n",
       "   u'news.com.au/world/north-america/i-cant-visit-the-person-i-love-muslim-ban-dividing-australians-from-their-families/news-story/bf8a964b37d4db2b01e2d19286369640',\n",
       "   u'news.com.au/world/north-america/what-happened-to-isabella-hellmann-on-her-dream-honeymoon/news-story/9fd9084696dcd3d7a22f5f883ac7d704',\n",
       "   u'newsroompanama.com/category/news',\n",
       "   u'ninertimes.com/tag/moonlight',\n",
       "   u'nyunews.com/tag/interview',\n",
       "   u'oe1.orf.at/player/20170531/475275',\n",
       "   u'open.spotify.com/artist/6eukzxakkcvih0ku9w2n3v',\n",
       "   u'people.com/tag/academy-awards',\n",
       "   u'pepperdine-graphic.com/tag/moonlight',\n",
       "   u'power92chicago.com/tag/interview',\n",
       "   u'readjunk.com/tag/89th-academy-awards',\n",
       "   u'russia-insider.com/en/politics/enough-it-time-lock-john-mccain-and-lindsey-graham/ri18781',\n",
       "   u'self.com/topic/oscars-2017',\n",
       "   u'skysports.com/football/news/11838/10651192/antonie-griezmann-wants-to-play-alongside-paul-pogba-at-club-level',\n",
       "   u'soundcloud.com/kiis1065/15217-kyle-and-jackie-o-show-631',\n",
       "   u'sportingnews.com/wwe/news/goldberg-wwe-royal-rumble-wrestlemania-brock-lesnar-survivor-series-atlanta-falcons-georgia-dome-hulk-hogan/uyywgqntwgxp1gdu9hkpn4zc6',\n",
       "   u'standard.co.uk/topic/89th-academy-awards',\n",
       "   u'svd.se/ungern-vagrar-ta-emot-5000-asylsokande-fran-sverige/i/senaste',\n",
       "   u'sverigesradio.se/sida/artikel.aspx?programid=83&artikel=6723357',\n",
       "   u'svt.se/nyheter/inrikes/sd-okar-kraftigt-bland-utrikes-fodda',\n",
       "   u'svt.se/nyheter/lokalt/stockholm/man-trakasserade-kvinnor-med-bacon',\n",
       "   u'svt.se/nyheter/lokalt/uppsala/vacker-atal-i-uppmarksammat-valdtaktsmal',\n",
       "   u'tech.economictimes.indiatimes.com/news/people/uber-fires-20-employees-after-harassment-probe-source/59025796',\n",
       "   u'theguardian.com/books/2015/aug/07/science-fiction-realism-kim-stanley-robinson-alistair-reynolds-ann-leckie-interview',\n",
       "   u'topix.com/com/nwsa',\n",
       "   u'tvline.com/tag/oscars',\n",
       "   u'uproxx.com/topic/oscars-2017',\n",
       "   u'us.jll.com/united-states/en-us/research/us-industrial-first-look-q4-2016-jll.pdf?55bb415c-2d9a-4bf8-9fe9-e01d7e55724d',\n",
       "   u'vogue.co.uk/shows/spring-summer-2008-ready-to-wear/hussein-chalayan',\n",
       "   u'vogue.com/fashion-shows/spring-2018-menswear/prada',\n",
       "   u'vogue.com/tag/event/oscars',\n",
       "   u'washingtontimes.com/topics/linda-sarsour',\n",
       "   u'wits.worldbank.org/countryprofile/en/country/mex/year/2015/summarytext',\n",
       "   u'womansera.com/tag/interview',\n",
       "   u'worldtribune.com/tag/linda-sarsour',\n",
       "   u'wwd.com/beauty-industry-news/beauty-features/buxom-cosmetics-embarks-influencer-strategy-fronted-bella-thorne-10839067',\n",
       "   u'wwd.com/business-news/media/marie-claire-goes-native-for-april-10097278',\n",
       "   u'wwd.com/eye/people/nicola-peltz-talks-about-anwar-hadid-sundance-2017-10762327',\n",
       "   u'wwd.com/fashion-news/designer-luxury/riccardo-tisci-leaves-givenchy-wwd-10774902',\n",
       "   u'wwd.com/fashion-news/fashion-features/bridget-foley-diary-tom-ford-coming-home-10846206',\n",
       "   u'wwd.com/fashion-news/fashion-scoops/karl-lagerfeld-chanel-meryl-streep-passed-on-oscar-dress-when-chanel-oscar-dress-10817502',\n",
       "   u'yahoo.com/movies/tagged/oscars',\n",
       "   u'zyzzyva.org/tag/interview'}),\n",
       " (u'http://europe.autonews.com/article/20170102/ANE/170109990/tesla-postpones-brexit-price-increase-in-uk?utm_source=feedburner&amp;utm_medium=feed&amp;utm_campaign=Feed%3A+autonews%2FAutomakerNews+%28Automotive+News+Automaker+News+Feed%29',\n",
       "  {u'http://europe.autonews.com/article/20170102/ANE/170109990/tesla-postpones-brexit-price-increase-in-uk?utm_source=feedburner&amp;utm_medium=feed&amp;utm_campaign=Feed%3A+autonews%2FAutomakerNews+%28Automotive+News+Automaker+News+Feed%29'}),\n",
       " (u'http://www.autocar.co.uk/car-news/new-cars/tesla-model-3-production-schedule-begin-july',\n",
       "  {u'http://www.autocar.co.uk/car-news/new-cars/tesla-model-3-production-schedule-begin-july'}),\n",
       " (u'mashable.com/category/tesla-model-3',\n",
       "  {u'gadgets.ndtv.com/tags/model-3', u'mashable.com/category/tesla-model-3'}),\n",
       " (u'http://www.autocar.co.uk/car-news/motorsport-electric-gt/778bhp-teslas-race-silverstone-august-first-electric-gt-round',\n",
       "  {u'http://www.autocar.co.uk/car-news/motorsport-electric-gt/778bhp-teslas-race-silverstone-august-first-electric-gt-round'}),\n",
       " (u'latimes.com/topic/business/automotive-industry/tesla-motors-orcrp006147-topic.html',\n",
       "  {u'androidcommunity.com/tag/tesla',\n",
       "   u'clarksvilleonline.com/tag/tesla',\n",
       "   u'dailyrecord.co.uk/all-about/tesla',\n",
       "   u'data.cnbc.com/quotes/txl-ca',\n",
       "   u'economictimes.indiatimes.com/topic/model-s',\n",
       "   u'extremetech.com/tag/model-s',\n",
       "   u'fortune.com/fortune500/tesla-motors',\n",
       "   u'gadgets.ndtv.com/tags/model-s',\n",
       "   u'itworldcanada.com/tag/tesla',\n",
       "   u'iwantabuzz.com/tag/tesla',\n",
       "   u'latimes.com/topic/business/automotive-industry/tesla-motors-orcrp006147-topic.html',\n",
       "   u'leftlanenews.com/new-car-buying/tesla/model-s',\n",
       "   u'mashable.com/category/tesla',\n",
       "   u'mic.com/topic/tesla',\n",
       "   u'motoringexposure.com/vehicle-make/tesla',\n",
       "   u'nytimes.com/topic/company/tesla-motors-inc?inline=nyt-org',\n",
       "   u'sandiegouniontribune.com/topic/business/automotive-industry/tesla-motors-orcrp006147-topic.html',\n",
       "   u'scienceworldreport.com/tags/tesla',\n",
       "   u'siliconbeat.com/tag/model-s'}),\n",
       " (u'economictimes.indiatimes.com/news/politics-and-nation/anupam-kher-to-play-manmohan-singh-in-movie-based-on-sanjoy-barus-book-the-accidental-prime-minister/articleshow/59008565.cms',\n",
       "  {u'economictimes.indiatimes.com/industry/cons-products/food/defences-csd-suspends-sale-of-patanjalis-amla-juice/articleshow/58332920.cms',\n",
       "   u'economictimes.indiatimes.com/industry/energy/oil-gas/petrol-pumps-threaten-to-stop-accepting-cards-from-monday-to-protest-banks-transaction-fee/articleshow/56404163.cms',\n",
       "   u'economictimes.indiatimes.com/industry/transportation/airlines-/-aviation/gmr-tata-realty-hiranandani-pulls-out-of-navi-mumbai-airport-bid/articleshow/56325143.cm',\n",
       "   u'economictimes.indiatimes.com/industry/transportation/airlines-/-aviation/will-tata-again-pilot-air-india-group-in-talks-with-govt-to-buy-airline-back/articleshow/59255798.cms',\n",
       "   u'economictimes.indiatimes.com/markets/forex/rupee-opens-nearly-19-paise-down-at-68-15-against-dollar/articleshow/56414029.cms',\n",
       "   u'economictimes.indiatimes.com/news/politics-and-nation/anupam-kher-to-play-manmohan-singh-in-movie-based-on-sanjoy-barus-book-the-accidental-prime-minister/articleshow/59008565.cms',\n",
       "   u'economictimes.indiatimes.com/news/politics-and-nation/anupam-kher-to-play-manmohan-singh-in-movie-based-on-sanjoy-barus-book-the-accidental-prime-minister/articleshow/59008565.cms?from=mdr',\n",
       "   u'economictimes.indiatimes.com/news/politics-and-nation/arrogance-of-alliance-responsible-for-sps-debacle-says-mulayam-singh-yadav/articleshow/57599673.cms',\n",
       "   u'economictimes.indiatimes.com/news/politics-and-nation/cbi-raids-ndtv-founder-prannoy-roys-home/articleshow/58997117.cms',\n",
       "   u'economictimes.indiatimes.com/news/politics-and-nation/cpm-parliamentarian-ritabrata-banerjee-suspended-by-party-for-using-expensive-gadgets/articleshow/58961811.cms',\n",
       "   u'economictimes.indiatimes.com/news/politics-and-nation/government-offices-set-ablaze-in-kohima-situation-deteriorating-fast-in-nagaland/articleshow/56937847.cms',\n",
       "   u'economictimes.indiatimes.com/news/politics-and-nation/how-pm-modi-is-rewriting-diplomacy-one-hug-at-a-time/narendra-modi-donald-trump/slideshow/59337236.cms',\n",
       "   u'economictimes.indiatimes.com/news/politics-and-nation/jds-helps-bjp-retain-legislative-council-chairman-post-in-karnataka-assembly/articleshow/59168328.cms',\n",
       "   u'economictimes.indiatimes.com/news/politics-and-nation/largest-realty-scam-in-telangana-worth-rs-15000-crore-google-microsoft-also-affected/articleshow/59317733.cms',\n",
       "   u'economictimes.indiatimes.com/news/politics-and-nation/mystery-ends-subhash-chandra-bose-died-in-plane-crash-in-1945-govt-says-in-a-rti-reply/articleshow/58923920.cms',\n",
       "   u'economictimes.indiatimes.com/news/politics-and-nation/offensive-whatsapp-posts-can-now-land-group-administrator-in-jail/articleshow/58281149.cms',\n",
       "   u'economictimes.indiatimes.com/news/politics-and-nation/punjab-assembly-elections-chorus-grows-louder-to-announce-captain-amarinder-singh-as-congress-cm-candidate/articleshow/56648164.cms',\n",
       "   u'economictimes.indiatimes.com/news/politics-and-nation/supreme-courts-highway-liquor-ban-verdict-may-hit-1-million-jobs/articleshow/57965059.cms',\n",
       "   u'economictimes.indiatimes.com/news/politics-and-nation/uidai-set-for-an-image-makeover-to-spend-rs-30-crore-for-its-media-campaign/articleshow/38229744.cms?from=mdr',\n",
       "   u'economictimes.indiatimes.com/small-biz/hr-leadership/people/olas-cfo-rajiv-bansal-cmo-sarup-quit/articleshow/57056823.cms',\n",
       "   u'economictimes.indiatimes.com/small-biz/startups/flipkart-looks-to-forge-1-5-billion-deal-with-ebay-and-tencent-to-take-on-amazon-and-alibaba/articleshow/57657861.cms',\n",
       "   u'economictimes.indiatimes.com/small-biz/startups/freecharge-ceo-govind-rajan-resigns/articleshow/57281226.cms',\n",
       "   u'economictimes.indiatimes.com/small-biz/startups/practo-technologies-sacks-150-employees-as-part-of-annual-performance-cycle/articleshow/58056510.cms',\n",
       "   u'economictimes.indiatimes.com/small-biz/startups/shared-services-of-ola-uber-illegal-in-karnataka-transport-commissioner/articleshow/56793666.cms',\n",
       "   u'economictimes.indiatimes.com/small-biz/startups/tesla-in-india-elon-musk-hints-at-possible-summer-launch/articleshow/57035714.cms',\n",
       "   u'economictimes.indiatimes.com/tech/hardware/reliance-industriess-lyf-products-will-be-made-in-india/articleshow/56674314.cms',\n",
       "   u'economictimes.indiatimes.com/topic/the-economic-times',\n",
       "   u'washingtontimes.com/topics/the-economic-times'}),\n",
       " (u'http://www.autonews.com/article/20170126/OEM02/170129870/tesla-sues-former-head-of-autopilot-former-google-exec-urmson',\n",
       "  {u'http://www.autonews.com/article/20170126/OEM02/170129870/tesla-sues-former-head-of-autopilot-former-google-exec-urmson'}),\n",
       " (u'play.google.com/store/apps/details?id=com.teslacoilsw.launcher&hl=en',\n",
       "  {u'androidcommunity.com/tag/nova-launcher',\n",
       "   u'play.google.com/store/apps/details?id=com.teslacoilsw.launcher&hl=en'}),\n",
       " (u'facebook.com/groups/teslamotorsmodel3/permalink/710954719082390',\n",
       "  {u'facebook.com/groups/teslamotorsmodel3/permalink/710954719082390'}),\n",
       " (u'fortune.com/fortune500/tesla-motors-588',\n",
       "  {u'fortune.com/fortune500/tesla-motors-588'}),\n",
       " (u'business.financialpost.com/tag/tesla-inc',\n",
       "  {u'business.financialpost.com/tag/tesla-inc',\n",
       "   u'economictimes.indiatimes.com/topic/tesla-inc',\n",
       "   u'en.wikipedia.org/wiki/tesla,_inc.'}),\n",
       " (u'statista.com/chart/8925/tesla-vs-gm-and-ford',\n",
       "  {u'statista.com/chart/8925/tesla-vs-gm-and-ford'}),\n",
       " (u'abcnews.go.com/topics/business/automotive/tesla-motors.htm',\n",
       "  {u'abcnews.go.com/topics/business/automotive/tesla-motors.htm',\n",
       "   u'bankerandtradesman.com/tag/electric-vehicles',\n",
       "   u'economictimes.indiatimes.com/topic/electric-vehicles',\n",
       "   u'independent.co.uk/topic/electric-cars'}),\n",
       " (u'chron.com/search/?action=search&channel=business%2ftechnology&inlinelink=1&searchindex=gsa&query=%22model+x%22',\n",
       "  {u'chron.com/search/?action=search&channel=business%2ftechnology&inlinelink=1&searchindex=gsa&query=%22model+x%22',\n",
       "   u'economictimes.indiatimes.com/topic/model-x',\n",
       "   u'gadgets.ndtv.com/tags/model-x',\n",
       "   u'mashable.com/category/tesla-model-x'}),\n",
       " (u'theglobeandmail.com/report-on-business/rob-commentary/executive-insight/as-emission-scandal-deepens-auto-industry-pins-hopes-on-tesla/article30121212',\n",
       "  {u'theglobeandmail.com/report-on-business/rob-commentary/executive-insight/as-emission-scandal-deepens-auto-industry-pins-hopes-on-tesla/article30121212'}),\n",
       " (u'https://play.google.com/store/apps/details?id=com.teslacoilsw.launcher.prime&amp;hl=ro',\n",
       "  {u'https://play.google.com/store/apps/details?id=com.teslacoilsw.launcher.prime&amp;hl=ro'}),\n",
       " (u'statista.com/chart/6250/tesla-is-playing-the-long-game',\n",
       "  {u'statista.com/chart/6250/tesla-is-playing-the-long-game'}),\n",
       " (u'gadgets.ndtv.com/tags/autopilot',\n",
       "  {u'en.wikipedia.org/wiki/tesla_autopilot',\n",
       "   u'gadgets.ndtv.com/tags/autopilot',\n",
       "   u'mashable.com/category/autopilot'}),\n",
       " (u'autonews.com/article/20161026/oem05/161029879/tesla-records-2nd-profit-as-public-company',\n",
       "  {u'autonews.com/article/20161026/oem05/161029879/tesla-records-2nd-profit-as-public-company'}),\n",
       " (u'insideevs.com/tag/tesla-stock', {u'insideevs.com/tag/tesla-stock'}),\n",
       " (u'autonews.com/article/20170201/oem05/170209981/tesla-drops-motors-from-its-name',\n",
       "  {u'autonews.com/article/20170201/oem05/170209981/tesla-drops-motors-from-its-name'}),\n",
       " (u'topix.com/who/tesla', {u'topix.com/who/tesla'}),\n",
       " (u'insideevs.com/tag/tesla-configurator',\n",
       "  {u'insideevs.com/tag/tesla-configurator'}),\n",
       " (u'http://www.autonews.com/article/20170411/OEM01/170419962/autonations-jackson-calls-teslas-valuation-inexplicable?CSAuthResp=1%3A1073643048799199%3A423310%3A8273%3A24%3Aapproved%3A43FB954824830EE434CFA8DFEC8E1A72',\n",
       "  {u'http://www.autonews.com/article/20170411/OEM01/170419962/autonations-jackson-calls-teslas-valuation-inexplicable?CSAuthResp=1%3A1073643048799199%3A423310%3A8273%3A24%3Aapproved%3A43FB954824830EE434CFA8DFEC8E1A72'}),\n",
       " (u'http://business.financialpost.com/investing/market-moves/no-joy-from-the-fed-what-you-need-to-know-before-markets-open',\n",
       "  {u'http://business.financialpost.com/investing/market-moves/no-joy-from-the-fed-what-you-need-to-know-before-markets-open',\n",
       "   u'http://business.financialpost.com/small-cap-investing/canadian-lithium-juniors-that-could-rally-on-tesla-interest',\n",
       "   u'http://ottawacitizen.com/news/national/defence-watch/irans-new-tank-photos-of-the-karrar'}),\n",
       " (u'http://www.autocar.co.uk/car-news/new-cars/tesla-model-y-lead-ambitious-range-expansion-plans',\n",
       "  {u'http://www.autocar.co.uk/car-news/new-cars/tesla-model-y-lead-ambitious-range-expansion-plans'}),\n",
       " (u'http://www.autocar.co.uk/car-news/motor-shows-shanghai-auto-show/skoda-vision-e-concept-previews-300bhp-electric-tesla-model',\n",
       "  {u'http://www.autocar.co.uk/car-news/motor-shows-shanghai-auto-show/skoda-vision-e-concept-previews-300bhp-electric-tesla-model'}),\n",
       " (u'rotoworld.com/player/mlb/5560/ivan-nova',\n",
       "  {u'androidcentral.com/app/nova-launcher',\n",
       "   u'androidguys.com/tag/nova-launcher',\n",
       "   u'androidpit.com/topic/nova-launcher',\n",
       "   u'baseball-reference.com/players/n/novaiv01.shtml',\n",
       "   u'ca.sports.yahoo.com/mlb/players/8728',\n",
       "   u'cbssports.com/fantasy/baseball/players/1655641/ivan-nova',\n",
       "   u'cbssports.com/mlb/players/playerpage/1655641/ivan-nova',\n",
       "   u'chicagotribune.com/topic/sports/baseball/ivan-nova-pespt000010293-topic.html',\n",
       "   u'espn.com/mlb/player/_/id/30400/ivan-nova',\n",
       "   u'latimes.com/topic/sports/baseball/ivan-nova-pespt000010293-topic.html',\n",
       "   u'mcall.com/topic/sports/baseball/ivan-nova-pespt000010293-topic.html',\n",
       "   u'play.google.com/store/apps/details?id=com.teslacoilsw.launcher.prime',\n",
       "   u'rotoworld.com/player/mlb/5560/ivan-nova',\n",
       "   u'scoresandstats.stlouis.cbslocal.com/baseball/mlb-players.aspx?page=/data/mlb/players/player43687.html',\n",
       "   u'sports.yahoo.com/mlb/players/8728',\n",
       "   u'sun-sentinel.com/topic/sports/baseball/ivan-nova-pespt000010293-topic.html',\n",
       "   u'upi.com/topic/ivan_nova'}),\n",
       " (u'autocar.co.uk/car-news/new-cars/tesla-model-y-lead-ambitious-range-expansion-plans',\n",
       "  {u'autocar.co.uk/car-news/new-cars/tesla-model-y-lead-ambitious-range-expansion-plans'}),\n",
       " (u'deadline.com/tag/tesla-twain', {u'deadline.com/tag/tesla-twain'}),\n",
       " (u'uvureview.com/tag/talking-to-tesla',\n",
       "  {u'uvureview.com/tag/talking-to-tesla'}),\n",
       " (u'http://www.autonews.com/article/20170427/OEM02/170429848/teslas-klaus-grohmann-ousted-after-clash-with-elon-musk',\n",
       "  {u'http://www.autonews.com/article/20170427/OEM02/170429848/teslas-klaus-grohmann-ousted-after-clash-with-elon-musk'}),\n",
       " (u'en.wikipedia.org/wiki/nikola_tesla',\n",
       "  {u'biography.com/people/nikola-tesla-9504443#synopsis',\n",
       "   u'dailycollegian.com/tag/nikola-tesla',\n",
       "   u'deadline.com/tag/nikola-tesla',\n",
       "   u'en.wikipedia.org/wiki/nikola_tesla',\n",
       "   u'mysteriousuniverse.org/tag/nikola-tesla'}),\n",
       " (u'en.wikipedia.org/wiki/tesla_model_x',\n",
       "  {u'en.wikipedia.org/wiki/tesla_model_x'}),\n",
       " (u'postnewsgroup.com/blog/tag/tesla', {u'postnewsgroup.com/blog/tag/tesla'}),\n",
       " (u'engineering.com/electronicsdesign/electronicsdesignarticles/articleid/14054/tesla-gigafactory-goes-live.aspx',\n",
       "  {u'engineering.com/electronicsdesign/electronicsdesignarticles/articleid/14054/tesla-gigafactory-goes-live.aspx'}),\n",
       " (u'autoevolution.com/newstag/tesla%20gigafactory',\n",
       "  {u'autoevolution.com/newstag/tesla%20gigafactory',\n",
       "   u'insideevs.com/tag/gigafactory'}),\n",
       " (u'latimes.com/topic/business/elon-musk-pebsl000988-topic.html',\n",
       "  {u'abcnews.go.com/topics/business/ceos/elon-musk.htm',\n",
       "   u'autoblog.com/tag/elon+musk',\n",
       "   u'baltimoresun.com/topic/business/elon-musk-pebsl000988-topic.html',\n",
       "   u'breitbart.com/tag/elon-musk',\n",
       "   u'business.financialpost.com/tag/elon-musk',\n",
       "   u'chicagotribune.com/topic/business/elon-musk-pebsl000988-topic.html',\n",
       "   u'chron.com/search/?action=search&channel=business%2ftechnology&inlinelink=1&searchindex=gsa&query=%22elon+musk%22',\n",
       "   u'cityam.com/people/elon-musk',\n",
       "   u'cnet.com/au/tags/elon-musk',\n",
       "   u'cnet.com/tags/elon-musk',\n",
       "   u'cnet.com/uk/tags/elon-musk',\n",
       "   u'courant.com/topic/business/elon-musk-pebsl000988-topic.html',\n",
       "   u'economictimes.indiatimes.com/topic/elon-musk',\n",
       "   u'en.wikipedia.org/wiki/elon_musk',\n",
       "   u'gadgets.ndtv.com/tags/elon-musk',\n",
       "   u'globalnews.ca/tag/elon-musk',\n",
       "   u'huffingtonpost.com/topic/elon-musk',\n",
       "   u'impactlab.net/category/elon-musk',\n",
       "   u'independent.co.uk/topic/elon-musk',\n",
       "   u'inverse.com/topic/elon-musk',\n",
       "   u'justjared.com/tags/elon-musk',\n",
       "   u'latimes.com/topic/business/elon-musk-pebsl000988-topic.html',\n",
       "   u'lexleader.net/tag/elon-musk',\n",
       "   u'mashable.com/category/elon-musk',\n",
       "   u'mcall.com/topic/business/elon-musk-pebsl000988-topic.html',\n",
       "   u'merkur.de/lokales/muenchen-lk/garching-ort28709/spektakulaere-rettung-auf-a9-tesla-stoppt-wagen-ausser-kontrolle-7399151.html',\n",
       "   u'mic.com/topic/elon-musk',\n",
       "   u'mirror.co.uk/all-about/elon-musk',\n",
       "   u'newatlas.com/elon-musk-mars-speech/45645',\n",
       "   u'newatlas.com/tag/elon-musk',\n",
       "   u'news.nationalpost.com/tag/elon-musk',\n",
       "   u'newsfactor.com/search.xhtml?cat_description=search&query=%22elon+musk%22&sort=time',\n",
       "   u'orlandosentinel.com/topic/business/elon-musk-pebsl000988-topic.html',\n",
       "   u'pagesix.com/tag/elon-musk',\n",
       "   u'people.com/tag/elon-musk',\n",
       "   u'sci-tech-today.com/search.xhtml?cat_description=search&query=%22elon+musk%22&sort=time',\n",
       "   u'siliconvalley.com/topics?elon%20musk',\n",
       "   u'standard.co.uk/topic/elon-musk',\n",
       "   u'sun-sentinel.com/topic/business/elon-musk-pebsl000988-topic.html',\n",
       "   u'time100.time.com/2013/04/18/time-100/slide/elon-musk',\n",
       "   u'tmz.com/person/elon-musk',\n",
       "   u'universetoday.com/tag/elon-musk',\n",
       "   u'upi.com/topic/elon_musk',\n",
       "   u'uproxx.com/tag/elon-musk',\n",
       "   u'vanityfair.com/people/elon-musk',\n",
       "   u'vanityfair.com/people/elon-musk#intcid=dt-hot-link',\n",
       "   u'variety.com/t/elon-musk',\n",
       "   u'washingtontimes.com/topics/elon-musk',\n",
       "   u'wired.com/tag/elon-musk'}),\n",
       " (u'play.google.com/store/apps/details?id=com.teslacoilsw.launcher',\n",
       "  {u'androidauthority.com/tag/nova-launcher',\n",
       "   u'gadgets.ndtv.com/tags/nova-launcher',\n",
       "   u'play.google.com/store/apps/details?id=com.teslacoilsw.launcher'}),\n",
       " (u'autonews.com/article/20161113/retail05/311149995/tesla-owners-plagued-by-service-delays',\n",
       "  {u'autonews.com/article/20161113/retail05/311149995/tesla-owners-plagued-by-service-delays'}),\n",
       " (u'http://www.autocar.co.uk/car-news/motor-shows-geneva-motor-show/tesla-model-s-forces-radical-rethink-next-volkswagen-phaeton',\n",
       "  {u'http://www.autocar.co.uk/car-news/motor-shows-geneva-motor-show/tesla-model-s-forces-radical-rethink-next-volkswagen-phaeton'}),\n",
       " (u'geek.com/tag/tesla',\n",
       "  {u'geek.com/tag/tesla',\n",
       "   u'gqindia.com/topics/tesla',\n",
       "   u'standard.co.uk/topic/tesla'}),\n",
       " (u'play.google.com/store/apps/developer?id=teslacoil+software',\n",
       "  {u'play.google.com/store/apps/developer?id=teslacoil+software'}),\n",
       " (u'http://www.autonews.com/article/20170425/OEM01/170429911/tesla-workers-file-charges-with-nlrb',\n",
       "  {u'http://www.autonews.com/article/20170425/OEM01/170429911/tesla-workers-file-charges-with-nlrb'}),\n",
       " (u'https://play.spotify.com/user/teslaband/playlist/6x98H5s38qK5pki4F0CcHU?play=true&amp;utm_source=open.spotify.com&amp;utm_medium=open',\n",
       "  {u'https://play.spotify.com/user/teslaband/playlist/6x98H5s38qK5pki4F0CcHU?play=true&amp;utm_source=open.spotify.com&amp;utm_medium=open'}),\n",
       " (u'http://www.autonews.com/article/20170208/OEM01/170209819/tesla-idling-calif-plant-to-prep-for-model-3',\n",
       "  {u'http://www.autonews.com/article/20170208/OEM01/170209819/tesla-idling-calif-plant-to-prep-for-model-3'}),\n",
       " (u'autonews.com/article/20170621/oem05/170629941/jd-power-iqs-tesla',\n",
       "  {u'autonews.com/article/20170621/oem05/170629941/jd-power-iqs-tesla'}),\n",
       " (u'wardsauto.com/taxonomy/term/53654?intlink=incontent',\n",
       "  {u'archdaily.com/tag/tesla',\n",
       "   u'bisnow.com/tags/tesla',\n",
       "   u'breitbart.com/tag/tesla',\n",
       "   u'cnbc.com/quotes?symbol=tsla',\n",
       "   u'cnet.com/au/collections/tesla',\n",
       "   u'cnet.com/au/tags/tesla',\n",
       "   u'cnet.com/uk/tags/tesla',\n",
       "   u'dailypress.com/topic/business/automotive-industry/tesla-motors-orcrp006147-topic.html',\n",
       "   u'economictimes.indiatimes.com/topic/tesla',\n",
       "   u'fortune.com/fortune500/tesla',\n",
       "   u'fox61.com/tag/tesla',\n",
       "   u'independent.co.uk/topic/tesla',\n",
       "   u'inverse.com/topic/tesla',\n",
       "   u'macdailynews.com/tag/tesla',\n",
       "   u'macobserver.com/tag/tesla',\n",
       "   u'mashable.com/category/tesla-motors',\n",
       "   u'mysteriousuniverse.org/tag/tesla',\n",
       "   u'newsfactor.com/search.xhtml?cat_description=search&query=%22tesla%22&sort=time',\n",
       "   u'sci-tech-today.com/search.xhtml?cat_description=search&query=%22tesla%22&sort=time',\n",
       "   u'siliconbeat.com/tag/tesla',\n",
       "   u'triplepundit.com/topic/tesla',\n",
       "   u'variety.com/t/tesla',\n",
       "   u'wardsauto.com/taxonomy/term/53654?intlink=incontent',\n",
       "   u'wired.com/tag/tesla-motors'}),\n",
       " (u'play.google.com/store/apps/details?id=com.teslacoilsw.launcher&hl=en_gb',\n",
       "  {u'dcgeologyevents.wordpress.com/category/nova',\n",
       "   u'deadline.com/tag/nova',\n",
       "   u'play.google.com/store/apps/details?id=com.teslacoilsw.launcher&hl=en_gb',\n",
       "   u'wtvq.com/tag/nova'}),\n",
       " (u'flickr.com/photos/teslaclubbe/12271223586/in/photolist-jgnefs-9bsexs-haf167-ex9yxq-ozwwpo-d83k9o-gjvgtf-haetfc-and1gd-ccdkpb-e2rcql-5ubgnz-z4xlj7-rrmltf-4t8uwz-phopoy-onttsq-mf8frs-jgn7al-dyxsbk-hjbtxg-emx5tu-526a61-rdqdcl-52281c-bcrsgv-8nfnmj-gm9skq-sagpsj-tuwdgy-92ixxj-bnvzh-dtv2y-dylxoz-xvkqqi-qelgz-5yrnyp-6awhmd-hbpkcx-gntfyk-nzskma-uqrbs9-nx97as-nnttpn-hjfr8c-817ujv-mxwghs-e2n95p-6wcd8-4qnk5s',\n",
       "  {u'flickr.com/photos/teslaclubbe/12271223586/in/photolist-jgnefs-9bsexs-haf167-ex9yxq-ozwwpo-d83k9o-gjvgtf-haetfc-and1gd-ccdkpb-e2rcql-5ubgnz-z4xlj7-rrmltf-4t8uwz-phopoy-onttsq-mf8frs-jgn7al-dyxsbk-hjbtxg-emx5tu-526a61-rdqdcl-52281c-bcrsgv-8nfnmj-gm9skq-sagpsj-tuwdgy-92ixxj-bnvzh-dtv2y-dylxoz-xvkqqi-qelgz-5yrnyp-6awhmd-hbpkcx-gntfyk-nzskma-uqrbs9-nx97as-nnttpn-hjfr8c-817ujv-mxwghs-e2n95p-6wcd8-4qnk5s'}),\n",
       " (u'en.wikipedia.org/wiki/autonomous_car#tesla_autopilot',\n",
       "  {u'en.wikipedia.org/wiki/autonomous_car#tesla_autopilot'}),\n",
       " (u'http://www.autonews.com/article/20170318/OEM03/303209983/pininfarina-designed-tesla-fighter-due-in-2019-20',\n",
       "  {u'http://www.autonews.com/article/20170318/OEM03/303209983/pininfarina-designed-tesla-fighter-due-in-2019-20'}),\n",
       " (u'autonews.com/article/20151216/oem11/151219893/fiat-chrysler-buys-emissions-credits-from-tesla-toyota-honda',\n",
       "  {u'autonews.com/article/20151216/oem11/151219893/fiat-chrysler-buys-emissions-credits-from-tesla-toyota-honda'}),\n",
       " (u'flickr.com/photos/teslaclubbe/12271217906/in/photolist-jgncyw-jgk6e8-py7dud-jgnefs-9bsexs-haf167-ex9yxq-ozwwpo-d83k9o-hjbtxg-gjvgtf-haetfc-and1gd-ccdkpb-e2rcql-5ubgnz-z4xlj7-rrmltf-4t8uwz-phopoy-qgerku-qvnpvh-onttsq-mf8frs-jgn7al-dyxsbk-emx5tu-526a61-rdqdcl-52281c-bcrsgv-8nfnmj-gm9skq-sagpsj-tuwdgy-92ixxj-bnvzh-dtv2y-dylxoz-xvkqqi-817ujv-qelgz-5yrnyp-6awhmd-hbpkcx-gntfyk-nzskma-uqrbs9-nx97as-nnttpn',\n",
       "  {u'flickr.com/photos/teslaclubbe/12271217906/in/photolist-jgncyw-jgk6e8-py7dud-jgnefs-9bsexs-haf167-ex9yxq-ozwwpo-d83k9o-hjbtxg-gjvgtf-haetfc-and1gd-ccdkpb-e2rcql-5ubgnz-z4xlj7-rrmltf-4t8uwz-phopoy-qgerku-qvnpvh-onttsq-mf8frs-jgn7al-dyxsbk-emx5tu-526a61-rdqdcl-52281c-bcrsgv-8nfnmj-gm9skq-sagpsj-tuwdgy-92ixxj-bnvzh-dtv2y-dylxoz-xvkqqi-817ujv-qelgz-5yrnyp-6awhmd-hbpkcx-gntfyk-nzskma-uqrbs9-nx97as-nnttpn'}),\n",
       " (u'autonews.com/article/20170221/retail05/170229966/sears-launches-free-standing-pilot-diehard-auto-center',\n",
       "  {u'autonews.com/article/20170221/retail05/170229966/sears-launches-free-standing-pilot-diehard-auto-center',\n",
       "   u'autonews.com/article/20170318/oem03/303209983/pininfarina-designed-tesla-fighter-due-in-2019-20'}),\n",
       " (u'https://www.autocar.co.uk/car-news/new-cars/tesla-model-y-first-image-shows-no-door-mirrors-and-aggressive-design',\n",
       "  {u'https://www.autocar.co.uk/car-news/new-cars/tesla-model-y-first-image-shows-no-door-mirrors-and-aggressive-design'}),\n",
       " (u'http://www.autonews.com/article/20170201/OEM05/170209981/tesla-drops-motors-from-its-name',\n",
       "  {u'http://www.autonews.com/article/20170201/OEM05/170209981/tesla-drops-motors-from-its-name'}),\n",
       " (u'https://play.google.com/store/apps/details?id=com.teslacoilsw.launcher&amp;hl=ro',\n",
       "  {u'https://play.google.com/store/apps/details?id=com.teslacoilsw.launcher&amp;hl=ro'}),\n",
       " (u'en.wikipedia.org/wiki/tesla_coil', {u'en.wikipedia.org/wiki/tesla_coil'})]"
      ]
     },
     "execution_count": 32,
     "metadata": {},
     "output_type": "execute_result"
    }
   ],
   "source": [
    "[(t, srcs) for t, srcs in sources_by_target.iteritems() if any('tesla' in url for url in srcs)]"
   ]
  },
  {
   "cell_type": "code",
   "execution_count": 30,
   "metadata": {},
   "outputs": [
    {
     "ename": "KeyError",
     "evalue": "'en.wikipedia.org/w/tesla_inc.'",
     "output_type": "error",
     "traceback": [
      "\u001b[0;31m---------------------------------------------------------------------------\u001b[0m",
      "\u001b[0;31mKeyError\u001b[0m                                  Traceback (most recent call last)",
      "\u001b[0;32m<ipython-input-30-bf7505e04828>\u001b[0m in \u001b[0;36m<module>\u001b[0;34m()\u001b[0m\n\u001b[0;32m----> 1\u001b[0;31m \u001b[0msources_by_target\u001b[0m\u001b[0;34m[\u001b[0m\u001b[0mredirects\u001b[0m\u001b[0;34m[\u001b[0m\u001b[0;34m'en.wikipedia.org/w/tesla_inc.'\u001b[0m\u001b[0;34m]\u001b[0m\u001b[0;34m]\u001b[0m\u001b[0;34m\u001b[0m\u001b[0m\n\u001b[0m",
      "\u001b[0;31mKeyError\u001b[0m: 'en.wikipedia.org/w/tesla_inc.'"
     ]
    }
   ],
   "source": [
    "sources_by_target[redirects['en.wikipedia.org/w/tesla_inc.']]"
   ]
  },
  {
   "cell_type": "code",
   "execution_count": 24,
   "metadata": {},
   "outputs": [
    {
     "data": {
      "text/plain": [
       "[[u'flickrtesla club belgium',\n",
       "  [u'flickr.com/photos/teslaclubbe/12271223586/in/photolist-jgnefs-9bsexs-haf167-ex9yxq-ozwwpo-d83k9o-gjvgtf-haetfc-and1gd-ccdkpb-e2rcql-5ubgnz-z4xlj7-rrmltf-4t8uwz-phopoy-onttsq-mf8frs-jgn7al-dyxsbk-hjbtxg-emx5tu-526a61-rdqdcl-52281c-bcrsgv-8nfnmj-gm9skq-sagpsj-tuwdgy-92ixxj-bnvzh-dtv2y-dylxoz-xvkqqi-qelgz-5yrnyp-6awhmd-hbpkcx-gntfyk-nzskma-uqrbs9-nx97as-nnttpn-hjfr8c-817ujv-mxwghs-e2n95p-6wcd8-4qnk5s',\n",
       "   u'flickr.com/photos/teslaclubbe/12271217906/in/photolist-jgncyw-jgk6e8-py7dud-jgnefs-9bsexs-haf167-ex9yxq-ozwwpo-d83k9o-hjbtxg-gjvgtf-haetfc-and1gd-ccdkpb-e2rcql-5ubgnz-z4xlj7-rrmltf-4t8uwz-phopoy-qgerku-qvnpvh-onttsq-mf8frs-jgn7al-dyxsbk-emx5tu-526a61-rdqdcl-52281c-bcrsgv-8nfnmj-gm9skq-sagpsj-tuwdgy-92ixxj-bnvzh-dtv2y-dylxoz-xvkqqi-817ujv-qelgz-5yrnyp-6awhmd-hbpkcx-gntfyk-nzskma-uqrbs9-nx97as-nnttpn']],\n",
       " [u'electric vehicles',\n",
       "  [u'independent.co.uk/topic/electric-cars',\n",
       "   u'abcnews.go.com/topics/business/automotive/tesla-motors.htm',\n",
       "   u'economictimes.indiatimes.com/topic/electric-vehicles',\n",
       "   u'impactlab.net/category/electric-vehicles-2',\n",
       "   u'globalnews.ca/tag/electric-cars',\n",
       "   u'bankerandtradesman.com/tag/electric-vehicles']],\n",
       " [u'nova prime is worth the 499',\n",
       "  [u'play.google.com/store/apps/details?id=com.teslacoilsw.launcher.prime']],\n",
       " [u'download nova launcher\\xa0here',\n",
       "  [u'play.google.com/store/apps/details?id=com.teslacoilsw.launcher&hl=en_gb']],\n",
       " [u'revealed to the public in 2018',\n",
       "  [u'autocar.co.uk/car-news/new-cars/tesla-model-y-lead-ambitious-range-expansion-plans']],\n",
       " [u'electric cars',\n",
       "  [u'mirror.co.uk/all-about/electric-cars',\n",
       "   u'economictimes.indiatimes.com/topic/electric-cars',\n",
       "   u'independent.co.uk/topic/electric-cars',\n",
       "   u'wired.com/tag/tesla',\n",
       "   u'abcnews.go.com/topics/news/energy/electric-cars.htm',\n",
       "   u'dailyrecord.co.uk/all-about/electric-vehicles',\n",
       "   u'planetsave.com/tag/electric-cars']],\n",
       " [u'nova launcher premium',\n",
       "  [u'play.google.com/store/apps/details?id=com.teslacoilsw.launcher.prime']],\n",
       " [u'get it from google play',\n",
       "  [u'play.google.com/store/apps/details?id=com.nway.powerrangerslegacywars',\n",
       "   u'play.google.com/store/apps/details?id=com.microsoft.launcher&hl=en&rdid=com.microsoft.launcher',\n",
       "   u'play.google.com/store/apps/details?id=com.citc.asap&hl=en',\n",
       "   u'play.google.com/store/apps/details?id=com.lx.launcher8&hl=en',\n",
       "   u'play.google.com/store/apps/details?id=com.facebook.katana&hl=en',\n",
       "   u'play.google.com/store/apps/details?id=is.shortcut',\n",
       "   u'play.google.com/store/apps/details?id=com.actionlauncher.playstore&hl=en',\n",
       "   u'play.google.com/store/apps/details?id=com.zeptolab.cats.google&hl=en',\n",
       "   u'play.google.com/store/apps/details?id=ginlemon.flowerfree&hl=en',\n",
       "   u'play.google.com/store/apps/details?id=com.touchtype.swiftkey',\n",
       "   u'play.google.com/store/apps/details?id=com.happening.studios.swipeforfacebookfree&hl=en',\n",
       "   u'play.google.com/store/apps/details?id=com.teslacoilsw.launcher&hl=en',\n",
       "   u'play.google.com/store/apps/details?id=com.nianticlabs.pokemongo&hl=en',\n",
       "   u'play.google.com/store/apps/details?id=com.google.android.inputmethod.latin&hl=en',\n",
       "   u'play.google.com/store/apps/details?id=org.adw.launcher&hl=en',\n",
       "   u'play.google.com/store/apps/details?id=com.ubercab&hl=en']],\n",
       " [u'his firm', [u'dailyrecord.co.uk/all-about/tesla']],\n",
       " [u'told automotive news',\n",
       "  [u'autonews.com/article/20170608/oem11/170609795/nissan-goes-standard-on-automated-braking',\n",
       "   u'autonews.com/article/20170221/retail05/170229966/sears-launches-free-standing-pilot-diehard-auto-center',\n",
       "   u'autonews.com/article/20170318/oem03/303209983/pininfarina-designed-tesla-fighter-due-in-2019-20',\n",
       "   u'autonews.com/article/20170123/retail01/301239805/wal-mart-carsaver-will-sell-cars']],\n",
       " [u'nikola tesla',\n",
       "  [u'biography.com/people/nikola-tesla-9504443#synopsis',\n",
       "   u'mysteriousuniverse.org/tag/nikola-tesla',\n",
       "   u'dailycollegian.com/tag/nikola-tesla',\n",
       "   u'en.wikipedia.org/wiki/nikola_tesla',\n",
       "   u'deadline.com/tag/nikola-tesla']],\n",
       " [u'model s',\n",
       "  [u'siliconbeat.com/tag/model-s',\n",
       "   u'abcnews.go.com/topics/news/energy/electric-cars.htm',\n",
       "   u'extremetech.com/tag/model-s',\n",
       "   u'gadgets.ndtv.com/tags/model-s',\n",
       "   u'economictimes.indiatimes.com/topic/model-s',\n",
       "   u'leftlanenews.com/new-car-buying/tesla/model-s']],\n",
       " [u'model x',\n",
       "  [u'gadgets.ndtv.com/tags/model-x',\n",
       "   u'economictimes.indiatimes.com/topic/model-x',\n",
       "   u'chron.com/search/?action=search&channel=business%2ftechnology&inlinelink=1&searchindex=gsa&query=%22model+x%22',\n",
       "   u'leftlanenews.com/new-car-buying/tesla/model-x',\n",
       "   u'mashable.com/category/tesla-model-x']],\n",
       " [u'tesla',\n",
       "  [u'clarksvilleonline.com/tag/tesla',\n",
       "   u'baltimoresun.com/topic/business/automotive-industry/tesla-motors-orcrp006147-topic.html',\n",
       "   u'breitbart.com/tag/tesla',\n",
       "   u'cnet.com/au/tags/tesla',\n",
       "   u'markets.businessinsider.com/stock/tsla-quote',\n",
       "   u'macdailynews.com/tag/tesla',\n",
       "   u'cnet.com/au/collections/tesla',\n",
       "   u'economictimes.indiatimes.com/topic/tesla',\n",
       "   u'scienceworldreport.com/tags/tesla',\n",
       "   u'data.cnbc.com/quotes/tsla',\n",
       "   u'latimes.com/topic/business/automotive-industry/tesla-motors-orcrp006147-topic.html',\n",
       "   u'mashable.com/category/tesla-motors',\n",
       "   u'mic.com/topic/tesla',\n",
       "   u'independent.co.uk/topic/tesla',\n",
       "   u'wardsauto.com/taxonomy/term/53654?intlink=incontent',\n",
       "   u'motoringexposure.com/vehicle-make/tesla',\n",
       "   u'dailyrecord.co.uk/all-about/tesla',\n",
       "   u'bisnow.com/tags/tesla',\n",
       "   u'data.cnbc.com/quotes/txl-ca',\n",
       "   u'nytimes.com/topic/company/tesla-motors-inc?inline=nyt-org',\n",
       "   u'mysteriousuniverse.org/tag/tesla',\n",
       "   u'fortune.com/fortune500/tesla-motors',\n",
       "   u'iwantabuzz.com/tag/tesla',\n",
       "   u'abcnews.go.com/topics/business/automotive/tesla-motors.htm',\n",
       "   u'wired.com/tag/tesla-motors',\n",
       "   u'triplepundit.com/topic/tesla',\n",
       "   u'fox61.com/tag/tesla',\n",
       "   u'chicagotribune.com/topic/business/automotive-industry/tesla-motors-orcrp006147-topic.html',\n",
       "   u'postnewsgroup.com/blog/tag/tesla',\n",
       "   u'newsfactor.com/search.xhtml?cat_description=search&query=%22tesla%22&sort=time',\n",
       "   u'siliconbeat.com/tag/tesla',\n",
       "   u'gadgets.ndtv.com/tags/tesla',\n",
       "   u'topix.com/who/tesla',\n",
       "   u'androidcommunity.com/tag/tesla',\n",
       "   u'itworldcanada.com/tag/tesla',\n",
       "   u'sci-tech-today.com/search.xhtml?cat_description=search&query=%22tesla%22&sort=time',\n",
       "   u'dailypress.com/topic/business/automotive-industry/tesla-motors-orcrp006147-topic.html',\n",
       "   u'fortune.com/fortune500/tesla',\n",
       "   u'sandiegouniontribune.com/topic/business/automotive-industry/tesla-motors-orcrp006147-topic.html',\n",
       "   u'globalnews.ca/tag/tesla',\n",
       "   u'mashable.com/category/tesla',\n",
       "   u'wired.com/tag/tesla',\n",
       "   u'archdaily.com/tag/tesla',\n",
       "   u'macobserver.com/tag/tesla',\n",
       "   u'cnbc.com/quotes?symbol=tsla',\n",
       "   u'latimes.com/topic/business/automotive-industry/tesla-orcrp006147-topic.html',\n",
       "   u'variety.com/t/tesla',\n",
       "   u'cnet.com/uk/tags/tesla',\n",
       "   u'inverse.com/topic/tesla']],\n",
       " [u'new gigafactory',\n",
       "  [u'autonews.com/article/20170104/oem01/170109950/tesla-launches-battery-production-at-gigafactory']],\n",
       " [u'second ever profit',\n",
       "  [u'autonews.com/article/20161026/oem05/161029879/tesla-records-2nd-profit-as-public-company']],\n",
       " [u'nova',\n",
       "  [u'play.google.com/store/apps/details?id=com.teslacoilsw.launcher.prime',\n",
       "   u'dcgeologyevents.wordpress.com/category/nova',\n",
       "   u'deadline.com/tag/nova',\n",
       "   u'wtvq.com/tag/nova',\n",
       "   u'play.google.com/store/apps/details?id=com.teslacoilsw.launcher&hl=en_gb',\n",
       "   u'gerweck.net/tag/nova',\n",
       "   u'androidcentral.com/app/nova-launcher',\n",
       "   u'play.google.com/store/apps/details?id=com.teslacoilsw.launcher',\n",
       "   u'cbssports.com/fantasy/baseball/players/1655641/ivan-nova']],\n",
       " [u'autocar said',\n",
       "  [u'autocar.co.uk/car-news/new-cars/tesla-model-y-lead-ambitious-range-expansion-plans']],\n",
       " [u'slipped',\n",
       "  [u'en.wikipedia.org/wiki/tesla_model_x',\n",
       "   u'krai.com/tag/slipped',\n",
       "   u'mirror.co.uk/all-about/accidents']],\n",
       " [u'automotive new',\n",
       "  [u'autonews.com/article/20170201/oem05/170209981/tesla-drops-motors-from-its-name']],\n",
       " [u'autopilot',\n",
       "  [u'en.wikipedia.org/wiki/tesla_autopilot',\n",
       "   u'mashable.com/category/autopilot',\n",
       "   u'sci-tech-today.com/search.xhtml?cat_description=search&query=%22autopilot%22&sort=time',\n",
       "   u'extremetech.com/tag/autopilot',\n",
       "   u'breitbart.com/tag/autopilot',\n",
       "   u'newsfactor.com/search.xhtml?cat_description=search&query=%22autopilot%22&sort=time',\n",
       "   u'gadgets.ndtv.com/tags/autopilot',\n",
       "   u'en.wikipedia.org/wiki/autonomous_car#tesla_autopilot']],\n",
       " [u'tessla motors', [u'gadgets.ndtv.com/tags/tesla']],\n",
       " [u'tesla\\u2019s',\n",
       "  [u'gqindia.com/topics/tesla',\n",
       "   u'standard.co.uk/topic/tesla',\n",
       "   u'geek.com/tag/tesla']],\n",
       " [u'subscribers don\\u2019t fix what\\u2019s already broken in auto industry musk',\n",
       "  [u'theglobeandmail.com/report-on-business/rob-commentary/executive-insight/as-emission-scandal-deepens-auto-industry-pins-hopes-on-tesla/article30121212']],\n",
       " [u'tesla model x',\n",
       "  [u'chicagotribune.com/topic/business/automotive-industry/tesla-motors-orcrp006147-topic.html',\n",
       "   u'courant.com/topic/business/automotive-industry/tesla-motors-orcrp006147-topic.html',\n",
       "   u'leftlanenews.com/new-car-buying/tesla/model-x']],\n",
       " [u'tesla coils', [u'en.wikipedia.org/wiki/tesla_coil']],\n",
       " [u'check out more teslacoil software apps',\n",
       "  [u'play.google.com/store/apps/developer?id=teslacoil+software']],\n",
       " [u'google translate',\n",
       "  [u'merkur.de/lokales/muenchen-lk/garching-ort28709/spektakulaere-rettung-auf-a9-tesla-stoppt-wagen-ausser-kontrolle-7399151.html',\n",
       "   u'gadgets.ndtv.com/tags/google-translate',\n",
       "   u'androidauthority.com/tag/google-translate',\n",
       "   u'androidcommunity.com/tag/google-translate',\n",
       "   u'translate.google.com/translate?u=https%3a%2f%2ftweakers.net%2fnieuws%2f123915%2fnederlandse-rechter-apple-moet-bij-vervanging-splinternieuw-product-leveren.html&hl=en&langpair=auto|en&tbb=1&ie=iso-8859-15',\n",
       "   u'translate.google.com/#fr/en/la%20bite%20bite%20bite%20bite%20bite%20bite%20bite%20bite%20bite%20bite%20bite%20bite%20bite%20au%20cul!',\n",
       "   u'play.google.com/store/apps/details?id=com.google.android.apps.translate',\n",
       "   u'scienceworldreport.com/tags/google-translate',\n",
       "   u'play.google.com/store/apps/details?id=com.google.android.apps.translate&hl=en',\n",
       "   u'translate.google.com/translate?u=http%3a%2f%2fwww.thebell.co.kr%2ffront%2ffree%2fcontents%2fnews%2farticle_view.asp%3fkey%3d201703030100005040000306&hl=en&langpair=auto|en&tbb=1&ie=utf-8']],\n",
       " [u'ready to ship',\n",
       "  [u'autonews.com/article/20170104/oem01/170109950/tesla-launches-battery-production-at-gigafactory']],\n",
       " [u'statista',\n",
       "  [u'statista.com/chart/8379/ipo-pop-internet-companies',\n",
       "   u'statista.com/chart/8836/streaming-proportion-of-us-music-revenue',\n",
       "   u'statista.com/chart/9777/video-game-console-usage',\n",
       "   u'statista.com/chart/8660/smartphone-vs-tv-usage',\n",
       "   u'statista.com/chart/8995/netflix-international-streaming-profit',\n",
       "   u'statista.com/topics/1660/food-retail',\n",
       "   u'statista.com/chart/8420/wearable-device-shipments',\n",
       "   u'statista.com/chart/5067/main-news-source-by-generation',\n",
       "   u'statista.com/chart/6250/tesla-is-playing-the-long-game',\n",
       "   u'statista.com/chart/8861/electric-car-sales',\n",
       "   u'statista.com/chart/9695/apple-homepod-price-comparison',\n",
       "   u'statista.com/chart/9671/developer-earnings-apple-app-store',\n",
       "   u'statista.com/chart/8508/snap-vs-facebook',\n",
       "   u'statista.com/chart/9157/instagram-monthly-active-users',\n",
       "   u'statista.com/chart/7561/wireless-headphone-market-share',\n",
       "   u'statista.com/chart/8399/spotify-apple-music-paid-subscribers',\n",
       "   u'statista.com/chart/9039/ad-blocking-penetration',\n",
       "   u'statista.com/chart/4823/teenagers-favorite-social-networks',\n",
       "   u'statista.com/chart/9884/e-commerce-share-of-fmcg-sales',\n",
       "   u'statista.com/chart/9580/how-smart-are-smart-assistants',\n",
       "   u'statista.com/chart/8340/tech-ipo-longterm-performance',\n",
       "   u'statista.com/chart/8670/dominos-stock-surges',\n",
       "   u'statista.com/chart/9759/most-popular-streaming-series',\n",
       "   u'statista.com/chart/8910/prevalence-of-music-piracy',\n",
       "   u'statista.com/chart/8925/tesla-vs-gm-and-ford',\n",
       "   u'statista.com/chart/9780/4g-speed-ranking',\n",
       "   u'statista.com/chart/8633/virtual-and-augmented-reality-forecast',\n",
       "   u'statista.com/chart/8764/use-of-mobility-apps',\n",
       "   u'statista.com/chart/7445/the-costliest-natural-disasters-of-2016',\n",
       "   u'statista.com/chart/8908/video-content-budget-amazon-netflix',\n",
       "   u'statista.com/chart/5232/amazon-prime-members',\n",
       "   u'statista.com/chart/8975/suppliers-depending-on-apple',\n",
       "   u'statista.com/topics/1010/electric-mobility',\n",
       "   u'statista.com/topics/1264/super-bowl',\n",
       "   u'statista.com/chart/9799/netflix-vs-cable-pay-tv-subscribers',\n",
       "   u'statista.com/chart/8525/most-important-gaming-platforms',\n",
       "   u'statista.com/chart/8553/the-global-top-10-android-apps',\n",
       "   u'statista.com/chart/8560/gopro-financials',\n",
       "   u'statista.com/chart/9017/ibm-revenue-growth',\n",
       "   u'statista.com/topics/1598/debit-cards',\n",
       "   u'statista.com/chart/8578/iphone-sales-by-geography',\n",
       "   u'statista.com/chart/6338/nintendo-game-console-sales']],\n",
       " [u'nova launcher \\u2013 google play store',\n",
       "  [u'play.google.com/store/apps/details?id=com.teslacoilsw.launcher']],\n",
       " [u'merkur',\n",
       "  [u'merkur.de/lokales/muenchen-lk/garching-ort28709/spektakulaere-rettung-auf-a9-tesla-stoppt-wagen-ausser-kontrolle-7399151.html']],\n",
       " [u'cremated', [u'en.wikipedia.org/wiki/nikola_tesla']],\n",
       " [u'tesla configurator', [u'insideevs.com/tag/tesla-configurator']],\n",
       " [u'download action launcher 3 free',\n",
       "  [u'play.google.com/store/apps/details?id=com.teslacoilsw.launcher']],\n",
       " [u'tesla model s',\n",
       "  [u'latimes.com/topic/business/automotive-industry/tesla-motors-orcrp006147-topic.html',\n",
       "   u'orlandosentinel.com/topic/business/automotive-industry/tesla-motors-orcrp006147-topic.html',\n",
       "   u'leftlanenews.com/new-car-buying/tesla/model-s',\n",
       "   u'mashable.com/category/tesla-model-s',\n",
       "   u'latimes.com/topic/business/automotive-industry/tesla-orcrp006147-topic.html',\n",
       "   u'sandiegouniontribune.com/topic/business/automotive-industry/tesla-motors-orcrp006147-topic.html',\n",
       "   u'gadgets.ndtv.com/tags/model-s',\n",
       "   u'abcnews.go.com/topics/news/energy/electric-cars.htm']],\n",
       " [u'tesla model 3',\n",
       "  [u'mashable.com/category/tesla-model-3',\n",
       "   u'latimes.com/topic/business/automotive-industry/tesla-motors-orcrp006147-topic.html']],\n",
       " [u'model 3',\n",
       "  [u'gadgets.ndtv.com/tags/model-3',\n",
       "   u'mashable.com/category/tesla-model-3',\n",
       "   u'mashable.com/category/model-3']],\n",
       " [u'muenchner merkur',\n",
       "  [u'merkur.de/lokales/muenchen-lk/garching-ort28709/spektakulaere-rettung-auf-a9-tesla-stoppt-wagen-ausser-kontrolle-7399151.html']],\n",
       " [u'get it now on google play',\n",
       "  [u'play.google.com/store/apps/details?id=com.daamitt.walnut.app',\n",
       "   u'play.google.com/store/apps/details?id=org.zooper.zwfree',\n",
       "   u'play.google.com/store/apps/details?id=it.rignanese.leo.slimfacebook',\n",
       "   u'play.google.com/store/apps/details?id=rpkandrodev.yaata',\n",
       "   u'play.google.com/store/apps/details?id=com.blodhgard.easybudget',\n",
       "   u'play.google.com/store/apps/details?id=com.sidheinteractive.sif.dr',\n",
       "   u'play.google.com/store/apps/details?id=com.bzzzapp',\n",
       "   u'play.google.com/store/apps/details?id=com.scopely.headshot',\n",
       "   u'play.google.com/store/apps/details?id=com.aitype.android',\n",
       "   u'play.google.com/store/apps/details?id=com.antivirus',\n",
       "   u'play.google.com/store/apps/details?id=org.mozilla.firefox',\n",
       "   u'play.google.com/store/apps/details?id=com.aws.android',\n",
       "   u'play.google.com/store/apps/details?id=com.waze',\n",
       "   u'play.google.com/store/apps/details?id=com.google.android.inputmethod.latin',\n",
       "   u'play.google.com/store/apps/details?id=mobi.appplus.hilocker',\n",
       "   u'play.google.com/store/apps/details?id=com.ninjakiwi.bloonstd5',\n",
       "   u'play.google.com/store/apps/details?id=bn.ereader',\n",
       "   u'play.google.com/store/apps/details?id=kl.ime.oh',\n",
       "   u'play.google.com/store/apps/details?id=com.jb.gosms',\n",
       "   u'play.google.com/store/apps/details?id=com.obreey.reader',\n",
       "   u'play.google.com/store/apps/details?id=com.ucmobile.intl',\n",
       "   u'play.google.com/store/apps/details?id=com.fenritz.safecam',\n",
       "   u'play.google.com/store/apps/details?id=com.dotemu.neogeo.samsho2',\n",
       "   u'play.google.com/store/apps/details?id=com.sygic.aura',\n",
       "   u'play.google.com/store/apps/details?id=arun.com.chromer',\n",
       "   u'play.google.com/store/apps/details?id=co.loklok',\n",
       "   u'play.google.com/store/apps/details?id=com.kakao.talk',\n",
       "   u'play.google.com/store/apps/details?id=com.explusalpha.c64emu',\n",
       "   u'play.google.com/store/apps/details?id=com.p1.chompsms',\n",
       "   u'play.google.com/store/apps/dev?id=5156685669113307397',\n",
       "   u'play.google.com/store/apps/details?id=com.dlto.atom.launcher',\n",
       "   u'play.google.com/store/apps/details?id=com.xsszzmate.emu2600',\n",
       "   u'play.google.com/store/apps/details?id=com.fastemulator.gba',\n",
       "   u'play.google.com/store/apps/details?id=photo.gallery',\n",
       "   u'play.google.com/store/apps/details?id=com.kpmoney.android',\n",
       "   u'play.google.com/store/apps/details?id=com.maxmpz.audioplayer',\n",
       "   u'play.google.com/store/apps/details?id=com.mint',\n",
       "   u'play.google.com/store/apps/details?id=com.teslacoilsw.launcher',\n",
       "   u'play.google.com/store/apps/details?id=com.oddworld.munch',\n",
       "   u'play.google.com/store/apps/details?id=com.fevdev.nakedbrowser',\n",
       "   u'play.google.com/store/apps/details?id=com.qiigame.flocker.global',\n",
       "   u'play.google.com/store/apps/details?id=com.namcobandaigames.soulcaliburgp',\n",
       "   u'play.google.com/store/apps/details?id=com.nextgames.android.twd',\n",
       "   u'play.google.com/store/apps/details?id=com.portableandroid.classicboylite',\n",
       "   u'play.google.com/store/apps/details?id=com.yodo1.crossyroad',\n",
       "   u'play.google.com/store/apps/details?id=ca.halsafar.genesisdroid',\n",
       "   u'play.google.com/store/apps/details?id=com.fstop.photo',\n",
       "   u'play.google.com/store/apps/details?id=com.playmotionsg.ironkill',\n",
       "   u'play.google.com/store/apps/details?id=com.google.android.apps.photos',\n",
       "   u'play.google.com/store/apps/details?id=yo.app.free',\n",
       "   u'play.google.com/store/apps/details?id=com.amazon.kindle',\n",
       "   u'play.google.com/store/apps/details?id=in.smsoft.justremind',\n",
       "   u'play.google.com/store/apps/details?id=com.neutroncode.mpeval',\n",
       "   u'play.google.com/store/apps/details?id=com.tencent.mm',\n",
       "   u'play.google.com/store/apps/details?id=com.sixthsolution.weatherwiz',\n",
       "   u'play.google.com/store/apps/details?id=com.fastemulator.gbc',\n",
       "   u'play.google.com/store/apps/details?id=com.moistrue.zombiesmasher',\n",
       "   u'play.google.com/store/apps/details?id=com.goodgorgon.gamegens',\n",
       "   u'play.google.com/store/apps/details?id=com.google.android.apps.plus',\n",
       "   u'play.google.com/store/apps/details?id=com.avast.android.mobilesecurity',\n",
       "   u'play.google.com/store/apps/details?id=com.google.android.apps.maps',\n",
       "   u'play.google.com/store/apps/details?id=com.bubblezapgames.supergnes',\n",
       "   u'play.google.com/store/apps/details?id=kr.co.ladybugs.fourto',\n",
       "   u'play.google.com/store/apps/details?id=com.urbandroid.sleep',\n",
       "   u'play.google.com/store/apps/details?id=org.coolreader',\n",
       "   u'play.google.com/store/apps/details?id=home.solo.launcher.free',\n",
       "   u'play.google.com/store/apps/details?id=com.google.android.keep',\n",
       "   u'play.google.com/store/apps/details?id=tunein.player',\n",
       "   u'play.google.com/store/apps/details?id=com.payneservices.lifereminders',\n",
       "   u'play.google.com/store/apps/details?id=com.kodarkooperativet.blackplayerfree',\n",
       "   u'play.google.com/store/apps/details?id=com.mapquest.android.ace',\n",
       "   u'play.google.com/store/apps/details?id=com.aldiko.android',\n",
       "   u'play.google.com/store/apps/details?id=com.eamobile.nbajam_na_wf',\n",
       "   u'play.google.com/store/apps/details?id=com.facebook.orca',\n",
       "   u'play.google.com/store/apps/details?id=com.nostalgiaemulators.nesfull',\n",
       "   u'play.google.com/store/apps/details?id=com.gameresort.sz3',\n",
       "   u'play.google.com/store/apps/details?id=org.adw.launcher',\n",
       "   u'play.google.com/store/apps/details?id=com.flyersoft.moonreader',\n",
       "   u'play.google.com/store/apps/details?id=com.spotify.music',\n",
       "   u'play.google.com/store/apps/details?id=com.xvideostudio.videoeditorprofree',\n",
       "   u'play.google.com/store/apps/details?id=com.microsoft.launcher',\n",
       "   u'play.google.com/store/apps/details?id=com.textra',\n",
       "   u'play.google.com/store/apps/details?id=com.n7mobile.nplayer',\n",
       "   u'play.google.com/store/apps/details?id=ginlemon.flowerfree',\n",
       "   u'play.google.com/store/apps/details?id=com.google.android.apps.books',\n",
       "   u'play.google.com/store/apps/details?id=com.retroarch',\n",
       "   u'play.google.com/store/apps/details?id=com.google.android.music',\n",
       "   u'play.google.com/store/apps/details?id=com.origin8.sentinel4',\n",
       "   u'play.google.com/store/apps/details?id=com.projectrockofficial.rockclock',\n",
       "   u'play.google.com/store/apps/details?id=com.anddoes.launcher',\n",
       "   u'play.google.com/store/apps/details?id=com.ea.game.pvz2_na',\n",
       "   u'play.google.com/store/apps/details?id=org.malwarebytes.antimalware',\n",
       "   u'play.google.com/store/apps/details?id=com.thinkyeah.galleryvault',\n",
       "   u'play.google.com/store/apps/dev?id=8026010256970589886',\n",
       "   u'play.google.com/store/apps/details?id=com.simplecity.amp_pro',\n",
       "   u'play.google.com/store/apps/details?id=com.dsemu.drastic',\n",
       "   u'play.google.com/store/apps/details?id=com.klinker.android.evolve_sms',\n",
       "   u'play.google.com/store/apps/details?id=com.jiinfeng3d.bfrdemo',\n",
       "   u'play.google.com/store/apps/details?id=com.paranoiaworks.unicus.android.sse',\n",
       "   u'play.google.com/store/apps/details?id=com.doublelabs.androscreen.echo',\n",
       "   u'play.google.com/store/apps/details?id=com.rhmsoft.pulsar',\n",
       "   u'play.google.com/store/apps/details?id=com.cloudmosa.puffinfb',\n",
       "   u'play.google.com/store/apps/developer?id=dlto',\n",
       "   u'play.google.com/store/apps/details?id=com.gtp.nextlauncher.trial',\n",
       "   u'play.google.com/store/apps/details?id=com.elevenbitstudios.anomaly2game',\n",
       "   u'play.google.com/store/apps/details?id=com.zoiper.android.app',\n",
       "   u'play.google.com/store/apps/details?id=com.google.android.apps.messaging',\n",
       "   u'play.google.com/store/apps/details?id=com.moblynx.galleryics',\n",
       "   u'play.google.com/store/apps/details?id=droom.sleepifucan&hl=en',\n",
       "   u'play.google.com/store/apps/details?id=com.bitdefender.antivirus',\n",
       "   u'play.google.com/store/apps/details?id=com.mycolorscreen.themer',\n",
       "   u'play.google.com/store/apps/details?id=com.ztapps.lockermaster',\n",
       "   u'play.google.com/store/apps/details?id=com.jb.zerosms',\n",
       "   u'play.google.com/store/apps/details?id=com.badflyinteractive.deadeffect2',\n",
       "   u'play.google.com/store/apps/details?id=com.mapfactor.navigator',\n",
       "   u'play.google.com/store/apps/details?id=com.touchtype.swiftkey',\n",
       "   u'play.google.com/store/apps/details?id=com.accuweather.android',\n",
       "   u'play.google.com/store/apps/dev?id=7086639890153802127',\n",
       "   u'play.google.com/store/apps/developer?id=best+android+themes+workshop',\n",
       "   u'play.google.com/store/apps/details?id=jp.naver.line.android',\n",
       "   u'play.google.com/store/apps/details?id=org.geometerplus.zlibrary.ui.android',\n",
       "   u'play.google.com/store/apps/details?id=com.crittermap.backcountrynavigator.license',\n",
       "   u'play.google.com/store/apps/details?id=com.realbyteapps.moneymanagerfree',\n",
       "   u'play.google.com/store/apps/details?id=com.snoggdoggler.android.applications.doggcatcher.v1_0',\n",
       "   u'play.google.com/store/apps/details?id=org.ppsspp.ppssppgold',\n",
       "   u'play.google.com/store/apps/details?id=com.gau.go.launcherex',\n",
       "   u'play.google.com/store/apps/details?id=com.here.app.maps',\n",
       "   u'play.google.com/store/apps/details?id=com.androhelm.antivirus.free',\n",
       "   u'play.google.com/store/apps/details?id=com.syntellia.fleksy.keyboard',\n",
       "   u'play.google.com/store/apps/details?id=com.facebook.katana',\n",
       "   u'play.google.com/store/apps/details?id=com.financial.calculator',\n",
       "   u'play.google.com/store/apps/details?id=com.nival.pwdefenders',\n",
       "   u'play.google.com/store/apps/details?id=com.limbic.towermadness2',\n",
       "   u'play.google.com/store/apps/details?id=com.opera.browser',\n",
       "   u'play.google.com/store/apps/details?id=com.bookmark.money',\n",
       "   u'play.google.com/store/apps/details?id=com.zuimeia.suite.lockscreen.international',\n",
       "   u'play.google.com/store/apps/details?id=com.bitlit.android&hl=en',\n",
       "   u'play.google.com/store/apps/developer?id=ironhide+game+studio',\n",
       "   u'play.google.com/store/apps/details?id=org.withouthat.acalendar',\n",
       "   u'play.google.com/store/apps/details?id=com.drweb.pro',\n",
       "   u'play.google.com/store/apps/details?id=com.anydo',\n",
       "   u'play.google.com/store/apps/details?id=com.stitcher.app',\n",
       "   u'play.google.com/store/apps/details?id=com.yahoo.mobile.client.android.weather',\n",
       "   u'play.google.com/store/apps/details?id=com.viber.voip',\n",
       "   u'play.google.com/store/apps/details?id=in.vineetsirohi.customwidget',\n",
       "   u'play.google.com/store/apps/details?id=ait.podka',\n",
       "   u'play.google.com/store/apps/details?id=com.soundcloud.android',\n",
       "   u'play.google.com/store/apps/details?id=com.lookout',\n",
       "   u'play.google.com/store/apps/details?id=com.elevenbitstudios.twommobile',\n",
       "   u'play.google.com/store/apps/details?id=com.snrblabs.grooveip',\n",
       "   u'play.google.com/store/apps/details?id=com.ghostery.android.ghostery',\n",
       "   u'play.google.com/store/apps/details?id=image.photoedit.photogallery',\n",
       "   u'play.google.com/store/apps/details?id=kik.android',\n",
       "   u'play.google.com/store/apps/details?id=com.innotools.locker',\n",
       "   u'play.google.com/store/apps/details?id=com.wunderground.android.weather',\n",
       "   u'play.google.com/store/apps/details?id=com.gamelounge.chroomakeyboard',\n",
       "   u'play.google.com/store/apps/developer?id=zt.art',\n",
       "   u'play.google.com/store/apps/details?id=com.jyaif.pewpew2',\n",
       "   u'play.google.com/store/apps/dev?id=8663477108975404679',\n",
       "   u'play.google.com/store/apps/details?id=com.tumblr',\n",
       "   u'play.google.com/store/apps/details?id=com.emulator.fpse',\n",
       "   u'play.google.com/store/apps/details?id=com.kobobooks.android',\n",
       "   u'play.google.com/store/apps/details?id=com.outerminds.pewdiepie',\n",
       "   u'play.google.com/store/apps/details?id=com.ninja.sms.promo',\n",
       "   u'play.google.com/store/apps/details?id=com.tul.aviate',\n",
       "   u'play.google.com/store/apps/details?id=app.fastfacebook.com',\n",
       "   u'play.google.com/store/apps/details?id=pl.idreams.jellydefense',\n",
       "   u'play.google.com/store/apps/details?id=com.kms.free',\n",
       "   u'play.google.com/store/apps/developer?id=brave+software',\n",
       "   u'play.google.com/store/apps/details?id=com.mantano.reader.android.lite',\n",
       "   u'play.google.com/store/apps/details?id=com.handmark.expressweather',\n",
       "   u'play.google.com/store/apps/details?id=com.magicjack',\n",
       "   u'play.google.com/store/apps/dev?id=7011602286991914118',\n",
       "   u'play.google.com/store/apps/details?id=com.android.chrome',\n",
       "   u'play.google.com/store/apps/details?id=com.mictale.gpsessentials',\n",
       "   u'play.google.com/store/apps/details?id=com.google.android.apps.fireball',\n",
       "   u'play.google.com/store/apps/details?id=org.ebookdroid',\n",
       "   u'play.google.com/store/apps/details?id=com.hola.launcher',\n",
       "   u'play.google.com/store/apps/details?id=com.nokia.z',\n",
       "   u'play.google.com/store/apps/details?id=net.nurik.roman.dashclock',\n",
       "   u'play.google.com/store/apps/details?id=com.whatsapp',\n",
       "   u'play.google.com/store/apps/details?id=com.lx.launcher8',\n",
       "   u'play.google.com/store/apps/details?id=com.diune.pictures',\n",
       "   u'play.google.com/store/apps/developer?id=gameloft',\n",
       "   u'play.google.com/store/apps/details?id=com.fullreader',\n",
       "   u'play.google.com/store/apps/details?id=com.leosfortune',\n",
       "   u'play.google.com/store/apps/details?id=net.pierrox.lightning_launcher_extreme',\n",
       "   u'play.google.com/store/apps/details?id=com.google.android.talk',\n",
       "   u'play.google.com/store/apps/details?id=com.achep.acdisplay',\n",
       "   u'play.google.com/store/apps/details?id=com.meecel.feedreader.rssdemonad',\n",
       "   u'play.google.com/store/apps/details?id=com.evernote',\n",
       "   u'play.google.com/store/apps/details?id=com.bambuna.podcastaddict',\n",
       "   u'play.google.com/store/apps/details?id=com.handyapps.expenseiq',\n",
       "   u'play.google.com/store/apps/details?id=com.melesta.toydefense2',\n",
       "   u'play.google.com/store/apps/details?id=com.radiangames.inferno2',\n",
       "   u'play.google.com/store/apps/details?id=org.thoughtcrime.securesms',\n",
       "   u'play.google.com/store/apps/details?id=com.weather.weather',\n",
       "   u'play.google.com/store/apps/details?id=com.jetappfactory.jetaudioplus',\n",
       "   u'play.google.com/store/apps/details?id=com.monefy.app.lite',\n",
       "   u'play.google.com/store/apps/details?id=com.nam.fbwrapper',\n",
       "   u'play.google.com/store/apps/details?id=com.aspieapps.free.emulator',\n",
       "   u'play.google.com/store/apps/details?id=com.moez.qksms',\n",
       "   u'play.google.com/store/apps/details?id=com.telenav.app.android.scout_us',\n",
       "   u'play.google.com/store/apps/details?id=com.mobiloucos2.pegaladrao',\n",
       "   u'play.google.com/store/apps/details?id=com.apalon.alarmclock.smart',\n",
       "   u'play.google.com/store/apps/details?id=com.wsandroid.suite',\n",
       "   u'play.google.com/store/apps/details?id=com.qihoo.security',\n",
       "   u'play.google.com/store/apps/details?id=net.defensezone2',\n",
       "   u'play.google.com/store/apps/details?id=me.jakelane.wrapperforfacebook',\n",
       "   u'play.google.com/store/apps/details?id=com.microsoft.androidapps.picturesque',\n",
       "   u'play.google.com/store/apps/details?id=com.kog.alarmclock',\n",
       "   u'play.google.com/store/apps/details?id=com.avira.android',\n",
       "   u'play.google.com/store/apps/details?id=com.alarmclock.xtreme.free',\n",
       "   u'play.google.com/store/apps/details?id=com.johnemulators.johngbc',\n",
       "   u'play.google.com/store/apps/details?id=com.symantec.mobilesecurity',\n",
       "   u'play.google.com/store/apps/details?id=com.discipleskies.android.polarisnavigation',\n",
       "   u'play.google.com/store/apps/details?id=com.loyalgroupenterprise.tendo64android',\n",
       "   u'play.google.com/store/apps/details?id=com.mobisystems.ubreader_west',\n",
       "   u'play.google.com/store/apps/details?id=com.wb.goog.injustice',\n",
       "   u'play.google.com/store/apps/details?id=com.auxbrain.zh2',\n",
       "   u'play.google.com/store/apps/details?id=com.microsoft.next',\n",
       "   u'play.google.com/store/apps/details?id=ch.bitspin.timely',\n",
       "   u'play.google.com/store/apps/details?id=com.trustgo.mobile.security',\n",
       "   u'play.google.com/store/apps/details?id=au.com.shiftyjelly.pocketcasts',\n",
       "   u'play.google.com/store/apps/details?id=com.handcent.app.nextsms',\n",
       "   u'play.google.com/store/apps/details?id=com.ventismedia.android.mediamonkey',\n",
       "   u'play.google.com/store/apps/details?id=com.eset.ems2.gp',\n",
       "   u'play.google.com/store/apps/details?id=mobi.mgeek.tunnybrowser',\n",
       "   u'play.google.com/store/apps/details?id=com.actionlauncher.playstore',\n",
       "   u'play.google.com/store/apps/details?id=com.celltick.lockscreen',\n",
       "   u'play.google.com/store/apps/details?id=com.danvelazco.fbwrapper',\n",
       "   u'play.google.com/store/apps/details?id=com.underwood.calendar_beta',\n",
       "   u'play.google.com/store/apps/details?id=com.explusalpha.mdemu',\n",
       "   u'play.google.com/store/apps/details?id=com.mobint.locker',\n",
       "   u'play.google.com/store/apps/details?id=com.neverland.alreader',\n",
       "   u'play.google.com/store/apps/details?id=com.nuance.swype.trial',\n",
       "   u'play.google.com/store/apps/details?id=com.madfingergames.unkilled',\n",
       "   u'play.google.com/store/apps/dev?id=6306203537800573543&hl=en',\n",
       "   u'play.google.com/store/apps/details?id=com.bbm',\n",
       "   u'play.google.com/store/apps/details?id=com.reddit.frontpage',\n",
       "   u'play.google.com/store/apps/details?id=com.skype.raider',\n",
       "   u'play.google.com/store/apps/details?id=net.almorabea.cryptoghost',\n",
       "   u'play.google.com/store/apps/details?id=com.ea.games.r3_na',\n",
       "   u'play.google.com/store/apps/details?id=com.google.android.googlequicksearchbox',\n",
       "   u'play.google.com/store/apps/details?id=com.cleanmaster.security',\n",
       "   u'play.google.com/store/apps/details?id=com.namcobandaigames.soulcaliburgp&hl=en',\n",
       "   u'play.google.com/store/apps/details?id=com.amdroidalarmclock.amdroid',\n",
       "   u'play.google.com/store/apps/details?id=com.whirlscape.minuumfree',\n",
       "   u'play.google.com/store/apps/details?id=com.malangstudio.alarmmon',\n",
       "   u'play.google.com/store/apps/details?id=com.tbig.playerpro',\n",
       "   u'play.google.com/store/apps/details?id=com.inxile.bardtale&hl=en',\n",
       "   u'play.google.com/store/apps/details?id=net.cdeguet.smartkeyboardtrial',\n",
       "   u'play.google.com/store/apps/details?id=com.happening.studios.swipeforfacebookfree',\n",
       "   u'play.google.com/store/apps/details?id=ru.orangesoftware.financisto',\n",
       "   u'play.google.com/store/apps/details?id=com.gau.go.launcherex.gowidget.weatherwidget',\n",
       "   u'play.google.com/store/apps/details?id=com.vroovy.brothersthegame',\n",
       "   u'play.google.com/store/apps/details?id=com.jb.emoji.gokeyboard',\n",
       "   u'play.google.com/store/apps/details?id=org.buffer.android',\n",
       "   u'play.google.com/store/apps/details?id=com.yx.boxinghero',\n",
       "   u'play.google.com/store/apps/details?id=com.jiubang.goscreenlock',\n",
       "   u'play.google.com/store/apps/details?id=org.kustom.wallpaper&hl=en',\n",
       "   u'play.google.com/store/apps/details?id=mobi.beyondpod',\n",
       "   u'play.google.com/store/apps/details?id=com.flynx',\n",
       "   u'play.google.com/store/apps/details?id=com.franco.focus',\n",
       "   u'play.google.com/store/apps/details?id=com.vividgames.realboxing2']],\n",
       " [u'tesla motors inc',\n",
       "  [u'firmenpresse.de/directory/515606/tesla-motors-inc.html',\n",
       "   u'gadgets.ndtv.com/tags/tesla']],\n",
       " [u'elon musk',\n",
       "  [u'vanityfair.com/people/elon-musk#intcid=dt-hot-link',\n",
       "   u'bisnow.com/tags/elon-musk',\n",
       "   u'cnet.com/au/tags/elon-musk',\n",
       "   u'siliconvalley.com/topics?elon%20musk',\n",
       "   u'indiaretailing.com/tag/elon-musk',\n",
       "   u'sci-tech-today.com/search.xhtml?cat_description=search&query=%22elon+musk%22&sort=time',\n",
       "   u'mashable.com/category/elon-musk',\n",
       "   u'dailydot.com/tags/elon-musk',\n",
       "   u'chron.com/search/?action=search&channel=business%2ftechnology&inlinelink=1&searchindex=gsa&query=%22elon+musk%22',\n",
       "   u'wired.com/tag/elon-musk',\n",
       "   u'macdailynews.com/tag/elon-musk',\n",
       "   u'time100.time.com/2013/04/18/time-100/slide/elon-musk',\n",
       "   u'forbes.com/profile/elon-musk',\n",
       "   u'newatlas.com/tag/elon-musk',\n",
       "   u'independent.co.uk/topic/elon-musk',\n",
       "   u'lexleader.net/tag/elon-musk',\n",
       "   u'uproxx.com/tag/elon-musk',\n",
       "   u'baltimoresun.com/topic/business/elon-musk-pebsl000988-topic.html',\n",
       "   u'messenger.com/t/askelonmusk',\n",
       "   u'commercialrecord.com/tag/elon-musk',\n",
       "   u'pagesix.com/tag/elon-musk',\n",
       "   u'lamag.com/tag/elon-musk',\n",
       "   u'impactlab.net/category/elon-musk',\n",
       "   u'latimes.com/topic/business/elon-musk-pebsl000988-topic.html',\n",
       "   u'business.financialpost.com/tag/elon-musk',\n",
       "   u'mcall.com/topic/business/elon-musk-pebsl000988-topic.html',\n",
       "   u'chicagotribune.com/topic/business/elon-musk-pebsl000988-topic.html',\n",
       "   u'newatlas.com/elon-musk-mars-speech/45645',\n",
       "   u'inverse.com/topic/elon-musk',\n",
       "   u'newsfactor.com/search.xhtml?cat_description=search&query=%22elon+musk%22&sort=time',\n",
       "   u'orlandosentinel.com/topic/business/elon-musk-pebsl000988-topic.html',\n",
       "   u'globalnews.ca/tag/elon-musk',\n",
       "   u'sandiegouniontribune.com/topic/business/elon-musk-pebsl000988-topic.html',\n",
       "   u'courant.com/topic/business/elon-musk-pebsl000988-topic.html',\n",
       "   u'merkur.de/lokales/muenchen-lk/garching-ort28709/spektakulaere-rettung-auf-a9-tesla-stoppt-wagen-ausser-kontrolle-7399151.html',\n",
       "   u'upi.com/topic/elon_musk',\n",
       "   u'people.com/tag/elon-musk',\n",
       "   u'bizjournals.com/sanfrancisco/search/results?q=elon%20musk',\n",
       "   u'vanityfair.com/people/elon-musk',\n",
       "   u'economictimes.indiatimes.com/topic/elon-musk',\n",
       "   u'cityam.com/people/elon-musk',\n",
       "   u'mirror.co.uk/all-about/elon-musk',\n",
       "   u'variety.com/t/elon-musk',\n",
       "   u'huffingtonpost.com/topic/elon-musk',\n",
       "   u'autoblog.com/tag/elon+musk',\n",
       "   u'cnet.com/uk/tags/elon-musk',\n",
       "   u'washingtontimes.com/topics/elon-musk',\n",
       "   u'sun-sentinel.com/topic/business/elon-musk-pebsl000988-topic.html',\n",
       "   u'standard.co.uk/topic/elon-musk',\n",
       "   u'news.nationalpost.com/tag/elon-musk',\n",
       "   u'en.wikipedia.org/wiki/elon_musk',\n",
       "   u'radaronline.com/tag/elon-musk',\n",
       "   u'gadgets.ndtv.com/tags/elon-musk',\n",
       "   u'mic.com/topic/elon-musk',\n",
       "   u'breitbart.com/tag/elon-musk',\n",
       "   u'tmz.com/person/elon-musk',\n",
       "   u'cnet.com/tags/elon-musk',\n",
       "   u'justjared.com/tags/elon-musk',\n",
       "   u'abcnews.go.com/topics/business/ceos/elon-musk.htm',\n",
       "   u'universetoday.com/tag/elon-musk',\n",
       "   u'chron.com/search/?action=search&channel=news%2ftexas&inlinelink=1&searchindex=gsa&query=%22elon+musk%22',\n",
       "   u'fox61.com/tag/elon-musk']],\n",
       " [u'tesla inc',\n",
       "  [u'economictimes.indiatimes.com/topic/tesla-inc',\n",
       "   u'bloomberg.com/quote/tsla:us',\n",
       "   u'en.wikipedia.org/wiki/tesla,_inc.',\n",
       "   u'nashvilleledger.com/nasearch.aspx?ln=tesla&redir=1',\n",
       "   u'latimes.com/topic/business/automotive-industry/tesla-orcrp006147-topic.html',\n",
       "   u'business.financialpost.com/tag/tesla-inc',\n",
       "   u'gadgets.ndtv.com/tags/tesla',\n",
       "   u'globalnews.ca/tag/tesla',\n",
       "   u'markets.businessinsider.com/stock/tsla-quote']],\n",
       " [u'google play store',\n",
       "  [u'play.google.com/store/apps/details?id=com.snei.vue.android',\n",
       "   u'play.google.com/store/apps/details?id=com.bluewizard.slayawaycamp',\n",
       "   u'play.google.com/store/apps/details?id=com.google.toontastic',\n",
       "   u'play.google.com/store/apps/details?id=com.hasbro.playdohtouch',\n",
       "   u'play.google.com/store/apps/details?id=com.headupgames.deadage',\n",
       "   u'play.google.com/store/apps/details?id=com.robotogames.ageofrivals&hl=en',\n",
       "   u'play.google.com/store/apps/details?id=com.lightarc.castle',\n",
       "   u'play.google.com/store/apps/details?id=tv.telepathic.hooked&hl=en',\n",
       "   u'play.google.com/store/apps/details?id=mobi.lockdown.weather',\n",
       "   u'play.google.com/store/apps/details?id=kwang.won.com.boycotttrump&hl=en',\n",
       "   u'ctt.marketwire.com/?release=1303619&id=11423500&type=1&url=https%3a%2f%2fplay.google.com%2fstore%2fapps%2fdetails%3fid%3dcom.finjan.securebrowser%26hl%3den',\n",
       "   u'play.google.com/store/apps/details?id=com.vsco.cam&hl=en',\n",
       "   u'play.google.com/store/apps/details?id=com.hmdglobal.support&hl=en',\n",
       "   u'play.google.com/store/apps/details?id=com.dmhxaq.kjdashkl',\n",
       "   u'play.google.com/store/apps/details?id=jp.konami.duellinks&rdid=jp.konami.duellinks',\n",
       "   u'play.google.com/store/apps/details?id=com.logictree.wichitapd&hl=en',\n",
       "   u'play.google.com/store/apps/details?id=com.nianticlabs.pokemongo&hl=en',\n",
       "   u'play.google.com/store/apps/details?id=com.ketchapp.ballz&hl=en',\n",
       "   u'play.google.com/store/apps/details?id=com.appsolutegames.mrfutureninja&hl=en',\n",
       "   u'play.google.com/store/apps/details?id=org.xbmc.kodi',\n",
       "   u'play.google.com/store/apps/details?id=com.foxeigflash.localtv#?t=w251bgwsmswxldixmiwiy29tlmzvegvpz2zsyxnolmxvy2fsdhyixq..',\n",
       "   u'play.google.com/store/apps/details?id=com.benchevoor.huepro',\n",
       "   u'play.google.com/store/apps/details?id=nl.noio.kingdom',\n",
       "   u'play.google.com/store/apps/details?id=com.gameloft.android.anmp.glofta8hm&hl=en',\n",
       "   u'play.google.com/store/apps/details?id=com.sec.galaxy.unpacked&hl=en',\n",
       "   u'play.google.com/store/info/topic?id=merch_topic_30028d2_playwards2017_nomineestp&e=-enableappdetailspageredesign',\n",
       "   u'play.google.com/store/apps/details?id=jp.co.capcom.mobileikusawd',\n",
       "   u'play.google.com/store/apps/details?id=com.kinkd.fetlifestyle',\n",
       "   u'play.google.com/store/apps/details?id=com.sugarlock.sugarlock',\n",
       "   u'play.google.com/store/apps/details?id=com.glasswire.android',\n",
       "   u'play.google.com/store/apps/details?id=com.hamelin.wanapp&hl=en',\n",
       "   u'play.google.com/store/apps/details?id=com.microsoft.teams',\n",
       "   u'play.google.com/store/apps/details?id=com.familyhawk.app',\n",
       "   u'play.google.com/store/apps/details?id=com.microsoft.faceswap',\n",
       "   u'play.google.com/store/apps/details?id=com.mojang.minecraftpe&hl=en',\n",
       "   u'play.google.com/store/apps/details?id=org.prowl.torque&hl=en',\n",
       "   u'play.google.com/store/apps/details?id=com.google.android.apps.messaging',\n",
       "   u'play.google.com/store/apps/details?id=com.goopcityguide',\n",
       "   u'play.google.com/store/apps/details?id=de.foodora.android&hl=en',\n",
       "   u'play.google.com/store/apps/details?id=com.microsoft.office.outlook',\n",
       "   u'play.google.com/store/apps/details?id=com.nintendo.zaba&hl=en',\n",
       "   u'play.google.com/store/apps/details?id=com.samsung.android.lool&hl=en',\n",
       "   u'play.google.com/store/apps/details?id=com.google.android.apps.ondemand.consumer',\n",
       "   u'play.google.com/store/apps/details?id=com.google.android.apps.meetings',\n",
       "   u'play.google.com/store/apps/details?id=air.com.sgn.familyguy.gp',\n",
       "   u'play.google.com/store/apps/details?id=com.webzen.muorigin.global.google',\n",
       "   u'play.google.com/store/movies/details/american_honey?id=i4cnll1x52w',\n",
       "   u'play.google.com/store/apps/details?id=com.n7mobile.nplayer&hl=en',\n",
       "   u'play.google.com/store/apps/details?id=com.datanasov.popupvideo',\n",
       "   u'play.google.com/store/apps/details?id=com.google.android.apps.googlevoice&hl=en',\n",
       "   u'play.google.com/store/apps/details?id=com.phoenixstudios.aiogestures&hl=en_gb',\n",
       "   u'play.google.com/store/apps/details?id=com.herocraft.game.tempest',\n",
       "   u'play.google.com/store/apps/details?id=com.coremobile.now',\n",
       "   u'play.google.com/store/apps/details?id=com.fansided.kingjamesgospel',\n",
       "   u'play.google.com/store/apps/details?id=com.beamdog.pstee',\n",
       "   u'play.google.com/store/apps/details?id=com.fender.tuner',\n",
       "   u'play.google.com/store/apps/details?id=com.playmotiveltd.tidalrider&hl=en',\n",
       "   u'androidguys.com/tag/google-play-store',\n",
       "   u'play.google.com/store/apps/details?id=com.bbm',\n",
       "   u'play.google.com/store/apps/details?id=com.starbucks.mobilecard',\n",
       "   u'play.google.com/store/apps/details?id=com.kabam.bigrobot',\n",
       "   u'play.google.com/store/apps/details?id=com.samsung.android.galaxycontinuity',\n",
       "   u'play.google.com/store/apps/details?id=com.nintendo.zara&hl=en',\n",
       "   u'play.google.com/store/books/details/dmitri_popov_linux_photography?id=co70cwaaqbaj',\n",
       "   u'play.google.com/store/apps/details?id=com.ootpdevelopments.mlbm2017',\n",
       "   u'play.google.com/store/apps/details?id=com.yahoo.mobile.client.android.im',\n",
       "   u'play.google.com/store/apps/details?id=com.topps.walkingdead&hl=en',\n",
       "   u'play.google.com/store/apps/details?id=com.hopper.mountainview.play&hl=en',\n",
       "   u'play.google.com/store/apps/details?id=com.square_enix.android_googleplay.khuxww',\n",
       "   u'play.google.com/store/apps/details?id=com.team17.escapists&hl=en',\n",
       "   u'play.google.com/store/apps/details?id=com.twistapp',\n",
       "   u'play.google.com/store/apps/details?id=com.teamflow.runordie',\n",
       "   u'play.google.com/store/apps/details?id=com.overthetopgames.fancypants',\n",
       "   u'play.google.com/store/apps/details?id=com.cigames.lotfbof&hl=en',\n",
       "   u'play.google.com/store/apps/details?id=com.microsoft.exchange.bookings',\n",
       "   u'play.google.com/store/apps/details?id=com.bethsoft.theelderscrollslegends',\n",
       "   u'play.google.com/store/apps/details?id=com.avai.amp.nyfw',\n",
       "   u'play.google.com/store/apps/details?id=org.sanfordharmony.harmonymobile',\n",
       "   u'play.google.com/store/apps/details?id=com.touchtype.swiftkey&hl=en',\n",
       "   u'play.google.com/store/apps/dev?id=5779761635682790559&hl=en',\n",
       "   u'play.google.com/store/apps/details?id=com.google.android.apps.photos&hl=en',\n",
       "   u'play.google.com/store/apps/details?id=com.nvidia.squareenix.tombraider2013',\n",
       "   u'play.google.com/store/apps/details?id=com.netease.immortalconquest',\n",
       "   u'play.google.com/store/apps/details?id=com.samsung.knox.securefolder',\n",
       "   u'play.google.com/store/apps/details?id=com.taxsmart.candid',\n",
       "   u'ctt.marketwire.com/?release=1303619&id=11423497&type=1&url=https%3a%2f%2fplay.google.com%2fstore%2fapps%2fdetails%3fid%3dcom.finjan.securebrowser%26hl%3den',\n",
       "   u'play.google.com/store/apps/details?id=com.netmarble.revolutionthm',\n",
       "   u'play.google.com/store/apps/details?id=com.google.android.apps.walletnfcrel&hl=en',\n",
       "   u'play.google.com/store/apps/details?id=com.nitramite.cryptography&hl=en',\n",
       "   u'play.google.com/store/apps/details?id=com.microsoft.cortana&hl=en',\n",
       "   u'play.google.com/store/apps/details?id=com.aniplex.fategrandorder.en',\n",
       "   u'play.google.com/store/apps/details?id=com.guidefitter.brag&hl=en',\n",
       "   u'play.google.com/store/apps/details?id=air.com.noodlecake.luminocity',\n",
       "   u'play.google.com/store/apps/details?id=biz.bokhorst.xprivacy.installer',\n",
       "   u'play.google.com/store/apps/details?id=com.hyperbyte.converbration',\n",
       "   u'play.google.com/store/apps/details',\n",
       "   u'play.google.com/store/apps/details?id=com.mobile5.greggs',\n",
       "   u'play.google.com/store/apps/details?id=com.trinitigame.android.armoredwarriors',\n",
       "   u'play.google.com/store/apps/details?id=com.dictionary',\n",
       "   u'play.google.com/store/apps/details?id=com.leapgs.sliceandrise',\n",
       "   u'play.google.com/store/apps/details?id=com.artifexmundi.balefire',\n",
       "   u'play.google.com/store/apps/details?id=com.telltalegames.guardians100',\n",
       "   u'play.google.com/store/apps/details?id=com.sunnysidegames.towaga',\n",
       "   u'play.google.com/store/apps/details?id=com.whatsapp&hl=en_gb',\n",
       "   u'play.google.com/store/apps/details?id=com.flashbulb.enterthemind',\n",
       "   u'play.google.com/store/apps/details?id=com.bandainamcoent.optse',\n",
       "   u'play.google.com/store/apps/details?id=com.newspaperdirect.pressreader.android&hl=en',\n",
       "   u'play.google.com/store/apps/details?id=com.bhanu.roundcornerlite&hl=en',\n",
       "   u'play.google.com/store/apps/details?id=com.blackberry.privacyfilter',\n",
       "   u'play.google.com/store/apps/details?id=com.mainstreamdata.wispeodroid',\n",
       "   u'play.google.com/store/apps/details?id=com.adonia.colourpicsar',\n",
       "   u'play.google.com/store/apps/details?id=com.google.android.apps.gmoney',\n",
       "   u'play.google.com/store/apps/details?id=com.rubicon.dev.elwg',\n",
       "   u'play.google.com/store/apps/details?id=com.google.android.inputmethod.latin',\n",
       "   u'play.google.com/store/apps/details?id=com.tekoia.sure.activities',\n",
       "   u'play.google.com/store/apps/details?id=com.square_enix.android_googleplay.ffbeww&hl=en',\n",
       "   u'play.google.com/store/apps/details?id=com.google.android.apps.translate&hl=en_gb',\n",
       "   u'play.google.com/store/apps/details?id=com.sec.galaxy.unpacked',\n",
       "   u'play.google.com/store/apps/details?id=ptv.bein.ui&hl=en',\n",
       "   u'play.google.com/store/apps/details?id=com.crowdcompass.appxv2ykhtbmr&hl=en',\n",
       "   u'play.google.com/store/movies/details/long_way_north?id=hupcit3m8ka',\n",
       "   u'play.google.com/store/apps/details?id=com.cube.arc.hzd',\n",
       "   u'play.google.com/store/apps/details?id=com.microsoft.todos',\n",
       "   u'play.google.com/store/apps/details?id=de.defim.apk.bootmanager',\n",
       "   u'play.google.com/store/apps/details?id=com.iscoolentertainment.bazoo',\n",
       "   u'play.google.com/store/apps/details?id=com.thefoxsoftware.activesoccer2dx',\n",
       "   u'play.google.com/store/apps/details?id=com.cube.arc.lts',\n",
       "   u'play.google.com/store/apps/details?id=org.xbmc.kodi&hl=en',\n",
       "   u'play.google.com/store/apps/details?id=com.wt.uea',\n",
       "   u'play.google.com/store/apps/details?id=com.nway.powerrangerslegacywars&hl=en',\n",
       "   u'play.google.com/store/apps/details?id=com.bandainamcoent.saomdna',\n",
       "   u'play.google.com/store/apps/details?id=com.cosmicexpressgame',\n",
       "   u'play.google.com/store/apps/details?id=com.sonypicturestelevision.smurfslostvillage&referrer=adjust_reftag%3dcpedt5zojysc1%26utm_source%3dpr%26utm_campaign%3d2017.04.06%2bpress%2brelease',\n",
       "   u'play.google.com/store/apps/details?id=com.mandc.allergyreality',\n",
       "   u'play.google.com/store/apps/details?id=com.alexvas.dvr.pro',\n",
       "   u'play.google.com/store/apps/details?id=com.citizenobserver.dlnrtip&hl=en',\n",
       "   u'play.google.com/store?hl=en',\n",
       "   u'play.google.com/store/apps/details?id=fm.bling.blingy',\n",
       "   u'play.google.com/store/apps/details?id=com.marmalade.cluedogame',\n",
       "   u'play.google.com/store/apps/details?id=com.instantt.app',\n",
       "   u'play.google.com/store/apps/details?id=pine.game.skydancer&hl=en',\n",
       "   u'play.google.com/store/apps/details?id=com.square_enix.android_googleplay.mobiusff_ne&hl=en',\n",
       "   u'ctt.marketwire.com/?release=1296289&id=10932067&type=1&url=https%3a%2f%2fplay.google.com%2fstore%2fapps%2fdetails%3fid%3dcom.capigami.outofmilk',\n",
       "   u'play.google.com/store/apps/details?id=com.ryansteckler.nlpunbounce',\n",
       "   u'play.google.com/store/apps/details?id=com.jacobsmedia.podcastone&feature=nav_result#?t=w251bgwsmswyldnd',\n",
       "   u'play.google.com/store/apps/details?id=kemco.execreate.asdivinehearts2',\n",
       "   u'play.google.com/store/apps/details?id=com.rac7.splittercritters',\n",
       "   u'play.google.com/store/apps/details?id=jp.co.capcom.mobilemakaiwd',\n",
       "   u'play.google.com/store/apps/details?id=com.amazon.chime',\n",
       "   u'play.google.com/store/apps/details?id=com.devolver.reigns',\n",
       "   u'play.google.com/store/apps/details?id=com.thx.tuneup.free&hl=en',\n",
       "   u'play.google.com/store/apps/details?id=com.nintendo.zara',\n",
       "   u'play.google.com/store/apps/details?id=com.tinyco.futurama',\n",
       "   u'play.google.com/store/apps/details?id=com.wb.goog.bau',\n",
       "   u'play.google.com/store/apps/details?id=com.gameloft.android.anmp.gloftcmhm',\n",
       "   u'play.google.com/store/apps/details?id=com.microsoft.ageofempirescastlesiege',\n",
       "   u'play.google.com/store/apps/details?id=com.disneydigitalbooks.colorbydisney_goo',\n",
       "   u'play.google.com/store/tv/show/pok%c3%a9mon_the_series_indigo_league?id=4bgqxqyf1yfdzqfsfcg98q&cdid=tvseason-z-gr2tllxmtdctimqv_jha',\n",
       "   u'play.google.com/store/apps/details?id=com.baloota.dumpster',\n",
       "   u'play.google.com/store/apps/details?id=com.plarium.throne',\n",
       "   u'play.google.com/store/apps/details?id=com.rhythmnewmedia.android.e',\n",
       "   u'play.google.com/store/apps/details?id=org.mozilla.focus',\n",
       "   u'play.google.com/store/apps/details?id=com.defianttech.diskdigger',\n",
       "   u'play.google.com/store/apps/details?id=com.stationdm.bluelink&hl=en',\n",
       "   u'play.google.com/store/apps/details?id=com.dargomstudio.gunboundm.global&hl=en',\n",
       "   u'play.google.com/store/apps/details?id=com.asmodeedigital.vampireweeatblood',\n",
       "   u'play.google.com/store/apps/details?id=com.microsoft.planner',\n",
       "   u'play.google.com/store/apps/details?id=com.samsung.swalk&hl=en',\n",
       "   u'play.google.com/store/apps/details?id=com.changemystyle.gentlewakeup&hl=en',\n",
       "   u'play.google.com/store/apps/details?id=com.nianticlabs.pokemongo',\n",
       "   u'play.google.com/store/apps/details?id=com.nexon.dynastywarriors&hl=en&rdid=com.nexon.dynastywarriors',\n",
       "   u'play.google.com/store/apps/details?id=com.flextrick.universalcropper&rdid=com.flextrick.universalcropper',\n",
       "   u'play.google.com/store/apps/details?id=com.atari.mobile.rctempire',\n",
       "   u'play.google.com/store/apps/details?id=com.eighti.holo.android',\n",
       "   u'play.google.com/store/apps/details?id=com.hexamob.androidrecyclebin',\n",
       "   u'play.google.com/store/info/topic?id=topic_b000054_games_indie_corner_tp&hl=us',\n",
       "   u'play.google.com/store/apps/details?id=com.ngreenan.persona5imapp',\n",
       "   u'play.google.com/store/apps/details?id=net.kairosoft.android.bokujou_en',\n",
       "   u'play.google.com/store/apps/details?id=com.helloastro.android',\n",
       "   u'play.google.com/store/apps/details?id=com.microsoft.cortana',\n",
       "   u'play.google.com/store/apps/details?id=com.dufl.app',\n",
       "   u'play.google.com/store/apps/details?id=com.cyberlink.powerdirector.dra140225_01',\n",
       "   u'play.google.com/store/apps/details?id=com.blackberry.jot',\n",
       "   u'play.google.com/store/apps/details?id=com.dmi.nascarheat',\n",
       "   u'play.google.com/store/apps/details?id=jp.pokemon.koiking',\n",
       "   u'play.google.com/store/apps/details?id=com.iguide.farmoji&hl=en',\n",
       "   u'play.google.com/store/apps/details?id=com.google.android.apps.photos.scanner',\n",
       "   u'play.google.com/store/apps/details?id=com.bring10.tab',\n",
       "   u'play.google.com/store/apps/details?id=com.miniclip.agar.io&hl=en',\n",
       "   u'play.google.com/store/apps/details?id=com.theinfatuation&hl=en',\n",
       "   u'play.google.com/store/apps/details?id=com.wect.android.weather&hl=en',\n",
       "   u'play.google.com/store/apps/details?id=com.sec.android.app.launcher',\n",
       "   u'play.google.com/store/apps/details?id=com.dmm.games.yamada&rdid=com.dmm.games.yamada',\n",
       "   u'play.google.com/store/music/album/the_xx_i_see_you?id=bfjwd6nosoblte5d7rju7av7lhe&hl=en',\n",
       "   u'play.google.com/store/apps/details?id=jp.co.capcom.mobile1942wd',\n",
       "   u'play.google.com/store/apps/details?id=com.photopills.android.photopills',\n",
       "   u'play.google.com/store/apps/details?id=com.seefoodtechnologies.nothotdog',\n",
       "   u'play.google.com/store/apps/details?id=nextapp.sp&rdid=nextapp.sp',\n",
       "   u'play.google.com/store/apps/details?id=com.playstation.video.atv&hl=en',\n",
       "   u'play.google.com/store/apps/details?id=com.newstab&hl=en',\n",
       "   u'play.google.com/store/apps/details?id=com.rave.ravevr',\n",
       "   u'play.google.com/store/apps/details?id=com.stringify.stringify',\n",
       "   u'play.google.com/store/apps/details?id=com.romerogames.gmtt&rdid=com.romerogames.gmtt',\n",
       "   u'play.google.com/store/apps/details?id=com.teslamotors.tesla',\n",
       "   u'play.google.com/store/apps/details?id=com.fxnetworks.com.fxnetworks.archerpi',\n",
       "   u'play.google.com/store/search?q=jp.co.capcom.rockman.mega&c=apps',\n",
       "   u'play.google.com/store/apps/details?id=ihpa.org&hl=en',\n",
       "   u'play.google.com/store/apps/details?id=com.sec.android.app.music&hl=en',\n",
       "   u'play.google.com/store/apps/details?id=com.gaijin.scm',\n",
       "   u'play.google.com/store/apps/details?id=com.goodbarber.speed51',\n",
       "   u'play.google.com/store/search?q=1spotmedia',\n",
       "   u'play.google.com/store/apps/details?id=com.zenstudios.bethesdaf2p',\n",
       "   u'play.google.com/store/apps/details?id=flipboard.app&hl=en',\n",
       "   u'play.google.com/store/apps/details?id=com.square_enix.android_googleplay.mobiusff_ne',\n",
       "   u'play.google.com/store/apps/details?id=com.fifthjourney.kubo&hl=en',\n",
       "   u'play.google.com/store/apps/details?id=com.dish.playfi&hl=en',\n",
       "   u'play.google.com/store/apps/details?id=com.glu.stardomkim&hl=en',\n",
       "   u'play.google.com/store/apps/details?id=com.paget96.lspeed',\n",
       "   u'play.google.com/store/apps/details?id=com.teslacoilsw.launcher&hl=en',\n",
       "   u'play.google.com/store/apps/details?id=jp.mages.corpsepartybdeng',\n",
       "   u'play.google.com/store/apps/details?id=com.ea.gp.masseffectandromedacompanion',\n",
       "   u'play.google.com/store/apps/details?id=com.greencopper.android.downloadfestival&hl=en_gb',\n",
       "   u'play.google.com/store/apps/details?id=com.takenmatellc.takenmate&hl=en',\n",
       "   u'play.google.com/store/apps/details?id=com.vialsoft.theorytestukhpt&hl=en_gb',\n",
       "   u'play.google.com/store/apps/details?id=com.deadmage.shadowbladereload',\n",
       "   u'play.google.com/store/apps/details?id=com.anddoes.launcher',\n",
       "   u'play.google.com/store/apps/details?id=com.firstmutant.virexian',\n",
       "   u'play.google.com/store/apps/details?id=com.gameloft.android.anmp.gloftnohm&rdid=com.gameloft.android.anmp.gloftnohm',\n",
       "   u'play.google.com/store/apps/details?id=com.foxsports.videogo&hl=en',\n",
       "   u'play.google.com/store/apps/details?id=co.onsecondthought&hl=en',\n",
       "   u'play.google.com/store/apps/details?id=com.orangepixel.meganoid2017',\n",
       "   u'play.google.com/store/apps/details?id=org.gamatech.androidclient.app',\n",
       "   u'play.google.com/store/apps/details?id=com.campmobile.android.linedeco',\n",
       "   u'play.google.com/store/apps/details?id=br.com.livox',\n",
       "   u'play.google.com/store/apps/details?id=com.keramidas.titaniumbackup&hl=en',\n",
       "   u'play.google.com/store/apps/details?id=https%3a%2f%2fplay.google.com%2fstore%2fapps%2fdetails%3fid%3dcom.google.toontastic&referrer=utm_source%3dkeyword%26utm_medium%3dblog%26utm_campaign%3dlaunch',\n",
       "   u'play.google.com/store/apps/details?id=lfprodev.xposed.xstana',\n",
       "   u'play.google.com/store/apps/details?id=com.kaufland.kaufland&hl=bg',\n",
       "   u'play.google.com/store/apps/details?id=com.noodlecake.realmyst',\n",
       "   u'play.google.com/store/apps/developer?id=cbits',\n",
       "   u'play.google.com/store/movies/details/queen_of_katwe?id=2snzlp5hfhs',\n",
       "   u'play.google.com/store/apps/details?id=es.brokenrul.oldmansjourney',\n",
       "   u'play.google.com/store/apps/details?id=com.showtime.standalone&referrer=utm_source%3dko_7e3d588a5b542fd5d%26utm_medium%3d1%26utm_campaign%3dkoshowtime-android-prod5578ae1e68354c614740c09564%26utm_term%3d%26utm_content%3d%26',\n",
       "   u'play.google.com/store/apps/details?id=com.oasisfeng.greenify',\n",
       "   u'play.google.com/store/apps/details?id=com.vzw.hss.myverizon&hl=en',\n",
       "   u'play.google.com/store/apps/details?id=com.czjk.ibraceletplus.mgcoolband2&hl=en',\n",
       "   u'play.google.com/store/apps/details?id=com.oki.piano',\n",
       "   u'play.google.com/store/apps/details?id=com.chow.chow.chow',\n",
       "   u'play.google.com/store/apps/details?id=com.defianttech.diskdiggerpro',\n",
       "   u'play.google.com/store/apps/details?id=com.snailgameusa.swordofshadow&rdid=com.snailgameusa.swordofshadow',\n",
       "   u'play.google.com/store/apps/details?id=com.noodlecake.riven&hl=en',\n",
       "   u'ctt.marketwire.com/?release=11g135454-001&id=11467582&type=0&url=https%3a%2f%2fplay.google.com%2fstore%2fapps%2fdetails%3fid%3dcom.kaltura.playkitdemo%26hl%3den',\n",
       "   u'play.google.com/store/apps/details?id=com.facebook.mlite&hl=en',\n",
       "   u'play.google.com/store/apps/details?id=bbc.mobile.news.uk&hl=en_gb',\n",
       "   u'play.google.com/store/apps/details?id=com.flaregames.nskchuck',\n",
       "   u'play.google.com/store/apps/details?id=com.netflix.mediaclient&hl=en',\n",
       "   u'play.google.com/store/apps/details?id=com.kuxhausen.huemore',\n",
       "   u'play.google.com/store/apps/details?id=com.square_enix.android_googleplay.ffbeww',\n",
       "   u'play.google.com/store/apps/details?id=com.jacobsmedia.kiss&hl=en',\n",
       "   u'play.google.com/store/apps/details?id=com.google.android.apps.maps&hl=en',\n",
       "   u'play.google.com/store/apps/details?id=com.iapps.seconds',\n",
       "   u'play.google.com/store/apps/details?id=co.touchlab.android.onesecondeveryday',\n",
       "   u'play.google.com/store/apps/details?id=com.zeptolab.cats.google',\n",
       "   u'play.google.com/store/apps/details?id=com.waffleware.launcher',\n",
       "   u'play.google.com/store/apps/details?id=com.nintendo.znma',\n",
       "   u'play.google.com/store/apps/details?id=com.mtvn.llamaspit',\n",
       "   u'play.google.com/store/apps/details?id=com.owncloud.android',\n",
       "   u'play.google.com/store/apps/details?id=com.google.android.inputmethod.latin&hl=en',\n",
       "   u'play.google.com/store/apps/details?id=com.ubisoft.grwhq',\n",
       "   u'play.google.com/store/apps/details?id=com.gameloft.android.anmp.gloftolhm',\n",
       "   u'play.google.com/store/apps/details?id=com.google.android.apps.fireball&hl=en',\n",
       "   u'play.google.com/store/apps/details?id=com.mustplay.intruders&rdid=com.mustplay.intruders',\n",
       "   u'play.google.com/store/apps/details?id=done.lumi&hl=en',\n",
       "   u'play.google.com/store/apps/details?id=com.relayrides.android.relayrides&hl=en',\n",
       "   u'play.google.com/store/apps/details?id=gov.moh.sg.ihealth.search&hl=en',\n",
       "   u'play.google.com/store/apps/details?id=com.dotgears.ninjabounce',\n",
       "   u'play.google.com/store/apps/details?id=com.bugwood.wainvasives&hl=en',\n",
       "   u'play.google.com/store/apps/details?id=com.clownface.volumeslider&hl=en',\n",
       "   u'play.google.com/store/apps/details?id=com.cordic.hull.sixocars&hl=en_gb',\n",
       "   u'play.google.com/store/apps/details?id=com.ubercab',\n",
       "   u'play.google.com/store/apps/details?id=com.nintendo.zaba',\n",
       "   u'play.google.com/store/apps/details?id=com.fansided.nybasketball',\n",
       "   u'play.google.com/store/apps/details?id=com.nema.batterycalibration',\n",
       "   u'play.google.com/store/apps/details?id=com.google.android.apps.photos',\n",
       "   u'play.google.com/store/apps/details?id=com.isport.xfit',\n",
       "   u'play.google.com/store/apps/details?id=com.squareenixmontreal.lcgo',\n",
       "   u'play.google.com/store/apps/details?id=com.htc.chris.blackspotdetect&hl=en',\n",
       "   u'play.google.com/store/apps/details?id=com.sec.android.app.shealth',\n",
       "   u'play.google.com/store/apps/details?id=com.freezetag.garfieldgo',\n",
       "   u'play.google.com/store/apps/details?id=com.google.android.apps.youtube.kids&referrer=utm_source%3dwebsite%26utm_medium%3dytk%26utm_campaign%3dlp',\n",
       "   u'play.google.com/store/apps/details?id=com.palaroo',\n",
       "   u'play.google.com/store/apps/details?id=io.miltec.vodi&hl=en',\n",
       "   u'play.google.com/store/apps/details?id=jp.pokemon.pokemoncomaster&hl=en',\n",
       "   u'play.google.com/store/apps/details?id=datarecovery.extranet&hl=en',\n",
       "   u'play.google.com/store/apps/details?id=com.paradoxplaza.prisonarchitect',\n",
       "   u'play.google.com/store/apps/details?id=com.playdead.limbo.full&hl=en',\n",
       "   u'play.google.com/store/apps/details?id=in.org.npci.upiapp&rdid=in.org.npci.upiapp',\n",
       "   u'play.google.com/store/apps/details?id=com.google.android.apps.freighter&hl=en',\n",
       "   u'play.google.com/store/apps/details?id=com.asmodeedigital.mysterium',\n",
       "   u'play.google.com/store/apps/details?id=com.wnct.android.weather',\n",
       "   u'play.google.com/store/apps/details?id=com.alphadoggames.monstrocity',\n",
       "   u'play.google.com/store/apps/details?id=com.nirhart.shortrain',\n",
       "   u'play.google.com/store/apps/details?id=com.dsfishlabs.bout2en',\n",
       "   u'play.google.com/store/apps/details?id=com.blizzard.wcs&hl=en',\n",
       "   u'play.google.com/store/apps/details?id=com.netmarble.mherosgb',\n",
       "   u'ctt.marketwire.com/?release=11g128332-001&id=10780576&type=0&url=https%3a%2f%2fplay.google.com%2fstore%2fapps%2fdetails%3fid%3dcom.istation.runtime%26hl%3den',\n",
       "   u'androidcommunity.com/tag/google-play-store',\n",
       "   u'play.google.com/store/apps/details?id=com.google.android.apps.walletnfcrel',\n",
       "   u'play.google.com/store/apps/details?id=com.epicactiononline.ffxv.ane',\n",
       "   u'play.google.com/store/apps/details?id=meteor.test.and.grade.internet.connection.speed',\n",
       "   u'play.google.com/store/apps/details?id=com.nest.android',\n",
       "   u'play.google.com/store/apps/details?id=com.google.android.apps.youtube.mango&hl=en',\n",
       "   u'play.google.com/store/apps/details?id=com.fansided.musketfire',\n",
       "   u'play.google.com/store/apps/details?id=com.disney.clubpenguinremix_goo&hl=en&referrer=utm_source%3dko_60cc58dd064ba87cc%26utm_medium%3d1%26utm_campaign%3dkoclub-penguin-remix-google5727d3292da703cf3e733567ab%26utm_term%3d%26utm_content%3d%26',\n",
       "   u'play.google.com/store/apps/details?id=com.wemogee.app',\n",
       "   u'play.google.com/store/apps/details?id=com.google.android.apps.chromecast.app&hl=en']],\n",
       " [u'sign in',\n",
       "  [u'http://business.financialpost.com/small-cap-investing/5-tsx-dividend-stocks-with-good-yields-capital-gains-potential',\n",
       "   u'http://business.financialpost.com/small-cap-investing/double-digit-dividend-growth-for-this-boring-stock-aaron-dunn',\n",
       "   u'http://theprovince.com/sports/soccer/mls/vancouver-whitecaps/whitecaps-weekly-hey-the-whitecaps-are-a-world-top-24-club',\n",
       "   u'http://ottawacitizen.com/news/national/defence-watch/canadian-special-forces-in-iraq-new-photos',\n",
       "   u'http://business.financialpost.com/small-cap-investing/aphria-and-some-other-marijuana-stocks-are-looking-attractive',\n",
       "   u'http://ottawacitizen.com/news/national/defence-watch/contractor-wanted-to-dismantle-former-hmcs-preserver-cfav-quest',\n",
       "   u'http://ottawacitizen.com/news/national/defence-watch/hmcs-saskatoon-to-return-from-op-caribbe-deployment-on-friday',\n",
       "   u'http://theprovince.com/sports/soccer/mls/vancouver-whitecaps/yay-or-nay-whitecaps-introduce-new-rain-jersey',\n",
       "   u'http://business.financialpost.com/investing/market-moves/feeling-a-little-flat-this-morning-what-you-need-to-know-before-markets-open',\n",
       "   u'http://business.financialpost.com/investing/market-moves/before-the-bell',\n",
       "   u'http://business.financialpost.com/investing/market-moves/st-valentines-day-massacre-for-bonds-what-you-need-to-know-before-markets-open',\n",
       "   u'http://business.financialpost.com/investing/market-moves/william-ackmans-pershing-square-sells-entire-position-of-valeant-pharmaceuticals-international',\n",
       "   u'http://business.financialpost.com/investing/market-moves/a-bad-day-for-global-trade-what-you-need-to-know-before-markets-open',\n",
       "   u'news965.com/news/news/national/years-national-returns-day-will-be-biggest-yet-ups/nttm5',\n",
       "   u'http://business.financialpost.com/small-cap-investing/canadian-small-cap-reits-paying-out-big',\n",
       "   u'http://business.financialpost.com/small-cap-investing/goldbelt-empires-chairman-talks-about-being-in-a-gold-hot-spot',\n",
       "   u'news965.com/news/news/national/baby-girl-shares-food-dog-then-gets-angry-when-he-/ntxg6',\n",
       "   u'http://news.nationalpost.com/category/sports/olympics',\n",
       "   u'http://business.financialpost.com/investing/market-moves/show-me-the-money-what-you-need-to-know-before-markets-open',\n",
       "   u'http://nationalpost.com/pmn/sports-pmn/mondays-games/wcm/fe6065cf-a4b5-4973-a096-8bbd1db12e01',\n",
       "   u'http://theprovince.com/sports/soccer/mls/vancouver-whitecaps/whitecaps-back-on-tsn-radio-for-2017',\n",
       "   u'http://ottawacitizen.com/news/national/defence-watch/hmcs-saskatoon-sets-sail-for-counter-drug-operation',\n",
       "   u'http://ottawacitizen.com/news/national/defence-watch/u-s-army-picks-its-new-handgun-the-sig-sauer-p320',\n",
       "   u'http://business.financialpost.com/small-cap-investing/7-canadian-gold-juniors-to-be-acquired-soon',\n",
       "   u'http://business.financialpost.com/small-cap-investing/west-red-lake-gold-mines-has-big-plans-in-2017',\n",
       "   u'http://business.financialpost.com/investing/market-moves/investors-keep-their-powder-dry-what-you-need-to-know-before-markets-open',\n",
       "   u'http://ottawacitizen.com/news/national/defence-watch/final-day-sail-for-hmcs-athabaskan-before-being-paid-off',\n",
       "   u'http://nationalpost.com/pmn/sports-pmn/baseball-sports-pmn/oaklands-cotton-pinder-leave-game-because-of-injuries/wcm/abc50512-c573-4073-8e43-290e8244f9c4',\n",
       "   u'http://news.nationalpost.com/tag/toronto-raptors',\n",
       "   u'http://ottawacitizen.com/news/national/defence-watch/hmcs-saskatoon-involved-in-seizing-cocaine-shipment',\n",
       "   u'http://business.financialpost.com/small-cap-investing/5-top-performing-canadian-juniors',\n",
       "   u'http://business.financialpost.com/small-cap-investing/5-tsx-dividend-stocks-with-rising-revenue-high-yields',\n",
       "   u'http://theprovince.com/sports/soccer/mls/vancouver-whitecaps/whitecaps-wont-face-portland-nemesis-adi-on-friday',\n",
       "   u'http://ottawacitizen.com/news/national/defence-watch/rcaf-sea-king-buzzes-beach-in-guam-upsetting-the-locals',\n",
       "   u'http://ottawacitizen.com/news/national/defence-watch/lockheed-martin-rolls-out-commercial-version-of-c-130j-aircraft',\n",
       "   u'http://business.financialpost.com/investing/market-moves/big-bank-blockbusters-and-central-bankers-too-what-you-need-to-know-as-markets-open',\n",
       "   u'http://business.financialpost.com/small-cap-investing/5-lowest-cost-gold-miners-that-could-shine',\n",
       "   u'http://business.financialpost.com/small-cap-investing/canadian-small-cap-stocks-with-big-eps-upside',\n",
       "   u'http://business.financialpost.com/small-cap-investing/alto-ventures-property-is-adjacent-to-osisko-minings-new-discovery',\n",
       "   u'france24.com/en/tag/2016-olympics',\n",
       "   u'http://business.financialpost.com/small-cap-investing/canadian-lithium-juniors-that-could-rally-on-tesla-interest',\n",
       "   u'wsbradio.com/news/sports/baseball/girlfriend-late-marlins-ace-jose-fernandez-gives-b/ntpjm',\n",
       "   u'http://ottawacitizen.com/news/national/defence-watch/canadian-troops-leave-for-poland',\n",
       "   u'http://nationalpost.com/pmn/sports-pmn/baseball-sports-pmn/yankees-2b-castro-exits-game-with-strained-right-hamstring/wcm/cab7127d-c483-4ef4-a2b3-bf0b3e5840be',\n",
       "   u'http://windsorstar.com/special-features-3/summer-fun-2017',\n",
       "   u'http://business.financialpost.com/small-cap-investing/rick-rule-i-think-gold-is-in-a-really-interesting-place',\n",
       "   u'http://business.financialpost.com/small-cap-investing/4-tsx-dividend-stocks-to-watch',\n",
       "   u'http://nationalpost.com/pmn/sports-pmn/baseball-sports-pmn/brewers-trade-nick-franklin-to-angels/wcm/667a6d8e-f0c6-4591-adaa-87d32b2df205',\n",
       "   u'http://theprovince.com/sports/soccer/mls/vancouver-whitecaps/whitecaps-set-to-swoop-for-fredy-montero',\n",
       "   u'thenorthernecho.co.uk/my/account/log-in/?ref=subo',\n",
       "   u'http://business.financialpost.com/investing/market-moves/all-eyes-on-trump-talk-what-you-need-to-know-before-markets-open',\n",
       "   u'wsbradio.com/news/sports/a-word-with-former-falcons-coach-dan-reeves/ntfmr',\n",
       "   u'news965.com/news/entertainment/william-christopher-actor-msh-dead-84/ntsdg',\n",
       "   u'http://business.financialpost.com/small-cap-investing/gold-mining-stocks-with-high-free-cash-flow-yields',\n",
       "   u'http://business.financialpost.com/investing/market-moves/politics-is-starting-to-unnerve-investors-what-you-need-to-know-before-markets-open',\n",
       "   u'http://business.financialpost.com/investing/market-moves/u-s-jobs-just-hit-it-out-of-the-park-what-you-need-to-know-before-markets-open',\n",
       "   u'http://business.financialpost.com/small-cap-investing/canadian-small-caps-that-could-be-hidden-gems',\n",
       "   u'http://ottawacitizen.com/news/national/defence-watch/u-s-army-installs-30-mm-cannon-on-stryker-armoured-vehicles-as-counter-to-russians',\n",
       "   u'http://business.financialpost.com/small-cap-investing/rbc-tsx-ry-vs-td-tsx-td-which-one-is-the-best-bet-for-investors',\n",
       "   u'http://business.financialpost.com/small-cap-investing/gdxj-rebalancing-has-created-unique-buying-opportunities',\n",
       "   u'http://business.financialpost.com/small-cap-investing/canadian-marijuana-companies-why-they-will-lead-the-world',\n",
       "   u'http://business.financialpost.com/investing/market-moves/anything-out-there-anything-what-you-need-to-know-before-markets-open',\n",
       "   u'http://business.financialpost.com/small-cap-investing/canadian-reits-with-expected-payout-increases-of-10',\n",
       "   u'http://ottawacitizen.com/news/national/defence-watch/sajjan-and-vance-to-meet-u-s-secretary-of-defense-james-mattis',\n",
       "   u'http://nationalpost.com/pmn/sports-pmn/football-sports-pmn/jaguars-claim-ol-rhaney-off-waivers-release-collins/wcm/3e5a6d39-8b79-4911-8b15-085abe9f5f5e',\n",
       "   u'http://business.financialpost.com/small-cap-investing/pdac-2017-junior-resource-stocks-to-watch',\n",
       "   u'http://theprovince.com/sports/soccer/mls/vancouver-whitecaps/the-whitecaps-weekly-red-card-crises-and-midfield-missives',\n",
       "   u'http://ottawacitizen.com/news/national/defence-watch/hmcs-winnipeg-and-hmcs-ottawa-leave-for-indo-asia-pacific-deployment',\n",
       "   u'http://nationalpost.com/pmn/news-pmn/canada-news-pmn/panam-for-the-issued-by-environment-canada-9/wcm/29f5f8b0-2766-4c47-8690-c9620ce230b0',\n",
       "   u'france24.com/en/tag/2014-sochi-winter-olympics',\n",
       "   u'http://windsorstar.com/special-features-3/savour-amherstburg-2016',\n",
       "   u'http://nationalpost.com/pmn/sports-pmn/baseball-sports-pmn/white-sox-activate-rodon-from-dl/wcm/9a52b979-07c4-407e-801a-d20d87ce9cfa',\n",
       "   u'http://business.financialpost.com/small-cap-investing/chilean-metals-next-six-months-should-be-eventful',\n",
       "   u'http://business.financialpost.com/investing/market-moves/bitcoin-tanks-more-than-20-in-four-hours-this-morning-after-two-week-tear',\n",
       "   u'http://ottawacitizen.com/news/national/defence-watch/vice-chief-of-the-defence-staff-mark-norman-removed-from-command',\n",
       "   u'http://business.financialpost.com/investing/market-moves/no-joy-from-the-fed-what-you-need-to-know-before-markets-open',\n",
       "   u'http://business.financialpost.com/small-cap-investing/canadian-marijuana-investors-why-they-should-be-giddy',\n",
       "   u'http://business.financialpost.com/investing/market-moves/the-oil-plunge-heard-around-the-world-what-you-need-to-know-before-markets-open',\n",
       "   u'http://business.financialpost.com/small-cap-investing/5-ad-tech-stocks-to-watch-in-2017',\n",
       "   u'http://business.financialpost.com/small-cap-investing/michael-giordano-has-reasons-for-optimism-in-resources-and-also-a-cobalt-company-pick',\n",
       "   u'http://business.financialpost.com/small-cap-investing/5-oil-juniors-getting-pumped-up-by-opec',\n",
       "   u'http://montrealgazette.com/sports/soccer/mls/montreal-impact/impact-gets-international-roster-spot-from-d-c-for-75000',\n",
       "   u'http://business.financialpost.com/small-cap-investing/zhaojin-mining-has-a-three-step-growth-strategy',\n",
       "   u'http://business.financialpost.com/small-cap-investing/5-tsx-stocks-that-could-boost-your-tfsa',\n",
       "   u'http://business.financialpost.com/small-cap-investing/shopify-should-be-added-to-your-stock-shopping-list',\n",
       "   u'http://ottawacitizen.com/news/national/defence-watch/building-at-garrison-petawawa-evacuated-after-suspicious-package-found',\n",
       "   u'http://business.financialpost.com/small-cap-investing/5-canadian-marijuana-takeover-targets',\n",
       "   u'http://news.nationalpost.com/arts/music/soprano-saxophonist-jane-bunnett-brings-her-soulful-sextet-to-the-np-sessions-studio',\n",
       "   u'http://business.financialpost.com/small-cap-investing/smallcappower-client-tio-networks-to-be-acquired-by-paypal',\n",
       "   u'http://theprovince.com/sports/soccer/mls/vancouver-whitecaps/kianz-froese-moves-to-germany',\n",
       "   u'http://theprovince.com/sports/baseball/mariners-prospect-tyler-oneill-talks-moon-shot-home-run-off-dodger-ace-clayton-kershaw',\n",
       "   u'http://business.financialpost.com/small-cap-investing/battery-metals-stocks-surge-bubble-index-update',\n",
       "   u'http://business.financialpost.com/investing/market-moves/everybody-is-kinda-freaked-out-this-morning-what-you-need-to-know-before-markets-open',\n",
       "   u'http://business.financialpost.com/investing/market-moves/first-trading-day-of-the-year-folks-what-you-need-to-know-before-markets-open',\n",
       "   u'http://business.financialpost.com/small-cap-investing/security-stocks-that-could-see-beefed-up-returns-as-terror-attacks-rise',\n",
       "   u'http://ottawacitizen.com/news/national/defence-watch/u-s-air-force-delays-retirement-of-a-10-warthogs',\n",
       "   u'http://windsorstar.com/special-features-3/and-the-bea-winner-is',\n",
       "   u'http://ottawacitizen.com/news/national/defence-watch/irans-new-tank-photos-of-the-karrar',\n",
       "   u'http://business.financialpost.com/small-cap-investing/5-small-caps-with-7-5-dividend-yields',\n",
       "   u'http://business.financialpost.com/small-cap-investing/canadian-stocks-that-could-fly-higher-than-canada-goose-tsx-goos',\n",
       "   u'http://ottawacitizen.com/news/national/defence-watch/japan-unveils-prototype-wheeled-armoured-vehicle-similar-to-canadian-lav-3',\n",
       "   u'http://ottawacitizen.com/news/national/defence-watch/canadian-coast-guard-vessel-update',\n",
       "   u'http://business.financialpost.com/investing/market-moves/tsx-hits-all-time-high-fuelled-by-energy-banking-stocks',\n",
       "   u'http://theprovince.com/sports/soccer/mls/vancouver-whitecaps/domestic-assault-charge-against-whitecaps-fullback-sheanon-williams-stayed',\n",
       "   u'http://ottawacitizen.com/news/national/defence-watch/lockheed-martin-cancels-ottawa-shindig',\n",
       "   u'http://ottawacitizen.com/news/national/defence-watch/the-last-days-of-hmcs-athabaskan-more-photos',\n",
       "   u'http://business.financialpost.com/investing/market-moves/good-day-to-be-in-tech-what-you-need-to-know-before-markets-open',\n",
       "   u'http://business.financialpost.com/investing/market-moves/vista-equity-partners-to-buy-canadas-dh-corp-for-2-5-billion-and-merge-it-with-a-u-k-company',\n",
       "   u'http://business.financialpost.com/small-cap-investing/centurion-minerals-see-why-investors-should-take-note',\n",
       "   u'http://ottawacitizen.com/news/national/defence-watch/hmcs-st-johns-to-leave-next-week-for-the-mediterranean',\n",
       "   u'http://business.financialpost.com/small-cap-investing/cloud-nine-education-group-expected-to-be-cash-flow-positive',\n",
       "   u'http://business.financialpost.com/small-cap-investing/battery-metals-stocks-can-the-surge-last',\n",
       "   u'http://business.financialpost.com/small-cap-investing/5-overlooked-junior-gold-stocks',\n",
       "   u'http://business.financialpost.com/investing/market-moves/the-fed-trumps-trump-what-you-need-to-know-before-markets-open',\n",
       "   u'http://business.financialpost.com/small-cap-investing/sierra-wireless-tsx-sw-powers-72-higher-tops-the-ubika-technology-20-index',\n",
       "   u'http://business.financialpost.com/small-cap-investing/canadian-reits-expected-to-boost-their-payouts',\n",
       "   u'http://business.financialpost.com/small-cap-investing/canadian-dividend-stocks-to-power-your-rrsp-tfsa',\n",
       "   u'http://business.financialpost.com/investing/market-moves/the-tsx-had-a-bad-day-yesterday-and-todays-not-shaping-up-to-be-any-better',\n",
       "   u'http://business.financialpost.com/investing/market-moves/global-stocks-have-already-topped-2016-gains-two-months-into-the-new-year',\n",
       "   u'http://theprovince.com/sports/soccer/mls/vancouver-whitecaps/whitecaps-legend-carl-valentine-brings-peace-to-the-bc-place-concourse',\n",
       "   u'http://business.financialpost.com/investing/market-moves/caution-creeps-into-trading-today-what-you-need-to-know-before-markets-open',\n",
       "   u'krmg.com/news/entertainment/william-christopher-actor-msh-dead-84/ntsdg',\n",
       "   u'http://theprovince.com/sports/soccer/mls/vancouver-whitecaps/whitecaps-teen-star-davies-headlines-young-canadian-gold-cup-squad',\n",
       "   u'http://theprovince.com/sports/baseball/cs-could-add-riley-adams-and-kacy-clemens-to-roster',\n",
       "   u'http://theprovince.com/sports/soccer/mls/vancouver-whitecaps/whitecaps-defender-kendall-waston-has-surgery-on-fractured-right-hand',\n",
       "   u'http://ottawacitizen.com/news/national/defence-watch/thailand-investigates-crash-of-gripen-fighter-jet',\n",
       "   u'http://theprovince.com/sports/soccer/mls/vancouver-whitecaps/report-whitecaps-make-big-offer-to-sign-canadian-veteran-atiba-hutchinson',\n",
       "   u'http://ottawacitizen.com/news/national/defence-watch/top-women-in-defence-selected',\n",
       "   u'http://business.financialpost.com/investing/market-moves/what-will-donald-trumps-inauguration-unleash-what-you-need-to-know-before-markets-open',\n",
       "   u'http://business.financialpost.com/small-cap-investing/joe-mimran-discusses-his-latest-venture-on-capital-ideas-tv',\n",
       "   u'http://ottawacitizen.com/news/national/defence-watch/new-photos-canadian-special-forces-in-africa',\n",
       "   u'http://business.financialpost.com/small-cap-investing/eric-coffins-top-resource-stock-picks',\n",
       "   u'http://montrealgazette.com/sports/soccer/mls/montreal-impact/montreal-impact-signs-former-tfc-defender-daniel-lovitz',\n",
       "   u'http://ottawacitizen.com/news/national/defence-watch/the-canadian-army-in-action-top-photos',\n",
       "   u'http://theprovince.com/sports/soccer/mls/vancouver-whitecaps/whitecaps-ship-out-giles-barnes-for-brek-shea',\n",
       "   u'http://theprovince.com/sports/soccer/mls/vancouver-whitecaps/bell-media-axe-voices-of-whitecaps-lions',\n",
       "   u'http://ottawacitizen.com/news/national/defence-watch/canadas-iraq-mission-gets-a-new-commander',\n",
       "   u'http://business.financialpost.com/small-cap-investing/secova-metals-windfall-lake-project-brings-it-new-life',\n",
       "   u'http://business.financialpost.com/small-cap-investing/aphria-tsx-aph-is-it-becoming-the-industry-benchmark',\n",
       "   u'http://theprovince.com/sports/soccer/mls/vancouver-whitecaps/whitecaps-weekly-podcast-whats-your-favourite-gam-tam-jam',\n",
       "   u'http://theprovince.com/sports/soccer/mls/vancouver-whitecaps/fredy-monteros-dad-whitecaps-are-the-closest',\n",
       "   u'http://theprovince.com/sports/baseball/ladners-james-big-maple-paxton-tames-tigers-to-get-mariners-back-on-track',\n",
       "   u'http://windsorstar.com/special-features-3/current-spring-2017-issue',\n",
       "   u'http://theprovince.com/sports/soccer/mls/vancouver-whitecaps/blas-perez-moves-to-arabe-unido',\n",
       "   u'http://ottawacitizen.com/news/national/defence-watch/hmcs-winnipeg-and-hmcs-ottawa-leaving-monday-for-new-deployment',\n",
       "   u'http://news.nationalpost.com/category/sports/rio-2016',\n",
       "   u'http://windsorstar.com/special-features-3/ready-fore-golf',\n",
       "   u'http://business.financialpost.com/small-cap-investing/ricky-williams-former-nfl-running-back-says-cannabis-saved-my-life',\n",
       "   u'http://ottawacitizen.com/news/national/defence-watch/funeral-to-be-held-monday-for-sergeant-robert-dynerowicz',\n",
       "   u'http://ottawacitizen.com/news/national/defence-watch/goodbye-to-hmcs-athabaskan',\n",
       "   u'http://business.financialpost.com/small-cap-investing/canadian-cannabis-stocks-continue-to-smoke-bubble-index-update',\n",
       "   u'france24.com/en/tag/2014-fifa-world-cup',\n",
       "   u'http://ottawacitizen.com/news/national/defence-watch/hmcs-st-johns-to-operate-in-black-sea',\n",
       "   u'http://nationalpost.com/pmn/sports-pmn/basketball-sports-pmn/kings-waive-guard-arron-afflalo/wcm/4cea0818-971a-4692-a09c-82e5d7792268',\n",
       "   u'http://business.financialpost.com/small-cap-investing/5-tsx-stocks-that-recently-raised-its-dividend',\n",
       "   u'http://business.financialpost.com/small-cap-investing/5-canadian-cannabis-stocks-that-could-light-up-again',\n",
       "   u'http://business.financialpost.com/small-cap-investing/pyrogenesis-canada-just-became-cash-flow-positive-ceo',\n",
       "   u'http://windsorstar.com/special-features-3/tecumseh-springs-to-life',\n",
       "   u'http://business.financialpost.com/small-cap-investing/4-fast-growing-canadian-marijuana-stocks',\n",
       "   u'http://business.financialpost.com/investing/market-moves/crunch-time-for-trump-rally-what-you-need-to-know-before-markets-open',\n",
       "   u'http://ottawacitizen.com/news/national/defence-watch/top-photos-from-the-royal-canadian-navy',\n",
       "   u'http://nationalpost.com/pmn/sports-pmn/basketball-sports-pmn/suns-dudley-has-surgery-on-left-toe-ligament-and-bone/wcm/fe0f17e1-7f94-4d7b-8f1a-41a513ad1f95',\n",
       "   u'http://ottawacitizen.com/news/national/defence-watch/chinese-special-forces-restage-bin-laden-raid-but-why',\n",
       "   u'http://business.financialpost.com/investing/market-moves/markets-barely-blink-as-fed-minutes-tell-us-nothing-we-didnt-already-know']],\n",
       " [u'tesla coil', [u'en.wikipedia.org/wiki/tesla_coil']],\n",
       " [u'talking to tesla', [u'uvureview.com/tag/talking-to-tesla']],\n",
       " [u'formidable company', [u'triplepundit.com/topic/tesla']],\n",
       " [u'identified by german newspaper munchner merker',\n",
       "  [u'merkur.de/lokales/muenchen-lk/garching-ort28709/spektakulaere-rettung-auf-a9-tesla-stoppt-wagen-ausser-kontrolle-7399151.html']],\n",
       " [u'nova launcher prime',\n",
       "  [u'play.google.com/store/apps/details?id=com.teslacoilsw.launcher.prime',\n",
       "   u'androidcentral.com/app/nova-launcher']],\n",
       " [u'tesla motors',\n",
       "  [u'baltimoresun.com/topic/business/automotive-industry/tesla-motors-orcrp006147-topic.html',\n",
       "   u'techcrunch.com/topic/company/tesla-motors',\n",
       "   u'chicagotribune.com/topic/business/automotive-industry/tesla-motors-orcrp006147-topic.html',\n",
       "   u'chron.com/search/?action=search&channel=business%2ftechnology&inlinelink=1&searchindex=gsa&query=%22tesla+motors%22',\n",
       "   u'abcnews.go.com/topics/business/automotive/tesla-motors.htm',\n",
       "   u'latimes.com/topic/business/automotive-industry/tesla-motors-orcrp006147-topic.html',\n",
       "   u'triplepundit.com/topic/tesla-motors',\n",
       "   u'data.cnbc.com/quotes/tsla',\n",
       "   u'gadgets.ndtv.com/tags/tesla',\n",
       "   u'siliconvalley.com/topics?tesla%20motors']],\n",
       " [u'teslacoil software\\u2019s',\n",
       "  [u'play.google.com/store/apps/developer?id=teslacoil+software']],\n",
       " [u'download nova launcher now',\n",
       "  [u'play.google.com/store/apps/details?id=com.teslacoilsw.launcher']],\n",
       " [u'muencher merkur',\n",
       "  [u'merkur.de/lokales/muenchen-lk/garching-ort28709/spektakulaere-rettung-auf-a9-tesla-stoppt-wagen-ausser-kontrolle-7399151.html']],\n",
       " [u'sale of emissions credits',\n",
       "  [u'autonews.com/article/20151216/oem11/151219893/fiat-chrysler-buys-emissions-credits-from-tesla-toyota-honda']],\n",
       " [u'article in automotive news',\n",
       "  [u'autonews.com/article/20161113/retail05/311149995/tesla-owners-plagued-by-service-delays']],\n",
       " [u'tsla',\n",
       "  [u'investorplace.com/stock-quotes/:tsla-stock-quote',\n",
       "   u'investorplace.com/stock-quotes/tsla-stock-quote',\n",
       "   u'markets.financialcontent.com/mng-ba.siliconvalley/quote?symbol=tsla',\n",
       "   u'markets.cbsnews.com/tsla/quote',\n",
       "   u'money.cnn.com/quote/quote.html?symb=tsla&source=story_quote_link',\n",
       "   u'foxbusiness.com/quote.html?stockticker=tsla',\n",
       "   u'marketwired.com/news_room/stock?ticker=tsla',\n",
       "   u'news.thestreet.com/independent/quote/tsla.html',\n",
       "   u'fortune.com/fortune500/tesla-motors-588']],\n",
       " [u'this german newspaper',\n",
       "  [u'merkur.de/lokales/muenchen-lk/garching-ort28709/spektakulaere-rettung-auf-a9-tesla-stoppt-wagen-ausser-kontrolle-7399151.html']],\n",
       " [u'download nova launcher from google play',\n",
       "  [u'play.google.com/store/apps/details?id=com.teslacoilsw.launcher&hl=en']],\n",
       " [u'teslas model s', [u'mashable.com/category/tesla-model-s']],\n",
       " [u'in 2019 or 2020',\n",
       "  [u'autonews.com/article/20170318/oem03/303209983/pininfarina-designed-tesla-fighter-due-in-2019-20']],\n",
       " [u'which you can download from the play store',\n",
       "  [u'play.google.com/store/apps/details?id=com.teslacoilsw.launcher']],\n",
       " [u'autonews',\n",
       "  [u'europe.autonews.com/article/20170126/ane/170129888/audi-workers-strike-at-hungary-engine-plant',\n",
       "   u'autonews.com/article/20170424/oem/304249958/can-buicks-avenir-track-denalis-ascent',\n",
       "   u'europe.autonews.com/article/20170202/ane/170209950/alfas-relaunch-costs-will-be-recouped-by-platform-sharing-with',\n",
       "   u'autonews.com/article/20170213/retail07/302139950/alfa-fiat-dealers-fight-the-factory',\n",
       "   u'europe.autonews.com/article/20170324/ane/170329910/vws-seat-plans-to-expand-in-n-africa-latin-america',\n",
       "   u'europe.autonews.com/article/20170330/ane/170339999/toyota-recalls-2-9-million-vehicles-over-takata-airbags',\n",
       "   u'europe.autonews.com/article/20170315/ane/170319910/audi-will-launch-q4-in-2019-in-suv-push',\n",
       "   u'autonews.com/article/20170203/oem11/170209913/bmw-to-recall-230117-u-s-vehicles-with-takata-airbags',\n",
       "   u'europe.autonews.com/article/20170102/ane/170109990/tesla-postpones-brexit-price-increase-in-uk',\n",
       "   u'autonews.com/article/20170313/oem11/303139937',\n",
       "   u'europe.autonews.com/article/20170329/ane/170329829/mitsubishi-open-to-helping-renault-in-southeast-asia',\n",
       "   u'autonews.com/article/20170130/oem06/301309983/lexus-says-safety-functions-set-ls-apart',\n",
       "   u'autonews.com/article/20170224/oem04/170229911/jeep-compass-priced-from-22090',\n",
       "   u'autonews.com/article/20170424/oem11/304249988/new-airbag-injury-highlights-honda-s-struggle',\n",
       "   u'autonews.com/article/20170307/copy01/303079941/new-opel-corsa-delayed-as-psa-pushes-technical-convergence',\n",
       "   u'europe.autonews.com/article/20170120/ane/170129993/daimler-will-begin-building-russia-plant-in-2018-report-says',\n",
       "   u'autonews.com/article/20170227/oem04/302279958/a-major-face-lift-for-buick-enclave',\n",
       "   u'autonews.com/article/20170127/retail06/301279881/fca-adding-as-many-as-400-u-s-dealerships-sources-say',\n",
       "   u'europe.autonews.com/article/20170325/copy/303259999/mclaren-supercar-gets-stratospheric-price',\n",
       "   u'autonews.com/article/20170531/copy01/305319974/bmw-wins-license-to-export-from-china',\n",
       "   u'autonews.com/article/20170123/oem11/301239815/1128',\n",
       "   u'autonews.com/article/20170424/oem03/304249964/land-rover-hits-landwind-headwind',\n",
       "   u'europe.autonews.com/article/20170423/ane/170409858/audis-a8-self-driving-tech-depends-on-regulatory-changes',\n",
       "   u'autonews.com/article/20170201/copy01/302019945/vw-bosch-agree-to-pay-1-6-billion-to-settle-u-s-diesel-claims',\n",
       "   u'autonews.com/article/20170320/copy01/303209921/gms-opel-cleared-on-diesel-emissions-by-french-watchdog',\n",
       "   u'europe.autonews.com/article/20170328/ane/170329872/opel-counts-on-new-insignia-to-turn-heads-of-premium-buyers',\n",
       "   u'autonews.com/article/20170220/oem10/302209963/steering-supplier-jtekt-begins-reinventing-the-wheel',\n",
       "   u'europe.autonews.com/article/20170601/ane/170609998/audis-new-a8-flagship-will-get-48-volt-tech-to-boost-economy',\n",
       "   u'europe.autonews.com/article/20170413/ane/170419902/volvo-will-build-first-ev-in-china-for-export-sources-say',\n",
       "   u'europe.autonews.com/article/20170603/ane/170609944/toyotas-europe-focus-for-c-hr-pays-off',\n",
       "   u'autonews.com/article/20170116/oem03/301169958/lexus-execs-see-holes-in-the-lineup',\n",
       "   u'europe.autonews.com/article/20170108/ane/170109854/vw-will-add-electric-suv-exec-says',\n",
       "   u'europe.autonews.com/article/20170315/ane/170319900/opel-will-push-ahead-with-evs-flagship-suv-under-psa-ownership',\n",
       "   u'autonews.com/article/20170320/oem04/303209964/vw-to-launch-t-roc-in-u-s-in-19',\n",
       "   u'autonews.com/article/20170123/global03/301239824/lincoln-dials-back-in-china',\n",
       "   u'autonews.com/article/20170406/copy01/304079998/jeep-nissan-fiat-infiniti-among-brands-skipping-frankfurt-auto-show',\n",
       "   u'autonews.com/article/20170201/retail03/170139940/toyota-will-run-mirai-super-bowl-spot-in-l-a-san-francisco',\n",
       "   u'autonews.com/article/20170106/oem04/170109876/mitsubishi-to-drop-lancer-under-crossover-push',\n",
       "   u'autonews.com/article/20170121/retail03/301239831/nissan-seeks-sequel-to-rogue-one-campaign',\n",
       "   u'europe.autonews.com/article/20170406/ane/170409883/opel-confirms-new-suvs-will-be-built-in-germany',\n",
       "   u'autonews.com/article/20170123/copy01/301239779/vw-evs-will-debut-5g-connectivity-services',\n",
       "   u'europe.autonews.com/article/20170105/ane/161229996/vws-uber-challenger-will-borrow-ideas-from-budd-e-concept']],\n",
       " [u'merker',\n",
       "  [u'merkur.de/lokales/muenchen-lk/garching-ort28709/spektakulaere-rettung-auf-a9-tesla-stoppt-wagen-ausser-kontrolle-7399151.html']],\n",
       " [u'biographycom',\n",
       "  [u'biography.com/people/florence-joyner-9542053',\n",
       "   u'biography.com/people/angela-davis-9267589#early-life',\n",
       "   u'biography.com/people/lynette-woodard-533268',\n",
       "   u'biography.com/people/nikola-tesla-9504443#synopsis',\n",
       "   u'biography.com/people/martin-luther-king-jr-9365086#early-years',\n",
       "   u'biography.com/people/william-joyce-17172178#arrest-and-trial',\n",
       "   u'biography.com/people/moms-mabley-38691',\n",
       "   u'biography.com/people/sandra-day-oconnor-9426834',\n",
       "   u'biography.com/people/chuck-berry-9210488',\n",
       "   u'biography.com/people/elizabeth-blackwell-9214198',\n",
       "   u'biography.com/people/nikki-giovanni-9312272#popular-poetry',\n",
       "   u'biography.com/people/michael-vick-241100',\n",
       "   u'biography.com/people/roger-federer-13612203#tennis-star',\n",
       "   u'biography.com/people/groups/manson-family',\n",
       "   u'biography.com/people/martin-luther-king-jr-9365086#montgomery-bus-boycott',\n",
       "   u'biography.com/people/harriet-tubman-9511430',\n",
       "   u'biography.com/people/bessie-coleman-36928#death',\n",
       "   u'biography.com/people/millard-fillmore-9295008']],\n",
       " [u'similar poll on the tesla model 3 owners group',\n",
       "  [u'facebook.com/groups/teslamotorsmodel3/permalink/710954719082390']],\n",
       " [u'the economic times',\n",
       "  [u'economictimes.indiatimes.com/news/politics-and-nation/anupam-kher-to-play-manmohan-singh-in-movie-based-on-sanjoy-barus-book-the-accidental-prime-minister/articleshow/59008565.cms?from=mdr',\n",
       "   u'economictimes.indiatimes.com/news/politics-and-nation/uidai-set-for-an-image-makeover-to-spend-rs-30-crore-for-its-media-campaign/articleshow/38229744.cms?from=mdr',\n",
       "   u'economictimes.indiatimes.com/small-biz/startups/shared-services-of-ola-uber-illegal-in-karnataka-transport-commissioner/articleshow/56793666.cms',\n",
       "   u'economictimes.indiatimes.com/small-biz/startups/tesla-in-india-elon-musk-hints-at-possible-summer-launch/articleshow/57035714.cms',\n",
       "   u'economictimes.indiatimes.com/topic/the-economic-times',\n",
       "   u'economictimes.indiatimes.com/news/politics-and-nation/punjab-assembly-elections-chorus-grows-louder-to-announce-captain-amarinder-singh-as-congress-cm-candidate/articleshow/56648164.cms',\n",
       "   u'economictimes.indiatimes.com/news/politics-and-nation/arrogance-of-alliance-responsible-for-sps-debacle-says-mulayam-singh-yadav/articleshow/57599673.cms',\n",
       "   u'economictimes.indiatimes.com/small-biz/startups/practo-technologies-sacks-150-employees-as-part-of-annual-performance-cycle/articleshow/58056510.cms',\n",
       "   u'washingtontimes.com/topics/the-economic-times',\n",
       "   u'economictimes.indiatimes.com/news/politics-and-nation/government-offices-set-ablaze-in-kohima-situation-deteriorating-fast-in-nagaland/articleshow/56937847.cms',\n",
       "   u'economictimes.indiatimes.com/news/politics-and-nation/cbi-raids-ndtv-founder-prannoy-roys-home/articleshow/58997117.cms',\n",
       "   u'economictimes.indiatimes.com/news/politics-and-nation/how-pm-modi-is-rewriting-diplomacy-one-hug-at-a-time/narendra-modi-donald-trump/slideshow/59337236.cms',\n",
       "   u'economictimes.indiatimes.com/industry/transportation/airlines-/-aviation/gmr-tata-realty-hiranandani-pulls-out-of-navi-mumbai-airport-bid/articleshow/56325143.cm',\n",
       "   u'economictimes.indiatimes.com/news/politics-and-nation/cpm-parliamentarian-ritabrata-banerjee-suspended-by-party-for-using-expensive-gadgets/articleshow/58961811.cms',\n",
       "   u'economictimes.indiatimes.com/small-biz/startups/flipkart-looks-to-forge-1-5-billion-deal-with-ebay-and-tencent-to-take-on-amazon-and-alibaba/articleshow/57657861.cms',\n",
       "   u'economictimes.indiatimes.com/news/politics-and-nation/largest-realty-scam-in-telangana-worth-rs-15000-crore-google-microsoft-also-affected/articleshow/59317733.cms',\n",
       "   u'economictimes.indiatimes.com/news/politics-and-nation/jds-helps-bjp-retain-legislative-council-chairman-post-in-karnataka-assembly/articleshow/59168328.cms',\n",
       "   u'economictimes.indiatimes.com/industry/cons-products/food/defences-csd-suspends-sale-of-patanjalis-amla-juice/articleshow/58332920.cms',\n",
       "   u'economictimes.indiatimes.com/industry/energy/oil-gas/petrol-pumps-threaten-to-stop-accepting-cards-from-monday-to-protest-banks-transaction-fee/articleshow/56404163.cms']],\n",
       " [u'arriving for the first time this year on fortune\\u2019s annual register of the biggest us companies',\n",
       "  [u'fortune.com/fortune500/tesla']],\n",
       " [u'german newspaper',\n",
       "  [u'merkur.de/lokales/muenchen-lk/garching-ort28709/spektakulaere-rettung-auf-a9-tesla-stoppt-wagen-ausser-kontrolle-7399151.html']],\n",
       " [u'an article was published',\n",
       "  [u'autonews.com/article/20170621/oem05/170629941/jd-power-iqs-tesla']],\n",
       " [u'had begun manufacturing',\n",
       "  [u'engineering.com/electronicsdesign/electronicsdesignarticles/articleid/14054/tesla-gigafactory-goes-live.aspx']],\n",
       " [u'tesla stock', [u'insideevs.com/tag/tesla-stock']],\n",
       " [u'according to german newspaper muenchner merkur',\n",
       "  [u'merkur.de/lokales/muenchen-lk/garching-ort28709/spektakulaere-rettung-auf-a9-tesla-stoppt-wagen-ausser-kontrolle-7399151.html']],\n",
       " [u'local media',\n",
       "  [u'ahoragranada.com/noticia/varios-heridos-al-producirse-una-explosion-en-una-carniceria-de-durcal',\n",
       "   u'focus.de/politik/deutschland/in-deutschland-geboren-duisburger-klassenlehrer-schildert-drama-von-abschiebung-einer-14-jaehrigen-nach-nepal_id_7204203.html',\n",
       "   u'merkur.de/lokales/muenchen-lk/garching-ort28709/spektakulaere-rettung-auf-a9-tesla-stoppt-wagen-ausser-kontrolle-7399151.html']],\n",
       " [u'google playstore',\n",
       "  [u'play.google.com/store/apps/details?id=com.teslacoilsw.launcher&hl=en']],\n",
       " [u'save an unconscious man',\n",
       "  [u'merkur.de/lokales/muenchen-lk/garching-ort28709/spektakulaere-rettung-auf-a9-tesla-stoppt-wagen-ausser-kontrolle-7399151.html']],\n",
       " [u'tesla amp twain', [u'deadline.com/tag/tesla-twain']],\n",
       " [u'good launcher',\n",
       "  [u'play.google.com/store/apps/details?id=com.teslacoilsw.launcher&hl=en']],\n",
       " [u'gigafactory',\n",
       "  [u'autoevolution.com/newstag/tesla%20gigafactory',\n",
       "   u'insideevs.com/tag/gigafactory']],\n",
       " [u'383', [u'fortune.com/fortune500/tesla']],\n",
       " [u'interview',\n",
       "  [u'herald.ng/tag/interview',\n",
       "   u'theparisreview.org/interviews/3196/gabriel-garcia-marquez-the-art-of-fiction-no-69-gabriel-garcia-marquez',\n",
       "   u'interviewmagazine.com/film/billie-lourd#_',\n",
       "   u'abcnyheter.no/nyheter/2017/03/17/195286382/jodisk-forstander-provosert-av-sv-forslag-mot-omskjaering',\n",
       "   u'dr.dk/nyheder/regionale/nordjylland/skoleopgave-foerte-til-opdagelsen-af-tysk-fly-og-pilot-fra-2',\n",
       "   u'africanexaminer.com/category/interview',\n",
       "   u'gina.gov.gy/tag/interview',\n",
       "   u'theguardian.com/books/2015/aug/07/science-fiction-realism-kim-stanley-robinson-alistair-reynolds-ann-leckie-interview',\n",
       "   u'gerweck.net/tag/interview',\n",
       "   u'marieclaire.com/celebrity/a26335/fresh-faces-2017',\n",
       "   u'womansera.com/tag/interview',\n",
       "   u'catch21.co.uk/tag/interview',\n",
       "   u'theguardian.com/books/2011/aug/21/jennifer-egan-interview-observer',\n",
       "   u'power92chicago.com/tag/interview',\n",
       "   u'pochta.rian.ru/owa/redir.aspx?c=cfey6n4u2qe7rs7rarvlqhpfykh0ubjttf-ugvkkh4bq1irsinzuca..&url=https%3a%2f%2fwww.youtube.com%2fwatch%3fv%3dk8oovgaos-e',\n",
       "   u'people.squeakfoundation.org/person/gcorriga/diary.html?start=8',\n",
       "   u'talkbackwithchuckwilder.blogspot.com/2017/04/44-bob-gray-john-lippold-alex-newman.html',\n",
       "   u'bloomberg.com/quote/dwni:gr',\n",
       "   u'zyzzyva.org/tag/interview',\n",
       "   u'emmytvlegends.org/interviews/people/adam-west',\n",
       "   u'autocar.co.uk/car-news/new-cars/peugeot-chief-no-new-performance-cars-\\u2018until-we\\u2019re-truly-global',\n",
       "   u'europe.autonews.com/article/20160714/ane/160709932/italdesign-eyes-apple-google-tesla-to-reduce-reliance-on-vw-group',\n",
       "   u'indiewire.com/t/interview',\n",
       "   u'marieclaire.com/celebrity/a25191/scarlett-johansson-march-2017-cover',\n",
       "   u'instyle.com/celebrity/victoria-beckham-april-cover',\n",
       "   u'nyunews.com/tag/interview',\n",
       "   u'thelafashion.com/aut_cont/interview',\n",
       "   u'brevity.wordpress.com/tag/interview',\n",
       "   u'elle.com/culture/celebrities/news/a43651/anne-hathaway-april-2017-elle-cover-reveal',\n",
       "   u'bearswire.usatoday.com/tag/interview',\n",
       "   u'itbusiness.ca/news/globalive-ceo-tony-lacavera-on-3-ways-canada-can-foster-a-culture-of-innovation/84537',\n",
       "   u'abcnews.go.com/topics/news/whitehouse/scott-pruitt.htm',\n",
       "   u'landscapearchitecturemagazine.org/category/interview',\n",
       "   u'marca.com/en/football/barcelona/2017/06/14/59415f77e5fdea4b748b4623.html',\n",
       "   u'sportingnews.com/wwe/news/goldberg-wwe-royal-rumble-wrestlemania-brock-lesnar-survivor-series-atlanta-falcons-georgia-dome-hulk-hogan/uyywgqntwgxp1gdu9hkpn4zc6',\n",
       "   u'jacquelinemhadel.com/tag/interview',\n",
       "   u'eyeonannapolis.net/tag/interview',\n",
       "   u'wwd.com/eye/parties/bella-hadid-acting-ambitions-10818498',\n",
       "   u'skysports.com/football/news/11838/10651192/antonie-griezmann-wants-to-play-alongside-paul-pogba-at-club-level',\n",
       "   u'elle.com/culture/celebrities/news/a40311/miley-cyrus-on-liam-hemsworth-engagement-ring',\n",
       "   u'allthingsd.com/tag/interview',\n",
       "   u'dailycollegian.com/tag/interview',\n",
       "   u'muthamagazine.com/tag/interview-2',\n",
       "   u'espn.com/golf/story/_/id/18750532/fellow-pro-pat-perez-think-tiger-woods-plays-again-year',\n",
       "   u'news.com.au/entertainment/tv/tv-shows/wentworth-spoiler-warning-will-the-freak-escape-being-buried-alive/news-story/f29d6ee0847c3b7b7296d17b9281d6b8',\n",
       "   u'emmytvlegends.org/interviews/people/albert-freedman',\n",
       "   u'lennyletter.com/culture/interviews/a527/the-lenny-interview-amy-schumer',\n",
       "   u'vogue.co.uk/shows/spring-summer-2008-ready-to-wear/hussein-chalayan',\n",
       "   u'lbc.co.uk/radio/presenters/iain-dale/ken-livingstones-remarkable-lbc-interview-in-full',\n",
       "   u'timesofindia.indiatimes.com/city/pune/alok-vaid-menon-pune-spoken-word/articleshow/56762168.cms',\n",
       "   u'msn.com/en-us/sports/golf/agent-tiger-woods-in-a-clinic-for-handling-pain-medications/ar-bbcxhfp',\n",
       "   u'soundcloud.com/kiis1065/15217-kyle-and-jackie-o-show-631',\n",
       "   u'news.com.au/entertainment/tv/flashback/alyson-hannigan-reveals-her-frustration-with-how-i-met-your-mother-finale/news-story/4015f97ed147e6604680a5e66e9dc5ba',\n",
       "   u'luxuryactivist.com/on-the-spot/gaby-machado-entrevista-exclusiva-para-luxuryactivist-com',\n",
       "   u'empireonline.com/people/bill-skarsgard/stephen-king-exclusive-terrifying-new-look-pennywise-clown',\n",
       "   u'abc7news.com/sports/abc-news-exclusive-curry-defends-wifes-comments-from-2016-nba-finals/2062177',\n",
       "   u'solarsystem.nasa.gov/people/romann',\n",
       "   u'oe1.orf.at/player/20170531/475275',\n",
       "   u'wwd.com/fashion-news/fashion-scoops/karl-lagerfeld-chanel-meryl-streep-passed-on-oscar-dress-when-chanel-oscar-dress-10817502',\n",
       "   u'esquire.co.uk/culture/film/longform/a13033/keanu-reeves-john-wick-2-interview',\n",
       "   u'archdaily.com/tag/interview',\n",
       "   u'open.spotify.com/artist/6eukzxakkcvih0ku9w2n3v']],\n",
       " [u'nova launcher',\n",
       "  [u'androidcommunity.com/tag/nova-launcher',\n",
       "   u'play.google.com/store/apps/details?id=com.teslacoilsw.launcher&hl=en',\n",
       "   u'gadgets.ndtv.com/tags/nova-launcher',\n",
       "   u'androidcentral.com/app/nova-launcher',\n",
       "   u'androidpit.com/topic/nova-launcher',\n",
       "   u'play.google.com/store/apps/details?id=com.teslacoilsw.launcher',\n",
       "   u'androidauthority.com/tag/nova-launcher',\n",
       "   u'androidguys.com/tag/nova-launcher']]]"
      ]
     },
     "execution_count": 24,
     "metadata": {},
     "output_type": "execute_result"
    }
   ],
   "source": [
    "sc\\\n",
    "    .textFile(ats_path)\\\n",
    "    .map(json.loads)\\\n",
    "    .filter(lambda (a, ts): any('tesla' in url for url in ts))\\\n",
    "    .collect()"
   ]
  },
  {
   "cell_type": "code",
   "execution_count": null,
   "metadata": {},
   "outputs": [],
   "source": []
  },
  {
   "cell_type": "code",
   "execution_count": 54,
   "metadata": {},
   "outputs": [
    {
     "data": {
      "text/plain": [
       "147823975"
      ]
     },
     "execution_count": 54,
     "metadata": {},
     "output_type": "execute_result"
    }
   ],
   "source": [
    "import string\n",
    "strip_punc = {ord(s):u'' for s in string.punctuation}\n",
    "\n",
    "def filter_doc_endpoint_links(doc):\n",
    "    links = []\n",
    "    for l in doc['links']:\n",
    "        if l['endpoint'] >= 0.9:\n",
    "            anchor = doc['text'][l['start']:l['stop']].lower().strip().translate(strip_punc)\n",
    "            if anchor not in bad_anchors and len(anchor) < 50:\n",
    "                l['anchor'] = anchor\n",
    "                l['target'] = normalize_url(l['target'])\n",
    "                links.append(l)\n",
    "    doc['links'] = links\n",
    "    return doc\n",
    "\n",
    "ats_path = 'hdfs://schwa11:9000/commoncrawl/web/201707-ats/'\n",
    "if False:\n",
    "    docs = sc\\\n",
    "        .textFile('hdfs://schwa11:9000/commoncrawl/web/201707-endpoints/')\\\n",
    "        .map(json.loads)\\\n",
    "        .map(filter_doc_endpoint_links)\\\n",
    "        .filter(lambda d: d['links'])\n",
    "\n",
    "    docs\\\n",
    "        .flatMap(lambda d: ((l['anchor'], l['target']) for l in d['links']))\\\n",
    "        .map(json.dumps)\\\n",
    "        .saveAsTextFile(ats_path, compressionCodecClass=\"org.apache.hadoop.io.compress.GzipCodec\")\n",
    "\n",
    "anchor_target_pairs = sc.textFile(ats_path).map(json.loads).cache()\n",
    "anchor_target_pairs.count()"
   ]
  },
  {
   "cell_type": "code",
   "execution_count": 31,
   "metadata": {},
   "outputs": [],
   "source": [
    "if False:\n",
    "    !hadoop fs -rm -r hdfs://schwa11:9000/commoncrawl/web/201707-mentions\n",
    "    em = text.EntityMentions(sentence_window=3, lowercase=True, normalize_url=False, strict_sentences=False)\n",
    "    em(docs)\\\n",
    "        .map(lambda m: (m['_id'], m))\\\n",
    "        .foldByKey([], fold_mention, 2048)\\\n",
    "        .mapValues(lambda ms: [(m['source'], get_ngrams(m['text'][slice(*m['span'])]), get_ngrams(m['text'])) for m in ms])\\\n",
    "        .repartition(2048)\\\n",
    "        .map(json.dumps)\\\n",
    "        .saveAsTextFile(mentions_path, compressionCodecClass=\"org.apache.hadoop.io.compress.GzipCodec\")"
   ]
  },
  {
   "cell_type": "code",
   "execution_count": 32,
   "metadata": {},
   "outputs": [],
   "source": [
    "mentions_path = 'hdfs://schwa11:9000/commoncrawl/web/201707-mentions/'\n",
    "mentions_by_target = sc.textFile(mentions_path).map(json.loads)\n",
    "\n",
    "agg_mentions_by_target = mentions_by_target.mapValues(aggregate_mentions).persist()\n",
    "num_entities = agg_mentions_by_target.count()"
   ]
  },
  {
   "cell_type": "code",
   "execution_count": 33,
   "metadata": {},
   "outputs": [
    {
     "data": {
      "text/plain": [
       "10970267"
      ]
     },
     "execution_count": 33,
     "metadata": {},
     "output_type": "execute_result"
    }
   ],
   "source": [
    "num_entities"
   ]
  },
  {
   "cell_type": "markdown",
   "metadata": {},
   "source": [
    "# cc-news"
   ]
  },
  {
   "cell_type": "code",
   "execution_count": 82,
   "metadata": {},
   "outputs": [],
   "source": [
    "if False:\n",
    "    def filter_doc_endpoint_links(doc):\n",
    "        links = []\n",
    "        for l in doc['links']:\n",
    "            if l['endpoint'] >= 0.95:\n",
    "                anchor = doc['text'][l['start']:l['stop']].lower().strip().translate(strip_punc)\n",
    "                if anchor not in bad_anchors and len(anchor) < 50:\n",
    "                    l['anchor'] = anchor\n",
    "                    l['target'] = normalize_url(l['target'])\n",
    "                    links.append(l)\n",
    "        doc['links'] = links\n",
    "        return doc\n",
    "\n",
    "    docs = sc\\\n",
    "        .textFile(data_path + '/docs')\\\n",
    "        .map(json.loads)\\\n",
    "        .map(filter_doc_endpoint_links)\\\n",
    "        .filter(lambda d: d['links'])\\\n",
    "        .map(lambda d: (d['_id'], d))\\\n",
    "        .groupByKey()\\\n",
    "        .map(lambda (k, ds): list(ds)[0])\\\n",
    "        .cache()\n",
    "    docs.count()\n",
    "\n",
    "    em = text.EntityMentions(sentence_window=3, lowercase=True, normalize_url=False, strict_sentences=False)\n",
    "\n",
    "    mentions_by_target = em(docs)\\\n",
    "        .map(lambda m: (m['_id'], m))\\\n",
    "        .foldByKey([], fold_mention, 1000)\\\n",
    "        .mapValues(lambda ms: [(m['source'], get_ngrams(m['text'][slice(*m['span'])]), get_ngrams(m['text'])) for m in ms])\\\n",
    "        .repartition(512)\\\n",
    "        .cache()\n",
    "    agg_mentions_by_target = mentions_by_target.mapValues(aggregate_mentions).cache()"
   ]
  },
  {
   "cell_type": "code",
   "execution_count": 28,
   "metadata": {},
   "outputs": [
    {
     "data": {
      "text/plain": [
       "3914438"
      ]
     },
     "execution_count": 28,
     "metadata": {},
     "output_type": "execute_result"
    }
   ],
   "source": [
    "import string\n",
    "strip_punc = {ord(s):u'' for s in string.punctuation}\n",
    "\n",
    "anchor_target_pairs = docs\\\n",
    "    .flatMap(lambda d: (\n",
    "            (d['text'][l['start']:l['stop']].lower().strip().translate(strip_punc), l['target']) for l in d['links']))\\\n",
    "    .filter(lambda (a, t): a not in bad_anchors)\\\n",
    "    .cache()\n",
    "anchor_target_pairs.count()"
   ]
  },
  {
   "cell_type": "code",
   "execution_count": 29,
   "metadata": {},
   "outputs": [],
   "source": [
    "#MODEL_ID = 'simple_2_2.rf.kbco.model'\n",
    "#model.write().overwrite().save(MODEL_ID)"
   ]
  },
  {
   "cell_type": "markdown",
   "metadata": {},
   "source": [
    "## Cluster Entities"
   ]
  },
  {
   "cell_type": "code",
   "execution_count": 58,
   "metadata": {},
   "outputs": [],
   "source": [
    "from tqdm import tqdm_notebook as tqdm\n",
    "import xxhash\n",
    "from pybloom import ScalableBloomFilter\n",
    "\n",
    "from itertools import izip_longest\n",
    "def grouper(iterable, n):\n",
    "    args = [iter(iterable)] * n\n",
    "    return izip_longest(*args)\n",
    "\n",
    "def fold_aggregate_mentions(agg_mentions, mention):\n",
    "    a_anchors, a_texts = agg_mentions\n",
    "    b_anchors, b_texts = mention\n",
    "    \n",
    "    if len(b_anchors) < len(a_anchors):\n",
    "        a_anchors, b_anchors = b_anchors, a_anchors\n",
    "    if len(b_texts) < len(a_texts):\n",
    "        a_texts, b_texts = b_texts, a_texts\n",
    "    \n",
    "    for k, v in a_anchors.iteritems():\n",
    "        b_anchors[k] += v\n",
    "    for k, v in a_texts.iteritems():\n",
    "        b_texts[k] += v\n",
    "    \n",
    "    return b_anchors, b_texts\n",
    "\n",
    "def share_an_endpoint(a, b, endpoints_by_target):\n",
    "    a, b = endpoints_by_target[a], endpoints_by_target[b]\n",
    "    if len(b) < len(a):\n",
    "        a, b = b, a\n",
    "    for i in a:\n",
    "        if i in b:\n",
    "            return True\n",
    "    return False\n",
    "\n",
    "def get_decisions(redirects, anchor_targets, target_counts, decided_pairs, endpoints_by_target, mulitple_decision_per_entity=False, max_decisions=1000000):\n",
    "    decision_entities = set()\n",
    "    decisions = []\n",
    "    num_subsampled = 0\n",
    "\n",
    "    anchors = anchor_targets.keys()\n",
    "    random.shuffle(anchors)\n",
    "    \n",
    "    progress = tqdm(anchors)\n",
    "    for anchor in progress:\n",
    "        targets = anchor_targets[anchor]\n",
    "        targets = set(redirects.get(t, t) for t in targets)\n",
    "        if not mulitple_decision_per_entity:\n",
    "            targets = [t for t in targets if t not in decision_entities]\n",
    "        else:\n",
    "            targets = list(targets)\n",
    "        if len(targets) >= 2:\n",
    "            if len(targets) >= 100:\n",
    "                random.shuffle(targets)\n",
    "            \n",
    "            for tgts in grouper(targets, 100):\n",
    "                if tgts[-1] == None:\n",
    "                    tgts = [t for t in tgts if t != None]\n",
    "                    if len(tgts) < 2:\n",
    "                        break\n",
    "                #targets = sorted(tgts, key=lambda k: target_counts[k], reverse=True)\n",
    "                candidates = combinations(tgts, 2) if mulitple_decision_per_entity else grouper(tgts, 2)\n",
    "                for x, y in candidates:\n",
    "                    if x is None or y is None:\n",
    "                        break\n",
    "                    #for x, y in sorted(combinations(tgts, 2), key=lambda (a,b): min(target_counts[a], target_counts[b]), reverse=True):\n",
    "                    #if mulitple_decision_per_entity or (x not in decision_entities and y not in decision_entities):\n",
    "                    key = (x, y) if x < y else (y, x)\n",
    "                    key = xxhash.xxh64('|'.join([x, y, str(target_counts[x]), str(target_counts[y])]).encode('utf-8')).hexdigest()\n",
    "                    if key not in decided_pairs:\n",
    "                        decided_pairs.add(key)\n",
    "\n",
    "                        if not share_an_endpoint(x, y, endpoints_by_target):\n",
    "                            decisions.append((x, y))\n",
    "                            decision_entities.add(x)\n",
    "                            decision_entities.add(y)\n",
    "                            if len(decisions) % 10000 == 0:\n",
    "                                progress.set_description(\"%i decisions\" % len(decisions))\n",
    "                            if len(decisions) >= max_decisions:\n",
    "                                break\n",
    "                if len(decisions) >= max_decisions:\n",
    "                    break\n",
    "            if len(decisions) >= max_decisions:\n",
    "                break\n",
    "\n",
    "    return decisions, num_subsampled\n",
    "\n",
    "def light_resolve_decisions(model, redirects, decisions, agg_mentions_by_target):\n",
    "    decision_entities = {}\n",
    "    for i, (x, y) in enumerate(decisions):\n",
    "        decision_entities.setdefault(x, []).append(i)\n",
    "        decision_entities.setdefault(y, []).append(i)\n",
    "    \n",
    "    print('Broadcasting..')\n",
    "    #decision_entities_bc = sc.broadcast(decision_entities)\n",
    "    #redirects_bc = sc.broadcast({\n",
    "    #    k: v for k, v in redirects.iteritems()\n",
    "    #    if k in decision_entities or v in decision_entities\n",
    "    #})\n",
    "    redirects_min = {\n",
    "        k: v for k, v in redirects.iteritems()\n",
    "        if k in decision_entities or v in decision_entities\n",
    "    }\n",
    "\n",
    "    try:\n",
    "        print('Clustering..')\n",
    "        instances = agg_mentions_by_target\\\n",
    "            .map(lambda (t, ms): (redirects_min.get(t, t), ms))\\\n",
    "            .filter(lambda (t, ms): t in decision_entities)\\\n",
    "            .foldByKey((Counter(), Counter()), fold_aggregate_mentions)\\\n",
    "            .flatMap(lambda (t, ms): ((iid, (t, ms)) for iid in decision_entities[t]))\\\n",
    "            .groupByKey()\\\n",
    "            .filter(lambda (iid, ms): len(ms) == 2)\\\n",
    "            .map(lambda (iid, ((x, x_mentions), (y, y_mentions))): (x, y, get_base_features(x_mentions, y_mentions)))\\\n",
    "            .toDF(['x', 'y', 'base_features'])\n",
    "        results = model.transform(instances).rdd.map(lambda r: (r['x'], r['y'], r['probability'][1])).collect()\n",
    "    finally:\n",
    "        pass\n",
    "        #redirects_bc.unpersist(blocking=True)\n",
    "        #redirects_bc.destroy()\n",
    "        #decision_entities_bc.unpersist(blocking=True)\n",
    "        #decision_entities_bc.destroy()\n",
    "\n",
    "    return results\n",
    "\n",
    "def resolve_decisions(model, clusters, decisions):\n",
    "    instances = sc\\\n",
    "        .parallelize(decisions)\\\n",
    "        .zipWithUniqueId()\\\n",
    "        .flatMap(lambda ((x, y), iid): [(x, iid), (y, iid)])\\\n",
    "        .join(clusters)\\\n",
    "        .map(lambda (target, (iid, mentions)): (iid, (target, mentions)))\\\n",
    "        .groupByKey()\\\n",
    "        .filter(lambda (iid, ms): len(ms) == 2)\\\n",
    "        .map(lambda (iid, ((x, x_mentions), (y, y_mentions))): (x, y, get_base_features(x_mentions, y_mentions)))\\\n",
    "        .toDF(['x', 'y', 'base_features'])\n",
    "\n",
    "    return model.transform(instances)\\\n",
    "        .rdd\\\n",
    "        .map(lambda r: (r['x'], r['y'], r['probability'][1]))\\\n",
    "        .collect()\n",
    "\n",
    "#def transitive_resolve(source, redirects):\n",
    "#    target = redirects[source]\n",
    "#    while source != target:\n",
    "#        source = target\n",
    "#        target = redirects[source]\n",
    "#    return target\n",
    "\n",
    "def apply_merges(redirects, merges, target_counts, endpoints_by_target):\n",
    "    sources_by_target = {}\n",
    "    for src, target in redirects.iteritems():\n",
    "        sources_by_target.setdefault(target, set()).add(src)\n",
    "\n",
    "    for x, y, merge_prob in merges:\n",
    "        if merge_prob >= 0.5:\n",
    "            x = redirects.get(x, x)\n",
    "            y = redirects.get(y, y)\n",
    "            if x != y and not share_an_endpoint(x, y, endpoints_by_target):\n",
    "                if target_counts[y] < target_counts[x]:\n",
    "                    x, y = y, x\n",
    "                for src in sources_by_target.get(x, set([x])):\n",
    "                    redirects[src] = y\n",
    "                    sources_by_target.setdefault(y, set()).add(src)\n",
    "                    target_counts[y] += target_counts[src]\n",
    "                    target_counts[src] = 0\n",
    "                if x in sources_by_target:\n",
    "                    del sources_by_target[x]\n",
    "                endpoints_by_target[y].update(endpoints_by_target[x])\n",
    "                del endpoints_by_target[x]\n",
    "\n",
    "    return redirects"
   ]
  },
  {
   "cell_type": "code",
   "execution_count": 56,
   "metadata": {},
   "outputs": [],
   "source": [
    "anchor_targets = dict(anchor_target_pairs\\\n",
    "    .map(tuple)\\\n",
    "    .distinct()\\\n",
    "    .groupByKey()\\\n",
    "    .mapValues(list)\\\n",
    "    .collect())\n",
    "\n",
    "target_counts = dict(anchor_target_pairs\\\n",
    "    .map(lambda (a, t): (t, 1))\\\n",
    "    .reduceByKey(add)\\\n",
    "    .collect())\n",
    "\n",
    "agg_cluster_mentions = agg_mentions_by_target\n",
    "\n",
    "decided_pairs = set() #ScalableBloomFilter(initial_capacity=int(1e8), mode=ScalableBloomFilter.SMALL_SET_GROWTH, error_rate=1e-6)\n",
    "redirects = {}\n",
    "\n",
    "#targets = agg_cluster_mentions.map(lambda (k, ms): k).collect()\n",
    "\n",
    "endpoints_by_target = defaultdict(set)\n",
    "for target in targets:\n",
    "    endpoints_by_target[target].add(normalize_endpoint_url(target))\n",
    "\n",
    "merge_history = {}\n",
    "merge_count_history = {}"
   ]
  },
  {
   "cell_type": "code",
   "execution_count": null,
   "metadata": {},
   "outputs": [
    {
     "name": "stdout",
     "output_type": "stream",
     "text": [
      "Iteration: 0\n"
     ]
    },
    {
     "data": {
      "application/vnd.jupyter.widget-view+json": {
       "model_id": "482e49e4f7d14d2fa42e34a8d7242175",
       "version_major": 2,
       "version_minor": 0
      },
      "text/html": [
       "<p>Failed to display Jupyter Widget of type <code>HBox</code>.</p>\n",
       "<p>\n",
       "  If you're reading this message in Jupyter Notebook or JupyterLab, it may mean\n",
       "  that the widgets JavaScript is still loading. If this message persists, it\n",
       "  likely means that the widgets JavaScript library is either not installed or\n",
       "  not enabled. See the <a href=\"https://ipywidgets.readthedocs.io/en/stable/user_install.html\">Jupyter\n",
       "  Widgets Documentation</a> for setup instructions.\n",
       "</p>\n",
       "<p>\n",
       "  If you're reading this message in another notebook frontend (for example, a static\n",
       "  rendering on GitHub or <a href=\"https://nbviewer.jupyter.org/\">NBViewer</a>),\n",
       "  it may mean that your frontend doesn't currently support widgets.\n",
       "</p>\n"
      ],
      "text/plain": [
       "HBox(children=(IntProgress(value=0, max=4516703), HTML(value=u'')))"
      ]
     },
     "metadata": {},
     "output_type": "display_data"
    },
    {
     "name": "stdout",
     "output_type": "stream",
     "text": [
      "\n",
      "Decisions 500000 939806 0\n",
      "Broadcasting..\n",
      "Clustering..\n",
      "Merges 464968 / 499977\n",
      "Redirects 464968\n",
      "Iteration: 1\n"
     ]
    },
    {
     "data": {
      "application/vnd.jupyter.widget-view+json": {
       "model_id": "4867302036e140b2971e0ee1727c0145",
       "version_major": 2,
       "version_minor": 0
      },
      "text/html": [
       "<p>Failed to display Jupyter Widget of type <code>HBox</code>.</p>\n",
       "<p>\n",
       "  If you're reading this message in Jupyter Notebook or JupyterLab, it may mean\n",
       "  that the widgets JavaScript is still loading. If this message persists, it\n",
       "  likely means that the widgets JavaScript library is either not installed or\n",
       "  not enabled. See the <a href=\"https://ipywidgets.readthedocs.io/en/stable/user_install.html\">Jupyter\n",
       "  Widgets Documentation</a> for setup instructions.\n",
       "</p>\n",
       "<p>\n",
       "  If you're reading this message in another notebook frontend (for example, a static\n",
       "  rendering on GitHub or <a href=\"https://nbviewer.jupyter.org/\">NBViewer</a>),\n",
       "  it may mean that your frontend doesn't currently support widgets.\n",
       "</p>\n"
      ],
      "text/plain": [
       "HBox(children=(IntProgress(value=0, max=4516703), HTML(value=u'')))"
      ]
     },
     "metadata": {},
     "output_type": "display_data"
    },
    {
     "name": "stdout",
     "output_type": "stream",
     "text": [
      "\n",
      "Decisions 500000 1819678 0\n",
      "Broadcasting..\n",
      "Clustering..\n",
      "Merges 473206 / 499990\n",
      "Redirects 896212\n",
      "Iteration: 2\n"
     ]
    },
    {
     "data": {
      "application/vnd.jupyter.widget-view+json": {
       "model_id": "31edc619cb484c6287ac8569a7b39dca",
       "version_major": 2,
       "version_minor": 0
      },
      "text/html": [
       "<p>Failed to display Jupyter Widget of type <code>HBox</code>.</p>\n",
       "<p>\n",
       "  If you're reading this message in Jupyter Notebook or JupyterLab, it may mean\n",
       "  that the widgets JavaScript is still loading. If this message persists, it\n",
       "  likely means that the widgets JavaScript library is either not installed or\n",
       "  not enabled. See the <a href=\"https://ipywidgets.readthedocs.io/en/stable/user_install.html\">Jupyter\n",
       "  Widgets Documentation</a> for setup instructions.\n",
       "</p>\n",
       "<p>\n",
       "  If you're reading this message in another notebook frontend (for example, a static\n",
       "  rendering on GitHub or <a href=\"https://nbviewer.jupyter.org/\">NBViewer</a>),\n",
       "  it may mean that your frontend doesn't currently support widgets.\n",
       "</p>\n"
      ],
      "text/plain": [
       "HBox(children=(IntProgress(value=0, max=4516703), HTML(value=u'')))"
      ]
     },
     "metadata": {},
     "output_type": "display_data"
    },
    {
     "name": "stdout",
     "output_type": "stream",
     "text": [
      "\n",
      "Decisions 500000 2870570 0\n",
      "Broadcasting..\n",
      "Clustering..\n",
      "Merges 459787 / 499972\n",
      "Redirects 1285344\n",
      "Iteration: 3\n"
     ]
    },
    {
     "data": {
      "application/vnd.jupyter.widget-view+json": {
       "model_id": "a0072d6ba05e4b108d85c4edc2ceac0b",
       "version_major": 2,
       "version_minor": 0
      },
      "text/html": [
       "<p>Failed to display Jupyter Widget of type <code>HBox</code>.</p>\n",
       "<p>\n",
       "  If you're reading this message in Jupyter Notebook or JupyterLab, it may mean\n",
       "  that the widgets JavaScript is still loading. If this message persists, it\n",
       "  likely means that the widgets JavaScript library is either not installed or\n",
       "  not enabled. See the <a href=\"https://ipywidgets.readthedocs.io/en/stable/user_install.html\">Jupyter\n",
       "  Widgets Documentation</a> for setup instructions.\n",
       "</p>\n",
       "<p>\n",
       "  If you're reading this message in another notebook frontend (for example, a static\n",
       "  rendering on GitHub or <a href=\"https://nbviewer.jupyter.org/\">NBViewer</a>),\n",
       "  it may mean that your frontend doesn't currently support widgets.\n",
       "</p>\n"
      ],
      "text/plain": [
       "HBox(children=(IntProgress(value=0, max=4516703), HTML(value=u'')))"
      ]
     },
     "metadata": {},
     "output_type": "display_data"
    },
    {
     "name": "stdout",
     "output_type": "stream",
     "text": [
      "\n",
      "Decisions 500000 3938260 0\n",
      "Broadcasting..\n",
      "Clustering..\n",
      "Merges 451046 / 499987\n",
      "Redirects 1634487\n",
      "Iteration: 4\n"
     ]
    },
    {
     "data": {
      "application/vnd.jupyter.widget-view+json": {
       "model_id": "edb54a8a3ede4982b01caef945e22a9a",
       "version_major": 2,
       "version_minor": 0
      },
      "text/html": [
       "<p>Failed to display Jupyter Widget of type <code>HBox</code>.</p>\n",
       "<p>\n",
       "  If you're reading this message in Jupyter Notebook or JupyterLab, it may mean\n",
       "  that the widgets JavaScript is still loading. If this message persists, it\n",
       "  likely means that the widgets JavaScript library is either not installed or\n",
       "  not enabled. See the <a href=\"https://ipywidgets.readthedocs.io/en/stable/user_install.html\">Jupyter\n",
       "  Widgets Documentation</a> for setup instructions.\n",
       "</p>\n",
       "<p>\n",
       "  If you're reading this message in another notebook frontend (for example, a static\n",
       "  rendering on GitHub or <a href=\"https://nbviewer.jupyter.org/\">NBViewer</a>),\n",
       "  it may mean that your frontend doesn't currently support widgets.\n",
       "</p>\n"
      ],
      "text/plain": [
       "HBox(children=(IntProgress(value=0, max=4516703), HTML(value=u'')))"
      ]
     },
     "metadata": {},
     "output_type": "display_data"
    },
    {
     "name": "stdout",
     "output_type": "stream",
     "text": [
      "\n",
      "Decisions 500000 4654842 0\n",
      "Broadcasting..\n",
      "Clustering..\n",
      "Merges 472339 / 499988\n",
      "Redirects 2064261\n",
      "Iteration: 5\n"
     ]
    },
    {
     "data": {
      "application/vnd.jupyter.widget-view+json": {
       "model_id": "0e087f63aac6479faa41cbfa5df55f1e",
       "version_major": 2,
       "version_minor": 0
      },
      "text/html": [
       "<p>Failed to display Jupyter Widget of type <code>HBox</code>.</p>\n",
       "<p>\n",
       "  If you're reading this message in Jupyter Notebook or JupyterLab, it may mean\n",
       "  that the widgets JavaScript is still loading. If this message persists, it\n",
       "  likely means that the widgets JavaScript library is either not installed or\n",
       "  not enabled. See the <a href=\"https://ipywidgets.readthedocs.io/en/stable/user_install.html\">Jupyter\n",
       "  Widgets Documentation</a> for setup instructions.\n",
       "</p>\n",
       "<p>\n",
       "  If you're reading this message in another notebook frontend (for example, a static\n",
       "  rendering on GitHub or <a href=\"https://nbviewer.jupyter.org/\">NBViewer</a>),\n",
       "  it may mean that your frontend doesn't currently support widgets.\n",
       "</p>\n"
      ],
      "text/plain": [
       "HBox(children=(IntProgress(value=0, max=4516703), HTML(value=u'')))"
      ]
     },
     "metadata": {},
     "output_type": "display_data"
    },
    {
     "name": "stdout",
     "output_type": "stream",
     "text": [
      "\n",
      "Decisions 500000 5644448 0\n",
      "Broadcasting..\n",
      "Clustering..\n",
      "Merges 440163 / 499968\n",
      "Redirects 2274994\n",
      "Iteration: 6\n"
     ]
    },
    {
     "data": {
      "application/vnd.jupyter.widget-view+json": {
       "model_id": "c603c53501c84d049f0ee06c90727e3d",
       "version_major": 2,
       "version_minor": 0
      },
      "text/html": [
       "<p>Failed to display Jupyter Widget of type <code>HBox</code>.</p>\n",
       "<p>\n",
       "  If you're reading this message in Jupyter Notebook or JupyterLab, it may mean\n",
       "  that the widgets JavaScript is still loading. If this message persists, it\n",
       "  likely means that the widgets JavaScript library is either not installed or\n",
       "  not enabled. See the <a href=\"https://ipywidgets.readthedocs.io/en/stable/user_install.html\">Jupyter\n",
       "  Widgets Documentation</a> for setup instructions.\n",
       "</p>\n",
       "<p>\n",
       "  If you're reading this message in another notebook frontend (for example, a static\n",
       "  rendering on GitHub or <a href=\"https://nbviewer.jupyter.org/\">NBViewer</a>),\n",
       "  it may mean that your frontend doesn't currently support widgets.\n",
       "</p>\n"
      ],
      "text/plain": [
       "HBox(children=(IntProgress(value=0, max=4516703), HTML(value=u'')))"
      ]
     },
     "metadata": {},
     "output_type": "display_data"
    },
    {
     "name": "stdout",
     "output_type": "stream",
     "text": [
      "\n",
      "Decisions 500000 6647858 0\n",
      "Broadcasting..\n",
      "Clustering..\n",
      "Merges 454022 / 499987\n",
      "Redirects 2577973\n",
      "Iteration: 7\n"
     ]
    },
    {
     "data": {
      "application/vnd.jupyter.widget-view+json": {
       "model_id": "00a8104d342f4c12a1318e5db96f9958",
       "version_major": 2,
       "version_minor": 0
      },
      "text/html": [
       "<p>Failed to display Jupyter Widget of type <code>HBox</code>.</p>\n",
       "<p>\n",
       "  If you're reading this message in Jupyter Notebook or JupyterLab, it may mean\n",
       "  that the widgets JavaScript is still loading. If this message persists, it\n",
       "  likely means that the widgets JavaScript library is either not installed or\n",
       "  not enabled. See the <a href=\"https://ipywidgets.readthedocs.io/en/stable/user_install.html\">Jupyter\n",
       "  Widgets Documentation</a> for setup instructions.\n",
       "</p>\n",
       "<p>\n",
       "  If you're reading this message in another notebook frontend (for example, a static\n",
       "  rendering on GitHub or <a href=\"https://nbviewer.jupyter.org/\">NBViewer</a>),\n",
       "  it may mean that your frontend doesn't currently support widgets.\n",
       "</p>\n"
      ],
      "text/plain": [
       "HBox(children=(IntProgress(value=0, max=4516703), HTML(value=u'')))"
      ]
     },
     "metadata": {},
     "output_type": "display_data"
    },
    {
     "name": "stdout",
     "output_type": "stream",
     "text": [
      "\n",
      "Decisions 500000 8020990 0\n",
      "Broadcasting..\n",
      "Clustering..\n",
      "Merges 429423 / 499974\n",
      "Redirects 2793730\n",
      "Iteration: 8\n"
     ]
    },
    {
     "data": {
      "application/vnd.jupyter.widget-view+json": {
       "model_id": "d42eaa576daf46849e7e4d3ff6648534",
       "version_major": 2,
       "version_minor": 0
      },
      "text/html": [
       "<p>Failed to display Jupyter Widget of type <code>HBox</code>.</p>\n",
       "<p>\n",
       "  If you're reading this message in Jupyter Notebook or JupyterLab, it may mean\n",
       "  that the widgets JavaScript is still loading. If this message persists, it\n",
       "  likely means that the widgets JavaScript library is either not installed or\n",
       "  not enabled. See the <a href=\"https://ipywidgets.readthedocs.io/en/stable/user_install.html\">Jupyter\n",
       "  Widgets Documentation</a> for setup instructions.\n",
       "</p>\n",
       "<p>\n",
       "  If you're reading this message in another notebook frontend (for example, a static\n",
       "  rendering on GitHub or <a href=\"https://nbviewer.jupyter.org/\">NBViewer</a>),\n",
       "  it may mean that your frontend doesn't currently support widgets.\n",
       "</p>\n"
      ],
      "text/plain": [
       "HBox(children=(IntProgress(value=0, max=4516703), HTML(value=u'')))"
      ]
     },
     "metadata": {},
     "output_type": "display_data"
    },
    {
     "name": "stdout",
     "output_type": "stream",
     "text": [
      "\n",
      "Decisions 500000 9527787 0\n",
      "Broadcasting..\n",
      "Clustering..\n",
      "Merges 436664 / 499974\n",
      "Redirects 3008410\n",
      "Iteration: 9\n"
     ]
    },
    {
     "data": {
      "application/vnd.jupyter.widget-view+json": {
       "model_id": "8aa708480eab4f719be2e7a1c2973dcb",
       "version_major": 2,
       "version_minor": 0
      },
      "text/html": [
       "<p>Failed to display Jupyter Widget of type <code>HBox</code>.</p>\n",
       "<p>\n",
       "  If you're reading this message in Jupyter Notebook or JupyterLab, it may mean\n",
       "  that the widgets JavaScript is still loading. If this message persists, it\n",
       "  likely means that the widgets JavaScript library is either not installed or\n",
       "  not enabled. See the <a href=\"https://ipywidgets.readthedocs.io/en/stable/user_install.html\">Jupyter\n",
       "  Widgets Documentation</a> for setup instructions.\n",
       "</p>\n",
       "<p>\n",
       "  If you're reading this message in another notebook frontend (for example, a static\n",
       "  rendering on GitHub or <a href=\"https://nbviewer.jupyter.org/\">NBViewer</a>),\n",
       "  it may mean that your frontend doesn't currently support widgets.\n",
       "</p>\n"
      ],
      "text/plain": [
       "HBox(children=(IntProgress(value=0, max=4516703), HTML(value=u'')))"
      ]
     },
     "metadata": {},
     "output_type": "display_data"
    },
    {
     "name": "stdout",
     "output_type": "stream",
     "text": [
      "\n",
      "Decisions 431632 11047928 0\n",
      "Broadcasting..\n",
      "Clustering..\n",
      "Merges 361885 / 431607\n",
      "Redirects 3198948\n",
      "Iteration: 10\n"
     ]
    },
    {
     "data": {
      "application/vnd.jupyter.widget-view+json": {
       "model_id": "152c81ae7cec4d3c9d2fab50d8b1bafb",
       "version_major": 2,
       "version_minor": 0
      },
      "text/html": [
       "<p>Failed to display Jupyter Widget of type <code>HBox</code>.</p>\n",
       "<p>\n",
       "  If you're reading this message in Jupyter Notebook or JupyterLab, it may mean\n",
       "  that the widgets JavaScript is still loading. If this message persists, it\n",
       "  likely means that the widgets JavaScript library is either not installed or\n",
       "  not enabled. See the <a href=\"https://ipywidgets.readthedocs.io/en/stable/user_install.html\">Jupyter\n",
       "  Widgets Documentation</a> for setup instructions.\n",
       "</p>\n",
       "<p>\n",
       "  If you're reading this message in another notebook frontend (for example, a static\n",
       "  rendering on GitHub or <a href=\"https://nbviewer.jupyter.org/\">NBViewer</a>),\n",
       "  it may mean that your frontend doesn't currently support widgets.\n",
       "</p>\n"
      ],
      "text/plain": [
       "HBox(children=(IntProgress(value=0, max=4516703), HTML(value=u'')))"
      ]
     },
     "metadata": {},
     "output_type": "display_data"
    },
    {
     "name": "stdout",
     "output_type": "stream",
     "text": [
      "\n",
      "Decisions 324407 12457639 0\n",
      "Broadcasting..\n",
      "Clustering..\n",
      "Merges 260075 / 324381\n",
      "Redirects 3328198\n",
      "Iteration: 11\n"
     ]
    },
    {
     "data": {
      "application/vnd.jupyter.widget-view+json": {
       "model_id": "4dcd27ea6df14fdb91e17f1238411711",
       "version_major": 2,
       "version_minor": 0
      },
      "text/html": [
       "<p>Failed to display Jupyter Widget of type <code>HBox</code>.</p>\n",
       "<p>\n",
       "  If you're reading this message in Jupyter Notebook or JupyterLab, it may mean\n",
       "  that the widgets JavaScript is still loading. If this message persists, it\n",
       "  likely means that the widgets JavaScript library is either not installed or\n",
       "  not enabled. See the <a href=\"https://ipywidgets.readthedocs.io/en/stable/user_install.html\">Jupyter\n",
       "  Widgets Documentation</a> for setup instructions.\n",
       "</p>\n",
       "<p>\n",
       "  If you're reading this message in another notebook frontend (for example, a static\n",
       "  rendering on GitHub or <a href=\"https://nbviewer.jupyter.org/\">NBViewer</a>),\n",
       "  it may mean that your frontend doesn't currently support widgets.\n",
       "</p>\n"
      ],
      "text/plain": [
       "HBox(children=(IntProgress(value=0, max=4516703), HTML(value=u'')))"
      ]
     },
     "metadata": {},
     "output_type": "display_data"
    },
    {
     "name": "stdout",
     "output_type": "stream",
     "text": [
      "\n",
      "Decisions 253990 13792817 0\n",
      "Broadcasting..\n",
      "Clustering..\n",
      "Merges 194411 / 253967\n",
      "Redirects 3427890\n",
      "Iteration: 12\n"
     ]
    },
    {
     "data": {
      "application/vnd.jupyter.widget-view+json": {
       "model_id": "cb7c15f49b2f4020b82e3c323649e78b",
       "version_major": 2,
       "version_minor": 0
      },
      "text/html": [
       "<p>Failed to display Jupyter Widget of type <code>HBox</code>.</p>\n",
       "<p>\n",
       "  If you're reading this message in Jupyter Notebook or JupyterLab, it may mean\n",
       "  that the widgets JavaScript is still loading. If this message persists, it\n",
       "  likely means that the widgets JavaScript library is either not installed or\n",
       "  not enabled. See the <a href=\"https://ipywidgets.readthedocs.io/en/stable/user_install.html\">Jupyter\n",
       "  Widgets Documentation</a> for setup instructions.\n",
       "</p>\n",
       "<p>\n",
       "  If you're reading this message in another notebook frontend (for example, a static\n",
       "  rendering on GitHub or <a href=\"https://nbviewer.jupyter.org/\">NBViewer</a>),\n",
       "  it may mean that your frontend doesn't currently support widgets.\n",
       "</p>\n"
      ],
      "text/plain": [
       "HBox(children=(IntProgress(value=0, max=4516703), HTML(value=u'')))"
      ]
     },
     "metadata": {},
     "output_type": "display_data"
    },
    {
     "name": "stdout",
     "output_type": "stream",
     "text": [
      "\n",
      "Decisions 200712 15075136 0\n",
      "Broadcasting..\n",
      "Clustering..\n",
      "Merges 145048 / 200686\n",
      "Redirects 3500977\n",
      "Iteration: 13\n"
     ]
    },
    {
     "data": {
      "application/vnd.jupyter.widget-view+json": {
       "model_id": "26ba66bf01464178b8426f7da4c50c32",
       "version_major": 2,
       "version_minor": 0
      },
      "text/html": [
       "<p>Failed to display Jupyter Widget of type <code>HBox</code>.</p>\n",
       "<p>\n",
       "  If you're reading this message in Jupyter Notebook or JupyterLab, it may mean\n",
       "  that the widgets JavaScript is still loading. If this message persists, it\n",
       "  likely means that the widgets JavaScript library is either not installed or\n",
       "  not enabled. See the <a href=\"https://ipywidgets.readthedocs.io/en/stable/user_install.html\">Jupyter\n",
       "  Widgets Documentation</a> for setup instructions.\n",
       "</p>\n",
       "<p>\n",
       "  If you're reading this message in another notebook frontend (for example, a static\n",
       "  rendering on GitHub or <a href=\"https://nbviewer.jupyter.org/\">NBViewer</a>),\n",
       "  it may mean that your frontend doesn't currently support widgets.\n",
       "</p>\n"
      ],
      "text/plain": [
       "HBox(children=(IntProgress(value=0, max=4516703), HTML(value=u'')))"
      ]
     },
     "metadata": {},
     "output_type": "display_data"
    },
    {
     "name": "stdout",
     "output_type": "stream",
     "text": [
      "\n",
      "Decisions 161622 16312977 0\n",
      "Broadcasting..\n",
      "Clustering..\n",
      "Merges 108296 / 161598\n",
      "Redirects 3556428\n",
      "Iteration: 14\n"
     ]
    },
    {
     "data": {
      "application/vnd.jupyter.widget-view+json": {
       "model_id": "7a0e0039a08c46fa8b98f93e3aaa7543",
       "version_major": 2,
       "version_minor": 0
      },
      "text/html": [
       "<p>Failed to display Jupyter Widget of type <code>HBox</code>.</p>\n",
       "<p>\n",
       "  If you're reading this message in Jupyter Notebook or JupyterLab, it may mean\n",
       "  that the widgets JavaScript is still loading. If this message persists, it\n",
       "  likely means that the widgets JavaScript library is either not installed or\n",
       "  not enabled. See the <a href=\"https://ipywidgets.readthedocs.io/en/stable/user_install.html\">Jupyter\n",
       "  Widgets Documentation</a> for setup instructions.\n",
       "</p>\n",
       "<p>\n",
       "  If you're reading this message in another notebook frontend (for example, a static\n",
       "  rendering on GitHub or <a href=\"https://nbviewer.jupyter.org/\">NBViewer</a>),\n",
       "  it may mean that your frontend doesn't currently support widgets.\n",
       "</p>\n"
      ],
      "text/plain": [
       "HBox(children=(IntProgress(value=0, max=4516703), HTML(value=u'')))"
      ]
     },
     "metadata": {},
     "output_type": "display_data"
    },
    {
     "name": "stdout",
     "output_type": "stream",
     "text": [
      "\n",
      "Decisions 132328 17521563 0\n",
      "Broadcasting..\n",
      "Clustering..\n",
      "Merges 82486 / 132305\n",
      "Redirects 3598305\n",
      "Iteration: 15\n"
     ]
    },
    {
     "data": {
      "application/vnd.jupyter.widget-view+json": {
       "model_id": "6d4638f2d5cd481692c1d84b3710aa82",
       "version_major": 2,
       "version_minor": 0
      },
      "text/html": [
       "<p>Failed to display Jupyter Widget of type <code>HBox</code>.</p>\n",
       "<p>\n",
       "  If you're reading this message in Jupyter Notebook or JupyterLab, it may mean\n",
       "  that the widgets JavaScript is still loading. If this message persists, it\n",
       "  likely means that the widgets JavaScript library is either not installed or\n",
       "  not enabled. See the <a href=\"https://ipywidgets.readthedocs.io/en/stable/user_install.html\">Jupyter\n",
       "  Widgets Documentation</a> for setup instructions.\n",
       "</p>\n",
       "<p>\n",
       "  If you're reading this message in another notebook frontend (for example, a static\n",
       "  rendering on GitHub or <a href=\"https://nbviewer.jupyter.org/\">NBViewer</a>),\n",
       "  it may mean that your frontend doesn't currently support widgets.\n",
       "</p>\n"
      ],
      "text/plain": [
       "HBox(children=(IntProgress(value=0, max=4516703), HTML(value=u'')))"
      ]
     },
     "metadata": {},
     "output_type": "display_data"
    },
    {
     "name": "stdout",
     "output_type": "stream",
     "text": [
      "\n",
      "Decisions 109957 18705847 0\n",
      "Broadcasting..\n",
      "Clustering..\n",
      "Merges 62935 / 109933\n",
      "Redirects 3630599\n",
      "Iteration: 16\n"
     ]
    },
    {
     "data": {
      "application/vnd.jupyter.widget-view+json": {
       "model_id": "229da825a0534b0e8debf83b0cf52ea4",
       "version_major": 2,
       "version_minor": 0
      },
      "text/html": [
       "<p>Failed to display Jupyter Widget of type <code>HBox</code>.</p>\n",
       "<p>\n",
       "  If you're reading this message in Jupyter Notebook or JupyterLab, it may mean\n",
       "  that the widgets JavaScript is still loading. If this message persists, it\n",
       "  likely means that the widgets JavaScript library is either not installed or\n",
       "  not enabled. See the <a href=\"https://ipywidgets.readthedocs.io/en/stable/user_install.html\">Jupyter\n",
       "  Widgets Documentation</a> for setup instructions.\n",
       "</p>\n",
       "<p>\n",
       "  If you're reading this message in another notebook frontend (for example, a static\n",
       "  rendering on GitHub or <a href=\"https://nbviewer.jupyter.org/\">NBViewer</a>),\n",
       "  it may mean that your frontend doesn't currently support widgets.\n",
       "</p>\n"
      ],
      "text/plain": [
       "HBox(children=(IntProgress(value=0, max=4516703), HTML(value=u'')))"
      ]
     },
     "metadata": {},
     "output_type": "display_data"
    },
    {
     "name": "stdout",
     "output_type": "stream",
     "text": [
      "\n",
      "Decisions 92891 19872776 0\n",
      "Broadcasting..\n",
      "Clustering..\n",
      "Merges 47666 / 92868\n",
      "Redirects 3655089\n",
      "Iteration: 17\n",
      "Greedy 92868\n"
     ]
    },
    {
     "data": {
      "application/vnd.jupyter.widget-view+json": {
       "model_id": "23324cfd4a324a878f46b2a0672bcd9b",
       "version_major": 2,
       "version_minor": 0
      },
      "text/html": [
       "<p>Failed to display Jupyter Widget of type <code>HBox</code>.</p>\n",
       "<p>\n",
       "  If you're reading this message in Jupyter Notebook or JupyterLab, it may mean\n",
       "  that the widgets JavaScript is still loading. If this message persists, it\n",
       "  likely means that the widgets JavaScript library is either not installed or\n",
       "  not enabled. See the <a href=\"https://ipywidgets.readthedocs.io/en/stable/user_install.html\">Jupyter\n",
       "  Widgets Documentation</a> for setup instructions.\n",
       "</p>\n",
       "<p>\n",
       "  If you're reading this message in another notebook frontend (for example, a static\n",
       "  rendering on GitHub or <a href=\"https://nbviewer.jupyter.org/\">NBViewer</a>),\n",
       "  it may mean that your frontend doesn't currently support widgets.\n",
       "</p>\n"
      ],
      "text/plain": [
       "HBox(children=(IntProgress(value=0, max=4516703), HTML(value=u'')))"
      ]
     },
     "metadata": {},
     "output_type": "display_data"
    },
    {
     "name": "stdout",
     "output_type": "stream",
     "text": [
      "Decisions 500000 27653093 0\n",
      "Broadcasting..\n",
      "Clustering..\n",
      "Merges 167808 / 499997\n",
      "Redirects 3674381\n",
      "Iteration: 18\n"
     ]
    },
    {
     "data": {
      "application/vnd.jupyter.widget-view+json": {
       "model_id": "74d792a54bfe4cf5a66ee5d09a873663",
       "version_major": 2,
       "version_minor": 0
      },
      "text/html": [
       "<p>Failed to display Jupyter Widget of type <code>HBox</code>.</p>\n",
       "<p>\n",
       "  If you're reading this message in Jupyter Notebook or JupyterLab, it may mean\n",
       "  that the widgets JavaScript is still loading. If this message persists, it\n",
       "  likely means that the widgets JavaScript library is either not installed or\n",
       "  not enabled. See the <a href=\"https://ipywidgets.readthedocs.io/en/stable/user_install.html\">Jupyter\n",
       "  Widgets Documentation</a> for setup instructions.\n",
       "</p>\n",
       "<p>\n",
       "  If you're reading this message in another notebook frontend (for example, a static\n",
       "  rendering on GitHub or <a href=\"https://nbviewer.jupyter.org/\">NBViewer</a>),\n",
       "  it may mean that your frontend doesn't currently support widgets.\n",
       "</p>\n"
      ],
      "text/plain": [
       "HBox(children=(IntProgress(value=0, max=4516703), HTML(value=u'')))"
      ]
     },
     "metadata": {},
     "output_type": "display_data"
    },
    {
     "name": "stdout",
     "output_type": "stream",
     "text": [
      "\n"
     ]
    },
    {
     "name": "stderr",
     "output_type": "stream",
     "text": [
      "Exception in thread Thread-13:\n",
      "Traceback (most recent call last):\n",
      "  File \"/usr/lib/python2.7/threading.py\", line 810, in __bootstrap_inner\n",
      "    self.run()\n",
      "  File \"/n/schwafs/home/andy/repos/sift/ve/local/lib/python2.7/site-packages/tqdm/_tqdm.py\", line 144, in run\n",
      "    for instance in self.tqdm_cls._instances:\n",
      "  File \"/n/schwafs/home/andy/repos/sift/ve/lib/python2.7/_weakrefset.py\", line 60, in __iter__\n",
      "    for itemref in self.data:\n",
      "RuntimeError: Set changed size during iteration\n",
      "\n"
     ]
    },
    {
     "name": "stdout",
     "output_type": "stream",
     "text": [
      "Decisions 80165 28806868 0\n",
      "Broadcasting..\n",
      "Clustering..\n",
      "Merges 37684 / 80142\n",
      "Redirects 3694463\n",
      "Iteration: 19\n",
      "Greedy 80142\n"
     ]
    },
    {
     "data": {
      "application/vnd.jupyter.widget-view+json": {
       "model_id": "b1694ebe02304ccbb2edeb1c8e1a7cbe",
       "version_major": 2,
       "version_minor": 0
      },
      "text/html": [
       "<p>Failed to display Jupyter Widget of type <code>HBox</code>.</p>\n",
       "<p>\n",
       "  If you're reading this message in Jupyter Notebook or JupyterLab, it may mean\n",
       "  that the widgets JavaScript is still loading. If this message persists, it\n",
       "  likely means that the widgets JavaScript library is either not installed or\n",
       "  not enabled. See the <a href=\"https://ipywidgets.readthedocs.io/en/stable/user_install.html\">Jupyter\n",
       "  Widgets Documentation</a> for setup instructions.\n",
       "</p>\n",
       "<p>\n",
       "  If you're reading this message in another notebook frontend (for example, a static\n",
       "  rendering on GitHub or <a href=\"https://nbviewer.jupyter.org/\">NBViewer</a>),\n",
       "  it may mean that your frontend doesn't currently support widgets.\n",
       "</p>\n"
      ],
      "text/plain": [
       "HBox(children=(IntProgress(value=0, max=4516703), HTML(value=u'')))"
      ]
     },
     "metadata": {},
     "output_type": "display_data"
    },
    {
     "name": "stdout",
     "output_type": "stream",
     "text": [
      "Decisions 500000 36561292 0\n",
      "Broadcasting..\n",
      "Clustering..\n",
      "Merges 218770 / 499959\n",
      "Redirects 3714393\n",
      "Iteration: 20\n"
     ]
    },
    {
     "data": {
      "application/vnd.jupyter.widget-view+json": {
       "model_id": "8b07afed6064409d9ffc625fade8682a",
       "version_major": 2,
       "version_minor": 0
      },
      "text/html": [
       "<p>Failed to display Jupyter Widget of type <code>HBox</code>.</p>\n",
       "<p>\n",
       "  If you're reading this message in Jupyter Notebook or JupyterLab, it may mean\n",
       "  that the widgets JavaScript is still loading. If this message persists, it\n",
       "  likely means that the widgets JavaScript library is either not installed or\n",
       "  not enabled. See the <a href=\"https://ipywidgets.readthedocs.io/en/stable/user_install.html\">Jupyter\n",
       "  Widgets Documentation</a> for setup instructions.\n",
       "</p>\n",
       "<p>\n",
       "  If you're reading this message in another notebook frontend (for example, a static\n",
       "  rendering on GitHub or <a href=\"https://nbviewer.jupyter.org/\">NBViewer</a>),\n",
       "  it may mean that your frontend doesn't currently support widgets.\n",
       "</p>\n"
      ],
      "text/plain": [
       "HBox(children=(IntProgress(value=0, max=4516703), HTML(value=u'')))"
      ]
     },
     "metadata": {},
     "output_type": "display_data"
    },
    {
     "name": "stdout",
     "output_type": "stream",
     "text": [
      "\n"
     ]
    },
    {
     "name": "stderr",
     "output_type": "stream",
     "text": [
      "Exception in thread Thread-14:\n",
      "Traceback (most recent call last):\n",
      "  File \"/usr/lib/python2.7/threading.py\", line 810, in __bootstrap_inner\n",
      "    self.run()\n",
      "  File \"/n/schwafs/home/andy/repos/sift/ve/local/lib/python2.7/site-packages/tqdm/_tqdm.py\", line 144, in run\n",
      "    for instance in self.tqdm_cls._instances:\n",
      "  File \"/n/schwafs/home/andy/repos/sift/ve/lib/python2.7/_weakrefset.py\", line 60, in __iter__\n",
      "    for itemref in self.data:\n",
      "RuntimeError: Set changed size during iteration\n",
      "\n"
     ]
    },
    {
     "name": "stdout",
     "output_type": "stream",
     "text": [
      "Decisions 68630 37701563 0\n",
      "Broadcasting..\n",
      "Clustering..\n",
      "Merges 28636 / 68605\n",
      "Redirects 3729818\n",
      "Iteration: 21\n",
      "Greedy 68605\n"
     ]
    },
    {
     "data": {
      "application/vnd.jupyter.widget-view+json": {
       "model_id": "1b3a8434b1da4876800134494aa36ce8",
       "version_major": 2,
       "version_minor": 0
      },
      "text/html": [
       "<p>Failed to display Jupyter Widget of type <code>HBox</code>.</p>\n",
       "<p>\n",
       "  If you're reading this message in Jupyter Notebook or JupyterLab, it may mean\n",
       "  that the widgets JavaScript is still loading. If this message persists, it\n",
       "  likely means that the widgets JavaScript library is either not installed or\n",
       "  not enabled. See the <a href=\"https://ipywidgets.readthedocs.io/en/stable/user_install.html\">Jupyter\n",
       "  Widgets Documentation</a> for setup instructions.\n",
       "</p>\n",
       "<p>\n",
       "  If you're reading this message in another notebook frontend (for example, a static\n",
       "  rendering on GitHub or <a href=\"https://nbviewer.jupyter.org/\">NBViewer</a>),\n",
       "  it may mean that your frontend doesn't currently support widgets.\n",
       "</p>\n"
      ],
      "text/plain": [
       "HBox(children=(IntProgress(value=0, max=4516703), HTML(value=u'')))"
      ]
     },
     "metadata": {},
     "output_type": "display_data"
    },
    {
     "name": "stdout",
     "output_type": "stream",
     "text": [
      "Decisions 500000 45723528 0\n",
      "Broadcasting..\n",
      "Clustering..\n",
      "Merges 179280 / 499976\n",
      "Redirects 3747113\n",
      "Iteration: 22\n"
     ]
    },
    {
     "data": {
      "application/vnd.jupyter.widget-view+json": {
       "model_id": "ef04f1fba8ee4bc5a83830758e1bba10",
       "version_major": 2,
       "version_minor": 0
      },
      "text/html": [
       "<p>Failed to display Jupyter Widget of type <code>HBox</code>.</p>\n",
       "<p>\n",
       "  If you're reading this message in Jupyter Notebook or JupyterLab, it may mean\n",
       "  that the widgets JavaScript is still loading. If this message persists, it\n",
       "  likely means that the widgets JavaScript library is either not installed or\n",
       "  not enabled. See the <a href=\"https://ipywidgets.readthedocs.io/en/stable/user_install.html\">Jupyter\n",
       "  Widgets Documentation</a> for setup instructions.\n",
       "</p>\n",
       "<p>\n",
       "  If you're reading this message in another notebook frontend (for example, a static\n",
       "  rendering on GitHub or <a href=\"https://nbviewer.jupyter.org/\">NBViewer</a>),\n",
       "  it may mean that your frontend doesn't currently support widgets.\n",
       "</p>\n"
      ],
      "text/plain": [
       "HBox(children=(IntProgress(value=0, max=4516703), HTML(value=u'')))"
      ]
     },
     "metadata": {},
     "output_type": "display_data"
    },
    {
     "name": "stdout",
     "output_type": "stream",
     "text": [
      "\n"
     ]
    },
    {
     "name": "stderr",
     "output_type": "stream",
     "text": [
      "Exception in thread Thread-15:\n",
      "Traceback (most recent call last):\n",
      "  File \"/usr/lib/python2.7/threading.py\", line 810, in __bootstrap_inner\n",
      "    self.run()\n",
      "  File \"/n/schwafs/home/andy/repos/sift/ve/local/lib/python2.7/site-packages/tqdm/_tqdm.py\", line 144, in run\n",
      "    for instance in self.tqdm_cls._instances:\n",
      "  File \"/n/schwafs/home/andy/repos/sift/ve/lib/python2.7/_weakrefset.py\", line 60, in __iter__\n",
      "    for itemref in self.data:\n",
      "RuntimeError: Set changed size during iteration\n",
      "\n"
     ]
    },
    {
     "name": "stdout",
     "output_type": "stream",
     "text": [
      "Decisions 58773 46850207 0\n",
      "Broadcasting..\n",
      "Clustering..\n",
      "Merges 21359 / 58748\n",
      "Redirects 3758856\n",
      "Iteration: 23\n",
      "Greedy 58748\n"
     ]
    },
    {
     "data": {
      "application/vnd.jupyter.widget-view+json": {
       "model_id": "e35aa7bd9ddd4c98a54f6bd938fd378b",
       "version_major": 2,
       "version_minor": 0
      },
      "text/html": [
       "<p>Failed to display Jupyter Widget of type <code>HBox</code>.</p>\n",
       "<p>\n",
       "  If you're reading this message in Jupyter Notebook or JupyterLab, it may mean\n",
       "  that the widgets JavaScript is still loading. If this message persists, it\n",
       "  likely means that the widgets JavaScript library is either not installed or\n",
       "  not enabled. See the <a href=\"https://ipywidgets.readthedocs.io/en/stable/user_install.html\">Jupyter\n",
       "  Widgets Documentation</a> for setup instructions.\n",
       "</p>\n",
       "<p>\n",
       "  If you're reading this message in another notebook frontend (for example, a static\n",
       "  rendering on GitHub or <a href=\"https://nbviewer.jupyter.org/\">NBViewer</a>),\n",
       "  it may mean that your frontend doesn't currently support widgets.\n",
       "</p>\n"
      ],
      "text/plain": [
       "HBox(children=(IntProgress(value=0, max=4516703), HTML(value=u'')))"
      ]
     },
     "metadata": {},
     "output_type": "display_data"
    },
    {
     "name": "stdout",
     "output_type": "stream",
     "text": [
      "Decisions 500000 53783157 0\n",
      "Broadcasting..\n",
      "Clustering..\n",
      "Merges 200585 / 499895\n",
      "Redirects 3777961\n",
      "Iteration: 24\n"
     ]
    },
    {
     "data": {
      "application/vnd.jupyter.widget-view+json": {
       "model_id": "435e2c6aee7e496f8a03c043f7d01f44",
       "version_major": 2,
       "version_minor": 0
      },
      "text/html": [
       "<p>Failed to display Jupyter Widget of type <code>HBox</code>.</p>\n",
       "<p>\n",
       "  If you're reading this message in Jupyter Notebook or JupyterLab, it may mean\n",
       "  that the widgets JavaScript is still loading. If this message persists, it\n",
       "  likely means that the widgets JavaScript library is either not installed or\n",
       "  not enabled. See the <a href=\"https://ipywidgets.readthedocs.io/en/stable/user_install.html\">Jupyter\n",
       "  Widgets Documentation</a> for setup instructions.\n",
       "</p>\n",
       "<p>\n",
       "  If you're reading this message in another notebook frontend (for example, a static\n",
       "  rendering on GitHub or <a href=\"https://nbviewer.jupyter.org/\">NBViewer</a>),\n",
       "  it may mean that your frontend doesn't currently support widgets.\n",
       "</p>\n"
      ],
      "text/plain": [
       "HBox(children=(IntProgress(value=0, max=4516703), HTML(value=u'')))"
      ]
     },
     "metadata": {},
     "output_type": "display_data"
    },
    {
     "name": "stdout",
     "output_type": "stream",
     "text": [
      "\n"
     ]
    },
    {
     "name": "stderr",
     "output_type": "stream",
     "text": [
      "Exception in thread Thread-16:\n",
      "Traceback (most recent call last):\n",
      "  File \"/usr/lib/python2.7/threading.py\", line 810, in __bootstrap_inner\n",
      "    self.run()\n",
      "  File \"/n/schwafs/home/andy/repos/sift/ve/local/lib/python2.7/site-packages/tqdm/_tqdm.py\", line 144, in run\n",
      "    for instance in self.tqdm_cls._instances:\n",
      "  File \"/n/schwafs/home/andy/repos/sift/ve/lib/python2.7/_weakrefset.py\", line 60, in __iter__\n",
      "    for itemref in self.data:\n",
      "RuntimeError: Set changed size during iteration\n",
      "\n"
     ]
    },
    {
     "name": "stdout",
     "output_type": "stream",
     "text": [
      "Decisions 51092 54897477 0\n",
      "Broadcasting..\n",
      "Clustering..\n",
      "Merges 16001 / 51068\n",
      "Redirects 3786836\n",
      "Iteration: 25\n",
      "Greedy 51068\n"
     ]
    },
    {
     "data": {
      "application/vnd.jupyter.widget-view+json": {
       "model_id": "fb2f20f6ec0f4a5f93316bbbe3098144",
       "version_major": 2,
       "version_minor": 0
      },
      "text/html": [
       "<p>Failed to display Jupyter Widget of type <code>HBox</code>.</p>\n",
       "<p>\n",
       "  If you're reading this message in Jupyter Notebook or JupyterLab, it may mean\n",
       "  that the widgets JavaScript is still loading. If this message persists, it\n",
       "  likely means that the widgets JavaScript library is either not installed or\n",
       "  not enabled. See the <a href=\"https://ipywidgets.readthedocs.io/en/stable/user_install.html\">Jupyter\n",
       "  Widgets Documentation</a> for setup instructions.\n",
       "</p>\n",
       "<p>\n",
       "  If you're reading this message in another notebook frontend (for example, a static\n",
       "  rendering on GitHub or <a href=\"https://nbviewer.jupyter.org/\">NBViewer</a>),\n",
       "  it may mean that your frontend doesn't currently support widgets.\n",
       "</p>\n"
      ],
      "text/plain": [
       "HBox(children=(IntProgress(value=0, max=4516703), HTML(value=u'')))"
      ]
     },
     "metadata": {},
     "output_type": "display_data"
    },
    {
     "name": "stdout",
     "output_type": "stream",
     "text": [
      "Decisions 500000 63388324 0\n",
      "Broadcasting..\n",
      "Clustering..\n",
      "Merges 163272 / 499913\n",
      "Redirects 3805168\n",
      "Iteration: 26\n"
     ]
    },
    {
     "data": {
      "application/vnd.jupyter.widget-view+json": {
       "model_id": "321a518347a54bf1b5bb71d7d383fa9f",
       "version_major": 2,
       "version_minor": 0
      },
      "text/html": [
       "<p>Failed to display Jupyter Widget of type <code>HBox</code>.</p>\n",
       "<p>\n",
       "  If you're reading this message in Jupyter Notebook or JupyterLab, it may mean\n",
       "  that the widgets JavaScript is still loading. If this message persists, it\n",
       "  likely means that the widgets JavaScript library is either not installed or\n",
       "  not enabled. See the <a href=\"https://ipywidgets.readthedocs.io/en/stable/user_install.html\">Jupyter\n",
       "  Widgets Documentation</a> for setup instructions.\n",
       "</p>\n",
       "<p>\n",
       "  If you're reading this message in another notebook frontend (for example, a static\n",
       "  rendering on GitHub or <a href=\"https://nbviewer.jupyter.org/\">NBViewer</a>),\n",
       "  it may mean that your frontend doesn't currently support widgets.\n",
       "</p>\n"
      ],
      "text/plain": [
       "HBox(children=(IntProgress(value=0, max=4516703), HTML(value=u'')))"
      ]
     },
     "metadata": {},
     "output_type": "display_data"
    },
    {
     "name": "stdout",
     "output_type": "stream",
     "text": [
      "\n"
     ]
    },
    {
     "name": "stderr",
     "output_type": "stream",
     "text": [
      "Exception in thread Thread-17:\n",
      "Traceback (most recent call last):\n",
      "  File \"/usr/lib/python2.7/threading.py\", line 810, in __bootstrap_inner\n",
      "    self.run()\n",
      "  File \"/n/schwafs/home/andy/repos/sift/ve/local/lib/python2.7/site-packages/tqdm/_tqdm.py\", line 144, in run\n",
      "    for instance in self.tqdm_cls._instances:\n",
      "  File \"/n/schwafs/home/andy/repos/sift/ve/lib/python2.7/_weakrefset.py\", line 60, in __iter__\n",
      "    for itemref in self.data:\n",
      "RuntimeError: Set changed size during iteration\n",
      "\n"
     ]
    },
    {
     "name": "stdout",
     "output_type": "stream",
     "text": [
      "Decisions 45572 64493454 0\n",
      "Broadcasting..\n",
      "Clustering..\n",
      "Merges 12718 / 45550\n",
      "Redirects 3812511\n",
      "Iteration: 27\n",
      "Greedy 45550\n"
     ]
    },
    {
     "data": {
      "application/vnd.jupyter.widget-view+json": {
       "model_id": "b2a7044948c84a48ae8c1c9aa6a560b8",
       "version_major": 2,
       "version_minor": 0
      },
      "text/html": [
       "<p>Failed to display Jupyter Widget of type <code>HBox</code>.</p>\n",
       "<p>\n",
       "  If you're reading this message in Jupyter Notebook or JupyterLab, it may mean\n",
       "  that the widgets JavaScript is still loading. If this message persists, it\n",
       "  likely means that the widgets JavaScript library is either not installed or\n",
       "  not enabled. See the <a href=\"https://ipywidgets.readthedocs.io/en/stable/user_install.html\">Jupyter\n",
       "  Widgets Documentation</a> for setup instructions.\n",
       "</p>\n",
       "<p>\n",
       "  If you're reading this message in another notebook frontend (for example, a static\n",
       "  rendering on GitHub or <a href=\"https://nbviewer.jupyter.org/\">NBViewer</a>),\n",
       "  it may mean that your frontend doesn't currently support widgets.\n",
       "</p>\n"
      ],
      "text/plain": [
       "HBox(children=(IntProgress(value=0, max=4516703), HTML(value=u'')))"
      ]
     },
     "metadata": {},
     "output_type": "display_data"
    },
    {
     "name": "stdout",
     "output_type": "stream",
     "text": [
      "Decisions 500000 80215285 0\n",
      "Broadcasting..\n",
      "Clustering..\n",
      "Merges 143125 / 499637\n",
      "Redirects 3832146\n",
      "Iteration: 28\n"
     ]
    },
    {
     "data": {
      "application/vnd.jupyter.widget-view+json": {
       "model_id": "df2ceb04aa494e4fb96e1a0c012acdaf",
       "version_major": 2,
       "version_minor": 0
      },
      "text/html": [
       "<p>Failed to display Jupyter Widget of type <code>HBox</code>.</p>\n",
       "<p>\n",
       "  If you're reading this message in Jupyter Notebook or JupyterLab, it may mean\n",
       "  that the widgets JavaScript is still loading. If this message persists, it\n",
       "  likely means that the widgets JavaScript library is either not installed or\n",
       "  not enabled. See the <a href=\"https://ipywidgets.readthedocs.io/en/stable/user_install.html\">Jupyter\n",
       "  Widgets Documentation</a> for setup instructions.\n",
       "</p>\n",
       "<p>\n",
       "  If you're reading this message in another notebook frontend (for example, a static\n",
       "  rendering on GitHub or <a href=\"https://nbviewer.jupyter.org/\">NBViewer</a>),\n",
       "  it may mean that your frontend doesn't currently support widgets.\n",
       "</p>\n"
      ],
      "text/plain": [
       "HBox(children=(IntProgress(value=0, max=4516703), HTML(value=u'')))"
      ]
     },
     "metadata": {},
     "output_type": "display_data"
    },
    {
     "name": "stdout",
     "output_type": "stream",
     "text": [
      "\n"
     ]
    },
    {
     "name": "stderr",
     "output_type": "stream",
     "text": [
      "Exception in thread Thread-18:\n",
      "Traceback (most recent call last):\n",
      "  File \"/usr/lib/python2.7/threading.py\", line 810, in __bootstrap_inner\n",
      "    self.run()\n",
      "  File \"/n/schwafs/home/andy/repos/sift/ve/local/lib/python2.7/site-packages/tqdm/_tqdm.py\", line 144, in run\n",
      "    for instance in self.tqdm_cls._instances:\n",
      "  File \"/n/schwafs/home/andy/repos/sift/ve/lib/python2.7/_weakrefset.py\", line 60, in __iter__\n",
      "    for itemref in self.data:\n",
      "RuntimeError: Set changed size during iteration\n",
      "\n"
     ]
    },
    {
     "name": "stdout",
     "output_type": "stream",
     "text": [
      "Decisions 41511 81313096 0\n",
      "Broadcasting..\n",
      "Clustering..\n",
      "Merges 10403 / 41490\n",
      "Redirects 3838242\n",
      "Iteration: 29\n",
      "Greedy 41490\n"
     ]
    },
    {
     "data": {
      "application/vnd.jupyter.widget-view+json": {
       "model_id": "48ad6e56ee444cae927ed7219ee576c8",
       "version_major": 2,
       "version_minor": 0
      },
      "text/html": [
       "<p>Failed to display Jupyter Widget of type <code>HBox</code>.</p>\n",
       "<p>\n",
       "  If you're reading this message in Jupyter Notebook or JupyterLab, it may mean\n",
       "  that the widgets JavaScript is still loading. If this message persists, it\n",
       "  likely means that the widgets JavaScript library is either not installed or\n",
       "  not enabled. See the <a href=\"https://ipywidgets.readthedocs.io/en/stable/user_install.html\">Jupyter\n",
       "  Widgets Documentation</a> for setup instructions.\n",
       "</p>\n",
       "<p>\n",
       "  If you're reading this message in another notebook frontend (for example, a static\n",
       "  rendering on GitHub or <a href=\"https://nbviewer.jupyter.org/\">NBViewer</a>),\n",
       "  it may mean that your frontend doesn't currently support widgets.\n",
       "</p>\n"
      ],
      "text/plain": [
       "HBox(children=(IntProgress(value=0, max=4516703), HTML(value=u'')))"
      ]
     },
     "metadata": {},
     "output_type": "display_data"
    },
    {
     "name": "stdout",
     "output_type": "stream",
     "text": [
      "Decisions 500000 95602459 0\n",
      "Broadcasting..\n",
      "Clustering..\n",
      "Merges 114677 / 499973\n",
      "Redirects 3855090\n",
      "Iteration: 30\n"
     ]
    },
    {
     "data": {
      "application/vnd.jupyter.widget-view+json": {
       "model_id": "d059e24285a54b2c82c6d12b68006425",
       "version_major": 2,
       "version_minor": 0
      },
      "text/html": [
       "<p>Failed to display Jupyter Widget of type <code>HBox</code>.</p>\n",
       "<p>\n",
       "  If you're reading this message in Jupyter Notebook or JupyterLab, it may mean\n",
       "  that the widgets JavaScript is still loading. If this message persists, it\n",
       "  likely means that the widgets JavaScript library is either not installed or\n",
       "  not enabled. See the <a href=\"https://ipywidgets.readthedocs.io/en/stable/user_install.html\">Jupyter\n",
       "  Widgets Documentation</a> for setup instructions.\n",
       "</p>\n",
       "<p>\n",
       "  If you're reading this message in another notebook frontend (for example, a static\n",
       "  rendering on GitHub or <a href=\"https://nbviewer.jupyter.org/\">NBViewer</a>),\n",
       "  it may mean that your frontend doesn't currently support widgets.\n",
       "</p>\n"
      ],
      "text/plain": [
       "HBox(children=(IntProgress(value=0, max=4516703), HTML(value=u'')))"
      ]
     },
     "metadata": {},
     "output_type": "display_data"
    },
    {
     "name": "stdout",
     "output_type": "stream",
     "text": [
      "\n"
     ]
    },
    {
     "name": "stderr",
     "output_type": "stream",
     "text": [
      "Exception in thread Thread-19:\n",
      "Traceback (most recent call last):\n",
      "  File \"/usr/lib/python2.7/threading.py\", line 810, in __bootstrap_inner\n",
      "    self.run()\n",
      "  File \"/n/schwafs/home/andy/repos/sift/ve/local/lib/python2.7/site-packages/tqdm/_tqdm.py\", line 144, in run\n",
      "    for instance in self.tqdm_cls._instances:\n",
      "  File \"/n/schwafs/home/andy/repos/sift/ve/lib/python2.7/_weakrefset.py\", line 60, in __iter__\n",
      "    for itemref in self.data:\n",
      "RuntimeError: Set changed size during iteration\n",
      "\n"
     ]
    },
    {
     "name": "stdout",
     "output_type": "stream",
     "text": [
      "Decisions 38011 96690047 0\n",
      "Broadcasting..\n",
      "Clustering..\n",
      "Merges 8343 / 37992\n",
      "Redirects 3860037\n",
      "Iteration: 31\n",
      "Greedy 37992\n"
     ]
    },
    {
     "data": {
      "application/vnd.jupyter.widget-view+json": {
       "model_id": "fe2e5c4eaf0c466f96d884a5a217ffba",
       "version_major": 2,
       "version_minor": 0
      },
      "text/html": [
       "<p>Failed to display Jupyter Widget of type <code>HBox</code>.</p>\n",
       "<p>\n",
       "  If you're reading this message in Jupyter Notebook or JupyterLab, it may mean\n",
       "  that the widgets JavaScript is still loading. If this message persists, it\n",
       "  likely means that the widgets JavaScript library is either not installed or\n",
       "  not enabled. See the <a href=\"https://ipywidgets.readthedocs.io/en/stable/user_install.html\">Jupyter\n",
       "  Widgets Documentation</a> for setup instructions.\n",
       "</p>\n",
       "<p>\n",
       "  If you're reading this message in another notebook frontend (for example, a static\n",
       "  rendering on GitHub or <a href=\"https://nbviewer.jupyter.org/\">NBViewer</a>),\n",
       "  it may mean that your frontend doesn't currently support widgets.\n",
       "</p>\n"
      ],
      "text/plain": [
       "HBox(children=(IntProgress(value=0, max=4516703), HTML(value=u'')))"
      ]
     },
     "metadata": {},
     "output_type": "display_data"
    },
    {
     "name": "stdout",
     "output_type": "stream",
     "text": [
      "Decisions 500000 111921390 0\n",
      "Broadcasting..\n",
      "Clustering..\n",
      "Merges 129874 / 499980\n",
      "Redirects 3877984\n",
      "Iteration: 32\n"
     ]
    },
    {
     "data": {
      "application/vnd.jupyter.widget-view+json": {
       "model_id": "af5579204a97442f9b6df9e4072a45a0",
       "version_major": 2,
       "version_minor": 0
      },
      "text/html": [
       "<p>Failed to display Jupyter Widget of type <code>HBox</code>.</p>\n",
       "<p>\n",
       "  If you're reading this message in Jupyter Notebook or JupyterLab, it may mean\n",
       "  that the widgets JavaScript is still loading. If this message persists, it\n",
       "  likely means that the widgets JavaScript library is either not installed or\n",
       "  not enabled. See the <a href=\"https://ipywidgets.readthedocs.io/en/stable/user_install.html\">Jupyter\n",
       "  Widgets Documentation</a> for setup instructions.\n",
       "</p>\n",
       "<p>\n",
       "  If you're reading this message in another notebook frontend (for example, a static\n",
       "  rendering on GitHub or <a href=\"https://nbviewer.jupyter.org/\">NBViewer</a>),\n",
       "  it may mean that your frontend doesn't currently support widgets.\n",
       "</p>\n"
      ],
      "text/plain": [
       "HBox(children=(IntProgress(value=0, max=4516703), HTML(value=u'')))"
      ]
     },
     "metadata": {},
     "output_type": "display_data"
    },
    {
     "name": "stdout",
     "output_type": "stream",
     "text": [
      "\n"
     ]
    },
    {
     "name": "stderr",
     "output_type": "stream",
     "text": [
      "Exception in thread Thread-20:\n",
      "Traceback (most recent call last):\n",
      "  File \"/usr/lib/python2.7/threading.py\", line 810, in __bootstrap_inner\n",
      "    self.run()\n",
      "  File \"/n/schwafs/home/andy/repos/sift/ve/local/lib/python2.7/site-packages/tqdm/_tqdm.py\", line 144, in run\n",
      "    for instance in self.tqdm_cls._instances:\n",
      "  File \"/n/schwafs/home/andy/repos/sift/ve/lib/python2.7/_weakrefset.py\", line 60, in __iter__\n",
      "    for itemref in self.data:\n",
      "RuntimeError: Set changed size during iteration\n",
      "\n"
     ]
    },
    {
     "name": "stdout",
     "output_type": "stream",
     "text": [
      "Decisions 35210 112997754 0\n",
      "Broadcasting..\n",
      "Clustering..\n",
      "Merges 6820 / 35188\n",
      "Redirects 3882063\n",
      "Iteration: 33\n",
      "Greedy 35188\n"
     ]
    },
    {
     "data": {
      "application/vnd.jupyter.widget-view+json": {
       "model_id": "576637e3494f4f918217c089b017b9f3",
       "version_major": 2,
       "version_minor": 0
      },
      "text/html": [
       "<p>Failed to display Jupyter Widget of type <code>HBox</code>.</p>\n",
       "<p>\n",
       "  If you're reading this message in Jupyter Notebook or JupyterLab, it may mean\n",
       "  that the widgets JavaScript is still loading. If this message persists, it\n",
       "  likely means that the widgets JavaScript library is either not installed or\n",
       "  not enabled. See the <a href=\"https://ipywidgets.readthedocs.io/en/stable/user_install.html\">Jupyter\n",
       "  Widgets Documentation</a> for setup instructions.\n",
       "</p>\n",
       "<p>\n",
       "  If you're reading this message in another notebook frontend (for example, a static\n",
       "  rendering on GitHub or <a href=\"https://nbviewer.jupyter.org/\">NBViewer</a>),\n",
       "  it may mean that your frontend doesn't currently support widgets.\n",
       "</p>\n"
      ],
      "text/plain": [
       "HBox(children=(IntProgress(value=0, max=4516703), HTML(value=u'')))"
      ]
     },
     "metadata": {},
     "output_type": "display_data"
    },
    {
     "name": "stdout",
     "output_type": "stream",
     "text": [
      "Decisions 500000 127055569 0\n",
      "Broadcasting..\n",
      "Clustering..\n",
      "Merges 103999 / 499995\n",
      "Redirects 3896863\n",
      "Iteration: 34\n"
     ]
    },
    {
     "data": {
      "application/vnd.jupyter.widget-view+json": {
       "model_id": "e210bc7c8d2b45e9aac4cc35a1b204c1",
       "version_major": 2,
       "version_minor": 0
      },
      "text/html": [
       "<p>Failed to display Jupyter Widget of type <code>HBox</code>.</p>\n",
       "<p>\n",
       "  If you're reading this message in Jupyter Notebook or JupyterLab, it may mean\n",
       "  that the widgets JavaScript is still loading. If this message persists, it\n",
       "  likely means that the widgets JavaScript library is either not installed or\n",
       "  not enabled. See the <a href=\"https://ipywidgets.readthedocs.io/en/stable/user_install.html\">Jupyter\n",
       "  Widgets Documentation</a> for setup instructions.\n",
       "</p>\n",
       "<p>\n",
       "  If you're reading this message in another notebook frontend (for example, a static\n",
       "  rendering on GitHub or <a href=\"https://nbviewer.jupyter.org/\">NBViewer</a>),\n",
       "  it may mean that your frontend doesn't currently support widgets.\n",
       "</p>\n"
      ],
      "text/plain": [
       "HBox(children=(IntProgress(value=0, max=4516703), HTML(value=u'')))"
      ]
     },
     "metadata": {},
     "output_type": "display_data"
    },
    {
     "name": "stdout",
     "output_type": "stream",
     "text": [
      "\n"
     ]
    },
    {
     "name": "stderr",
     "output_type": "stream",
     "text": [
      "Exception in thread Thread-21:\n",
      "Traceback (most recent call last):\n",
      "  File \"/usr/lib/python2.7/threading.py\", line 810, in __bootstrap_inner\n",
      "    self.run()\n",
      "  File \"/n/schwafs/home/andy/repos/sift/ve/local/lib/python2.7/site-packages/tqdm/_tqdm.py\", line 144, in run\n",
      "    for instance in self.tqdm_cls._instances:\n",
      "  File \"/n/schwafs/home/andy/repos/sift/ve/lib/python2.7/_weakrefset.py\", line 60, in __iter__\n",
      "    for itemref in self.data:\n",
      "RuntimeError: Set changed size during iteration\n",
      "\n"
     ]
    },
    {
     "name": "stdout",
     "output_type": "stream",
     "text": [
      "Decisions 32310 128124774 0\n",
      "Broadcasting..\n",
      "Clustering..\n",
      "Merges 5539 / 32290\n",
      "Redirects 3900261\n",
      "Iteration: 35\n",
      "Greedy 32290\n"
     ]
    },
    {
     "data": {
      "application/vnd.jupyter.widget-view+json": {
       "model_id": "b11308a08e0042b49b688c7cc3195cb0",
       "version_major": 2,
       "version_minor": 0
      },
      "text/html": [
       "<p>Failed to display Jupyter Widget of type <code>HBox</code>.</p>\n",
       "<p>\n",
       "  If you're reading this message in Jupyter Notebook or JupyterLab, it may mean\n",
       "  that the widgets JavaScript is still loading. If this message persists, it\n",
       "  likely means that the widgets JavaScript library is either not installed or\n",
       "  not enabled. See the <a href=\"https://ipywidgets.readthedocs.io/en/stable/user_install.html\">Jupyter\n",
       "  Widgets Documentation</a> for setup instructions.\n",
       "</p>\n",
       "<p>\n",
       "  If you're reading this message in another notebook frontend (for example, a static\n",
       "  rendering on GitHub or <a href=\"https://nbviewer.jupyter.org/\">NBViewer</a>),\n",
       "  it may mean that your frontend doesn't currently support widgets.\n",
       "</p>\n"
      ],
      "text/plain": [
       "HBox(children=(IntProgress(value=0, max=4516703), HTML(value=u'')))"
      ]
     },
     "metadata": {},
     "output_type": "display_data"
    },
    {
     "name": "stdout",
     "output_type": "stream",
     "text": [
      "Decisions 500000 156931577 0\n",
      "Broadcasting..\n",
      "Clustering..\n",
      "Merges 100495 / 499757\n",
      "Redirects 3915205\n",
      "Iteration: 36\n"
     ]
    },
    {
     "data": {
      "application/vnd.jupyter.widget-view+json": {
       "model_id": "9bc76eec976548df98fb1658dfdb132b",
       "version_major": 2,
       "version_minor": 0
      },
      "text/html": [
       "<p>Failed to display Jupyter Widget of type <code>HBox</code>.</p>\n",
       "<p>\n",
       "  If you're reading this message in Jupyter Notebook or JupyterLab, it may mean\n",
       "  that the widgets JavaScript is still loading. If this message persists, it\n",
       "  likely means that the widgets JavaScript library is either not installed or\n",
       "  not enabled. See the <a href=\"https://ipywidgets.readthedocs.io/en/stable/user_install.html\">Jupyter\n",
       "  Widgets Documentation</a> for setup instructions.\n",
       "</p>\n",
       "<p>\n",
       "  If you're reading this message in another notebook frontend (for example, a static\n",
       "  rendering on GitHub or <a href=\"https://nbviewer.jupyter.org/\">NBViewer</a>),\n",
       "  it may mean that your frontend doesn't currently support widgets.\n",
       "</p>\n"
      ],
      "text/plain": [
       "HBox(children=(IntProgress(value=0, max=4516703), HTML(value=u'')))"
      ]
     },
     "metadata": {},
     "output_type": "display_data"
    },
    {
     "name": "stdout",
     "output_type": "stream",
     "text": [
      "\n"
     ]
    },
    {
     "name": "stderr",
     "output_type": "stream",
     "text": [
      "Exception in thread Thread-22:\n",
      "Traceback (most recent call last):\n",
      "  File \"/usr/lib/python2.7/threading.py\", line 810, in __bootstrap_inner\n",
      "    self.run()\n",
      "  File \"/n/schwafs/home/andy/repos/sift/ve/local/lib/python2.7/site-packages/tqdm/_tqdm.py\", line 144, in run\n",
      "    for instance in self.tqdm_cls._instances:\n",
      "  File \"/n/schwafs/home/andy/repos/sift/ve/lib/python2.7/_weakrefset.py\", line 60, in __iter__\n",
      "    for itemref in self.data:\n",
      "RuntimeError: Set changed size during iteration\n",
      "\n"
     ]
    },
    {
     "name": "stdout",
     "output_type": "stream",
     "text": [
      "Decisions 30311 157990132 0\n",
      "Broadcasting..\n",
      "Clustering..\n",
      "Merges 4746 / 30289\n",
      "Redirects 3918157\n",
      "Iteration: 37\n",
      "Greedy 30289\n"
     ]
    },
    {
     "data": {
      "application/vnd.jupyter.widget-view+json": {
       "model_id": "234ca836c0ca487e8501b68d560196a6",
       "version_major": 2,
       "version_minor": 0
      },
      "text/html": [
       "<p>Failed to display Jupyter Widget of type <code>HBox</code>.</p>\n",
       "<p>\n",
       "  If you're reading this message in Jupyter Notebook or JupyterLab, it may mean\n",
       "  that the widgets JavaScript is still loading. If this message persists, it\n",
       "  likely means that the widgets JavaScript library is either not installed or\n",
       "  not enabled. See the <a href=\"https://ipywidgets.readthedocs.io/en/stable/user_install.html\">Jupyter\n",
       "  Widgets Documentation</a> for setup instructions.\n",
       "</p>\n",
       "<p>\n",
       "  If you're reading this message in another notebook frontend (for example, a static\n",
       "  rendering on GitHub or <a href=\"https://nbviewer.jupyter.org/\">NBViewer</a>),\n",
       "  it may mean that your frontend doesn't currently support widgets.\n",
       "</p>\n"
      ],
      "text/plain": [
       "HBox(children=(IntProgress(value=0, max=4516703), HTML(value=u'')))"
      ]
     },
     "metadata": {},
     "output_type": "display_data"
    },
    {
     "name": "stdout",
     "output_type": "stream",
     "text": [
      "Decisions 500000 164700822 0\n",
      "Broadcasting..\n",
      "Clustering..\n",
      "Merges 54264 / 499804\n",
      "Redirects 3926047\n",
      "Iteration: 38\n"
     ]
    },
    {
     "data": {
      "application/vnd.jupyter.widget-view+json": {
       "model_id": "29c27001724c4036be214297bc182528",
       "version_major": 2,
       "version_minor": 0
      },
      "text/html": [
       "<p>Failed to display Jupyter Widget of type <code>HBox</code>.</p>\n",
       "<p>\n",
       "  If you're reading this message in Jupyter Notebook or JupyterLab, it may mean\n",
       "  that the widgets JavaScript is still loading. If this message persists, it\n",
       "  likely means that the widgets JavaScript library is either not installed or\n",
       "  not enabled. See the <a href=\"https://ipywidgets.readthedocs.io/en/stable/user_install.html\">Jupyter\n",
       "  Widgets Documentation</a> for setup instructions.\n",
       "</p>\n",
       "<p>\n",
       "  If you're reading this message in another notebook frontend (for example, a static\n",
       "  rendering on GitHub or <a href=\"https://nbviewer.jupyter.org/\">NBViewer</a>),\n",
       "  it may mean that your frontend doesn't currently support widgets.\n",
       "</p>\n"
      ],
      "text/plain": [
       "HBox(children=(IntProgress(value=0, max=4516703), HTML(value=u'')))"
      ]
     },
     "metadata": {},
     "output_type": "display_data"
    },
    {
     "name": "stdout",
     "output_type": "stream",
     "text": [
      "\n"
     ]
    },
    {
     "name": "stderr",
     "output_type": "stream",
     "text": [
      "Exception in thread Thread-23:\n",
      "Traceback (most recent call last):\n",
      "  File \"/usr/lib/python2.7/threading.py\", line 810, in __bootstrap_inner\n",
      "    self.run()\n",
      "  File \"/n/schwafs/home/andy/repos/sift/ve/local/lib/python2.7/site-packages/tqdm/_tqdm.py\", line 144, in run\n",
      "    for instance in self.tqdm_cls._instances:\n",
      "  File \"/n/schwafs/home/andy/repos/sift/ve/lib/python2.7/_weakrefset.py\", line 60, in __iter__\n",
      "    for itemref in self.data:\n",
      "RuntimeError: Set changed size during iteration\n",
      "\n"
     ]
    },
    {
     "name": "stdout",
     "output_type": "stream",
     "text": [
      "Decisions 27326 165751960 0\n",
      "Broadcasting..\n",
      "Clustering..\n",
      "Merges 3182 / 27304\n",
      "Redirects 3927977\n",
      "Iteration: 39\n",
      "Greedy 27304\n"
     ]
    },
    {
     "data": {
      "application/vnd.jupyter.widget-view+json": {
       "model_id": "88f1a4e0a25e49d48350845ba555973e",
       "version_major": 2,
       "version_minor": 0
      },
      "text/html": [
       "<p>Failed to display Jupyter Widget of type <code>HBox</code>.</p>\n",
       "<p>\n",
       "  If you're reading this message in Jupyter Notebook or JupyterLab, it may mean\n",
       "  that the widgets JavaScript is still loading. If this message persists, it\n",
       "  likely means that the widgets JavaScript library is either not installed or\n",
       "  not enabled. See the <a href=\"https://ipywidgets.readthedocs.io/en/stable/user_install.html\">Jupyter\n",
       "  Widgets Documentation</a> for setup instructions.\n",
       "</p>\n",
       "<p>\n",
       "  If you're reading this message in another notebook frontend (for example, a static\n",
       "  rendering on GitHub or <a href=\"https://nbviewer.jupyter.org/\">NBViewer</a>),\n",
       "  it may mean that your frontend doesn't currently support widgets.\n",
       "</p>\n"
      ],
      "text/plain": [
       "HBox(children=(IntProgress(value=0, max=4516703), HTML(value=u'')))"
      ]
     },
     "metadata": {},
     "output_type": "display_data"
    },
    {
     "name": "stdout",
     "output_type": "stream",
     "text": [
      "Decisions 500000 176994658 0\n",
      "Broadcasting..\n",
      "Clustering..\n",
      "Merges 61192 / 499893\n",
      "Redirects 3937166\n",
      "Iteration: 40\n"
     ]
    },
    {
     "data": {
      "application/vnd.jupyter.widget-view+json": {
       "model_id": "c6d4aa1927864d5d8e270b8e9ae20b0d",
       "version_major": 2,
       "version_minor": 0
      },
      "text/html": [
       "<p>Failed to display Jupyter Widget of type <code>HBox</code>.</p>\n",
       "<p>\n",
       "  If you're reading this message in Jupyter Notebook or JupyterLab, it may mean\n",
       "  that the widgets JavaScript is still loading. If this message persists, it\n",
       "  likely means that the widgets JavaScript library is either not installed or\n",
       "  not enabled. See the <a href=\"https://ipywidgets.readthedocs.io/en/stable/user_install.html\">Jupyter\n",
       "  Widgets Documentation</a> for setup instructions.\n",
       "</p>\n",
       "<p>\n",
       "  If you're reading this message in another notebook frontend (for example, a static\n",
       "  rendering on GitHub or <a href=\"https://nbviewer.jupyter.org/\">NBViewer</a>),\n",
       "  it may mean that your frontend doesn't currently support widgets.\n",
       "</p>\n"
      ],
      "text/plain": [
       "HBox(children=(IntProgress(value=0, max=4516703), HTML(value=u'')))"
      ]
     },
     "metadata": {},
     "output_type": "display_data"
    },
    {
     "name": "stdout",
     "output_type": "stream",
     "text": [
      "\n"
     ]
    },
    {
     "name": "stderr",
     "output_type": "stream",
     "text": [
      "Exception in thread Thread-24:\n",
      "Traceback (most recent call last):\n",
      "  File \"/usr/lib/python2.7/threading.py\", line 810, in __bootstrap_inner\n",
      "    self.run()\n",
      "  File \"/n/schwafs/home/andy/repos/sift/ve/local/lib/python2.7/site-packages/tqdm/_tqdm.py\", line 144, in run\n",
      "    for instance in self.tqdm_cls._instances:\n",
      "  File \"/n/schwafs/home/andy/repos/sift/ve/lib/python2.7/_weakrefset.py\", line 60, in __iter__\n",
      "    for itemref in self.data:\n",
      "RuntimeError: Set changed size during iteration\n",
      "\n"
     ]
    },
    {
     "name": "stdout",
     "output_type": "stream",
     "text": [
      "Decisions 26093 178040753 0\n",
      "Broadcasting..\n",
      "Clustering..\n",
      "Merges 3038 / 26074\n",
      "Redirects 3939085\n",
      "Iteration: 41\n",
      "Greedy 26074\n"
     ]
    },
    {
     "data": {
      "application/vnd.jupyter.widget-view+json": {
       "model_id": "635c02052b144bda905cb8d6fb478329",
       "version_major": 2,
       "version_minor": 0
      },
      "text/html": [
       "<p>Failed to display Jupyter Widget of type <code>HBox</code>.</p>\n",
       "<p>\n",
       "  If you're reading this message in Jupyter Notebook or JupyterLab, it may mean\n",
       "  that the widgets JavaScript is still loading. If this message persists, it\n",
       "  likely means that the widgets JavaScript library is either not installed or\n",
       "  not enabled. See the <a href=\"https://ipywidgets.readthedocs.io/en/stable/user_install.html\">Jupyter\n",
       "  Widgets Documentation</a> for setup instructions.\n",
       "</p>\n",
       "<p>\n",
       "  If you're reading this message in another notebook frontend (for example, a static\n",
       "  rendering on GitHub or <a href=\"https://nbviewer.jupyter.org/\">NBViewer</a>),\n",
       "  it may mean that your frontend doesn't currently support widgets.\n",
       "</p>\n"
      ],
      "text/plain": [
       "HBox(children=(IntProgress(value=0, max=4516703), HTML(value=u'')))"
      ]
     },
     "metadata": {},
     "output_type": "display_data"
    },
    {
     "name": "stdout",
     "output_type": "stream",
     "text": [
      "Decisions 500000 195277562 0\n",
      "Broadcasting..\n",
      "Clustering..\n",
      "Merges 82455 / 499040\n",
      "Redirects 3949132\n",
      "Iteration: 42\n"
     ]
    },
    {
     "data": {
      "application/vnd.jupyter.widget-view+json": {
       "model_id": "0d0c3d293e794e7ca63430ff56bf2921",
       "version_major": 2,
       "version_minor": 0
      },
      "text/html": [
       "<p>Failed to display Jupyter Widget of type <code>HBox</code>.</p>\n",
       "<p>\n",
       "  If you're reading this message in Jupyter Notebook or JupyterLab, it may mean\n",
       "  that the widgets JavaScript is still loading. If this message persists, it\n",
       "  likely means that the widgets JavaScript library is either not installed or\n",
       "  not enabled. See the <a href=\"https://ipywidgets.readthedocs.io/en/stable/user_install.html\">Jupyter\n",
       "  Widgets Documentation</a> for setup instructions.\n",
       "</p>\n",
       "<p>\n",
       "  If you're reading this message in another notebook frontend (for example, a static\n",
       "  rendering on GitHub or <a href=\"https://nbviewer.jupyter.org/\">NBViewer</a>),\n",
       "  it may mean that your frontend doesn't currently support widgets.\n",
       "</p>\n"
      ],
      "text/plain": [
       "HBox(children=(IntProgress(value=0, max=4516703), HTML(value=u'')))"
      ]
     },
     "metadata": {},
     "output_type": "display_data"
    },
    {
     "name": "stdout",
     "output_type": "stream",
     "text": [
      "\n"
     ]
    },
    {
     "name": "stderr",
     "output_type": "stream",
     "text": [
      "Exception in thread Thread-25:\n",
      "Traceback (most recent call last):\n",
      "  File \"/usr/lib/python2.7/threading.py\", line 810, in __bootstrap_inner\n",
      "    self.run()\n",
      "  File \"/n/schwafs/home/andy/repos/sift/ve/local/lib/python2.7/site-packages/tqdm/_tqdm.py\", line 144, in run\n",
      "    for instance in self.tqdm_cls._instances:\n",
      "  File \"/n/schwafs/home/andy/repos/sift/ve/lib/python2.7/_weakrefset.py\", line 60, in __iter__\n",
      "    for itemref in self.data:\n",
      "RuntimeError: Set changed size during iteration\n",
      "\n"
     ]
    },
    {
     "name": "stdout",
     "output_type": "stream",
     "text": [
      "Decisions 24676 196316429 0\n",
      "Broadcasting..\n",
      "Clustering..\n",
      "Merges 2542 / 24657\n",
      "Redirects 3950749\n",
      "Iteration: 43\n",
      "Greedy 24657\n"
     ]
    },
    {
     "data": {
      "application/vnd.jupyter.widget-view+json": {
       "model_id": "572688929c874c2c94aa12812c3d7828",
       "version_major": 2,
       "version_minor": 0
      },
      "text/html": [
       "<p>Failed to display Jupyter Widget of type <code>HBox</code>.</p>\n",
       "<p>\n",
       "  If you're reading this message in Jupyter Notebook or JupyterLab, it may mean\n",
       "  that the widgets JavaScript is still loading. If this message persists, it\n",
       "  likely means that the widgets JavaScript library is either not installed or\n",
       "  not enabled. See the <a href=\"https://ipywidgets.readthedocs.io/en/stable/user_install.html\">Jupyter\n",
       "  Widgets Documentation</a> for setup instructions.\n",
       "</p>\n",
       "<p>\n",
       "  If you're reading this message in another notebook frontend (for example, a static\n",
       "  rendering on GitHub or <a href=\"https://nbviewer.jupyter.org/\">NBViewer</a>),\n",
       "  it may mean that your frontend doesn't currently support widgets.\n",
       "</p>\n"
      ],
      "text/plain": [
       "HBox(children=(IntProgress(value=0, max=4516703), HTML(value=u'')))"
      ]
     },
     "metadata": {},
     "output_type": "display_data"
    },
    {
     "name": "stdout",
     "output_type": "stream",
     "text": [
      "Decisions 500000 216552316 0\n",
      "Broadcasting..\n",
      "Clustering..\n",
      "Merges 59686 / 499741\n",
      "Redirects 3959279\n",
      "Iteration: 44\n"
     ]
    },
    {
     "data": {
      "application/vnd.jupyter.widget-view+json": {
       "model_id": "c210b6f4533148b4be76be33ff431dad",
       "version_major": 2,
       "version_minor": 0
      },
      "text/html": [
       "<p>Failed to display Jupyter Widget of type <code>HBox</code>.</p>\n",
       "<p>\n",
       "  If you're reading this message in Jupyter Notebook or JupyterLab, it may mean\n",
       "  that the widgets JavaScript is still loading. If this message persists, it\n",
       "  likely means that the widgets JavaScript library is either not installed or\n",
       "  not enabled. See the <a href=\"https://ipywidgets.readthedocs.io/en/stable/user_install.html\">Jupyter\n",
       "  Widgets Documentation</a> for setup instructions.\n",
       "</p>\n",
       "<p>\n",
       "  If you're reading this message in another notebook frontend (for example, a static\n",
       "  rendering on GitHub or <a href=\"https://nbviewer.jupyter.org/\">NBViewer</a>),\n",
       "  it may mean that your frontend doesn't currently support widgets.\n",
       "</p>\n"
      ],
      "text/plain": [
       "HBox(children=(IntProgress(value=0, max=4516703), HTML(value=u'')))"
      ]
     },
     "metadata": {},
     "output_type": "display_data"
    },
    {
     "name": "stdout",
     "output_type": "stream",
     "text": [
      "\n"
     ]
    },
    {
     "name": "stderr",
     "output_type": "stream",
     "text": [
      "Exception in thread Thread-26:\n",
      "Traceback (most recent call last):\n",
      "  File \"/usr/lib/python2.7/threading.py\", line 810, in __bootstrap_inner\n",
      "    self.run()\n",
      "  File \"/n/schwafs/home/andy/repos/sift/ve/local/lib/python2.7/site-packages/tqdm/_tqdm.py\", line 144, in run\n",
      "    for instance in self.tqdm_cls._instances:\n",
      "  File \"/n/schwafs/home/andy/repos/sift/ve/lib/python2.7/_weakrefset.py\", line 60, in __iter__\n",
      "    for itemref in self.data:\n",
      "RuntimeError: Set changed size during iteration\n",
      "\n"
     ]
    },
    {
     "name": "stdout",
     "output_type": "stream",
     "text": [
      "Decisions 23793 217583974 0\n",
      "Broadcasting..\n",
      "Clustering..\n",
      "Merges 2262 / 23774\n",
      "Redirects 3960782\n",
      "Iteration: 45\n",
      "Greedy 23774\n"
     ]
    },
    {
     "data": {
      "application/vnd.jupyter.widget-view+json": {
       "model_id": "3f95efd8a0d3463fab13268b29dbdfb7",
       "version_major": 2,
       "version_minor": 0
      },
      "text/html": [
       "<p>Failed to display Jupyter Widget of type <code>HBox</code>.</p>\n",
       "<p>\n",
       "  If you're reading this message in Jupyter Notebook or JupyterLab, it may mean\n",
       "  that the widgets JavaScript is still loading. If this message persists, it\n",
       "  likely means that the widgets JavaScript library is either not installed or\n",
       "  not enabled. See the <a href=\"https://ipywidgets.readthedocs.io/en/stable/user_install.html\">Jupyter\n",
       "  Widgets Documentation</a> for setup instructions.\n",
       "</p>\n",
       "<p>\n",
       "  If you're reading this message in another notebook frontend (for example, a static\n",
       "  rendering on GitHub or <a href=\"https://nbviewer.jupyter.org/\">NBViewer</a>),\n",
       "  it may mean that your frontend doesn't currently support widgets.\n",
       "</p>\n"
      ],
      "text/plain": [
       "HBox(children=(IntProgress(value=0, max=4516703), HTML(value=u'')))"
      ]
     },
     "metadata": {},
     "output_type": "display_data"
    },
    {
     "name": "stdout",
     "output_type": "stream",
     "text": [
      "Decisions 500000 238121292 0\n",
      "Broadcasting..\n",
      "Clustering..\n",
      "Merges 64309 / 499953\n",
      "Redirects 3970465\n",
      "Iteration: 46\n"
     ]
    },
    {
     "data": {
      "application/vnd.jupyter.widget-view+json": {
       "model_id": "c67420ddc8fb4376aed2b1b480a1f00c",
       "version_major": 2,
       "version_minor": 0
      },
      "text/html": [
       "<p>Failed to display Jupyter Widget of type <code>HBox</code>.</p>\n",
       "<p>\n",
       "  If you're reading this message in Jupyter Notebook or JupyterLab, it may mean\n",
       "  that the widgets JavaScript is still loading. If this message persists, it\n",
       "  likely means that the widgets JavaScript library is either not installed or\n",
       "  not enabled. See the <a href=\"https://ipywidgets.readthedocs.io/en/stable/user_install.html\">Jupyter\n",
       "  Widgets Documentation</a> for setup instructions.\n",
       "</p>\n",
       "<p>\n",
       "  If you're reading this message in another notebook frontend (for example, a static\n",
       "  rendering on GitHub or <a href=\"https://nbviewer.jupyter.org/\">NBViewer</a>),\n",
       "  it may mean that your frontend doesn't currently support widgets.\n",
       "</p>\n"
      ],
      "text/plain": [
       "HBox(children=(IntProgress(value=0, max=4516703), HTML(value=u'')))"
      ]
     },
     "metadata": {},
     "output_type": "display_data"
    },
    {
     "name": "stdout",
     "output_type": "stream",
     "text": [
      "\n"
     ]
    },
    {
     "name": "stderr",
     "output_type": "stream",
     "text": [
      "Exception in thread Thread-27:\n",
      "Traceback (most recent call last):\n",
      "  File \"/usr/lib/python2.7/threading.py\", line 810, in __bootstrap_inner\n",
      "    self.run()\n",
      "  File \"/n/schwafs/home/andy/repos/sift/ve/local/lib/python2.7/site-packages/tqdm/_tqdm.py\", line 144, in run\n",
      "    for instance in self.tqdm_cls._instances:\n",
      "  File \"/n/schwafs/home/andy/repos/sift/ve/lib/python2.7/_weakrefset.py\", line 60, in __iter__\n",
      "    for itemref in self.data:\n",
      "RuntimeError: Set changed size during iteration\n",
      "\n"
     ]
    },
    {
     "name": "stdout",
     "output_type": "stream",
     "text": [
      "Decisions 22818 239144643 0\n",
      "Broadcasting..\n",
      "Clustering..\n",
      "Merges 2121 / 22800\n",
      "Redirects 3971881\n",
      "Iteration: 47\n",
      "Greedy 22800\n"
     ]
    },
    {
     "data": {
      "application/vnd.jupyter.widget-view+json": {
       "model_id": "1c3467abcef247e28c42c640b5bd6e4d",
       "version_major": 2,
       "version_minor": 0
      },
      "text/html": [
       "<p>Failed to display Jupyter Widget of type <code>HBox</code>.</p>\n",
       "<p>\n",
       "  If you're reading this message in Jupyter Notebook or JupyterLab, it may mean\n",
       "  that the widgets JavaScript is still loading. If this message persists, it\n",
       "  likely means that the widgets JavaScript library is either not installed or\n",
       "  not enabled. See the <a href=\"https://ipywidgets.readthedocs.io/en/stable/user_install.html\">Jupyter\n",
       "  Widgets Documentation</a> for setup instructions.\n",
       "</p>\n",
       "<p>\n",
       "  If you're reading this message in another notebook frontend (for example, a static\n",
       "  rendering on GitHub or <a href=\"https://nbviewer.jupyter.org/\">NBViewer</a>),\n",
       "  it may mean that your frontend doesn't currently support widgets.\n",
       "</p>\n"
      ],
      "text/plain": [
       "HBox(children=(IntProgress(value=0, max=4516703), HTML(value=u'')))"
      ]
     },
     "metadata": {},
     "output_type": "display_data"
    },
    {
     "name": "stdout",
     "output_type": "stream",
     "text": [
      "Decisions 500000 256375467 0\n",
      "Broadcasting..\n",
      "Clustering..\n",
      "Merges 59083 / 499893\n",
      "Redirects 3980565\n",
      "Iteration: 48\n"
     ]
    },
    {
     "data": {
      "application/vnd.jupyter.widget-view+json": {
       "model_id": "27e7b2234da54cccb938084647833fa9",
       "version_major": 2,
       "version_minor": 0
      },
      "text/html": [
       "<p>Failed to display Jupyter Widget of type <code>HBox</code>.</p>\n",
       "<p>\n",
       "  If you're reading this message in Jupyter Notebook or JupyterLab, it may mean\n",
       "  that the widgets JavaScript is still loading. If this message persists, it\n",
       "  likely means that the widgets JavaScript library is either not installed or\n",
       "  not enabled. See the <a href=\"https://ipywidgets.readthedocs.io/en/stable/user_install.html\">Jupyter\n",
       "  Widgets Documentation</a> for setup instructions.\n",
       "</p>\n",
       "<p>\n",
       "  If you're reading this message in another notebook frontend (for example, a static\n",
       "  rendering on GitHub or <a href=\"https://nbviewer.jupyter.org/\">NBViewer</a>),\n",
       "  it may mean that your frontend doesn't currently support widgets.\n",
       "</p>\n"
      ],
      "text/plain": [
       "HBox(children=(IntProgress(value=0, max=4516703), HTML(value=u'')))"
      ]
     },
     "metadata": {},
     "output_type": "display_data"
    },
    {
     "name": "stdout",
     "output_type": "stream",
     "text": [
      "\n"
     ]
    },
    {
     "name": "stderr",
     "output_type": "stream",
     "text": [
      "Exception in thread Thread-28:\n",
      "Traceback (most recent call last):\n",
      "  File \"/usr/lib/python2.7/threading.py\", line 810, in __bootstrap_inner\n",
      "    self.run()\n",
      "  File \"/n/schwafs/home/andy/repos/sift/ve/local/lib/python2.7/site-packages/tqdm/_tqdm.py\", line 144, in run\n",
      "    for instance in self.tqdm_cls._instances:\n",
      "  File \"/n/schwafs/home/andy/repos/sift/ve/lib/python2.7/_weakrefset.py\", line 60, in __iter__\n",
      "    for itemref in self.data:\n",
      "RuntimeError: Set changed size during iteration\n",
      "\n"
     ]
    },
    {
     "name": "stdout",
     "output_type": "stream",
     "text": [
      "Decisions 21526 257389757 0\n",
      "Broadcasting..\n",
      "Clustering..\n",
      "Merges 1780 / 21509\n",
      "Redirects 3981761\n",
      "Iteration: 49\n",
      "Greedy 21509\n"
     ]
    },
    {
     "data": {
      "application/vnd.jupyter.widget-view+json": {
       "model_id": "2f1e9df2cdd24159bd5e38f303d2e46d",
       "version_major": 2,
       "version_minor": 0
      },
      "text/html": [
       "<p>Failed to display Jupyter Widget of type <code>HBox</code>.</p>\n",
       "<p>\n",
       "  If you're reading this message in Jupyter Notebook or JupyterLab, it may mean\n",
       "  that the widgets JavaScript is still loading. If this message persists, it\n",
       "  likely means that the widgets JavaScript library is either not installed or\n",
       "  not enabled. See the <a href=\"https://ipywidgets.readthedocs.io/en/stable/user_install.html\">Jupyter\n",
       "  Widgets Documentation</a> for setup instructions.\n",
       "</p>\n",
       "<p>\n",
       "  If you're reading this message in another notebook frontend (for example, a static\n",
       "  rendering on GitHub or <a href=\"https://nbviewer.jupyter.org/\">NBViewer</a>),\n",
       "  it may mean that your frontend doesn't currently support widgets.\n",
       "</p>\n"
      ],
      "text/plain": [
       "HBox(children=(IntProgress(value=0, max=4516703), HTML(value=u'')))"
      ]
     },
     "metadata": {},
     "output_type": "display_data"
    },
    {
     "name": "stdout",
     "output_type": "stream",
     "text": [
      "Decisions 500000 287209594 0\n",
      "Broadcasting..\n",
      "Clustering..\n",
      "Merges 48852 / 499959\n",
      "Redirects 3988978\n",
      "Iteration: 50\n"
     ]
    },
    {
     "data": {
      "application/vnd.jupyter.widget-view+json": {
       "model_id": "f3a4c206a19e48ed898759b85992fe4b",
       "version_major": 2,
       "version_minor": 0
      },
      "text/html": [
       "<p>Failed to display Jupyter Widget of type <code>HBox</code>.</p>\n",
       "<p>\n",
       "  If you're reading this message in Jupyter Notebook or JupyterLab, it may mean\n",
       "  that the widgets JavaScript is still loading. If this message persists, it\n",
       "  likely means that the widgets JavaScript library is either not installed or\n",
       "  not enabled. See the <a href=\"https://ipywidgets.readthedocs.io/en/stable/user_install.html\">Jupyter\n",
       "  Widgets Documentation</a> for setup instructions.\n",
       "</p>\n",
       "<p>\n",
       "  If you're reading this message in another notebook frontend (for example, a static\n",
       "  rendering on GitHub or <a href=\"https://nbviewer.jupyter.org/\">NBViewer</a>),\n",
       "  it may mean that your frontend doesn't currently support widgets.\n",
       "</p>\n"
      ],
      "text/plain": [
       "HBox(children=(IntProgress(value=0, max=4516703), HTML(value=u'')))"
      ]
     },
     "metadata": {},
     "output_type": "display_data"
    },
    {
     "name": "stdout",
     "output_type": "stream",
     "text": [
      "\n"
     ]
    },
    {
     "name": "stderr",
     "output_type": "stream",
     "text": [
      "Exception in thread Thread-29:\n",
      "Traceback (most recent call last):\n",
      "  File \"/usr/lib/python2.7/threading.py\", line 810, in __bootstrap_inner\n",
      "    self.run()\n",
      "  File \"/n/schwafs/home/andy/repos/sift/ve/local/lib/python2.7/site-packages/tqdm/_tqdm.py\", line 144, in run\n",
      "    for instance in self.tqdm_cls._instances:\n",
      "  File \"/n/schwafs/home/andy/repos/sift/ve/lib/python2.7/_weakrefset.py\", line 60, in __iter__\n",
      "    for itemref in self.data:\n",
      "RuntimeError: Set changed size during iteration\n",
      "\n"
     ]
    },
    {
     "name": "stdout",
     "output_type": "stream",
     "text": [
      "Decisions 20996 288213753 0\n",
      "Broadcasting..\n",
      "Clustering..\n",
      "Merges 1623 / 20979\n",
      "Redirects 3990064\n",
      "Iteration: 51\n",
      "Greedy 20979\n"
     ]
    },
    {
     "data": {
      "application/vnd.jupyter.widget-view+json": {
       "model_id": "9a7aa3f25a614bd2ab04730dcb873f0c",
       "version_major": 2,
       "version_minor": 0
      },
      "text/html": [
       "<p>Failed to display Jupyter Widget of type <code>HBox</code>.</p>\n",
       "<p>\n",
       "  If you're reading this message in Jupyter Notebook or JupyterLab, it may mean\n",
       "  that the widgets JavaScript is still loading. If this message persists, it\n",
       "  likely means that the widgets JavaScript library is either not installed or\n",
       "  not enabled. See the <a href=\"https://ipywidgets.readthedocs.io/en/stable/user_install.html\">Jupyter\n",
       "  Widgets Documentation</a> for setup instructions.\n",
       "</p>\n",
       "<p>\n",
       "  If you're reading this message in another notebook frontend (for example, a static\n",
       "  rendering on GitHub or <a href=\"https://nbviewer.jupyter.org/\">NBViewer</a>),\n",
       "  it may mean that your frontend doesn't currently support widgets.\n",
       "</p>\n"
      ],
      "text/plain": [
       "HBox(children=(IntProgress(value=0, max=4516703), HTML(value=u'')))"
      ]
     },
     "metadata": {},
     "output_type": "display_data"
    },
    {
     "name": "stdout",
     "output_type": "stream",
     "text": [
      "Decisions 500000 314440369 0\n",
      "Broadcasting..\n",
      "Clustering..\n",
      "Merges 37249 / 499053\n",
      "Redirects 3994918\n",
      "Iteration: 52\n"
     ]
    },
    {
     "data": {
      "application/vnd.jupyter.widget-view+json": {
       "model_id": "7812fafec31343b5b4c7a0437cabaa4d",
       "version_major": 2,
       "version_minor": 0
      },
      "text/html": [
       "<p>Failed to display Jupyter Widget of type <code>HBox</code>.</p>\n",
       "<p>\n",
       "  If you're reading this message in Jupyter Notebook or JupyterLab, it may mean\n",
       "  that the widgets JavaScript is still loading. If this message persists, it\n",
       "  likely means that the widgets JavaScript library is either not installed or\n",
       "  not enabled. See the <a href=\"https://ipywidgets.readthedocs.io/en/stable/user_install.html\">Jupyter\n",
       "  Widgets Documentation</a> for setup instructions.\n",
       "</p>\n",
       "<p>\n",
       "  If you're reading this message in another notebook frontend (for example, a static\n",
       "  rendering on GitHub or <a href=\"https://nbviewer.jupyter.org/\">NBViewer</a>),\n",
       "  it may mean that your frontend doesn't currently support widgets.\n",
       "</p>\n"
      ],
      "text/plain": [
       "HBox(children=(IntProgress(value=0, max=4516703), HTML(value=u'')))"
      ]
     },
     "metadata": {},
     "output_type": "display_data"
    },
    {
     "name": "stdout",
     "output_type": "stream",
     "text": [
      "\n"
     ]
    },
    {
     "name": "stderr",
     "output_type": "stream",
     "text": [
      "Exception in thread Thread-30:\n",
      "Traceback (most recent call last):\n",
      "  File \"/usr/lib/python2.7/threading.py\", line 810, in __bootstrap_inner\n",
      "    self.run()\n",
      "  File \"/n/schwafs/home/andy/repos/sift/ve/local/lib/python2.7/site-packages/tqdm/_tqdm.py\", line 144, in run\n",
      "    for instance in self.tqdm_cls._instances:\n",
      "  File \"/n/schwafs/home/andy/repos/sift/ve/lib/python2.7/_weakrefset.py\", line 60, in __iter__\n",
      "    for itemref in self.data:\n",
      "RuntimeError: Set changed size during iteration\n",
      "\n"
     ]
    },
    {
     "name": "stdout",
     "output_type": "stream",
     "text": [
      "Decisions 20090 315434552 0\n",
      "Broadcasting..\n",
      "Clustering..\n",
      "Merges 1263 / 20073\n",
      "Redirects 3995786\n",
      "Iteration: 53\n",
      "Greedy 20073\n"
     ]
    },
    {
     "data": {
      "application/vnd.jupyter.widget-view+json": {
       "model_id": "46d4c9bedd2a422ab21f7d4aaf0df61b",
       "version_major": 2,
       "version_minor": 0
      },
      "text/html": [
       "<p>Failed to display Jupyter Widget of type <code>HBox</code>.</p>\n",
       "<p>\n",
       "  If you're reading this message in Jupyter Notebook or JupyterLab, it may mean\n",
       "  that the widgets JavaScript is still loading. If this message persists, it\n",
       "  likely means that the widgets JavaScript library is either not installed or\n",
       "  not enabled. See the <a href=\"https://ipywidgets.readthedocs.io/en/stable/user_install.html\">Jupyter\n",
       "  Widgets Documentation</a> for setup instructions.\n",
       "</p>\n",
       "<p>\n",
       "  If you're reading this message in another notebook frontend (for example, a static\n",
       "  rendering on GitHub or <a href=\"https://nbviewer.jupyter.org/\">NBViewer</a>),\n",
       "  it may mean that your frontend doesn't currently support widgets.\n",
       "</p>\n"
      ],
      "text/plain": [
       "HBox(children=(IntProgress(value=0, max=4516703), HTML(value=u'')))"
      ]
     },
     "metadata": {},
     "output_type": "display_data"
    },
    {
     "name": "stdout",
     "output_type": "stream",
     "text": [
      "Decisions 500000 332389837 0\n",
      "Broadcasting..\n",
      "Clustering..\n",
      "Merges 35184 / 499208\n",
      "Redirects 4000393\n",
      "Iteration: 54\n"
     ]
    },
    {
     "data": {
      "application/vnd.jupyter.widget-view+json": {
       "model_id": "ceb90cce9e574174824b6fffe42c6016",
       "version_major": 2,
       "version_minor": 0
      },
      "text/html": [
       "<p>Failed to display Jupyter Widget of type <code>HBox</code>.</p>\n",
       "<p>\n",
       "  If you're reading this message in Jupyter Notebook or JupyterLab, it may mean\n",
       "  that the widgets JavaScript is still loading. If this message persists, it\n",
       "  likely means that the widgets JavaScript library is either not installed or\n",
       "  not enabled. See the <a href=\"https://ipywidgets.readthedocs.io/en/stable/user_install.html\">Jupyter\n",
       "  Widgets Documentation</a> for setup instructions.\n",
       "</p>\n",
       "<p>\n",
       "  If you're reading this message in another notebook frontend (for example, a static\n",
       "  rendering on GitHub or <a href=\"https://nbviewer.jupyter.org/\">NBViewer</a>),\n",
       "  it may mean that your frontend doesn't currently support widgets.\n",
       "</p>\n"
      ],
      "text/plain": [
       "HBox(children=(IntProgress(value=0, max=4516703), HTML(value=u'')))"
      ]
     },
     "metadata": {},
     "output_type": "display_data"
    },
    {
     "name": "stdout",
     "output_type": "stream",
     "text": [
      "\n"
     ]
    },
    {
     "name": "stderr",
     "output_type": "stream",
     "text": [
      "Exception in thread Thread-31:\n",
      "Traceback (most recent call last):\n",
      "  File \"/usr/lib/python2.7/threading.py\", line 810, in __bootstrap_inner\n",
      "    self.run()\n",
      "  File \"/n/schwafs/home/andy/repos/sift/ve/local/lib/python2.7/site-packages/tqdm/_tqdm.py\", line 144, in run\n",
      "    for instance in self.tqdm_cls._instances:\n",
      "  File \"/n/schwafs/home/andy/repos/sift/ve/lib/python2.7/_weakrefset.py\", line 60, in __iter__\n",
      "    for itemref in self.data:\n",
      "RuntimeError: Set changed size during iteration\n",
      "\n"
     ]
    },
    {
     "name": "stdout",
     "output_type": "stream",
     "text": [
      "Decisions 19455 333376068 0\n",
      "Broadcasting..\n",
      "Clustering..\n",
      "Merges 1054 / 19443\n",
      "Redirects 4001071\n",
      "Iteration: 55\n",
      "Greedy 19443\n"
     ]
    },
    {
     "data": {
      "application/vnd.jupyter.widget-view+json": {
       "model_id": "ab82b8d1af88402bb34ce975aa5b04d6",
       "version_major": 2,
       "version_minor": 0
      },
      "text/html": [
       "<p>Failed to display Jupyter Widget of type <code>HBox</code>.</p>\n",
       "<p>\n",
       "  If you're reading this message in Jupyter Notebook or JupyterLab, it may mean\n",
       "  that the widgets JavaScript is still loading. If this message persists, it\n",
       "  likely means that the widgets JavaScript library is either not installed or\n",
       "  not enabled. See the <a href=\"https://ipywidgets.readthedocs.io/en/stable/user_install.html\">Jupyter\n",
       "  Widgets Documentation</a> for setup instructions.\n",
       "</p>\n",
       "<p>\n",
       "  If you're reading this message in another notebook frontend (for example, a static\n",
       "  rendering on GitHub or <a href=\"https://nbviewer.jupyter.org/\">NBViewer</a>),\n",
       "  it may mean that your frontend doesn't currently support widgets.\n",
       "</p>\n"
      ],
      "text/plain": [
       "HBox(children=(IntProgress(value=0, max=4516703), HTML(value=u'')))"
      ]
     },
     "metadata": {},
     "output_type": "display_data"
    },
    {
     "name": "stdout",
     "output_type": "stream",
     "text": [
      "Decisions 500000 364492165 0\n",
      "Broadcasting..\n",
      "Clustering..\n"
     ]
    }
   ],
   "source": [
    "MAX_DECISIONS_PER_ITER = 500000\n",
    "\n",
    "decided_pairs = set()\n",
    "merge_history = {}\n",
    "merge_count_history = {}\n",
    "\n",
    "for i in xrange(0, 50):\n",
    "    print 'Iteration:', i\n",
    "    greedy_merge = i != 0 and (len(decisions) < MAX_DECISIONS_PER_ITER/5.)\n",
    "    if greedy_merge:\n",
    "        print 'Greedy', len(merge_history[i-1])\n",
    "    decisions, num_subsampled = get_decisions(\n",
    "        redirects,\n",
    "        anchor_targets,\n",
    "        target_counts,\n",
    "        decided_pairs,\n",
    "        endpoints_by_target,\n",
    "        mulitple_decision_per_entity=greedy_merge,\n",
    "        max_decisions=MAX_DECISIONS_PER_ITER)\n",
    "    if not decisions:\n",
    "        print 'Done'\n",
    "        break\n",
    "    print 'Decisions', len(decisions), len(decided_pairs), num_subsampled\n",
    "    merges = light_resolve_decisions(model, redirects, decisions, agg_cluster_mentions)\n",
    "    merge_history[i] = merges\n",
    "    merge_count_history[i] = sum(1 for x, y, m in merges if m >= 0.5)\n",
    "    if (merge_count_history[i] + merge_count_history.get(i-1, 0)) == 0:\n",
    "        if len(decisions) < MAX_DECISIONS_PER_ITER/10:\n",
    "            print 'Probably Done'\n",
    "            break\n",
    "    print 'Merges', merge_count_history[i], '/', len(merge_history[i])\n",
    "\n",
    "    redirects = apply_merges(redirects, merges, target_counts, endpoints_by_target)\n",
    "    print 'Redirects', len(redirects)\n",
    "        #.reduceByKey(lambda x, y: tuple(x[i]+y[i] for i in xrange(len(x))))\n",
    "    #print 'Clusters', agg_cluster_mentions.count()"
   ]
  },
  {
   "cell_type": "code",
   "execution_count": null,
   "metadata": {},
   "outputs": [],
   "source": [
    "11"
   ]
  },
  {
   "cell_type": "code",
   "execution_count": 61,
   "metadata": {},
   "outputs": [
    {
     "data": {
      "text/plain": [
       "4001071"
      ]
     },
     "execution_count": 61,
     "metadata": {},
     "output_type": "execute_result"
    }
   ],
   "source": [
    "len(redirects)"
   ]
  },
  {
   "cell_type": "code",
   "execution_count": 175,
   "metadata": {},
   "outputs": [],
   "source": [
    "#Decisions 3614055 69384167"
   ]
  },
  {
   "cell_type": "code",
   "execution_count": 176,
   "metadata": {},
   "outputs": [
    {
     "name": "stdout",
     "output_type": "stream",
     "text": [
      "Found 8 items\r\n",
      "drwxr-xr-x   - andy supergroup          0 2017-10-03 12:51 hdfs://schwa11:9000/webkb/candidates\r\n",
      "drwxr-xr-x   - andy supergroup          0 2017-10-03 12:51 hdfs://schwa11:9000/webkb/clusters\r\n",
      "drwxr-xr-x   - andy supergroup          0 2017-11-22 20:56 hdfs://schwa11:9000/webkb/clusters-simple_2_1.kbco.model\r\n",
      "drwxr-xr-x   - andy supergroup          0 2017-11-22 18:51 hdfs://schwa11:9000/webkb/clusters-simple_4_1.kbco.model\r\n",
      "drwxr-xr-x   - andy supergroup          0 2017-08-05 14:03 hdfs://schwa11:9000/webkb/dataset\r\n",
      "drwxr-xr-x   - andy supergroup          0 2017-08-05 14:19 hdfs://schwa11:9000/webkb/docs\r\n",
      "drwxr-xr-x   - andy supergroup          0 2017-08-05 14:05 hdfs://schwa11:9000/webkb/test\r\n",
      "drwxr-xr-x   - andy supergroup          0 2017-08-05 14:04 hdfs://schwa11:9000/webkb/train\r\n"
     ]
    }
   ],
   "source": [
    "!hadoop fs -ls $data_path"
   ]
  },
  {
   "cell_type": "code",
   "execution_count": 64,
   "metadata": {},
   "outputs": [],
   "source": [
    "MODEL_ID = 'simple_2_2.kbco.model'"
   ]
  },
  {
   "cell_type": "code",
   "execution_count": null,
   "metadata": {},
   "outputs": [],
   "source": [
    "if True:\n",
    "    #!hadoop fs -rm -r /webkb/ccweb/candidates\n",
    "    sc\\\n",
    "        .parallelize(anchor_targets.iteritems())\\\n",
    "        .map(json.dumps)\\\n",
    "        .saveAsTextFile(data_path + '/ccweb/candidates')\n",
    "if False:\n",
    "    #!hadoop fs -rm -r /webkb/ccweb/clusters-simple_2_2.kbco.model\n",
    "    sc\\\n",
    "        .parallelize(redirects.iteritems())\\\n",
    "        .map(json.dumps)\\\n",
    "        .saveAsTextFile(data_path + '/ccweb/clusters-'+ MODEL_ID)"
   ]
  },
  {
   "cell_type": "code",
   "execution_count": 207,
   "metadata": {},
   "outputs": [],
   "source": []
  },
  {
   "cell_type": "code",
   "execution_count": null,
   "metadata": {},
   "outputs": [],
   "source": []
  },
  {
   "cell_type": "code",
   "execution_count": 14,
   "metadata": {},
   "outputs": [
    {
     "name": "stdout",
     "output_type": "stream",
     "text": [
      "a             22.20\n",
      "    95% CI 18.6 - 25.8\n",
      "    99% CI 17.6 - 27.0\n",
      "p             100.00\n",
      "    95% CI 0.0 - 100.0\n",
      "    99% CI 0.0 - 100.0\n",
      "r             0.51\n",
      "    95% CI 0.0 - 1.3\n",
      "    99% CI 0.0 - 1.6\n",
      "f             1.02\n",
      "    95% CI 0.0 - 2.6\n",
      "    99% CI 0.0 - 3.1\n",
      "n             500.00\n",
      "    95% CI 500.0 - 500.0\n",
      "    99% CI 500.0 - 500.0\n"
     ]
    }
   ],
   "source": [
    "import numpy\n",
    "from numpy.random import choice\n",
    "from collections import defaultdict\n",
    "from itertools import tee\n",
    "import ujson as json\n",
    "\n",
    "instances = []\n",
    "with open('kbco-annotations.jsonl', 'r') as f:\n",
    "    for line in f:\n",
    "        instances.append(json.loads(line))\n",
    "\n",
    "instance_metrics = []\n",
    "\n",
    "for instance in instances:\n",
    "    a_valid_link = instance['annotation']['a_link_type'] in ['entity', 'tag']\n",
    "    b_valid_link = instance['annotation']['b_link_type'] in ['entity', 'tag']\n",
    "    if a_valid_link and b_valid_link:\n",
    "        decision = instance['annotation']['decision']\n",
    "        if decision in ['yes', 'no']:\n",
    "            decision = decision == 'yes'\n",
    "            #system_decision = True # baseline\n",
    "            # todo: exclude cases where instances not in redirects\n",
    "            system_decision = redirects.get(instance['item']['a'], instance['item']['a']) == redirects.get(instance['item']['b'], instance['item']['b'])\n",
    "            \n",
    "            tp = 1.0 if decision and system_decision else 0\n",
    "            tn = 1.0 if not decision and not system_decision else 0\n",
    "            fp = 1.0 if system_decision and not decision else 0\n",
    "            fn = 1.0 if not system_decision and decision else 0\n",
    "            \n",
    "            instance_metrics.append({\n",
    "                'tp': tp,\n",
    "                'tn': tn,\n",
    "                'fp': fp,\n",
    "                'fn': fn\n",
    "            })\n",
    "            if len(instance_metrics) == 500:\n",
    "                break\n",
    "\n",
    "def compute_aggregate_metrics(metric_samples):\n",
    "    agg_by_key = {}\n",
    "    for item in metric_samples:\n",
    "        for k, v in item.items():\n",
    "            if k not in agg_by_key:\n",
    "                agg_by_key[k] = 0\n",
    "            agg_by_key[k] += v\n",
    "    tp = agg_by_key['tp']\n",
    "    tn = agg_by_key['tn']\n",
    "    fp = agg_by_key['fp']\n",
    "    fn = agg_by_key['fn']\n",
    "\n",
    "    p = tp/(tp+fp) if (tp+fp) > 0 else 0.\n",
    "    r = tp/(tp+fn) if (tp+fp) > 0 else 0.\n",
    "    n = tp+tn+fn+fp\n",
    "    a = (tp+tn)/n\n",
    "    f = 2*p*r/(p+r) if (p+r) > 0 else 0.\n",
    "    \n",
    "    return {\n",
    "        'a': a,\n",
    "        'p': p,\n",
    "        'r': r,\n",
    "        'f': f,\n",
    "        'n': n\n",
    "    }\n",
    "\n",
    "N_RESAMPLES = 10000\n",
    "\n",
    "metric_samples = []\n",
    "for _ in range(N_RESAMPLES):\n",
    "    metric_samples.append(compute_aggregate_metrics(choice(instance_metrics, size=len(instance_metrics), replace=True)))\n",
    "\n",
    "agg_metric_samples = defaultdict(list)\n",
    "for s in metric_samples:\n",
    "    for k, v in s.iteritems():\n",
    "        agg_metric_samples[k].append(v)\n",
    "\n",
    "base_metric_estimates = compute_aggregate_metrics(instance_metrics)\n",
    "\n",
    "#print(MODEL_ID)\n",
    "for k, samples in agg_metric_samples.iteritems():\n",
    "    scale = 1 if k == 'n' else 100\n",
    "\n",
    "    print k.ljust(10), '   %.2f' % (base_metric_estimates[k] * scale)\n",
    "    print '95% CI'.rjust(10), ' - '.join(['%.1f' % (s*scale) for s in numpy.percentile(samples, [2.5, 97.5])])\n",
    "    print '99% CI'.rjust(10), ' - '.join(['%.1f' % (s*scale) for s in numpy.percentile(samples, [0.5, 99.5])])"
   ]
  },
  {
   "cell_type": "code",
   "execution_count": null,
   "metadata": {},
   "outputs": [],
   "source": [
    "a             77.20\n",
    "    95% CI 73.4 - 80.8\n",
    "    99% CI 72.2 - 81.8\n",
    "p             82.44\n",
    "    95% CI 78.7 - 86.0\n",
    "    99% CI 77.4 - 87.1\n",
    "r             90.03\n",
    "    95% CI 86.9 - 92.9\n",
    "    99% CI 85.8 - 93.8\n",
    "f             86.06\n",
    "    95% CI 83.4 - 88.5\n",
    "    99% CI 82.6 - 89.3\n",
    "n             500.00\n",
    "    95% CI 500.0 - 500.0\n",
    "    99% CI 500.0 - 500.0"
   ]
  },
  {
   "cell_type": "code",
   "execution_count": null,
   "metadata": {
    "collapsed": true
   },
   "outputs": [],
   "source": [
    "if False:\n",
    "    ms = [merges[91], merges[128]] + [(\n",
    "        u'news.nationalpost.com/tag/european-court-of-human-rights',\n",
    "        u'chroniclelive.co.uk/all-about/newcastle-crown-court',\n",
    "        True\n",
    "    ), (\n",
    "        u'data.cnbc.com/quotes/aig',\n",
    "        u'mirror.co.uk/all-about/court-case',\n",
    "        True\n",
    "    )]\n",
    "\n",
    "    redirects = {t:t for t in agg_cluster_mentions.map(lambda (k, ms): k).collect()}\n",
    "    redirects = apply_merges(redirects, ms, target_counts)\n",
    "    sources_by_target = defaultdict(set)\n",
    "    for src, target in redirects.iteritems():\n",
    "        sources_by_target[target].add(src)"
   ]
  },
  {
   "cell_type": "code",
   "execution_count": 74,
   "metadata": {},
   "outputs": [],
   "source": [
    "sources_by_target = defaultdict(set)\n",
    "for src, target in redirects.iteritems():\n",
    "    sources_by_target[target].add(src)"
   ]
  },
  {
   "cell_type": "code",
   "execution_count": 75,
   "metadata": {},
   "outputs": [
    {
     "name": "stdout",
     "output_type": "stream",
     "text": [
      "Total clusters: 659365\n",
      "222 \thollywoodreporter.com/heat-vision/stranger-things-breakout-millie-bobby-brown-set-star-godzilla-sequel-969505\n",
      "168 \trotoworld.com/player/nba/1316/paul-millsap\n",
      "161 \tsun-sentinel.com/topic/sports/basketball/goran-dragic-pespt0000010725-topic.html\n",
      "150 \trotoworld.com/player/nba/1593/blake-griffin\n",
      "136 \tfortune.com/fortune500/qualcomm-110\n",
      "133 \tabcnews.go.com/topics/sports/tennis/australian-open.htm\n",
      "132 \tcelebrityinsider.org/tag/justin-bieber\n",
      "129 \tliverpoolecho.co.uk/all-about/liverpool-fc\n",
      "126 \tespn.com/nba/player/_/id/1975/carmelo-anthony\n",
      "123 \tchicagotribune.com/topic/sports/basketball/jimmy-butler-pespt0011638-topic.html\n"
     ]
    }
   ],
   "source": [
    "print 'Total clusters:', len(sources_by_target)\n",
    "for s, srcs in sorted(sources_by_target.iteritems(), key=lambda (k, v): len(v), reverse=True)[:10]:\n",
    "    print len(srcs), '\\t', s"
   ]
  },
  {
   "cell_type": "code",
   "execution_count": null,
   "metadata": {},
   "outputs": [],
   "source": [
    "Total clusters: 704324\n",
    "194 \tjustjared.com/tags/2017-oscars\n",
    "142 \tin.bookmyshow.com/plays/agnipankh/et00054692#!svg-balg\n",
    "114 \titunes.apple.com/gb/app/the-scotsman/id909030944?mt=8\n",
    "114 \tdraftexpress.com/profile/isaac-bonga-84711/stats\n",
    "113 \tmirror.co.uk/all-about/andy-murray\n",
    "112 \ttimesofindia.indiatimes.com/city/hubballi/dharwad-teen-wakes-up-on-way-to-his-funeral/articleshow/57242895.cms\n",
    "109 \twwd.com/fashion-news/designer-luxury/pharrell-williams-kristen-stewart-handbag-campaign-to-chanel-duties-10736434\n",
    "105 \tespn.com/mlb/team/_/name/wsh/washington-nationals\n",
    "104 \tglobalgrind.com/tag/drake\n",
    "104 \tcelebrityinsider.org/tag/brad-pitt"
   ]
  },
  {
   "cell_type": "code",
   "execution_count": 68,
   "metadata": {},
   "outputs": [
    {
     "data": {
      "text/plain": [
       "[(u'play.google.com/store/apps/details?id=com.indianexpress.android&hl=en',\n",
       "  37134),\n",
       " (u'topix.com/who/donald-trump', 10216),\n",
       " (u'indianexpress.com/about/narendra-modi', 8116),\n",
       " (u'mirror.co.uk/all-about/manchester-united-fc', 8110),\n",
       " (u'chicagotribune.com/topic/politics-government/donald-trump-pebsl000163-topic.html',\n",
       "  7883),\n",
       " (u'express.co.uk/football/teams/17/chelsea', 6345),\n",
       " (u'abcnews.go.com/topics/news/donald-trump.htm', 6092),\n",
       " (u'express.co.uk/football/teams/8/manchester-united', 5493),\n",
       " (u'washingtontimes.com/topics/national-football-league', 5237),\n",
       " (u'liverpoolecho.co.uk/all-about/liverpool-fc', 5042)]"
      ]
     },
     "execution_count": 68,
     "metadata": {},
     "output_type": "execute_result"
    }
   ],
   "source": [
    "sorted(target_counts.iteritems(), key=lambda (t, c): c, reverse=True)[:10]"
   ]
  },
  {
   "cell_type": "code",
   "execution_count": 41,
   "metadata": {},
   "outputs": [],
   "source": [
    "#[a for a, ts in anchor_targets.iteritems() if 'radiofreemoscow.org/tag/donald-trump' in ts]\n",
    "#'radiofreemoscow.org/tag/donald-trump' in anchor_targets['trump']\n",
    "#for t in sources_by_target[redirects['radiofreemoscow.org/tag/donald-trump']]:\n",
    "#    print [a for a, ts in anchor_targets.iteritems() if t in ts]"
   ]
  },
  {
   "cell_type": "code",
   "execution_count": 70,
   "metadata": {},
   "outputs": [
    {
     "data": {
      "text/plain": [
       "{u'allure.com/topic/donald-trump',\n",
       " u'aurorasentinel.com/tag/president-trump',\n",
       " u'baltimoresun.com/topic/politics-government/donald-trump-pebsl000163-topic.html',\n",
       " u'breitbart.com/tag/president-trump',\n",
       " u'capitalgazette.com/topic/politics-government/donald-trump-pebsl000163-topic.html',\n",
       " u'carrollcountytimes.com/topic/politics-government/donald-trump-pebsl000163-topic.html',\n",
       " u'chicagotribune.com/topic/politics-government/donald-trump-pebsl000163-topic.html',\n",
       " u'citypaper.com/topic/politics-government/donald-trump-pebsl000163-topic.html',\n",
       " u'courant.com/topic/business/consumer-goods-industries/clothing-textiles-industry/tommy-hilfiger-pebsl000104-topic.html',\n",
       " u'courant.com/topic/politics-government/donald-trump-pebsl000163-topic.html',\n",
       " u'dailycollegian.com/tag/president-trump',\n",
       " u'dailyegyptian.com/tag/donald',\n",
       " u'dailypress.com/topic/politics-government/donald-trump-pebsl000163-topic.html',\n",
       " u'darkroom.baltimoresun.com/tag/president-trump',\n",
       " u'data.cnbc.com/quotes/pvh',\n",
       " u'dazeddigital.com/tag/donald-trump',\n",
       " u'delmartimes.net/topic/politics-government/donald-trump-pebsl000163-topic.html',\n",
       " u'economictimes.indiatimes.com/topic/president-trump',\n",
       " u'fashionisers.com/tag/tommy-hilfiger',\n",
       " u'footwearnews.com/t/tommy-hilfiger',\n",
       " u'forbes.com/profile/donald-trump',\n",
       " u'globalgrind.com/tag/donald-trump',\n",
       " u'herald.ng/tag/president-trump',\n",
       " u'huffingtonpost.com/topic/donald-trumphttp://www.huffingtonpost.com/topic/donald-trump',\n",
       " u'instyle.com/celebrity/donald-trump',\n",
       " u'justjared.com/tags/tommy-hilfiger',\n",
       " u'krai.com/tag/donald',\n",
       " u'krebsonsecurity.com/tag/president-trump',\n",
       " u'ksfm.cbslocal.com/tag/president-trump',\n",
       " u'latimes.com/topic/business/consumer-goods-industries/clothing-textiles-industry/tommy-hilfiger-pebsl000104-topic.html',\n",
       " u'latimes.com/topic/politics-government/donald-trump-pebsl000163-topic.html',\n",
       " u'mcall.com/topic/politics-government/donald-trump-pebsl000163-topic.html',\n",
       " u'newsone.com/tag/presiden-trump',\n",
       " u'northcoastjournal.com/humboldt/articlearchives?tag=president%20trump',\n",
       " u'nymag.com/thecut/fashion/designers/tommy-hilfiger',\n",
       " u'nytimes.com/topic/person/donald-trump',\n",
       " u'nytimes.com/topic/person/donald-trump?inline=nyt-per',\n",
       " u'orlandosentinel.com/topic/politics-government/donald-trump-pebsl000163-topic.html',\n",
       " u'orlandoweekly.com/orlando/articlearchives?tag=president%20trump',\n",
       " u'phillymag.com/tag/president-trump',\n",
       " u'rejournals.com/tag/president-trump',\n",
       " u'rollingstone.com/topic/donald-trump',\n",
       " u'sandiegouniontribune.com/topic/politics-government/donald-trump-pebsl000163-topic.html',\n",
       " u'sanjoseinside.com/tag/donaldtrump',\n",
       " u'seattlepi.com/search/?action=search&channel=local%2fpolitics&inlinelink=1&searchindex=gsa&query=%22donald+trump%22',\n",
       " u'southflorida.com/topic/politics-government/donald-trump-pebsl000163-topic.html',\n",
       " u'spin.com/tag/donald-trump',\n",
       " u'sputniknews.com/tags/tag_donald_trump',\n",
       " u'standard.co.uk/topic/donald-trump',\n",
       " u'sun-sentinel.com/topic/politics-government/donald-trump-pebsl000163-topic.html',\n",
       " u'thedailycougar.com/tag/president-trump',\n",
       " u'thefader.com/artist/donald-trump',\n",
       " u'theurbandaily.com/tag/donald-trump',\n",
       " u'topix.com/city/donald-or',\n",
       " u'universe.byu.edu/tag/president-trump',\n",
       " u'vagazette.com/topic/politics-government/donald-trump-pebsl000163-topic.html',\n",
       " u'variety.com/t/president-trump',\n",
       " u'vogue.com/tag/designer/tommy-hilfiger',\n",
       " u'walter.thehill.com/people/donald-trump',\n",
       " u'washingtontimes.com/topics/president-trump',\n",
       " u'wdef.com/tag/president-trump',\n",
       " u'wgnradio.com/tag/president-trump',\n",
       " u'wmay.com/tag/donald-trump',\n",
       " u'wwd.com/beauty-industry-news/beauty-features/kim-kardashian-talks-kkw-beauty-contouring-kylie-10917751',\n",
       " u'wwd.com/eye/lifestyle/rihanna-marion-crane-bates-motel-10807552',\n",
       " u'wwd.com/eye/people/melania-trump-pays-homage-to-american-military-service-members-with-ensemble-10757679',\n",
       " u'wwd.com/fashion-news/fashion-features/designers-talk-about-dressing-melania-trump-10714101',\n",
       " u'wwd.com/fashion-news/fashion-scoops/quay-eyewear-kylie-jenner-new-sunglass-style-collaboration-10930839',\n",
       " u'wwd.com/tag/tommy-hilfiger-2',\n",
       " u'wzlx.cbslocal.com/tag/donald-trump',\n",
       " u'yahoo.com/celebrity/tagged/donald-trump',\n",
       " u'yahoo.com/style/tagged/president-donald-trump',\n",
       " u'yahoo.com/tv/tagged/donald-trump'}"
      ]
     },
     "execution_count": 70,
     "metadata": {},
     "output_type": "execute_result"
    }
   ],
   "source": [
    "sources_by_target[redirects['nytimes.com/topic/person/donald-trump']]"
   ]
  },
  {
   "cell_type": "code",
   "execution_count": 71,
   "metadata": {},
   "outputs": [
    {
     "data": {
      "text/plain": [
       "{u'abcnews.go.com/topics/news/canada.htm',\n",
       " u'agcanada.com/tag/british-columbia',\n",
       " u'archdaily.com/tag/houses-of-parliament',\n",
       " u'beaumontenterprise.com/search/?action=search&channel=news%2ftexas&inlinelink=1&searchindex=gsa&query=%22donald+trump%22',\n",
       " u'bristolpost.co.uk/all-about/politics',\n",
       " u'catch21.co.uk/tag/vote',\n",
       " u'caymannewsservice.com/tag/donald-trump',\n",
       " u'chrisd.ca/tag/british-columbia',\n",
       " u'chron.com/search/?action=search&channel=sports%2ftexans&inlinelink=1&searchindex=gsa&query=%22donald+trump%22',\n",
       " u'chroniclelive.co.uk/all-about/politics',\n",
       " u'dailyrecord.co.uk/all-about/uk-government',\n",
       " u'dazeddigital.com/tag/general-election-2017',\n",
       " u'economictimes.indiatimes.com/topic/polls',\n",
       " u'en.wikipedia.org/wiki/british_columbia',\n",
       " u'fox61.com/tag/vote',\n",
       " u'fr.wikipedia.org/wiki/liste_de_sondages_sur_les_%c3%a9lections_l%c3%a9gislatives_fran%c3%a7aises_de_2017',\n",
       " u'gaytravelinformation.com/category/british-columbia',\n",
       " u'gethampshire.co.uk/all-about/politics',\n",
       " u'glamourmagazine.co.uk/article/www.glamourmagazine.co.uk/person/donald-trump',\n",
       " u'gqindia.com/topics/donald-trump',\n",
       " u'independent.co.uk/topic/parliament',\n",
       " u'independent.co.ulk/topic/donald-trump',\n",
       " u'independent.co/uk/topic/donald-trump',\n",
       " u'insider.co.uk/all-about/brext',\n",
       " u'macarthur.charismanews.com/component/search/?searchword=donald%20trump&areas[0]=gitags',\n",
       " u'mashable.com/category/justin-trudeau',\n",
       " u'mirror.co.uk/all-about/houses-of-parliament',\n",
       " u'mysanantonio.com/search/?action=search&channel=news%2fcrime&inlinelink=1&searchindex=gsa&query=%22donald+trump%22',\n",
       " u'newsfirst.lk/english/tag/donald-trump',\n",
       " u'peopel.com/tag/donald-trump',\n",
       " u'pghcitypaper.com/pittsburgh/articlearchives?tag=donald%20trump',\n",
       " u'radiofreemoscow.org/tag/donald-trump',\n",
       " u'sfgate.com/search/?action=search&channel=education&inlinelink=1&searchindex=gsa&query=%22donald+trump%22',\n",
       " u'standard.co.uk/topic/houses-of-parliament',\n",
       " u'thebeaverton.com/tag/parliament',\n",
       " u'thefword.org.uk/tag/donald-trump',\n",
       " u'topix.com/ca/british-columbia',\n",
       " u'universe.byu.edu/tag/vote',\n",
       " u'washingtontimes.com/topics/government-of-france',\n",
       " u'wlsam.com/tag/donald-trump',\n",
       " u'wzdm.com/tag/vote',\n",
       " u'yagotta.ca/category/destination/british-columbia'}"
      ]
     },
     "execution_count": 71,
     "metadata": {},
     "output_type": "execute_result"
    }
   ],
   "source": [
    "sources_by_target[redirects['radiofreemoscow.org/tag/donald-trump']] #'nytimes.com/topic/person/donald-trump']"
   ]
  },
  {
   "cell_type": "code",
   "execution_count": 318,
   "metadata": {},
   "outputs": [
    {
     "data": {
      "text/plain": [
       "(u'globalgrind.com/tag/donald+trunp', u'globalgrind.com/tag/donald-trump')"
      ]
     },
     "execution_count": 318,
     "metadata": {},
     "output_type": "execute_result"
    }
   ],
   "source": [
    "x = redirects['radiofreemoscow.org/tag/donald-trump']\n",
    "y = redirects[redirects['nytimes.com/topic/person/donald-trump']]\n",
    "x, y"
   ]
  },
  {
   "cell_type": "code",
   "execution_count": 45,
   "metadata": {},
   "outputs": [],
   "source": [
    "x = redirects['radiofreemoscow.org/tag/donald-trump']\n",
    "y = redirects['nytimes.com/topic/person/donald-trump']\n",
    "\n",
    "#resolve_decisions(model, agg_cluster_mentions, [\n",
    "#    (x,y)\n",
    "#])"
   ]
  },
  {
   "cell_type": "code",
   "execution_count": 78,
   "metadata": {},
   "outputs": [
    {
     "data": {
      "text/plain": [
       "(False,\n",
       " False,\n",
       " 'en.wikipedia.org/wiki/tesla_model_x',\n",
       " 'postnewsgroup.com/blog/tag/tesla',\n",
       " '167c9af6ad6831d89f1e750e8f3505a8fa068055')"
      ]
     },
     "execution_count": 78,
     "metadata": {},
     "output_type": "execute_result"
    }
   ],
   "source": [
    "x = 'en.wikipedia.org/wiki/tesla,_inc.'\n",
    "y = 'topix.com/who/tesla'\n",
    "x = 'en.wikipedia.org/wiki/tesla_model_x'\n",
    "y = 'postnewsgroup.com/blog/tag/tesla'\n",
    "#x = 'radiofreemoscow.org/tag/donald-trump'\n",
    "#y = 'nytimes.com/topic/person/donald-trump'\n",
    "#x, y = redirects[x], redirects[y]\n",
    "#key = (x, y, target_counts[x], target_counts[y]) if x < y else (y, x)\n",
    "\n",
    "\n",
    "key = (x, y) if x < y else (y, x)\n",
    "key = xxhash.xxh64('|'.join([x, y, str(target_counts[x]), str(target_counts[y])]).encode('utf-8')).hexdigest()\n",
    "key in decided_pairs, x == y, x, y, key"
   ]
  },
  {
   "cell_type": "code",
   "execution_count": null,
   "metadata": {},
   "outputs": [],
   "source": [
    "{u'en.wikipedia.org/wiki/tesla_model_x'},\n",
    " {u'postnewsgroup.com/blog/tag/tesla'},"
   ]
  },
  {
   "cell_type": "code",
   "execution_count": 250,
   "metadata": {},
   "outputs": [
    {
     "data": {
      "text/plain": [
       "666386"
      ]
     },
     "execution_count": 250,
     "metadata": {},
     "output_type": "execute_result"
    }
   ],
   "source": [
    "len(sources_by_target)"
   ]
  },
  {
   "cell_type": "code",
   "execution_count": 81,
   "metadata": {},
   "outputs": [
    {
     "data": {
      "text/plain": [
       "[{u'allure.com/topic/donald-trump',\n",
       "  u'aurorasentinel.com/tag/president-trump',\n",
       "  u'baltimoresun.com/topic/politics-government/donald-trump-pebsl000163-topic.html',\n",
       "  u'breitbart.com/tag/president-trump',\n",
       "  u'capitalgazette.com/topic/politics-government/donald-trump-pebsl000163-topic.html',\n",
       "  u'carrollcountytimes.com/topic/politics-government/donald-trump-pebsl000163-topic.html',\n",
       "  u'chicagotribune.com/topic/politics-government/donald-trump-pebsl000163-topic.html',\n",
       "  u'citypaper.com/topic/politics-government/donald-trump-pebsl000163-topic.html',\n",
       "  u'courant.com/topic/business/consumer-goods-industries/clothing-textiles-industry/tommy-hilfiger-pebsl000104-topic.html',\n",
       "  u'courant.com/topic/politics-government/donald-trump-pebsl000163-topic.html',\n",
       "  u'dailycollegian.com/tag/president-trump',\n",
       "  u'dailyegyptian.com/tag/donald',\n",
       "  u'dailypress.com/topic/politics-government/donald-trump-pebsl000163-topic.html',\n",
       "  u'darkroom.baltimoresun.com/tag/president-trump',\n",
       "  u'data.cnbc.com/quotes/pvh',\n",
       "  u'dazeddigital.com/tag/donald-trump',\n",
       "  u'delmartimes.net/topic/politics-government/donald-trump-pebsl000163-topic.html',\n",
       "  u'economictimes.indiatimes.com/topic/president-trump',\n",
       "  u'fashionisers.com/tag/tommy-hilfiger',\n",
       "  u'footwearnews.com/t/tommy-hilfiger',\n",
       "  u'forbes.com/profile/donald-trump',\n",
       "  u'globalgrind.com/tag/donald-trump',\n",
       "  u'herald.ng/tag/president-trump',\n",
       "  u'huffingtonpost.com/topic/donald-trumphttp://www.huffingtonpost.com/topic/donald-trump',\n",
       "  u'instyle.com/celebrity/donald-trump',\n",
       "  u'justjared.com/tags/tommy-hilfiger',\n",
       "  u'krai.com/tag/donald',\n",
       "  u'krebsonsecurity.com/tag/president-trump',\n",
       "  u'ksfm.cbslocal.com/tag/president-trump',\n",
       "  u'latimes.com/topic/business/consumer-goods-industries/clothing-textiles-industry/tommy-hilfiger-pebsl000104-topic.html',\n",
       "  u'latimes.com/topic/politics-government/donald-trump-pebsl000163-topic.html',\n",
       "  u'mcall.com/topic/politics-government/donald-trump-pebsl000163-topic.html',\n",
       "  u'newsone.com/tag/presiden-trump',\n",
       "  u'northcoastjournal.com/humboldt/articlearchives?tag=president%20trump',\n",
       "  u'nymag.com/thecut/fashion/designers/tommy-hilfiger',\n",
       "  u'nytimes.com/topic/person/donald-trump',\n",
       "  u'nytimes.com/topic/person/donald-trump?inline=nyt-per',\n",
       "  u'orlandosentinel.com/topic/politics-government/donald-trump-pebsl000163-topic.html',\n",
       "  u'orlandoweekly.com/orlando/articlearchives?tag=president%20trump',\n",
       "  u'phillymag.com/tag/president-trump',\n",
       "  u'rejournals.com/tag/president-trump',\n",
       "  u'rollingstone.com/topic/donald-trump',\n",
       "  u'sandiegouniontribune.com/topic/politics-government/donald-trump-pebsl000163-topic.html',\n",
       "  u'sanjoseinside.com/tag/donaldtrump',\n",
       "  u'seattlepi.com/search/?action=search&channel=local%2fpolitics&inlinelink=1&searchindex=gsa&query=%22donald+trump%22',\n",
       "  u'southflorida.com/topic/politics-government/donald-trump-pebsl000163-topic.html',\n",
       "  u'spin.com/tag/donald-trump',\n",
       "  u'sputniknews.com/tags/tag_donald_trump',\n",
       "  u'standard.co.uk/topic/donald-trump',\n",
       "  u'sun-sentinel.com/topic/politics-government/donald-trump-pebsl000163-topic.html',\n",
       "  u'thedailycougar.com/tag/president-trump',\n",
       "  u'thefader.com/artist/donald-trump',\n",
       "  u'theurbandaily.com/tag/donald-trump',\n",
       "  u'topix.com/city/donald-or',\n",
       "  u'universe.byu.edu/tag/president-trump',\n",
       "  u'vagazette.com/topic/politics-government/donald-trump-pebsl000163-topic.html',\n",
       "  u'variety.com/t/president-trump',\n",
       "  u'vogue.com/tag/designer/tommy-hilfiger',\n",
       "  u'walter.thehill.com/people/donald-trump',\n",
       "  u'washingtontimes.com/topics/president-trump',\n",
       "  u'wdef.com/tag/president-trump',\n",
       "  u'wgnradio.com/tag/president-trump',\n",
       "  u'wmay.com/tag/donald-trump',\n",
       "  u'wwd.com/beauty-industry-news/beauty-features/kim-kardashian-talks-kkw-beauty-contouring-kylie-10917751',\n",
       "  u'wwd.com/eye/lifestyle/rihanna-marion-crane-bates-motel-10807552',\n",
       "  u'wwd.com/eye/people/melania-trump-pays-homage-to-american-military-service-members-with-ensemble-10757679',\n",
       "  u'wwd.com/fashion-news/fashion-features/designers-talk-about-dressing-melania-trump-10714101',\n",
       "  u'wwd.com/fashion-news/fashion-scoops/quay-eyewear-kylie-jenner-new-sunglass-style-collaboration-10930839',\n",
       "  u'wwd.com/tag/tommy-hilfiger-2',\n",
       "  u'wzlx.cbslocal.com/tag/donald-trump',\n",
       "  u'yahoo.com/celebrity/tagged/donald-trump',\n",
       "  u'yahoo.com/style/tagged/president-donald-trump',\n",
       "  u'yahoo.com/tv/tagged/donald-trump'},\n",
       " {u'abcnews.go.com/topics/news/donald-trump.htm',\n",
       "  u'arktimes.com/arkansas/articlearchives?tag=barack%20obama',\n",
       "  u'baltimoresun.com/topic/melania-trump/pcelb00150-topic.html',\n",
       "  u'bendsource.com/bend/articlearchives?tag=donald%20trump',\n",
       "  u'biography.com/people/donald-trump-9511238',\n",
       "  u'breitbart.com/tag/president-donald-trump',\n",
       "  u'broadwayworld.com/people/donald-j.-trump',\n",
       "  u'business-ethics.com/tag/donald-j-trump',\n",
       "  u'chron.com/search/?action=search&channel=news%2fpolitics&inlinelink=1&searchindex=gsa&query=%22barack+obama%22',\n",
       "  u'content.p2p.tribuneinteractive.com/content_items/92307493/edit',\n",
       "  u'dailycollegian.com/tag/muslim-ban',\n",
       "  u'dailydot.com/topics/donald-trump',\n",
       "  u'dailyegyptian.com/tag/donald-john-trump',\n",
       "  u'dailypress.com/topic/melania-trump/pcelb00150-topic.html',\n",
       "  u'denverpost.com/tag/donald-trump',\n",
       "  u'easterneronline.com/tag/donald-j-trump',\n",
       "  u'economictimes.indiatimes.com/topic/us-president-donald-trump',\n",
       "  u'electronicintifada.net/tags/muslim-ban',\n",
       "  u'fashionbombdaily.com/tag/barack-obama',\n",
       "  u'footwearnews.com/t/president-donald-trump',\n",
       "  u'getuperica.com/tag/barack-obama',\n",
       "  u'glamour.com/about/donald-trump',\n",
       "  u'golfdigest.com/topic/donald-trump',\n",
       "  u'herald.ng/tag/muslim-ban',\n",
       "  u'hollywoodlife.com/celeb/melania-trump',\n",
       "  u'hollywoodlife.com/tag/melania-trump-',\n",
       "  u'independent.co.uk/topic/donaldtrump',\n",
       "  u'indyweek.com/indyweek/articlearchives?tag=muslim%20ban',\n",
       "  u'latimes.com/topic/melania-trump/pcelb00150-topic.html',\n",
       "  u'macdailynews.com/tag/ivanka-trump',\n",
       "  u'mashable.com/category/melania-trump',\n",
       "  u'mirror.co.uk/all-about/donald-trump-muslim-ban',\n",
       "  u'newsone.com/tag/donald-trump',\n",
       "  u'newswise.com/search/advanced/?search[tag]=donald j. trump',\n",
       "  u'newyork.cbslocal.com/tag/donald-trump',\n",
       "  u'nytimes.com/topic/person/barack-obama',\n",
       "  u'orlandosentinel.com/topic/melania-trump/pcelb00150-topic.html',\n",
       "  u'pagesix.com/tag/donald-trump',\n",
       "  u'people.com/tag/donald-trump',\n",
       "  u'power92chicago.com/tag/barack-obama',\n",
       "  u'publications.mcgill.ca/reporter/tag/barack-obama',\n",
       "  u'robertsharp.co.uk/tag/barack-obama',\n",
       "  u'sfgate.com/search/?action=search&channel=news%2fus&inlinelink=1&searchindex=gsa&query=%22barack+obama%22',\n",
       "  u'sgnscoops.com/tag/donald-j-trump',\n",
       "  u'spin.com/tag/barack-obama',\n",
       "  u'teenvogue.com/tag/donald-trump',\n",
       "  u'thebeaverton.com/tag/barack-obama',\n",
       "  u'thebiglead.com/tag/barack-obama',\n",
       "  u'thedailycougar.com/tag/donald-j-trump',\n",
       "  u'tomatonation.com/tag/donald-j-trump',\n",
       "  u'topics.nola.com/tag/donald%20trump',\n",
       "  u'tvline.com/tag/donald-trump',\n",
       "  u'upi.com/topic/donald_j._trump',\n",
       "  u'vanityfair.com/people/donald-trump',\n",
       "  u'variety.com/t/melania-trump',\n",
       "  u'washingtontimes.com/topics/donald-j-trump',\n",
       "  u'wdef.com/tag/ivanka-trump',\n",
       "  u'wmnf.org/tag/barack-obama',\n",
       "  u'wnns.com/tag/barack-obama',\n",
       "  u'wqlz.com/tag/donald-j-trump',\n",
       "  u'wwd.com/fashion-news/designer-luxury/tiffany-trump-chinese-designer-taoray-wang-10764584',\n",
       "  u'wwd.com/fashion-news/fashion-scoops/first-lady-melania-trump-red-alexander-mcqueen-dress-photos-10809279'},\n",
       " {u'agcanada.com/tag/donald-trump',\n",
       "  u'amp.cbslocal.com/tag/donald-trump',\n",
       "  u'arktimes.com/arkansas/articlearchives?tag=donald%20trump%20inauguration',\n",
       "  u'baltimoresun.com/topic/politics-government/donald-trump-inauguration-evgap00093-topic.html',\n",
       "  u'beaumontenterprise.com/search/?action=search&channel=news%2fworld&inlinelink=1&searchindex=gsa&query=%22donald+trump%22',\n",
       "  u'bestofneworleans.com/gambit/articlearchives?tag=donald%20trump',\n",
       "  u'blog.independent.org/tag/donald-trump',\n",
       "  u'breitbart.com/tag/donald-trump-inauguration',\n",
       "  u'capitalgazette.com/topic/politics-government/donald-trump-inauguration-evgap00093-topic.html',\n",
       "  u'ccnycampus.org/tag/donald-trump',\n",
       "  u'chicagotribune.com/topic/politics-government/donald-trump-inauguration-evgap00093-topic.html',\n",
       "  u'chron.com/search/?action=search&channel=business%2ftechnology&inlinelink=1&searchindex=gsa&query=%22donald+trump%22',\n",
       "  u'clevescene.com/cleveland/articlearchives?tag=donald%20trump',\n",
       "  u'commercialrecord.com/tag/donald-trump',\n",
       "  u'courant.com/topic/politics-government/donald-trump-inauguration-evgap00093-topic.html',\n",
       "  u'ctpost.com/search/?action=search&channel=news%2fus&inlinelink=1&searchindex=gsa&query=%22donald+trump%22',\n",
       "  u'dailypress.com/topic/politics-government/donald-trump-inauguration-evgap00093-topic.html',\n",
       "  u'dariennewsonline.com/search/?action=search&channel=news%2fpolitics&inlinelink=1&searchindex=gsa&query=%22donald+trump%22',\n",
       "  u'diverseeducation.com/article/tag/donald-trump',\n",
       "  u'ewn.co.za/topic/donald-trump',\n",
       "  u'ft.com/topics/people/donald_trump',\n",
       "  u'glamour.com/about/inauguration',\n",
       "  u'globalnews.ca/tag/doanld-trump',\n",
       "  u'independent.co.uk/topic/trump',\n",
       "  u'indyweek.com/indyweek/articlearchives?tag=donald%20trump',\n",
       "  u'inlander.com/spokane/articlearchives?tag=donald%20trump',\n",
       "  u'justjared.com/tags/2017-inauguration',\n",
       "  u'latimes.com/topic/politics-government/donald-trump-inauguration-evgap00093-topic.html',\n",
       "  u'lmtonline.com/search/?action=search&channel=news%2fus&inlinelink=1&searchindex=gsa&query=%22donald+trump%22',\n",
       "  u'mcall.com/topic/politics-government/donald-trump-inauguration-evgap00093-topic.html',\n",
       "  u'metrotimes.com/detroit/articlearchives?tag=donald%20trump',\n",
       "  u'michigansthumb.com/search/?action=search&channel=news&inlinelink=1&searchindex=gsa&query=%22donald+trump%22',\n",
       "  u'mirror.co.uk/all-about/donald-trump-inauguration',\n",
       "  u'mix1041.cbslocal.com/tag/donald-trump',\n",
       "  u'myplainview.com/search/?action=search&channel=news%2fworld&inlinelink=1&searchindex=gsa&query=%22donald+trump%22',\n",
       "  u'mysanantonio.com/search/?action=search&channel=news%2fpolitics&inlinelink=1&searchindex=gsa&query=%22donald+trump%22',\n",
       "  u'orlandosentinel.com/topic/politics-government/donald-trump-inauguration-evgap00093-topic.html',\n",
       "  u'orlandoweekly.com/orlando/articlearchives?tag=donald%20trump',\n",
       "  u'patriotswire.usatoday.com/tag/donald-trump',\n",
       "  u'sandiegouniontribune.com/topic/politics-government/donald-trump-inauguration-evgap00093-topic.html',\n",
       "  u'seattlepi.com/search/?action=search&channel=news%2fpolitics&inlinelink=1&searchindex=gsa&query=%22donald+trump%22',\n",
       "  u'sfgate.com/search/?action=search&channel=news&inlinelink=1&searchindex=gsa&query=%22donald+trump%22',\n",
       "  u'standard.co.uk/topic/trump',\n",
       "  u'texasmonthly.com/tag/donald-trump',\n",
       "  u'timesunion.com/search/?action=search&channel=news%2fscience&inlinelink=1&searchindex=gsa&query=%22donald+trump%22',\n",
       "  u'toofab.com/tags/donaldtrump',\n",
       "  u'v103.cbslocal.com/tag/donald-trump',\n",
       "  u'wmnf.org/tag/donald-trump',\n",
       "  u'wwaytv3.com/news-tags/donald-trump-inauguration'},\n",
       " {u'artforum.com:443/search/search=%22donald%20trump%22',\n",
       "  u'blackamericaweb.com/tag/donald-trump',\n",
       "  u'boston.cbslocal.com/tag/donald-trump',\n",
       "  u'calvinayre.com/tag/donald-trump',\n",
       "  u'chron.com/search/?action=search&channel=news&inlinelink=1&searchindex=solr&query=%22donald+trump%22',\n",
       "  u'consequenceofsound.net/tag/donald-trump',\n",
       "  u'dailycollegian.com/tag/president-donald-trump',\n",
       "  u'dailynorthwestern.com/tag/donald-trump',\n",
       "  u'economictimes.indiatimes.com/topic/president-donald-trump',\n",
       "  u'france24.com/fr/tag/donald-trump',\n",
       "  u'fusion.net/person/donald-trump',\n",
       "  u'glamour.com/search?q=trump&sort=score%20desc&channel=',\n",
       "  u'glamourmagazine.co.uk/person/donald-trump',\n",
       "  u'globalgrind.com/tag/donaldtrump',\n",
       "  u'globalvillageextra.com/en/index.php/tag/president-donald-trump',\n",
       "  u'hellomagazine.com/tags/donald-trump',\n",
       "  u'hollywoodlife.com/tag/donald-trump-',\n",
       "  u'ieyenews.com/wordpress/tag/president-donald-trump',\n",
       "  u'independent.co.uk/topic/president-donald-trump',\n",
       "  u'killermoviereviews.com/tag/donald-trump',\n",
       "  u'ksfm.cbslocal.com/tag/donald-trump',\n",
       "  u'liverpoolecho.co.uk/all-about/donald-trump',\n",
       "  u'mirror.co.uk/all-about/martin-sheen',\n",
       "  u'mtv.com/news/personality/donald-trump',\n",
       "  u'nationalenquirer.com/tag/donald-trump',\n",
       "  u'ndependent.co.uk/topic/donaldtrump',\n",
       "  u'politicalhumor.about.com/od/donald-trump/ss/donald-trump-quotes.htm#step43',\n",
       "  u'radaronline.com/category/tags/donald-trump',\n",
       "  u'ranchosantafereview.com/topic/politics-government/donald-trump-pebsl000163-topic.html',\n",
       "  u'rejournals.com/tag/donald-trump',\n",
       "  u'royalpurplenews.com/tag/donald-trump',\n",
       "  u'seattlepi.com/search/?action=search&channel=news%2fcrime&inlinelink=1&searchindex=gsa&query=%22donald+trump%22',\n",
       "  u'self.com/tag/donald-trump',\n",
       "  u'sfgate.com/search/?action=search&channel=news%2fcrime&inlinelink=1&searchindex=gsa&query=%22donald+trump%22',\n",
       "  u'standard.co.uk/topic/president-donald-trump',\n",
       "  u'thedailycougar.com/tag/president-donald-trump',\n",
       "  u'thedrum.com/topics/donald-trump',\n",
       "  u'theeagleonline.com.ng/tag/president-donald-trump',\n",
       "  u'timesunion.com/search/?action=search&channel=news%2fworld&inlinelink=1&searchindex=solr&query=%22donald+trump%22',\n",
       "  u'topics.nola.com/tag/donald-trump',\n",
       "  u'tucsonweekly.com/tucson/articlearchives?tag=donald%20trump',\n",
       "  u'uproxx.com/tag/donald-trump',\n",
       "  u'wdef.com/tag/president-donald-trump',\n",
       "  u'wgnradio.com/tag/president-donald-trump',\n",
       "  u'wmagazine.com/topic/donald-trump',\n",
       "  u'wtvq.com/tag/donald-trump',\n",
       "  u'wwd.com/business-news/government-trade/sandeep-mathrani-donald-trump-10733831',\n",
       "  u'wwd.com/eye/people/tom-ford-products-removed-from-the-wynn-in-las-vegas-10757473',\n",
       "  u'yahoo.com/movies/tagged/donald-trump'},\n",
       " {u'allure.com/topic/melania-trump?intcid=recirc_hotlink',\n",
       "  u'biography.com/people/melania-trump-812016',\n",
       "  u'breitbart.com/tag/first-lady-melania-trump',\n",
       "  u'broadwayworld.com/people/melania-trump',\n",
       "  u'capitalgazette.com/topic/politics-government/melania-trump-pcelb00150-topic.html',\n",
       "  u'chron.com/search/?action=search&channel=news%2fmedical&inlinelink=1&searchindex=gsa&query=%22donald+trump%22',\n",
       "  u'clarksvilleonline.com/tag/donald-trump',\n",
       "  u'colorlines.com/tags/donald-trump-0',\n",
       "  u'courant.com/topic/politics-government/melania-trump-pcelb00150-topic.html',\n",
       "  u'dailycollegian.com/tag/melania-trump',\n",
       "  u'deadline.com/tag/melania-trump',\n",
       "  u'enterprise-security-today.com/search.xhtml?cat_description=search&query=%22donald+trump%22&sort=time',\n",
       "  u'eonline.com/au/news/donald_trump',\n",
       "  u'eonline.com/ca/news/donald_trump',\n",
       "  u'eonline.com/uk/news/melania_trump',\n",
       "  u'essexnewsdaily.com/tag/donald-trump',\n",
       "  u'fox61.com/tag/melania-trump',\n",
       "  u'glamourmagazine.co.uk/person/melania-trump',\n",
       "  u'globalnews.ca/tag/trump',\n",
       "  u'hellomagazine.com/tags/melania-trump',\n",
       "  u'herald.ng/tag/melania-trump',\n",
       "  u'hollywoodlife.com/tag/melania-trump',\n",
       "  u'huffingtonpost.com/topic/melania-trump',\n",
       "  u'justjared.com/tags/melania-trump',\n",
       "  u'mirror.co.uk/all-about/melania-trump',\n",
       "  u'news.nationalpost.com/tag/melania-knauss',\n",
       "  u'orlandosentinel.com/topic/politics-government/melania-trump-pcelb00150-topic.html',\n",
       "  u'pagesix.com/tag/melania-trump',\n",
       "  u'people.com/tag/melania-trump',\n",
       "  u'perezhilton.com/category/donald-trump',\n",
       "  u'phillymag.com/tag/donald-trump',\n",
       "  u'rep-am.com/topics/donald-trump',\n",
       "  u'sandiegouniontribune.com/topic/melania-trump/pcelb00150-topic.html',\n",
       "  u'sandiegouniontribune.com/topic/politics-government/melania-trump-pcelb00150-topic.html',\n",
       "  u'tech.economictimes.indiatimes.com/tag/donald+trump',\n",
       "  u'thebiglead.com/tag/donald-trump',\n",
       "  u'thedailycougar.com/tag/donald-trump',\n",
       "  u'tmz.com/person/melania-trump',\n",
       "  u'toledoblade.com/tag/donald%20trump',\n",
       "  u'torontoist.com/tag/donald-trump',\n",
       "  u'usmagazine.com/celebrities/melania-trump',\n",
       "  u'vogue.com/tag/celebrity/melania-trump',\n",
       "  u'washingtontimes.com/topics/melania-trump',\n",
       "  u'wgnradio.com/tag/donald-trump',\n",
       "  u'wnns.com/tag/donald-trump',\n",
       "  u'wwd.com/fashion-news/fashion-scoops/delvaux-artistic-director-on-melania-trump-10753773',\n",
       "  u'wwd.com/tag/donald-trump'},\n",
       " {u'24wrestling.com/tag/donald-trump',\n",
       "  u'africasacountry.com/tag/donald-trump',\n",
       "  u'aurorasentinel.com/tag/donald-trump',\n",
       "  u'bankerandtradesman.com/tag/donald-trump',\n",
       "  u'bet.com/topics/b/barack-obama.html',\n",
       "  u'bookforumoncampus.org/search/search=%22donald%20trump%22',\n",
       "  u'business-ethics.com/tag/donald-trump',\n",
       "  u'chrisd.ca/tag/donald-trump',\n",
       "  u'chron.com/search/?action=search&channel=news%2ftexas&inlinelink=1&searchindex=solr&query=%22donald+trump%22',\n",
       "  u'chroniclelive.co.uk/all-about/donald-trump',\n",
       "  u'cnsbusiness.com/tag/donald-trump',\n",
       "  u'easterneronline.com/tag/donald-trump',\n",
       "  u'express.co.uk/expressadmin/posts/add/0/express.co.uk/latest/donald-trump',\n",
       "  u'express.co.uk/expressadmin/posts/add/0/www.express.co.uk/latest/donald-trump',\n",
       "  u'getreading.co.uk/all-about/donald-trump',\n",
       "  u'glamour.com/about/barack-obama',\n",
       "  u'globalnews.ca/tag/inauguration-2017',\n",
       "  u'haaretz.com/misc/tags/tags-1.679173?listid=7.1074795&page=2',\n",
       "  u'hamodia.com/tag/donald-trump',\n",
       "  u'health.economictimes.indiatimes.com/tag/donald+trump',\n",
       "  u'ieyenews.com/wordpress/tag/donald-trump',\n",
       "  u'independent.co.uk/topic/barackobama',\n",
       "  u'instyle.com/celebrity/barack-obama',\n",
       "  u'itworldcanada.com/tag/donald-trump',\n",
       "  u'lajollalight.com/topic/politics-government/donald-trump-pebsl000163-topic.html',\n",
       "  u'mirror.co.uk/all-about/donald-trump',\n",
       "  u'mmaweekly.com/tag/donald-trump',\n",
       "  u'mrt.com/search/?action=search&channel=news%2fworld&inlinelink=1&searchindex=gsa&query=%22donald+trump%22',\n",
       "  u'mysanantonio.com/search/?action=search&channel=business&inlinelink=1&searchindex=gsa&query=%22donald+trump%22',\n",
       "  u'news.huffingtonpost.com/t/t-l-klddmy-kujjuthku-p',\n",
       "  u'nme.com/artists/donald-trump',\n",
       "  u'pagesix.com/tag/barack-obama',\n",
       "  u'people.com/tag/barack-obama',\n",
       "  u'seattlepi.com/search/?action=search&channel=local&inlinelink=1&searchindex=solr&query=%22donald+trump%22',\n",
       "  u'standard.co.uk/topic/president-trump',\n",
       "  u'thebeatdfw.com/tag/donald-trump',\n",
       "  u'thedailyaztec.com/tag/donald-trump',\n",
       "  u'theimproper.com/?tag=/donald-trump',\n",
       "  u'thesuperficial.com/photos/the-crap-we-missed-friday-3-17-17/us-ireland-congress-luncheon',\n",
       "  u'tmz.com/person/barack-obama',\n",
       "  u'topics.lehighvalleylive.com/tag/donald%20trump',\n",
       "  u'topics.nola.com/tag/%20donald%20trump',\n",
       "  u'uproxx.com/sports/ronda-rousey-standing-rock-pipeline-pepper-sprayed/uproxx.com/topic/donald-trump',\n",
       "  u'uproxx.com/topic/obama',\n",
       "  u'washingtontimes.com/topics/donald-trumps-administration',\n",
       "  u'wwd.com/fashion-news/fashion-scoops/bernard-arnault-lvmh-president-donald-trump-10742788',\n",
       "  u'yahoo.com/celebrity/tagged/barack-obama'},\n",
       " {u'aljazeera.com/topics/people/donald-trump.html',\n",
       "  u'beaumontenterprise.com/search/?action=search&channel=news%2fus&inlinelink=1&searchindex=gsa&query=%22donald+trump%22',\n",
       "  u'bizjournals.com/sanfrancisco/search/results?q=donald%20trump',\n",
       "  u'bizjournals.com/seattle/search/results?q=donald%20trump',\n",
       "  u'breitbart.com/tag/u-s-president-donald-trump',\n",
       "  u'chron.com/search/?action=search&channel=news%2fpolitics&inlinelink=1&searchindex=solr&query=%22donald+trump%22',\n",
       "  u'clermontsun.com/tag/donald-trump',\n",
       "  u'colorlines.com/tags/donald-trump',\n",
       "  u'dailyrecord.co.uk/all-about/donald-trump',\n",
       "  u'dazeddigital.com/search?q=donald+trump',\n",
       "  u'deadline.com/tag/donald-trump',\n",
       "  u'economictimes.indiatimes.com/topic/donald-trumps',\n",
       "  u'electronicintifada.net/tags/donald-trump',\n",
       "  u'france24.com/en/tag/donald-trump',\n",
       "  u'haaretz.com/misc/tags/tags-1.679173',\n",
       "  u'hollywoodlife.com/celeb/donald-trump',\n",
       "  u'hollywoodlife.com/tag/donald-trump',\n",
       "  u'huffingtonpost.com/topic/donald-trump',\n",
       "  u'independent.co.uk/topic/donald-trump',\n",
       "  u'justjared.com/tags/donald-trump',\n",
       "  u'landscapearchitecturemagazine.org/tag/donald-trump',\n",
       "  u'marshallislandsjournal.com/journal_wp/?tag=donald-trump',\n",
       "  u'mashable.com/category/donald-trump',\n",
       "  u'memphisflyer.com/memphis/articlearchives?tag=donald%20trump',\n",
       "  u'movieweb.com/person/donald-trump',\n",
       "  u'newstimes.com/search/?action=search&channel=news%2fpolitics&inlinelink=1&searchindex=gsa&query=%22donald+trump%22',\n",
       "  u'newsx.com/tags/donald-trump',\n",
       "  u'publications.mcgill.ca/reporter/tag/donald-trump',\n",
       "  u'radaronline.com/tag/donald-trump',\n",
       "  u'sacurrent.com/sanantonio/articlearchives?tag=donald%20trump',\n",
       "  u'seattlepi.com/search/?action=search&channel=local&inlinelink=1&searchindex=gsa&query=%22donald+trump%22',\n",
       "  u'self.com/topic/donald-trump',\n",
       "  u'sfgate.com/search/?action=search&channel=news%2fworld&inlinelink=1&searchindex=gsa&query=%22donald+trump%22',\n",
       "  u'thedailybeast.com/keyword/donald-trump',\n",
       "  u'thesuperficial.com/tag/donald-trump',\n",
       "  u'tmz.com/person/donald-trump',\n",
       "  u'uproxx.com/sports/donald-trump-colin-kaepernick-unemployed/uproxx.com/topic/donald-trump',\n",
       "  u'uproxx.com/topic/donald-trump',\n",
       "  u'usmagazine.com/celebrities/donald-trump',\n",
       "  u'walesonline.co.uk/all-about/donald-trump'},\n",
       " {u'bisnow.com/tags/trump-tower',\n",
       "  u'breitbart.com/tag/trump-tower',\n",
       "  u'brevity.wordpress.com/tag/kellyanne-conway',\n",
       "  u'chron.com/search/?action=search&channel=business%2ftechnology&inlinelink=1&searchindex=gsa&query=%22kellyanne+conway%22',\n",
       "  u'citypaper.com/topic/politics-government/kellyanne-conway-pegpf00207-topic.html',\n",
       "  u'ctpost.com/search/?action=search&channel=news%2fscience&inlinelink=1&searchindex=gsa&query=%22donald+trump%22',\n",
       "  u'dailycollegian.com/tag/trump-tower',\n",
       "  u'economictimes.indiatimes.com/topic/trump-tower',\n",
       "  u'fastcompany.com/person/donald-trump',\n",
       "  u'fusion.net/person/kellyanne-conway',\n",
       "  u'gaycitynews.nyc/tag/trump-tower',\n",
       "  u'independent.co.uk/topic/trump-tower',\n",
       "  u'lmtonline.com/search/?action=search&channel=news%2fpolitics&inlinelink=1&searchindex=gsa&query=%22donald+trump%22',\n",
       "  u'manchestereveningnews.co.uk/all-about/donald-trump',\n",
       "  u'michigansthumb.com/search/?action=search&channel=news%2fpolitics&inlinelink=1&searchindex=gsa&query=%22donald+trump%22',\n",
       "  u'myplainview.com/search/?action=search&channel=news%2fpolitics&inlinelink=1&searchindex=gsa&query=%22donald+trump%22',\n",
       "  u'mysanantonio.com/search/?action=search&channel=news%2fus&inlinelink=1&searchindex=gsa&query=%22donald+trump%22',\n",
       "  u'news.nationalpost.com/tag/kellyanne-conway',\n",
       "  u'newsnation.in/topic/donald-trump',\n",
       "  u'newstimes.com/search/?action=search&channel=news%2fscience&inlinelink=1&searchindex=gsa&query=%22donald+trump%22',\n",
       "  u'newsx.com/tags/kellyanne-conway',\n",
       "  u'pagesix.com/tag/kelllyanne-conway',\n",
       "  u'seattlepi.com/search/?action=search&channel=news%2fscience&inlinelink=1&searchindex=gsa&query=%22donald+trump%22',\n",
       "  u'sfgate.com/search/?action=search&channel=news%2fscience&inlinelink=1&searchindex=gsa&query=%22donald+trump%22',\n",
       "  u'thehill.com/person/kellyanne-conway',\n",
       "  u'thesuperficial.com/photos/the-crap-we-missed-tuesday-2-28-17/topshot-us-politics-trump',\n",
       "  u'timesunion.com/search/?action=search&channel=news%2fworld&inlinelink=1&searchindex=gsa&query=%22donald+trump%22',\n",
       "  u'torontoist.com/tag/trump-tower',\n",
       "  u'usmagazine.com/celebrities/kellyanne-conway?page=2',\n",
       "  u'washingtontimes.com/topics/trump-tower',\n",
       "  u'westport-news.com/search/?action=search&channel=news&inlinelink=1&searchindex=gsa&query=%22donald+trump%22',\n",
       "  u'wlsam.com/tag/kellyanne-conway',\n",
       "  u'wmagazine.com/topic/kellyanne-conway',\n",
       "  u'worldtribune.com/tag/kellyanne-conway',\n",
       "  u'wrestlezone.com/tag/donald-trumo',\n",
       "  u'ww.fox61.com/tag/donald-trump',\n",
       "  u'wwd.com/fashion-news/fashion-scoops/inauguration-kellyanne-conway-red-white-and-blue-coat-gucci-10759005',\n",
       "  u'yahoo.com/celebrity/tagged/trump-tower'},\n",
       " {u'abcnews.go.com/topics/entertainment/models/ivanka-trump.htm',\n",
       "  u'artforum.com:443/search/search=%22ivanka%20trump%22',\n",
       "  u'chicagotribune.com/topic/business/ivanka-trump-peclb00000010046-topic.html',\n",
       "  u'courant.com/topic/business/ivanka-trump-peclb00000010046-topic.html',\n",
       "  u'deadline.com/tag/ivanka-trump',\n",
       "  u'economictimes.indiatimes.com/topic/ivanka-trump',\n",
       "  u'eonline.com/uk/news/ivanka_trump',\n",
       "  u'footwearnews.com/t/ivanka-trump',\n",
       "  u'glamour.com/about/ivanka-trump',\n",
       "  u'globalnews.ca/tag/ivanka-trump',\n",
       "  u'huffingtonpost.com/topic/ivanka-trump',\n",
       "  u'independent.co.uk/topic/ivanka-trump',\n",
       "  u'indiaretailing.com/tag/ivanka-trump',\n",
       "  u'instyle.com/celebrity/ivanka-trump',\n",
       "  u'justjared.com/tags/ivanka-trump',\n",
       "  u'latimes.com/topic/business/ivanka-trump-peclb00000010046-topic.html',\n",
       "  u'mcall.com/topic/business/ivanka-trump-peclb00000010046-topic.html',\n",
       "  u'mic.com/topic/ivanka-trump',\n",
       "  u'mirror.co.uk/all-about/ivanka-trump',\n",
       "  u'newsone.com/tag/ivanka-trump',\n",
       "  u'orlandosentinel.com/topic/business/ivanka-trump-peclb00000010046-topic.html',\n",
       "  u'pagesix.com/tag/ivanka-trump',\n",
       "  u'people.com/tag/ivanka-trump',\n",
       "  u'pepperdine-graphic.com/tag/ivanka-trump',\n",
       "  u'sun-sentinel.com/topic/business/ivanka-trump-peclb00000010046-topic.html',\n",
       "  u'tmz.com/person/ivanka-trump',\n",
       "  u'upi.com/topic/ivanka_trump',\n",
       "  u'usmagazine.com/celebrities/ivanka-trump',\n",
       "  u'vanityfair.com/people/ivanka-trump#intcid=dt-hot-link',\n",
       "  u'variety.com/t/ivanka-trump',\n",
       "  u'vogue.com/tag/celebrity/ivanka-trump',\n",
       "  u'washingtontimes.com/topics/ivanka-trump',\n",
       "  u'wwd.com/fashion-news/fashion-scoops/donald-trump-lashes-out-on-nordstrom-on-twitter-ivanka-10780819',\n",
       "  u'wwd.com/tag/ivanka-trump',\n",
       "  u'yahoo.com/celebrity/tagged/ivanka-trump'},\n",
       " {u'abcnews.go.com/topics/news/us/melania-trump.htm',\n",
       "  u'baltimoresun.com/topic/politics-government/melania-trump-pcelb00150-topic.html',\n",
       "  u'breitbart.com/tag/melania-trump',\n",
       "  u'broadwayworld.com/people/ralph-lauren',\n",
       "  u'chicagotribune.com/topic/melania-trump/pcelb00150-topic.html',\n",
       "  u'chicagotribune.com/topic/politics-government/melania-trump-pcelb00150-topic.html',\n",
       "  u'dailypress.com/topic/politics-government/melania-trump-pcelb00150-topic.html',\n",
       "  u'economictimes.indiatimes.com/topic/melania-trump',\n",
       "  u'fashionisers.com/tag/ralph-lauren',\n",
       "  u'footwearnews.com/t/melania-trump',\n",
       "  u'fortune.com/fortune500/ralph-lauren',\n",
       "  u'globalnews.ca/tag/melania-trump',\n",
       "  u'independent.co.uk/topic/melania-trump',\n",
       "  u'indiaretailing.com/tag/ralph-lauren',\n",
       "  u'instyle.com/celebrity/melania-trump',\n",
       "  u'latimes.com/topic/politics-government/melania-trump-pcelb00150-topic.html',\n",
       "  u'mcall.com/topic/politics-government/melania-trump-pcelb00150-topic.html',\n",
       "  u'mic.com/topic/melania-trump',\n",
       "  u'newsone.com/tag/melania-trump',\n",
       "  u'newyork.cbslocal.com/tag/melania-trump',\n",
       "  u'nytimes.com/topic/person/melania-trump?inline=nyt-per',\n",
       "  u'outlookindia.com/newsscroll/topic/melania-trump/7125',\n",
       "  u'pagesix.com/tag/ralph-lauren',\n",
       "  u'sun-sentinel.com/topic/politics-government/melania-trump-pcelb00150-topic.html',\n",
       "  u'teenvogue.com/tag/melania-trump',\n",
       "  u'vogue.com/tag/designer/ralph-lauren',\n",
       "  u'wwd.com/business-news/human-resources/kevin-carrigan-takes-creative-role-at-ralph-lauren-10748617',\n",
       "  u'wwd.com/fashion-news/designer-luxury/moncler-greg-lauren-launch-limited-edition-collection-10828832',\n",
       "  u'wwd.com/fashion-news/fashion-features/bridget-foleys-diary-norisol-ferrari-her-melania-moment-building-her-brand-10810735',\n",
       "  u'wwd.com/fashion-news/fashion-scoops/melania-trump-inauguration-wearing-ralph-lauren-10756855',\n",
       "  u'wwd.com/tag/melania-trump',\n",
       "  u'yahoo.com/celebrity/tagged/melania-trump'},\n",
       " {u'breitbart.com/tag/donald-trump',\n",
       "  u'broadwayworld.com/people/donald-trump',\n",
       "  u'business.financialpost.com/tag/donald-trump',\n",
       "  u'chron.com/search/?action=search&channel=news%2fpolitics&inlinelink=1&searchindex=gsa&query=%22donald+trump%22',\n",
       "  u'cityam.com/people/donald-trump',\n",
       "  u'cnet.com/tags/donald-trump',\n",
       "  u'economictimes.indiatimes.com/topic/donald-trump',\n",
       "  u'footwearnews.com/t/donald-trump',\n",
       "  u'gerweck.net/tag/donald-trump',\n",
       "  u'globalgrind.com/tag/donald+trump',\n",
       "  u'herald.ng/tag/donald-trump',\n",
       "  u'independent.co.uk/topic/usa',\n",
       "  u'indiewire.com/t/donald-trump',\n",
       "  u'langaravoice.ca/tag/donald-trump',\n",
       "  u'lgbtqnation.com/tag/donald-trump',\n",
       "  u'lmtonline.com/search/?action=search&channel=news%2fworld&inlinelink=1&searchindex=gsa&query=%22donald+trump%22',\n",
       "  u'michigansthumb.com/search/?action=search&channel=news%2fus&inlinelink=1&searchindex=gsa&query=%22donald+trump%22',\n",
       "  u'mysanantonio.com/search/?action=search&channel=news%2fscience&inlinelink=1&searchindex=gsa&query=%22donald+trump%22',\n",
       "  u'nashcountrydaily.com/tag/donald-trump',\n",
       "  u'newcanaannewsonline.com/search/?action=search&channel=news%2fpolitics&inlinelink=1&searchindex=gsa&query=%22donald+trump%22',\n",
       "  u'news.nationalpost.com/tag/donald-trump',\n",
       "  u'oneindia.com/topic/donald-trump',\n",
       "  u'sfgate.com/search/?action=search&channel=news%2fpolitics&inlinelink=1&searchindex=gsa&query=%22donald+trump%22',\n",
       "  u'stamfordadvocate.com/search/?action=search&channel=news%2fscience&inlinelink=1&searchindex=gsa&query=%22donald+trump%22',\n",
       "  u'thehill.com/people/donald-trump',\n",
       "  u'timesofindia.indiatimes.com/topic/donald-trump',\n",
       "  u'topix.com/who/donald-trump',\n",
       "  u'upi.com/topic/donald_trump',\n",
       "  u'urbanmilwaukee.com/people/donald-trump',\n",
       "  u'vanityfair.com/people/donald-trump#intcid=dt-hot-link',\n",
       "  u'variety.com/t/donald-trump',\n",
       "  u'washingtontimes.com/topics/donald-trump'},\n",
       " {u'agcanada.com/tag/trump',\n",
       "  u'commercialrecord.com/tag/trump',\n",
       "  u'dailyegyptian.com/tag/trump',\n",
       "  u'dallasvoice.com/tag/trump',\n",
       "  u'economictimes.indiatimes.com/topic/trump',\n",
       "  u'gq.com/about/donald-trump',\n",
       "  u'haaretz.com/misc/tags/donald%20trump-1.679173',\n",
       "  u'herald.ng/tag/trump',\n",
       "  u'heraldscotland.com/search/?search=mr+trump&topic_id=8751',\n",
       "  u'independent.co.uk/topic/sandi-toksvig',\n",
       "  u'indiewire.com/t/trump',\n",
       "  u'krai.com/tag/trump',\n",
       "  u'mancunion.com/tag/trump',\n",
       "  u'metrotimes.com/detroit/articlearchives?tag=trump',\n",
       "  u'mirror.co.uk/all-about/sandi-toksvig',\n",
       "  u'news.antiwar.com/tag/trump',\n",
       "  u'outlookindia.com/newsscroll/topic/trump/9587',\n",
       "  u'outsmartmagazine.com/tag/trump',\n",
       "  u'sandiegouniontribune.com/topic/business/ivanka-trump-peclb00000010046-topic.html',\n",
       "  u'seattlepi.com/search/?action=search&channel=local%2fpolitics&inlinelink=1&searchindex=gsa&query=%22trump%22',\n",
       "  u'standard.co.uk/topic/sandi-toksvig',\n",
       "  u'thebeaverton.com/tag/trump',\n",
       "  u'theguardian.com/culture/sandi-toksvig',\n",
       "  u'timesofindia.indiatimes.com/topic/trump',\n",
       "  u'uprootedpalestinians.wordpress.com/category/america/usa/trump',\n",
       "  u'viewer.gutools.co.uk/culture/sandi-toksvig',\n",
       "  u'walesonline.co.uk/all-about/us-presidential-elections',\n",
       "  u'washingtontimes.com/topics/trump',\n",
       "  u'wdef.com/tag/trump',\n",
       "  u'wwd.com/business-news/government-trade/day-of-the-titans-trump-meets-arnault-jack-ma-10743073'},\n",
       " {u'947freshfm.com/tag/ivanka-trump',\n",
       "  u'baltimoresun.com/topic/business/ivanka-trump-peclb00000010046-topic.html',\n",
       "  u'breitbart.com/tag/ivanka-trump',\n",
       "  u'broadwayworld.com/people/ivanka-trump',\n",
       "  u'dailycollegian.com/tag/ivanka-trump',\n",
       "  u'eonline.com/au/news/ivanka_trump',\n",
       "  u'eonline.com/ca/news/ivanka_trump',\n",
       "  u'footwearnews.com/people/ivanka-trump',\n",
       "  u'ft.com/stream/people/ivanka-trump',\n",
       "  u'gaycitynews.nyc/tag/ivanka-trump',\n",
       "  u'globalgrind.com/tag/ivanka+trump',\n",
       "  u'hellomagazine.com/tags/ivanka-trump',\n",
       "  u'hollywoodlife.com/tag/ivanka-trump',\n",
       "  u'lmtonline.com/search/?action=search&channel=news%2fpolitics&inlinelink=1&searchindex=gsa&query=%22ivanka+trump%22',\n",
       "  u'marieclaire.co.uk/entertainment/people/ivanka-trump-assistant-488526',\n",
       "  u'mashable.com/category/ivanka-trump',\n",
       "  u'nytimes.com/topic/person/ivanka-trump?inline=nyt-per',\n",
       "  u'teenvogue.com/tag/ivanka-trump',\n",
       "  u'thedailybeast.com/keyword/ivanka-trump',\n",
       "  u'thehill.com/person/ivanka-trump',\n",
       "  u'timesofindia.indiatimes.com/topic/ivanka-trump',\n",
       "  u'torontoist.com/tag/ivanka-trump',\n",
       "  u'uproxx.com/tag/ivanka-trump',\n",
       "  u'vanityfair.com/people/ivanka-trump',\n",
       "  u'wmagazine.com/topic/ivanka-trump',\n",
       "  u'wwd.com/fashion-news/fashion-scoops/nordstrom-stops-selling-ivanka-trump-fashion-brand-10776213',\n",
       "  u'yahoo.com/style/tagged/ivanka-trump'},\n",
       " {u'abcnews.go.com/topics/business/trump-university.htm',\n",
       "  u'aurorasentinel.com/tag/trump',\n",
       "  u'breitbart.com/tag/trump',\n",
       "  u'cccadvocate.com/tag/trump',\n",
       "  u'collegian.com/tag/trump',\n",
       "  u'csindy.com/coloradosprings/articlearchives?tag=trump',\n",
       "  u'diverseeducation.com/article/tag/trump-university',\n",
       "  u'en.wikipedia.org/wiki/trump_university',\n",
       "  u'flatheadbeacon.com/tag/trump',\n",
       "  u'indyweek.com/indyweek/articlearchives?tag=trump',\n",
       "  u'mashable.com/category/trump-university',\n",
       "  u'mix1041.cbslocal.com/tag/trump',\n",
       "  u'nationnews.ca/tag/trump',\n",
       "  u'oneindia.com/topic/trump',\n",
       "  u'seattlepi.com/search/?action=search&channel=local&inlinelink=1&searchindex=gsa&query=%22trump%22',\n",
       "  u'slate.com/topics/t/trump_university.html',\n",
       "  u'socialistparty.org.uk/keyword/trump',\n",
       "  u'texasmonthly.com/tag/trump',\n",
       "  u'theinternationalreporter.org/tag/trump',\n",
       "  u'walesonline.co.uk/all-about/donald-trumphttp-wwwwalesonlinecouk-all-about-donald-trump',\n",
       "  u'washingtontimes.com/topics/trump-university',\n",
       "  u'wgnradio.com/tag/trump',\n",
       "  u'wired.com/tag/trump',\n",
       "  u'wqlz.com/tag/trump',\n",
       "  u'youtube.com/user/trumpsc'},\n",
       " {u'arktimes.com/arkansas/articlearchives?tag=donald%20trump',\n",
       "  u'breitbart.com/tag/2017-inauguration',\n",
       "  u'chron.com/search/?action=search&channel=news%2fscience&inlinelink=1&searchindex=gsa&query=%22donald+trump%22',\n",
       "  u'dailycollegian.com/tag/donald-trump',\n",
       "  u'deadline.com/tag/inauguration-day',\n",
       "  u'eonline.com/uk/news/donald_trump',\n",
       "  u'gaycitynews.nyc/tag/donald-trump',\n",
       "  u'globalnews.ca/tag/inauguration',\n",
       "  u'heraldscotland.com/search/?search=donald+trump&topic_id=8749',\n",
       "  u'newswise.com/search/advanced/?search[tag]=inauguration day',\n",
       "  u'seattlepi.com/search/?action=search&channel=local%2fpolitics&inlinelink=1&searchindex=gsa&query=%22inauguration+day%22',\n",
       "  u'thebeaverton.com/tag/donald-trump',\n",
       "  u'thedailybeast.com/keyword/inauguration-day',\n",
       "  u'thedailycougar.com/tag/inauguration-day',\n",
       "  u'uproxx.com/tag/inauguration',\n",
       "  u'usatoday.com/topic/presidential-inauguration',\n",
       "  u'washingtontimes.com/topics/united-states-presidential-inaugurations',\n",
       "  u'wdef.com/tag/inauguration-day',\n",
       "  u'wgnradio.com/tag/inauguration-day',\n",
       "  u'wqlz.com/tag/donald-trump',\n",
       "  u'wrestlinginc.com/wi/profiles/403/donald-trump',\n",
       "  u'wwaytv3.com/news-tags/donald-trump',\n",
       "  u'yahoo.com/news/tagged/inauguration'},\n",
       " {u'architecturaldigest.com/topic/donald-trump',\n",
       "  u'bisnow.com/tags/donald-trump',\n",
       "  u'blackamericaweb.com/tag/president-trump',\n",
       "  u'breitbart.com/tag/trump-administration',\n",
       "  u'chron.com/search/?action=search&channel=news%2fus&inlinelink=1&searchindex=gsa&query=%22donald+trump%22',\n",
       "  u'colorlines.com/tags/trump-presidency',\n",
       "  u'dailycollegian.com/tag/trump-administration',\n",
       "  u'deadline.com/tag/president-trump',\n",
       "  u'economictimes.indiatimes.com/topic/trump-administration',\n",
       "  u'huffingtonpost.com/topic/trump-administration',\n",
       "  u'independent.co.uk/topic/trump-administration',\n",
       "  u'krai.com/tag/administration',\n",
       "  u'krebsonsecurity.com/tag/donald-trump',\n",
       "  u'mrt.com/search/?action=search&channel=news%2fpolitics&inlinelink=1&searchindex=gsa&query=%22donald+trump%22',\n",
       "  u'mysanantonio.com/search/?action=search&channel=news%2fpolitics&inlinelink=1&searchindex=gsa&query=%22trump+administration%22',\n",
       "  u'outlookindia.com/newsscroll/topic/trump-administration/7148',\n",
       "  u'pittsburgh.cbslocal.com/tag/donald-trump',\n",
       "  u'seattlepi.com/search/?action=search&channel=local%2fpolitics&inlinelink=1&searchindex=solr&query=%22trump+administration%22',\n",
       "  u'thedailybeast.com/keyword/trump-administration',\n",
       "  u'washingtontimes.com/topics/trump-administration',\n",
       "  u'wwaytv3.com/news-tags/president-trump',\n",
       "  u'wzdm.com/tag/president-trump',\n",
       "  u'wzlx.cbslocal.com/tag/president-trump'},\n",
       " {u'amp.cbslocal.com/tag/alec-baldwin',\n",
       "  u'boiseweekly.com/boise/articlearchives?tag=donald%20trump',\n",
       "  u'chron.com/search/?action=search&channel=news%2fmedical&inlinelink=1&searchindex=solr&query=%22donald+trump%22',\n",
       "  u'darkroom.baltimoresun.com/tag/donald-trump',\n",
       "  u'globalnews.ca/tag/alec-baldwin',\n",
       "  u'guilfordian.com/tag/donald-trump',\n",
       "  u'haaretz.com/misc/tags/tag-1.476748',\n",
       "  u'hoopshype.com/tag/donald-trump',\n",
       "  u'huffingtonpost.com/author/donald-trump',\n",
       "  u'independent.co.uk/topic/alecbaldwin',\n",
       "  u'justjared.com/tags/-donald-trump',\n",
       "  u'newsfactor.com/search.xhtml?cat_description=search&query=%22donald+trump%22&sort=time',\n",
       "  u'newsinfo.inquirer.net/tag/donald-trump',\n",
       "  u'nuvo.net/indianapolis/articlearchives?tag=donald%20trump',\n",
       "  u'outsmartmagazine.com/tag/donald-trump',\n",
       "  u'pagesix.com/tag/alec-baldwin',\n",
       "  u'people.com/people/news/category/0,,personstax:donaldtrump,00.html',\n",
       "  u'sfgate.com/search/?action=search&channel=nation&inlinelink=1&searchindex=gsa&query=%22donald+trump%22',\n",
       "  u'thenational.scot/search/?search=donald+trump&topic_id=9000',\n",
       "  u'timesunion.com/search/?action=search&channel=news%2fpolitics&inlinelink=1&searchindex=gsa&query=%22donald+trump%22',\n",
       "  u'tomatonation.com/tag/donald-trump'},\n",
       " {u'41nbc.com/tag/trump',\n",
       "  u'arktimes.com/arkansas/articlearchives?tag=trump',\n",
       "  u'bankerandtradesman.com/tag/trump',\n",
       "  u'carrollcountytimes.com/topic/business/ivanka-trump-peclb00000010046-topic.html',\n",
       "  u'dailycollegian.com/tag/trump',\n",
       "  u'darkroom.baltimoresun.com/tag/trump',\n",
       "  u'easterneronline.com/tag/trump',\n",
       "  u'inlander.com/spokane/articlearchives?tag=trump',\n",
       "  u'marquettewire.org/tag/trump',\n",
       "  u'newsinfo.inquirer.net/tag/trump',\n",
       "  u'newswise.com/search/advanced/?search[tag]=trump',\n",
       "  u'orlandoweekly.com/orlando/articlearchives?tag=trump',\n",
       "  u'pepperdine-graphic.com/tag/trump',\n",
       "  u'rep-am.com/topics/trump',\n",
       "  u'seattlepi.com/search/?action=search&channel=local%2fpolitics&inlinelink=1&searchindex=solr&query=%22trump%22',\n",
       "  u'thedailycougar.com/tag/trump',\n",
       "  u'variety.com/t/trump',\n",
       "  u'washingtontimes.com/topics/trump-hotels',\n",
       "  u'wmnf.org/tag/trump',\n",
       "  u'wtvq.com/tag/trump',\n",
       "  u'wwaytv3.com/news-tags/trump'},\n",
       " {u'allure.com/topic/ivanka-trump',\n",
       "  u'chron.com/search/?action=search&channel=news%2fmedical&inlinelink=1&searchindex=gsa&query=%22ivanka+trump%22',\n",
       "  u'ftw.usatoday.com/tag/ivanka-trump',\n",
       "  u'glamourmagazine.co.uk/person/ivanka-trump',\n",
       "  u'globalnews.ca/tag/ivanka',\n",
       "  u'indiewire.com/t/ivanka-trump',\n",
       "  u'news.nationalpost.com/tag/ivanka-trump',\n",
       "  u'newsx.com/tags/ivanka-trump',\n",
       "  u'nyppagesix.wordpress.com/tag/ivanka-trump',\n",
       "  u'oneindia.com/topic/ivanka-trump',\n",
       "  u'perezhilton.com/category/ivanka-trump',\n",
       "  u'standard.co.uk/topic/ivanka-trump',\n",
       "  u'starmagazine.com/tag/ivanka-trump',\n",
       "  u'thebeaverton.com/tag/ivanka',\n",
       "  u'tokyoreporter.com/tag/ivanka-trump',\n",
       "  u'wgnradio.com/tag/ivanka-trump',\n",
       "  u'wwd.com/fashion-news/fashion-scoops/donald-ivanka-trump-brands-post-election-winners-10702208'},\n",
       " {u'broadwayworld.com/people/anna-wintour',\n",
       "  u'contactmusic.com/anna-wintour',\n",
       "  u'dailycollegian.com/tag/anna-wintour',\n",
       "  u'editor.instyle.com/celebrity/melania-trump',\n",
       "  u'fashion.hellomagazine.com/tags/melania-trump',\n",
       "  u'gaycitynews.nyc/tag/anna-wintour',\n",
       "  u'glamour.com/about/melania-trump',\n",
       "  u'glamourmagazine.co.uk/gallery/www.glamourmagazine.co.uk/person/anna-wintour',\n",
       "  u'independent.co.uk/topic/annawintour',\n",
       "  u'lifestyle.ynaija.com/tag/anna-wintour',\n",
       "  u'nyppagesix.wordpress.com/tag/anna-wintour',\n",
       "  u'pagesix.com/tag/stephanie-winston-wolkoff',\n",
       "  u'thedailybeast.com/keyword/melania-trump',\n",
       "  u'uproxx.com/tag/melania-trump',\n",
       "  u'wwd.com/fashion-news/fashion-scoops/stephanie-winston-wolkoffs-star-turn-with-melania-10760307'},\n",
       " {u'breitbart.com/tag/barron-trump',\n",
       "  u'capitalgazette.com/topic/business/ivanka-trump-peclb00000010046-topic.html',\n",
       "  u'christianitytoday.com/ct/topics/d/donald-trump',\n",
       "  u'deadline.com/tag/barron-trump',\n",
       "  u'footwearnews.com/t/barron-trump',\n",
       "  u'hellomagazine.com/tags/barron-trump',\n",
       "  u'hilite.org/tag/trump',\n",
       "  u'justjared.com/tags/barron-trump',\n",
       "  u'landscapearchitecturemagazine.org/tag/trump',\n",
       "  u'pagesix.com/tag/barron-trump',\n",
       "  u'tmz.com/person/barron-trump',\n",
       "  u'usmagazine.com/celebrities/barron-trump',\n",
       "  u'variety.com/t/barron-trump',\n",
       "  u'washingtontimes.com/topics/barron-trump',\n",
       "  u'yahoo.com/celebrity/tagged/barron-trump'},\n",
       " {u'amazon.com/story-structure-substance-principles-screenwriting-ebook/dp/b0042fzvoy?ie=utf8&keywords=robert%2520mckee%2520story&qid=1465074648&ref_=sr_1_1&s=books&sr=1-1',\n",
       "  u'billboard.com/articles/columns/hip-hop/7648005/eminem-kendrick-lamar-ed-sheeran-zach-sang-interview',\n",
       "  u'kickstarter.com/projects/flyte/story-the-levitating-timepiece/description',\n",
       "  u'msn.com/en-us/news/us/recycling-is-in-trouble-and-you-may-be-part-of-the-problem/ar-bba5spk?li=bbmkt5r&ocid=spartanntp',\n",
       "  u'pepperdine-graphic.com/tag/story',\n",
       "  u'theglobeandmail.com/report-on-business/blackberrys-ma-head-jim-mackey-left-company-in-february/article34188125',\n",
       "  u'theglobeandmail.com/report-on-business/rob-commentary/executive-insight/corporate-canadas-uncomfortable-silence-on-trumps-refugee-ban/article33847193',\n",
       "  u'theglobeandmail.com/report-on-business/streetwise/banks-euphoria-for-trump-may-be-premature/article33590571',\n",
       "  u'theglobeandmail.com/report-on-business/streetwise/not-long-after-ipo-aritzias-private-investors-sell-more-shares/article33587966',\n",
       "  u'theglobeandmail.com/report-on-business/streetwise/record-stock-sales-in-2016-a-boon-for-big-bank-dealers/article33501900',\n",
       "  u'wgnradio.com/tag/story',\n",
       "  u'wtvq.com/tag/story'},\n",
       " {u'breitbart.com/tag/trump-international-hotel',\n",
       "  u'business.financialpost.com/tag/trump-international-hotel',\n",
       "  u'deadline.com/tag/trump-international-hotel',\n",
       "  u'economictimes.indiatimes.com/topic/trump-international-hotel',\n",
       "  u'fairfieldcitizenonline.com/search/?action=search&channel=news%2fcrime&inlinelink=1&searchindex=gsa&query=%22trump+international+hotel%22',\n",
       "  u'gaycitynews.nyc/tag/trump-international-hotel',\n",
       "  u'globalnews.ca/tag/trump-international-hotel',\n",
       "  u'independent.co.uk/topic/trump-international-hotel',\n",
       "  u'lmtonline.com/search/?action=search&channel=news%2fcrime&inlinelink=1&searchindex=gsa&query=%22trump+international+hotel%22',\n",
       "  u'newcanaannewsonline.com/search/?action=search&channel=news%2fcrime&inlinelink=1&searchindex=gsa&query=%22trump+international+hotel%22',\n",
       "  u'timesunion.com/search/?action=search&channel=news%2fcrime&inlinelink=1&searchindex=gsa&query=%22trump+international+hotel%22'},\n",
       " {u'aurorasentinel.com/tag/president-donald-trump',\n",
       "  u'blackamericaweb.com/tag/maxine-waters',\n",
       "  u'boiseweekly.com/boise/articlearchives?tag=president%20donald%20trump',\n",
       "  u'indyweek.com/indyweek/articlearchives?tag=president%20donald%20trump',\n",
       "  u'justjared.com/tags/president-donald-trump',\n",
       "  u'ksfm.cbslocal.com/tag/president-donald-trump',\n",
       "  u'marquettewire.org/tag/president-donald-trump',\n",
       "  u'pagesix.com/tag/president-donald-trump',\n",
       "  u'variety.com/t/president-donald-trump',\n",
       "  u'wtvq.com/tag/president-donald-trump',\n",
       "  u'wwaytv3.com/news-tags/president-donald-trump'},\n",
       " {u'abcnews.go.com/topics/business/ceos/donald-trump-jr.htm',\n",
       "  u'economictimes.indiatimes.com/topic/donald-trump-jr',\n",
       "  u'globalnews.ca/tag/donald-trump-jr',\n",
       "  u'independent.co.uk/topic/donald-trump-jr',\n",
       "  u'justjared.com/tags/donald-trump-jr',\n",
       "  u'outlookindia.com/newsscroll/topic/donald-trump-jr/58149',\n",
       "  u'pagesix.com/tag/donald-trump-jr',\n",
       "  u'tmz.com/person/donald-trump-jr',\n",
       "  u'usmagazine.com/celebrities/donald-trump-jr',\n",
       "  u'washingtontimes.com/topics/donald-trump-jr',\n",
       "  u'yahoo.com/celebrity/tagged/donald-trump-jr'},\n",
       " {u'business.financialpost.com/tag/snap-inc',\n",
       "  u'data.cnbc.com/quotes/stvi',\n",
       "  u'en.wikipedia.org/wiki/snappy_(package_manager)',\n",
       "  u'independent.co.uk/topic/snap',\n",
       "  u'itbusiness.ca/tag/snapchat',\n",
       "  u'mic.com/topic/snap-chat',\n",
       "  u'nashvilleledger.com/nasearch.aspx?ln=snap&redir=1',\n",
       "  u'news.thestreet.com/independent/quote/snap.html',\n",
       "  u'orlandosentinel.com/topic/business/technology-industry/snap-inc.-orcrp0017755-topic.html',\n",
       "  u'snapchat.com/add/realdonaldtrump'},\n",
       " {u'baltimoresun.com/topic/politics-government/government/jon-tester-peplt006535-topic.html',\n",
       "  u'breitbart.com/tag/jon-tester',\n",
       "  u'capitalgazette.com/topic/politics-government/government/jon-tester-peplt006535-topic.html',\n",
       "  u'dailypress.com/topic/politics-government/government/jon-tester-peplt006535-topic.html',\n",
       "  u'data.rollcall.com/members/25811?rel=memberlink',\n",
       "  u'mcall.com/topic/politics-government/government/jon-tester-peplt006535-topic.html',\n",
       "  u'orlandosentinel.com/topic/politics-government/government/jon-tester-peplt006535-topic.html',\n",
       "  u'projects.fivethirtyeight.com/congress-trump-score/jon-tester'},\n",
       " {u'allure.com/topic/melania-trump',\n",
       "  u'carrollcountytimes.com/topic/politics-government/melania-trump-pcelb00150-topic.html',\n",
       "  u'eonline.com/au/news/melania_trump',\n",
       "  u'eonline.com/ca/news/melania_trump',\n",
       "  u'footwearnews.com/people/melania-trump',\n",
       "  u'people.com/tag/melania',\n",
       "  u'vagazette.com/topic/politics-government/melania-trump-pcelb00150-topic.html',\n",
       "  u'wwd.com/fashion-news/fashion-scoops/reem-acra-bridal-show-tiffany-fifth-avenue-10852952'},\n",
       " {u'express.co.uk/expressadmin/posts/add/0/www.express.co.uk/latest/melania-trump',\n",
       "  u'newswise.com/search/advanced/?search[tag]=melania trump',\n",
       "  u'nypost.com/tag/melania-trump',\n",
       "  u'sputniknews.com/tags/person_melania_trump',\n",
       "  u'thedailycougar.com/tag/melania-trump',\n",
       "  u'theurbandaily.com/tag/melania-trump',\n",
       "  u'upi.com/topic/melania-trump',\n",
       "  u'wwd.com/fashion-news/fashion-scoops/giorgio-armani-addresses-the-trumps-10749020'},\n",
       " {u'glamour.com/about/melania%20trump',\n",
       "  u'globalgrind.com/tag/melania-trump',\n",
       "  u'indiewire.com/t/melania-trump',\n",
       "  u'news.nationalpost.com/tag/melania-trump',\n",
       "  u'perezhilton.com/category/melania-trump',\n",
       "  u'sun-sentinel.com/topic/melania-trump/pcelb00150-topic.html',\n",
       "  u'vogue.com/13524013/look-inside-trump-inaugural-balls-2017/www.vogue.com/tag/celebrity/melania-trump',\n",
       "  u'wwd.com/fashion-news/fashion-scoops/first-lady-melania-trump-chooses-michael-kors-ensemble-for-flight-to-mar-a-lago-10786830'},\n",
       " {u'abcnews.go.com/topics/news/trump-tax-returns.htm',\n",
       "  u'breitbart.com/tag/tax-returns',\n",
       "  u'deadline.com/tag/tax-returns',\n",
       "  u'metrotimes.com/detroit/articlearchives?tag=tax%20returns',\n",
       "  u'uproxx.com/tag/tax-returns',\n",
       "  u'wgnradio.com/tag/tax-returns',\n",
       "  u'wmay.com/tag/tax-returns',\n",
       "  u'wqlz.com/tag/tax-returns'},\n",
       " {u'arktimes.com/arkansas/articlearchives?tag=trump%20administration',\n",
       "  u'aurorasentinel.com/tag/trump-administration',\n",
       "  u'colorlines.com/tags/trump-administration',\n",
       "  u'herald.ng/tag/trump-administration',\n",
       "  u'thedailycougar.com/tag/trump-administration',\n",
       "  u'universetoday.com/tag/trump-administration',\n",
       "  u'wwaytv3.com/news-tags/trump-administration'},\n",
       " {u'facebook.com/notes/pierre-le-corf/from-aleppo-open-letter-to-fran%c3%a7ois-hollande-president-of-the-french-republic/10154834279138828',\n",
       "  u'herald.ng/tag/open-letter',\n",
       "  u'herdaily.com/tag/fashion-designers',\n",
       "  u't.ymlp97.com/eywwwaiaejymmadayyqaiaejmwj/click.php',\n",
       "  u'theguardian.com/music/2013/jul/04/drenge-tom-watson-resignation',\n",
       "  u'wwd.com/fashion-news/fashion-scoops/sophie-theallet-vows-melania-trump-asks-other-designers-to-do-the-same-10708550'},\n",
       " {u'breitbart.com/tag/the-new-york-times',\n",
       "  u'inopressa.ru/article/01mar2017/nytimes/rus_assad.html',\n",
       "  u'inopressa.ru/article/24jan2017/nytimes/syria1.html',\n",
       "  u'inopressa.ru/article/28feb2017/nytimes/rus_trump1.html',\n",
       "  u'inopressa.ru/article/29jun2017/nytimes/cyber04.html',\n",
       "  u'youtube.com/user/thenewyorktimes'},\n",
       " {u'breitbart.com/tag/donald-trump-jr',\n",
       "  u'economictimes.indiatimes.com/topic/donald-trump-jr.',\n",
       "  u'gaycitynews.nyc/tag/donald-trump-jr',\n",
       "  u'huffingtonpost.com/topic/donald-trump-jr',\n",
       "  u'mashable.com/category/donald-trump-jr.',\n",
       "  u'people.com/tag/donald-trump-jr'},\n",
       " {u'abcnews.go.com/topics/news/us/ivana-trump.htm',\n",
       "  u'en.wikipedia.org/wiki/ivana_trump',\n",
       "  u'independent.co.uk/topic/ivana-trump',\n",
       "  u'nyppagesix.wordpress.com/tag/ivana-trump',\n",
       "  u'pagesix.com/tag/ivana-trump',\n",
       "  u'usmagazine.com/celebrities/ivana-trump'},\n",
       " {u'breitbart.com/tag/trump-inauguration',\n",
       "  u'nashcountrydaily.com/tag/trump-inauguration',\n",
       "  u'wlsam.com/tag/trump-inauguration',\n",
       "  u'wnns.com/tag/trump-inauguration',\n",
       "  u'wqlz.com/tag/trump-inauguration',\n",
       "  u'wwaytv3.com/news-tags/trump-inauguration'},\n",
       " {u'economictimes.indiatimes.com/topic/trump-organization',\n",
       "  u'globalnews.ca/tag/trump-organization',\n",
       "  u'independent.co.uk/topic/trump-organization',\n",
       "  u'indiaretailing.com/tag/trump-organization',\n",
       "  u'washingtontimes.com/topics/trump-organization'},\n",
       " {u'msn.com/en-us/music/grammy/beyonc%c3%a9%e2%80%99s-grammy-snub-isn%e2%80%99t-just-an-oversight%e2%80%94it%e2%80%99s-a-real-problem/ar-aamtg8n?li=bbmkt5r&ocid=spartanntp',\n",
       "  u'msn.com/en-us/news/us/obama-calls-facebook-live-attack-despicable/ar-bbxwn9w?li=aa4znc&ocid=spartanntp',\n",
       "  u'msn.com/en-us/sports/nfl/tom-brady-has-some-explaining-to-do-on-donald-trump/ar-aampyay?li=bbnbfcl',\n",
       "  u'play.google.com/store/apps/details?id=com.microsoft.amp.apps.bingnews'},\n",
       " {u'http://business.financialpost.com/investing/market-moves/what-will-donald-trumps-inauguration-unleash-what-you-need-to-know-before-markets-open',\n",
       "  u'http://business.financialpost.com/small-cap-investing/rick-rule-i-think-gold-is-in-a-really-interesting-place',\n",
       "  u'http://news.nationalpost.com/category/sports/rio-2016',\n",
       "  u'http://ottawacitizen.com/news/national/defence-watch/u-s-army-installs-30-mm-cannon-on-stryker-armoured-vehicles-as-counter-to-russians'},\n",
       " {u'deadline.com/tag/trumpcare',\n",
       "  u'gaycitynews.nyc/tag/trumpcare',\n",
       "  u'thedailybeast.com/keyword/trumpcare',\n",
       "  u'uproxx.com/tag/trumpcare'},\n",
       " {u'de.sputniknews.com/gesellschaft/20170314314882176-berlin-moskau-metropolen',\n",
       "  u'de.sputniknews.com/panorama/20170109314047643-zahl-der-uebergriffe-gestiegen',\n",
       "  u'de.sputniknews.com/politik/20170116314133623-wirtschaftskompetenz-trump',\n",
       "  u'pochta.rian.ru/owa/redir.aspx?c=74nwmiulpab2nz1dkiuyqsfm1yu8gn5fco0xehtlgqgu935o0uxuca..&url=https%3a%2f%2fde.sputniknews.com%2fpanorama%2f20170125314259560-eroeffnung-vom-ber%2f'},\n",
       " {u'breitbart.com/tag/president-donald-j-trump',\n",
       "  u'wnns.com/tag/president-donald-j-trump',\n",
       "  u'wqlz.com/tag/president-donald-j-trump'},\n",
       " {u'wwd.com/business-news/retail/milan-designers-on-retail-10824314',\n",
       "  u'wwd.com/eye/lifestyle/angelica-hicks-tongue-in-chic-10852856',\n",
       "  u'wwd.com/fashion-news/fashion-scoops/trump-tower-traffic-nyc-nypd-sets-signs-for-gucci-armani-10757373'},\n",
       " {u'dailycollegian.com/tag/trump-hotel',\n",
       "  u'economictimes.indiatimes.com/topic/trump-hotel',\n",
       "  u'thebeaverton.com/tag/trump-hotel'},\n",
       " {u'deadline.com/tag/trumped-inside-the-greatest-political-upset-of-all-time',\n",
       "  u'indiewire.com/t/trumped-inside-the-greatest-political-upset-of-all-time',\n",
       "  u'variety.com/t/trumped-inside-the-greatest-political-upset-of-all-time'},\n",
       " {u'rss.cnn.com/~r/rss/cnn_us/~3/6xlttdsj5fq/trump-voters-applaud-ban-ac.cnn',\n",
       "  u'rss.cnn.com/~r/rss/cnn_us/~3/fqr0krqxzac/index.html',\n",
       "  u'uproxx.com/tag/cnn'},\n",
       " {u'dn.se/debatt/med-trump-maste-sverige-slass-for-manskliga-rattigheter',\n",
       "  u'dn.se/nyheter/sverige/forsvarsnotan-kan-landa-pa-400-miljarder-kronor',\n",
       "  u'dn.se/nyheter/varlden/ud-kraver-svar-om-trumps-sverigeuttalande'},\n",
       " {u'inopressa.ru/article/07mar2017/nytimes/ross.html',\n",
       "  u'inopressa.ru/article/31jan2017/nytimes/gosdep_trump.html'},\n",
       " {u'boiseweekly.com/boise/articlearchives?tag=women%27s%20march%7c%7cdonald%20trump%7c%7cdietrich%20high%20school%7c%7cpurple%20sage%20farms%7c%7ctimes-news%7c%7cidaho%20press%20tribune%7c%7cktvb%7c%7cthe%20flicks',\n",
       "  u'csindy.com/coloradosprings/articlearchives?tag=marijuana%7c%7ctaxes%7c%7cpolitics%7c%7celections%7c%7creleaf'},\n",
       " {u'dailycollegian.com/tag/melania', u'oneindia.com/topic/melania-trump'},\n",
       " {u'dr.dk/nyheder/indland/debatten-trumps-mur-vaekker-minder-om-fortiden',\n",
       "  u'dr.dk/nyheder/udland/trump-accepterer-efterretningsrapport-om-russisk-cyberangreb'},\n",
       " {u'commons.wikimedia.org/wiki/file:alexios_i_komnenos.jpg',\n",
       "  u'en.wikipedia.org/wiki/heights_of_presidents_and_presidential_candidates_of_the_united_states#/media/file:obamatrump.jpg'},\n",
       " {u'boiseweekly.com/boise/articlearchives?tag=donald%20trump%7c%7cracism%7c%7cnorthern%20idaho%7c%7cpost%20falls',\n",
       "  u'thecoast.ca/halifax/articlearchives?category=4427096'},\n",
       " {u'jetmag.com/entertainment/waka-flacka-trump-jersey',\n",
       "  u'jetmag.com/news/sams-club-black-ceo-resignation'},\n",
       " {u'breitbart.com/tag/trumps-cabinet',\n",
       "  u'dailycollegian.com/tag/trumps-cabinet'},\n",
       " {u'abcnews.go.com/topics/news/us/khizr-khan-donald-trump.htm',\n",
       "  u'independent.co.uk/topic/khizr-khan'},\n",
       " {u'rssfeeds.usatoday.com/~/260631106/0/usatoday-newstopstories~trump-the-next-time-we%e2%80%99re-going-to-win-the-oldfashioned-way',\n",
       "  u'variety.com/t/usa-today'},\n",
       " {u'belk.com/search/search_results.jsp?zz_st=ivanka%20trump&zz%3c%3etp=4294923540&zz%3c%3et=ivanka%20trump&folder%3c%3efolder_id=1408474395191292&cmsaytparam=autocomplete',\n",
       "  u'neimanmarcus.com/ivanka-trump/designers/cat48860760/c.cat'},\n",
       " {u'marieclaire.com/celebrity/a24853/trump-inauguration-speech-celebrity-reactions',\n",
       "  u'marieclaire.com/celebrity/news/a27465/jennifer-garner-people-magazine-facebook-post'},\n",
       " {u'citynews.com.au/tag/trump', u'deconstructingdoctor.com/tag/trump'},\n",
       " {u'economictimes.indiatimes.com/topic/trump-russia',\n",
       "  u'seattlepi.com/search/?action=search&channel=local%2fpolitics&inlinelink=1&searchindex=gsa&query=%22trump-russia%22'},\n",
       " {u'anrdoezrs.net/links/8029122/type/dlg/sid/pofasa1kendallkylieaajan/http://www.revolve.com/kendall-kylie-bomber-jumpsuit-in-black/dp/kenr-wr12',\n",
       "  u'anrdoezrs.net/links/8147966/type/dlg/sid/trumpgolf/http://www.revolve.com/kendall-kylie-accessories/br/dee2dc/?navsrc=left'},\n",
       " {u'dailyrecord.co.uk/all-about/trump-turnberry',\n",
       "  u'mirror.co.uk/all-about/turnberry-golf-course'},\n",
       " {u'linkedin.com/in/dave-trumpy-37343311', u'rejournals.com/tag/david-trumpy'},\n",
       " {u'lbc.co.uk/radio/presenters/katie-hopkins/lefty-caller-more-in-common-with-farage-and-trump',\n",
       "  u'lbc.co.uk/radio/presenters/nick-ferrari/brexit-happened-because-of-blair-nick-ferrari'},\n",
       " {u'consequenceofsound.net/artist/donnie-trumpet',\n",
       "  u'pitchfork.com/artists/32978-donnie-trumpet'},\n",
       " {u'independent.co.uk/topic/judd-trump', u'mirror.co.uk/all-about/judd-trump'},\n",
       " {u'deadline.com/tag/donald-j-trump-presidential-twitter-library',\n",
       "  u'indiewire.com/t/donald-j-trump-presidential-twitter-library'},\n",
       " {u'projects.fivethirtyeight.com/congress-trump-score/ben-sasse'},\n",
       " {u'wwd.com/business-news/media/the-nation-katrina-vanden-heuvel-media-trump-10678147-10678147'},\n",
       " {u'economictimes.indiatimes.com/topic/trump-old-post-office-llc'},\n",
       " {u'http://www.eluniversal.com.mx/articulo/estados/2017/02/24/retiran-carteles-antitrump-en-acapulco'},\n",
       " {u'ajc.com/news/national-govt--politics/protests-erupt-response-trump-executive-order-immigration/oj3w51iuxdnvuqmulbcedm'},\n",
       " {u'dailycollegian.com/tag/visions-beyond-trump'},\n",
       " {u'msn.com/en-us/money/companies/starbucks-ceo-schultz-plans-to-hire-10000-refugees-after-trump-ban/ar-aamoa7m?ocid=ansmsnnews11'},\n",
       " {u'dailycollegian.com/tag/anti-trump'},\n",
       " {u'click.linksynergy.com/fs-bin/click?id=93xlbvphaee&subid=0&offerid=390098.1&type=10&tmpid=8158&rd_parm1=http%253a%252f%252fshop.nordstrom.com%252fc%252fceline&u1=is,vid,art,melaniatrumpgoescasualinapairofolivegreenjeans,lara walsh,201706,i'},\n",
       " {u'lbc.co.uk/radio/presenters/james-obrien/james-despairs-at-trumps-death-threat'},\n",
       " {u'phillymag.com/tag/trump-taj-mahal'},\n",
       " {u'sfgate.com/search/?action=search&channel=sports&inlinelink=1&searchindex=gsa&query=%22donald+trump%22'},\n",
       " {u'http://wwd.com/eye/people/melania-trump-pays-homage-to-american-military-service-members-with-ensemble-10757679/'},\n",
       " {u'http://images1.phoenixnewtimes.com/imager/u/original/9009611/phx-bop-20161102-angelstrumpetalehouse-jimlouvau-2.jpg'},\n",
       " {u'http://wwd.com/fashion-news/fashion-scoops/first-lady-melania-trump-dior-pink-10777376/'},\n",
       " {u'http://www.milenio.com/politica/mexico-llego_al_limite-ofensas_eu-luis_videgaray_sre-pena_nieto-donald_trump-milenio_0_892110796.html'},\n",
       " {u'timesofindia.indiatimes.com/city/gurgaon/in-haryana-trump-village-where-no-one-has-heard-of-trump/articleshow/59293117.cms'},\n",
       " {u'news.com.au/world/europe/russian-spy-oleg-erovinkin-linked-to-donald-trumps-dirty-dossier-found-dead-in-moscow/news-story/2f09fe637d692769d260d1f3fd603ddd'},\n",
       " {u'dailycollegian.com/tag/anti-trump-rally'},\n",
       " {u'boiseweekly.com/boise/articlearchives?tag=donald%20trump%7c%7cnational%20guard%7c%7cimmigration%7c%7csex%20trafficking%7c%7cktvb%7c%7carson%7c%7ccoeur%20d%27alene%20press%7c%7cboise%20international%20market%7c%7clewiston%20tribune%7c%7cidaho%20press-tribune%7c%7ccongress%7c%7cbonners%20ferry'},\n",
       " {u'eluniversal.com.mx/articulo/mundo/2017/01/25/concluye-reunion-de-videgaray-y-guajardo-con-equipo-de-trump'},\n",
       " {u'golfbusinessnews.com/tag/trump-turnberry'},\n",
       " {u'http://www.billboard.com/articles/columns/country/7655413/darryl-worley-trump-inaugural-ball-interview'},\n",
       " {u'wwaytv3.com/news-tags/trump-immigration'},\n",
       " {u'espn.com/nfl/story/_/id/19535416/peyton-manning-president-play-golf-trump-national'},\n",
       " {u'http://www.sltrib.com/blogs/outofcontext/5376079-155/news-roundup-trump-to-name-former'},\n",
       " {u'blacklistednews.com/report%3a_trump_was_spied_on_for_up_to_a_year_before_inauguration%2c_susan_rice_implicated_in_unmasking/57692/0/38/38/y/m.html'},\n",
       " {u'amazon.com/ivana-trump-alone-1992-06-16-hardcover/dp/b002bx1qy8/ref=sr_1_2?s=books&ie=utf8&qid=1489614574&sr=1-2&keywords=for+love+alone+ivana+trump0'},\n",
       " {u'slate.com/topics/t/trump_apocalypsewatch.html'},\n",
       " {u'http://images1.laweekly.com/imager/u/original/7784495/trump-unifies-los-angeles.jpg'},\n",
       " {u'bizjournals.com/portland/search/results?q=ivanka%20trump'},\n",
       " {u'wwd.com/eye/parties/donald-melania-trump-joined-by-caitlyn-jenner-in-d-c-10758312'},\n",
       " {u'amazon.co.uk/till-trumpet-sounds-again-1914-19/dp/1911096079/ref=pd_bxgy_14_2?_encoding=utf8&psc=1&refrid=g9mcpvhv2bezjbn72j8p'},\n",
       " {u\"economictimes.indiatimes.com/topic/donald-trump's-key-policies\"},\n",
       " {u'http://wwd.com/fashion-news/fashion-scoops/first-lady-melania-trump-chooses-michael-kors-ensemble-for-flight-to-mar-a-lago-10786830/'},\n",
       " {u'breitbart.com/tag/trump-protest'},\n",
       " {u'http://www.milenio.com/estados/muro_humano-ciudad_juarez-donald_trump-muro_mexico-cardenas-corral-milenio_0_904709751.html'},\n",
       " {u'breitbart.com/tag/trump-impeachment-campaign'},\n",
       " {u'boiseweekly.com/boise/articlearchives?tag=donald%20trump%7c%7cheather%20scott%7c%7cnampa%20gateway%20center%7c%7cforrest%20bird%7c%7cpam%20bird'},\n",
       " {u'latinpost.com/tags/jane-fonda-donald-trump'},\n",
       " {u'breitbart.com/tag/trump-star'},\n",
       " {u'http://www.milenio.com/politica/donald_trump-bad_hombres-gobierno_de_la_republica-enrique_pena_nieto_0_895110847.html'},\n",
       " {u'http://images1.phoenixnewtimes.com/imager/u/original/9016322/jr-trumpandarts-rembrandtquiballoportrait.jpeg'},\n",
       " {u'gaycitynews.nyc/tag/poets-protest-against-trump'},\n",
       " {u'footwearnews.com/t/ivanka-trump-collection'},\n",
       " {u'pochta.rian.ru/owa/redir.aspx?c=rdxzeasca9ptez-rn4yamnbnot1igudgjlvfeb13qwdcdcvrkknuca..&url=http%3a%2f%2ffortune.com%2f2017%2f01%2f27%2fdonald-trump-muslim-immigration-ban-conflict%2f'},\n",
       " {u'http://www2.steamboatpilot.com/news/2017/jan/30/ken-collins-trump-threat-america/'},\n",
       " {u'krmg.com/news/news/national/7-things-know-now-trump-picks-gorsuch-court-tiller/ntfzz/news/national-govt--politics/trump-secretary-state-pick-headed-for-senate-approval/0br51t01zm0gv3mmqz901m'},\n",
       " {u'who.is/whois/trumpink.com'},\n",
       " {u'autonews.com/article/20170206/oem11/302069954/mazda-mitsu-tread-lightly-in-trump-era'},\n",
       " {u'dailycollegian.com/tag/trump-presidency'},\n",
       " {u'theguardian.com/film/2016/oct/10/robert-de-niro-jon-voight-donald-trump'},\n",
       " {u'amazon.com/how-trump-won-inside-revolution-ebook/dp/b01mr0iij3/ref=tmm_kin_swatch_0?_encoding=utf8&qid=1484598286&sr=8-1-fkmr0'},\n",
       " {u'golf-monthly.co.uk/courses/top-100-courses/trump-turnberry-resort-ailsa-course-review-60431'},\n",
       " {u'wwd.com/eye/people/74-golden-globes-awards-meryl-street-speech-donald-trump-reactions-10742207'},\n",
       " {u'boiseweekly.com/boise/articlearchives?tag=orly%20airport%7c%7cgame%20of%20thrones%7c%7cpresident%20donald%20trump%7c%7cnsa%7c%7ctwin%20peaks'},\n",
       " {u'standard.co.uk/topic/melania-trump'},\n",
       " {u'elconfidencial.com/mundo/2017-01-16/policia-fbi-trump-putin-peter-wakkie-mikhail-fridman_1316924'},\n",
       " {u'who.is/whois/trumpworldwide.com'},\n",
       " {u'economictimes.indiatimes.com/topic/ex-trump'},\n",
       " {u'aurorasentinel.com/tag/trump-supporters'},\n",
       " {u'universetoday.com/tag/trump'},\n",
       " {u'amazon.com/donald-trump-loser-ryan-bradford/dp/1539528332'},\n",
       " {u'who.is/whois/trump.com'},\n",
       " {u'news.com.au/entertainment/celebrity-life/kanye-west-seemingly-changes-tune-on-trump-after-deleting-tweets-about-president/news-story/d33c8dac8dfce251352b654e087db16f'},\n",
       " {u'hosted2.ap.org/apdefault/3d281c11a96b4ad082fe88aa0db04305/article_2017-02-27-us--trump-budget/id-7a24bb3fad9c4189932ee37dc83ebbe3'},\n",
       " {u'amazon.com/trump-we-trust-pluribus-awesome/dp/0735214468/ref=sr_1_1_twi_har_1?s=books&ie=utf8&qid=1482514768&sr=1-1&keywords=ann+coulter'},\n",
       " {u'mynegm.com/tag/trump'},\n",
       " {u'torontoist.com/tag/trump-tower-toronto'},\n",
       " {u'marieclaire.co.uk/entertainment/people/donald-trump-quotes-57213'},\n",
       " {u'csindy.com/coloradosprings/trump-tracker/content?category=4305161'},\n",
       " {u'thedailybeast.com/keyword/trump-russia'},\n",
       " {u'facebook.com/search/str/eddie%2bgriffin%2btrump/links-keyword/stories-news-pivot'},\n",
       " {u'memphisflyer.com/memphis/articlearchives?tag=trump%27s%20wall'},\n",
       " {u'statesman.com/news/local-govt--politics/crowd-several-hundred-reaches-capitol-march-trump-rally-austin/bfqk91q3rn4dddz3pag30j'},\n",
       " {u'myajc.com/news/national-govt--politics/the-latest-pence-says-trump-showed-big-heart-speech/eea65wpuwg5tsh7ywukx5o'},\n",
       " {u'who.is/whois/donaldtrumpcrystal.com'},\n",
       " {u'wwaytv3.com/news-tags/donald-trump-wax-figure'},\n",
       " {u'elmanana.mx/noticia/126312/le-quitan-la-visa-en-el-puente-por-traer-memes-de-trump-en-su-celular.html'},\n",
       " {u'projects.fivethirtyeight.com/congress-trump-score/edward-r-royce'},\n",
       " {u'krmg.com/news/national/things-know-now-russian-hack-voter-software-baby-stabbed-death-comey-testimony/vkmsomdd1fqh8lfxgqtyfo/news/white-house-trump-will-not-try-stop-comey-testimony-asserting-executive-privilege/5rand611nqjymqeeadkrgp'},\n",
       " {u'mynegm.com/tag/trump-national-golf-club'},\n",
       " {u'glamour.com/about/trump'},\n",
       " {u'power92chicago.com/tag/trump'},\n",
       " {u'variety.com/t/trump-an-american-story'},\n",
       " {u'who.is/whois/trumpmortgage.com'},\n",
       " {u'lightreading.com/mobile/5g/top-5-tech-trump-expectations-for-2017/a/d-id/729260'},\n",
       " {u'theguardian.com/tv-and-radio/2016/oct/15/hypernormalisation-adam-curtis-trump-putin-syria'},\n",
       " {u'aurorasentinel.com/tag/trumpcare'},\n",
       " {u'sportingnews.com/au/tennis/news/watch-reporter-asks-kyrgios-if-he-feels-like-donald-trump-australian-open-tennis-andreas-seppi/1xxkkg26ctsaw1j819inh4q9m2'},\n",
       " {u'lbc.co.uk/radio/presenters/nick-ferrari/im-worried-says-nigel-farage-of-trumps-air-strike'},\n",
       " {u'politicalhumor.about.com/od/donald-trump/ss/donald-trump-protest-signs.htm#step60'},\n",
       " {u'who.is/whois/melaniatrump.com'},\n",
       " {u'clarin.com/politica/hijo-trump-confirma-buscan-hacer-proyecto-argentina_0_sji8kzhsg.html'},\n",
       " {u'wwaytv3.com/news-tags/trump-john-lewis'},\n",
       " {u'http://www.milenio.com/df/donald_trump-manifestacion-embajada-ciudad_de_mexico-milenio-noticias_0_888511291.html'},\n",
       " {u'who.is/whois/trumpmodels.com'},\n",
       " {u'http://images1.phoenixnewtimes.com/imager/u/original/9016952/jr-trumpandart-jmroessel-cropped.jpg'},\n",
       " {u'klix.ba/vijesti/bih/crnadak-dodik-nije-dobio-poziv-americke-administracije-na-inaguraciju-trumpa/161224043'},\n",
       " {u'slate.com/topics/d/donald_trump.html'},\n",
       " {u'who.is/whois/trumporg.com'},\n",
       " {u'who.is/whois/trumppossibility.com'},\n",
       " {u'wgnradio.com/tag/trump-travel-ban'},\n",
       " {u'newsinfo.inquirer.net/tag/trump-foreign-policies'},\n",
       " {u'wwaytv3.com/news-tags/meryl-streep-donald-trump-golden-globes'},\n",
       " {u'thebay.com/webapp/wcs/stores/servlet/en/thebay/brand/ivankatrump'},\n",
       " {u'thesuperficial.com/photos/the-crap-we-missed-friday-3-3-17/us-politics-trump'},\n",
       " {u'people.com/movies/george-clooney-donald-trump-meryl-streep/?xid=socialflow_facebook_peoplemag'},\n",
       " {u'beta.9news.com.au/national/2017/06/15/14/18/malcolm-turnbull-impersonates-donald-trump-in-leaked-audio'},\n",
       " {u'http://www.eluniversal.com.mx/articulo/nacion/politica/2017/02/9/unam-y-77-organismos-mas-se-unen-en-marcha-contra-trump'},\n",
       " {u'http://wwd.com/beauty-industry-news/color-cosmetics/melania-trump-makeup-artist-nicole-bryl-10744799/'},\n",
       " {u'http://www.eluniversal.com.mx/articulo/nacion/politica/2017/01/22/se-reuniran-pena-nieto-y-donald-trump-el-31-de-enero'},\n",
       " {u'dailycollegian.com/tag/the-trump-administration'},\n",
       " {u'inopressa.ru/article/12jan2017/nzz/trump3.html'},\n",
       " {u'http://wwd.com/tag/melania-trump/'},\n",
       " {u'herald.ng/tag/trump-ban'},\n",
       " {u'independent.co.uk/topic/trump-organisation'},\n",
       " {u'rssfeeds.usatoday.com/~/289150048/0/usatoday-newstopstories~syria-missile-strike-probably-the-best-thing-trump-has-done-as-president-john-boehner-says'},\n",
       " {u'ajc.com/news/local-govt--politics/atlanta-mayor-kasim-reed-wants-trump-friend-success-cities/ef1crmjgmwjgjoqe5fohsm'},\n",
       " {u'yahoo.com/style/tagged/melania-trump'},\n",
       " {u'eluniversal.com.mx/articulo/mundo/2017/06/22/mexico-es-el-segundo-pais-mas-mortal-construiremos-el-muro-trump'},\n",
       " {u'billboard.com/articles/columns/rock/7400342/neil-young-bernie-sanders-donald-trump'},\n",
       " {u'scienceworldreport.com/tags/eric-trump-foundation'},\n",
       " {u'elle.com/culture/celebrities/news/a42220/abigail-breslin-defends-tiffany-trump-on-instagram'},\n",
       " {u'http://www.eluniversal.com.mx/articulo/nacion/seguridad/2017/02/24/se-contradicen-trump-y-kelly-por-deportaciones'},\n",
       " {u'theglobeandmail.com/report-on-business/top-business-stories/comey-fbi-trump-uk-election-european-central-bank-markets/article35230824'},\n",
       " {u'hosted2.ap.org/apdefault/3d281c11a96b4ad082fe88aa0db04305/article_2017-02-13-us--trump-flynn/id-0cc8ba9e61a34e6ea41f097691323712'},\n",
       " {u'boiseweekly.com/boise/articlearchives?tag=donald%20trump%7c%7cbernie%20sanders%7c%7cktvb%7c%7ckboi%7c%7ckivi%7c%7cdietrich%20high%20school%7c%7crachel%20dolezal%7c%7ccoeur%20d%27alene%20press%7c%7cthe%20guardian%7c%7cpacific%20northwest%20inlander'},\n",
       " {u'http://www.lbc.co.uk/radio/presenters/iain-dale/iain-dale-donald-trump-visit-cancel/'},\n",
       " {u'economictimes.indiatimes.com/topic/donald-trump-administration'},\n",
       " {u'addons.mozilla.org/en-us/firefox/addon/detrumpify'},\n",
       " {u'play.google.com/store/apps/details?id=com.jaxszn.trumpdump&hl=en'},\n",
       " {u'vanityfair.mx/people/articulos/barron-trumpel-el-hijo-del-presidente-que-sufre-de-bullying/21821'},\n",
       " {u'christiantoday.com/article/violent.clashes.between.protesters.and.police.in.washington.over.trump.inauguration/104055.htm'},\n",
       " {u'http://www.ksdk.com/news/appeals-court-denies-trump-request-to-immediately-restore-travel-ban/398942922'},\n",
       " {u'wwaytv3.com/news-tags/nicole-kidman-trump'},\n",
       " {u'http://www.billboard.com/articles/columns/rock/7701936/against-me-laura-jane-grace-president-trump-transgender-action'},\n",
       " {u'who.is/whois/trumpnationalphiladelphia.com'},\n",
       " {u'marieclaire.com/celebrity/news/a25084/celebrity-twitter-reactions-trump-immigration-ban'},\n",
       " {u'breitbart.com/tag/trump-golf-course'},\n",
       " {u'marieclaire.com/celebrity/a25323/donald-trump-princess-diana-relationship'},\n",
       " {u'who.is/whois/trumpenergy.com'},\n",
       " {u'dailycollegian.com/tag/visions-beyond-trump-building-solidarity-networks-and-economies'},\n",
       " {u'http://images1.phoenixnewtimes.com/imager/u/original/9014443/donald-trump-evie-carpenter.jpg'},\n",
       " {u'who.is/whois/donaldtrumpfoundation.org'},\n",
       " {u'http://www.milenio.com/negocios/autos_ford-gobierno_campeche-donald_trump-inversiones_mexico-milenio_0_886111812.html'},\n",
       " {u'slate.com/topics/t/trump_story_project.html'},\n",
       " {u'soundcloud.com/new-haven-independent/dateline-new-haven-policing-in-the-trump-era?in=new-haven-independent/sets/dateline-new-haven'},\n",
       " {u'boiseweekly.com/boise/articlearchives?tag=north%20korea%7c%7cmissile%20test%7c%7csaturday%20night%20live%7c%7cmelissa%20mccarthy%7c%7cdonald%20trump%7c%7csean%20spicer%7c%7cutah%7c%7cpatagonia%7c%7coutdoors%7c%7cpublic%20lands'},\n",
       " {u'theguardian.com/film/2016/oct/19/michael-moore-in-trumpland-revew-trump-hillary-clinton-film'},\n",
       " {u'nashvilleledger.com/nasearch.aspx?ln=ivanka+trump+marks&redir=1'},\n",
       " {u'freepressjournal.in/world/sulabh-chief-announces-to-name-indian-village-after-trump/1084533'},\n",
       " {u'http://www.milenio.com/politica/enrique_pena_nieto-donald_trump-reunion-estados_unidos-milenio-noticias_0_891510972.html'},\n",
       " {u'kcrw.com/news-culture/shows/to-the-point/trump-tries-on-a-new-tone/lofty-new-rhetoric-for-a-familiar-message'},\n",
       " {u'carnewschina.com/tag/guangzhou-auto-trumpchi'},\n",
       " {u'worldtribune.com/tag/trump-associates-unmasked'},\n",
       " {u'http://www.autonews.com/article/20170419/GLOBAL03/170419813/saic-puts-u-s-ambitions-on-hold-on-trump-uncertainty?utm_source=dlvr.it&amp;utm_medium=twitter'},\n",
       " {u'wwd.com/fashion-news/fashion-scoops/first-lady-melania-trump-dior-pink-10777376'},\n",
       " {u'economictimes.indiatimes.com/topic/pro-trump-great-america-alliance'},\n",
       " {u'wwaytv3.com/news-tags/trump-inauguration-protests'},\n",
       " {u'http://images1.phoenixnewtimes.com/imager/u/original/9009591/trump-party-jan-and-joan.jpg'},\n",
       " {u'http://www.news.com.au/entertainment/celebrity-life/kristen-stewart-donald-trump-was-really-obsessed-about-me/news-story/fc615c5b3fb1de61409ed5a0d954274a'},\n",
       " {u'who.is/whois/trumpinsurance.com'},\n",
       " {u'http://www.lbc.co.uk/radio/presenters/iain-dale/theresa-may-has-to-be-diplomatic-with-trump-fact/'},\n",
       " {u'commons.commondreams.org/t/cutting-off-fly-over-states-trump-to-ax-amtrak-for-220-cities/40414'},\n",
       " {u'projects.fivethirtyeight.com/congress-trump-score/darrell-e-issa'},\n",
       " {u'gadgets.ndtv.com/tags/trump'},\n",
       " {u'theringer.com/donald-trump-sports-radio-colin-cowherd-mike-francesa-190a7f57a543#.vh0ffouqa'},\n",
       " {u'http://images1.houstonpress.com/imager/u/original/9114559/trumpodds_copy.jpg'},\n",
       " {u'usmagazine.com/celebrities/lara-trump'},\n",
       " {u'http://www.autonews.com/article/20170315/OEM01/170319912/trump-to-court-detroits-divided-union'},\n",
       " {u'http://images1.phoenixnewtimes.com/imager/u/original/9009587/trump-party-1.jpg'},\n",
       " {u'wgnradio.com/tag/president-trump-travel-ban'},\n",
       " {u'lightreading.com/mobile/lte-a-pro/atandt-ceo-hoping-for-a-trump-bump-in-2017/d/d-id/729842'},\n",
       " {u'http://images1.phoenixnewtimes.com/imager/u/original/9008819/clown-trump-pao.jpg'},\n",
       " {u'citynews.com.au/tag/trump-and-turnbull-call'},\n",
       " {u'milenio.com/df/marcha_contra_donald_trump_mexico-respeto-vibra_mexico-protesta-milenio-noticias_0_901709961.html'},\n",
       " {u'mindanaoexaminer.com/tag/donald-trump'},\n",
       " {u'bisnow.com/tags/the-trump-organization'},\n",
       " {u'ajc.org/site/c.7ojilspwffjsg/b.9516509/k.92be/urge_president_trump_to_keep_the_special_envoy_to_combat_antisemitism/apps/ka/ct/contactcustom.asp'},\n",
       " {u'jetmag.com/entertainment/chrisette-michele-trump-innaguration'},\n",
       " {u'nrk.no/norge/skriver-472-saker-om-trump-hver-dag-1.13396033'},\n",
       " {u'readersupportednews.org/opinion2/277-75/41206-when-trump-falls-out-of-love-with-putin'},\n",
       " {u'usmagazine.com/celebrities/vanessa-trump'},\n",
       " {u'eluniversal.com.mx/articulo/nacion/politica/2017/01/27/acuerdan-pena-nieto-y-donald-trump-no-hablar-publicamente-sobre'},\n",
       " {u'lightreading.com/business-employment/jobs/telco-suppliers-join-trump-opposition-but-network-operators-remain-silent/d/d-id/730117'},\n",
       " {u'wwd.com/eye/parties/time-100-gala-2016-draws-donald-trump-caitlyn-jenner-nicki-minaj-10419513'},\n",
       " {u'breitbart.com/tag/realdonaldtrump'},\n",
       " {u'economictimes.indiatimes.com/topic/trump-comey'},\n",
       " {u'worldtribune.com/tag/trump-adiministration'},\n",
       " {u'http://images1.phoenixnewtimes.com/imager/u/original/9014471/jr-trumpart-rachelbowditch.jpeg'},\n",
       " {u'sportingnews.com/au/other-sports/news/donald-trump-mark-sanchez-attends-2017-presidential-inauguration-cowboys/a9vllrltgdk81dhsyabzqul7r'},\n",
       " {u'uproxx.com/music/beyonce-donald-trump-lgbt-legislation/glsen.org/100days'},\n",
       " {u'http://images1.phoenixnewtimes.com/imager/u/original/9016960/jr-trumpandsfunding-audracarlisle-cropped-photoroddynikpour.jpeg'},\n",
       " {u'rssfeeds.usatoday.com/~/259190408/0/usatoday-newstopstories~a-statebystate-list-of-democrats-that-are-not-attending-trumps-inauguration'},\n",
       " {u'breitbart.com/tag/u-s-president-elect-donald-trump'},\n",
       " {u'worldtribune.com/tag/realdonaldtrump'},\n",
       " {u'washingtontimes.com/topics/pro-trump'},\n",
       " {u'huffingtonpost.com/topic/trumpcare'},\n",
       " {u'justjared.com/tags/lara-trump'},\n",
       " {u'lightreading.com/gigabit/fttx/could-trump-give-a-boost-to-german-broadband/a/d-id/730024'},\n",
       " {u'carnewschina.com/tag/trumpchi-gs8'},\n",
       " {u'wwaytv3.com/news-tags/marijuana-trump-inauguration'},\n",
       " {u'eluniversal.com.mx/articulo/cartera/economia/2017/01/26/cancelacion-de-reunion-entre-pena-y-trump-tira-la-bolsa-y-al'},\n",
       " {u'independent.co.uk/topic/donald-trump-inauguration'},\n",
       " {u'who.is/whois/trumpspeeches.com'},\n",
       " {u'rssfeeds.usatoday.com/~/261470394/0/usatoday-newstopstories~takeaways-from-trumps-first-days-change-will-come-fastish'},\n",
       " {u'royalpurplenews.com/tag/trump-wall'},\n",
       " {u'urldefense.proofpoint.com/v2/url?u=https-3a__www.nytimes.com_2017_05_04_us_politics_religious-2dorganizations-2dexecutive-2dorder-2dtrump.html-3frref-3dcollection-252fbyline-252flaurie-2dgoodstein-26action-3dclick-26contentcollection-3dundefined-26region-3dstream-26module-3dstream-5funit-26version-3dlatest-26contentplacement-3d1-26pgtype-3dcollection&d=dwmfag&c=b73tqxn8ec0ocrmzhmcntw&r=-yxlad5-agfsk8aogo-qoxgku3zvs2pj3ibkbh-0i-m&m=us0xxt3vgznrsjl0t1r3wzxr8bvtq33azvrhioc23gs&s=eb23av6upz1_hrvtda1c95shu3rs9gs7d6v5daluo3i&e='},\n",
       " {u'http://www2.steamboatpilot.com/news/2017/feb/01/trump-supporter-accuses-aspen-business-owner-discr/'},\n",
       " {u'hosted2.ap.org/apdefault/3d281c11a96b4ad082fe88aa0db04305/article_2017-03-15-us--trump-maddow-taxes/id-cac575b8c85b451e980a2ef38c1dfa9c'},\n",
       " {u'hosted2.ap.org/apdefault/89ae8247abe8493fae24405546e9a1aa/article_2017-01-25-us\\u2014trump-immigration/id-38368cd324074817bfdae946005848f1'},\n",
       " {u'eluniversal.com.mx/articulo/nacion/politica/2017/01/25/todo-el-apoyo-del-senado-si-pena-cancela-reunion-con-trump-gil'},\n",
       " {u'elfinanciero.com.mx/empresas/animo-anti-trump-afecta-ventas-de-starbucks-en-mexico.html'},\n",
       " {u'economictimes.indiatimes.com/topic/trump-jr'},\n",
       " {u'rssfeeds.usatoday.com/~/297553632/0/usatoday-newstopstories~trump-phones-up-space-station-to-congratulate-nasa-astronaut'},\n",
       " {u'http://www.lbc.co.uk/radio/presenters/nick-ferrari/why-trumps-travel-ban-will-work-by-ex-cia-officer/'},\n",
       " {u'amazon.com/how-trump-won-inside-revolution/dp/1621573958/ref=tmm_pap_swatch_0?_encoding=utf8&qid=1483556266&sr=1-1'},\n",
       " {u'oswegonews.com/osw/trump-proposes-cuts-to-great-lakes-program-20170317/1&template=mosw'},\n",
       " {u'rssfeeds.usatoday.com/~/274482708/0/usatoday-newstopstories~trump-again-calls-media-enemy-of-the-people'},\n",
       " {u'en.wikipedia.org/wiki/john_g._trump'},\n",
       " {u'economictimes.indiatimes.com/topic/modi-trump'},\n",
       " {u'financialexpress.com/market/indian-it-stocks-fall-amid-positive-markets-as-donald-trump-calls-for-buying-american-hiring-american/518631'},\n",
       " {u'calvinayre.com/tag/trump-taj-mahal'},\n",
       " {u'http://images1.phoenixnewtimes.com/imager/u/original/9016326/jr-trumpandarts-angelofhalomovementcropped.jpeg'},\n",
       " {u'http://www.chicagotribune.com/sports/basketball/ct-donald-trump-sports-chris-cillizza-column-spt-20170205-story.html'},\n",
       " {u'breitbart.com/tag/trump-voters'},\n",
       " {u'abcnews.go.com/topics/news/us/trump-foundation.htm'},\n",
       " {u'ninertimes.com/tag/trump'},\n",
       " {u'www2.steamboatpilot.com/news/2017/feb/01/trump-supporter-accuses-aspen-business-owner-discr'},\n",
       " {u'en.wikipedia.org/wiki/tutari_(trumpet)'},\n",
       " {u'news.com.au/entertainment/celebrity-life/celebrities-gone-bad/trolls-do-cialevel-research-to-ruin-shia-labeoufs-trump-protest/news-story/87ea1fe5e172eae037f7c567e4542c89'},\n",
       " {u'who.is/whois/trumpontherocks.com'},\n",
       " {u'who.is/whois/trumpwatch.com'},\n",
       " {u'thedailybeast.com/content/dailybeast/topics/trump-tower.html'},\n",
       " {u'amazon.com/trump-art-deal-donald-j/dp/0399594493?tag=slatmaga-20'},\n",
       " {u'b.dk/nationalt/fogh-advarer-trump-kan-betyde-at-eu-og-nato-bryder-sammen'},\n",
       " {u'theguardian.com/tv-and-radio/2016/jun/30/gordon-murray-obituary-creator-of-trumpton'},\n",
       " {u'penguinrandomhouse.com/books/180675/trump-the-art-of-the-deal-by-donald-j-trump-with-tony-schwartz/9780399594496'},\n",
       " {u'rssfeeds.usatoday.com/~/264061340/0/usatoday-newstopstories~trump-says-he-will-make-christian-refugees-a-priority'},\n",
       " {u'hollywoodreporter.com/live-feed/handmaids-tale-stars-elisabeth-moss-alexis-bledel-talk-trump-season-2-1002578'},\n",
       " {u'who.is/whois/trumpdonald.com'},\n",
       " {u'autonews.com/article/20170109/oem02/170109827/bill-ford-compliments-respectful-trump'},\n",
       " {u'who.is/whois/trumpmumbai.com'},\n",
       " {u'who.is/whois/trumpfragrances.com'},\n",
       " {u'theguardian.com/tv-and-radio/2016/oct/19/laura-benanti-melania-trump-late-show-stephen-colbert'},\n",
       " {u'allotsego.com/tag/trump-inaugural'},\n",
       " {u'bestofneworleans.com/gambit/articlearchives?tag=trumplandia'},\n",
       " {u'cruxnow.com/rns/2017/01/13/trumps-rise-gop-economics-may-shift-catholic-churchs-priorities/?platform=hootsuite'},\n",
       " {u'dallasvoice.com/tag/trumping'},\n",
       " {u'msn.com/en-us/news/politics/%e2%80%98up-is-down%e2%80%99-trump%e2%80%99s-unreality-show-echoes-his-business-past/ar-aamlwum?li=bbnbca1'},\n",
       " {u'rssfeeds.usatoday.com/~/269409996/0/usatoday-newstopstories~putin-floats-a-summit-with-trump-in-slovenia-the-first-ladys-birthplace'},\n",
       " {u'google.co.uk/amp/gizmodo.com/4chan-idiots-claim-they-invented-the-trump-piss-report-1791067589/amp?client=ms-android-google'},\n",
       " {u'nottinghampost.com/meet-the-stone-carving-that-looks-just-like-donald-trump/story-30106759-detail/story.html#cmfywqvo4zwksgqz.99'},\n",
       " {u'russia-insider.com/en/trump-slams-nato-puts-putin-and-merkel-equal-footing-stunning-pair-interviews/ri18543'},\n",
       " {u'indyweek.com/indyweek/photos-of-saturdays-pro-president-trump-rally-in-raleigh/slideshow/5447641'},\n",
       " {u'telegraph.co.uk/fashion/people/marc-jacobs-tom-ford-refuse-dress-melania-trump'},\n",
       " {u'play.google.com/store/apps/details?id=com.djtrump.app&referrer=utm_source%3dgetdjtrump%26utm_medium%3dhomepage'},\n",
       " {u'denver.craigslist.org/search/roo?query=trump&availabilitymode=0'},\n",
       " {u'jetmag.com/entertainment/metro-boomin-trump-scholarship'},\n",
       " {u'http://www.milenio.com/estados/donald_trump-ford-mexico-planta_slp-industria_automotriz-empleo-milenio_noticias_0_879512072.html'},\n",
       " {u'tampabay.com/blogs/baybuzz/hillsborough-commissioner-stacy-white-to-attend-trumps-inauguration-in/2309321'},\n",
       " {u'projects.fivethirtyeight.com/trump-approval-ratings/adults'},\n",
       " {u'orlandoweekly.com/orlando/articlearchives?tag=trump%20florida'},\n",
       " {u'gp.se/nyheter/sverige/svenskarna-totals%c3%a5gar-trump-1.4250963'},\n",
       " {u'http://wwd.com/fashion-news/fashion-scoops/melania-trump-ralph-lauren-inaugural-week-fashion-10752086/'},\n",
       " {u'http://wwd.com/fashion-news/fashion-features/melania-trump-wears-herve-pierre-to-inaugural-balls-10760356/'},\n",
       " {u'universe.byu.edu/tag/trump-refugee-ban'},\n",
       " {u'tagesanzeiger.ch/ausland/amerika/warum-trump-nicht-praesident-bleibt/story/19468898'},\n",
       " {u'chron.com/search/?action=search&channel=business%2ftechnology&inlinelink=1&searchindex=solr&query=%22donald+trump+on+twitter%22'},\n",
       " {u'mail01.tinyletterapp.com/coreyhutchins/batshit-crazy-how-colorado-newspapers-covered-the-trump-russia-story-buy-buy-to-the-colorado-statesman-an-alt-weekly-impact-and-more-colorado-local-news-media/8649489-glendalecherrycreek.com/staff/?c=23ddd1f1-271e-4ba8-bba9-fcd1778d772c'},\n",
       " {u'boiseweekly.com/boise/articlearchives?tag=boise%7c%7cweather%7c%7cdonald%20trump%7c%7cspokane%7c%7cgonzaga'},\n",
       " {u'kcrw.com/news-culture/shows/scheer-intelligence/bill-blum-bill-clinton-laid-the-groundwork-for-trump'},\n",
       " {u'de.sputniknews.com/politik/20170321314975798-schulzzug-putin-trump-petry-videogame'},\n",
       " {u'herald.ng/tag/trump-adminstration'},\n",
       " {u'wwd.com/people-companies/people-profile/blaine-trump'},\n",
       " {u'http://www.lbc.co.uk/radio/presenters/nigel-farage/farage-what-happened-when-i-had-dinner-with-trump/'},\n",
       " {u'breitbart.com/tag/donad-trump'},\n",
       " {u'uproxx.com/music/sub-pop-downtown-boys-tour/uproxx.com/tag/donald-trump'},\n",
       " {u'http://rss.cnn.com/~r/rss/cnn_us/~3/5yG_uvA71Ak/trump-travel-ban-judge-halts-tweet-smerconish-sot.cnn'},\n",
       " {u'http://www.milenio.com/politica/negociaremos_relacion_con_eu-pena_nieto-donald_trump-muro_fronterizo-milenio_0_883111697.html'},\n",
       " {u'abcnews.go.com/topics/news/issues/anti-trump-protests.htm'},\n",
       " {u'wgnradio.com/tag/president-trumps-budget'},\n",
       " {u'economictimes.indiatimes.com/topic/trump-cabinet'},\n",
       " {u'google.com/search?q=donald+trump&kponly&kgmid=/m/0cqt90&hl=es'},\n",
       " {u'http://www.milenio.com/politica/cumplen-oaxaquenos-sueno_americano-trump-eu-jornaleros-siembra-cosecha-tomate-milenio_0_904109585.html'},\n",
       " {u'larrybrownsports.com/football/donald-trump-victory-racial-divide-nfl-locker-rooms/333232'},\n",
       " {u'commons.wikimedia.org/wiki/file%3amary_anne_trump.jpg'},\n",
       " {u'msn.com/en-us/money/healthcare/obamacare-insurers-abandon-two-counties-in-washington-commissioner-blames-trump-administration/ar-bbckgtb'},\n",
       " {u'saintsreport.com/forums/members/jrtrump'},\n",
       " {u'krmg.com/news/national/things-know-now-comey-sessions-isis-attack-iran-cosby-trial-cmt-awards/7gvqionvdywawombqprufn/news/national-govt--politics/senators-ask-about-trump-pushback-russia-investigation/uqzqbfbehpaglnw0jlyaml'},\n",
       " {u'who.is/whois/trump2016.com'},\n",
       " {u'projects.fivethirtyeight.com/congress-trump-score/carlos-curbelo'},\n",
       " {u'who.is/whois/trump-hotels.com'},\n",
       " {u'russia-insider.com/en/trump-says-he-wont-lift-russia-sanctions-our-response-good/ri18806'},\n",
       " {u'http://www.milenio.com/politica/luis_videgaray-comparecencia-senado-estados_unidos-donadl_trump-kelly-tillerson_0_911308982.html'},\n",
       " {u'wwd.com/fashion-news/fashion-scoops/ivanka-trumps-real-estate-play-8093731'},\n",
       " {u'http://www.lbc.co.uk/radio/presenters/james-obrien/james-obrien-rubbishes-reasons-trumps-travel-ban/'},\n",
       " {u'lbc.co.uk/radio/presenters/james-obrien/donald-trump-james-lie-media-call-fake-news'},\n",
       " {u'herald.ng/tag/trump-border-wall'},\n",
       " {u'http://www.autonews.com/article/20170426/OEM10/170429889/canadian-supplier-linamar-at-center-of-trump-nafta-clash'},\n",
       " {u'economictimes.indiatimes.com/topic/trump-administration-policy'},\n",
       " {u'economictimes.indiatimes.com/topic/modi-trump-meeting'},\n",
       " {u'who.is/whois/trumponair.com'},\n",
       " {u'breitbart.com/tag/u-s-president-donald-j-trump'},\n",
       " {u'rssfeeds.usatoday.com/~/281551078/0/usatoday-newstopstories~trumps-budget-directs-billion-to-border-wall-%e2%80%94-and-thats-not-all'},\n",
       " {u'boiseweekly.com/boise/articlearchives?tag=donald%20trump%7c%7cjohn%20mccain%7c%7cpresident%27s%20day%7c%7cidaho%20legislature%7c%7cgreg%20chaney%7c%7cbill%20mahr%7c%7clarry%20wilmore%7c%7cmilo%20yiannopoulos'},\n",
       " {u'http://www.lbc.co.uk/radio/presenters/andrew-castle/andrew-defends-trump-state-visit/'},\n",
       " {u'breitbart.com/tag/trump-international'},\n",
       " {u'sportingnews.com/au/football/news/bet-president-trump-cant-wait-to-play-with-the-nuclear-codes---football-world-reacts-to-us-inauguration/145keptou0lre10x1nlkfzf43b'},\n",
       " {u'projects.fivethirtyeight.com/congress-trump-score/dianne-feinstein'},\n",
       " {u'wwaytv3.com/news-tags/trump-mexico-wall'},\n",
       " {u'google.com/search?q=donald+trump+mexico&kgmid=/m/0cqt90'},\n",
       " {u'neimanmarcus.com/en-gb/ivanka-trump/designers/cat48860760/c.cat'},\n",
       " {u'washingtonpost.com/apps/g/page/politics/president-trumps-first-budget-proposal/2179/?hpid=hp_hp-top-table-high_budgetinteractive:homepage/story'},\n",
       " {u'sportingnews.com/au/league/list/if-trumps-press-secretary-was-an-nrl-media-manager-donald-inauguration-crowd-size-alternative-facts-rugby-league/1u1xcyo31cuow1vshpbryieqsz'},\n",
       " {u'bfa.com/people/ivanka-trump/photos/1598066'},\n",
       " {u'http://www2.steamboatpilot.com/news/2017/feb/01/refugees-steamboat-springs-unaffected-trump-order-/'},\n",
       " {u'wwd.com/fashion-news/fashion-scoops/netanyahus-first-lady-melania-trump-chooses-karl-lagerfeld-ensemble-10803341'},\n",
       " {u'startribune.com/vandalism-of-pro-trump-mural-offers-free-speech-lesson-at-university-of-minnesota/395902471'},\n",
       " {u'rssfeeds.usatoday.com/~/260346482/0/usatoday-newstopstories~in-mexico-president-pe%c3%b1a-nieto-more-unpopular-than-trump'},\n",
       " {u'lbc.co.uk/radio/presenters/nick-ferrari/trump-to-visit-uk-in-june-met-police-chief-reveals'},\n",
       " {u'economictimes.indiatimes.com/topic/trump-era'},\n",
       " {u'https://play.google.com/store/apps/details?id=com.djtrump.app&amp;hl=en'},\n",
       " {u'google.com/search?q=donald+trump&kponly&kgmid=/m/0cqt90'},\n",
       " {u'thehill.com/person/trump'},\n",
       " {u'wwaytv3.com/news-tags/trump-protests'},\n",
       " {u'http://wwd.com/fashion-news/fashion-features/designers-talk-about-dressing-melania-trump-10714101/'},\n",
       " {u'projects.fivethirtyeight.com/congress-trump-score/cory-gardner'},\n",
       " {u'who.is/whois/trumptowerny.com'},\n",
       " {u'globalgrind.com/tag/melaniatrump'},\n",
       " {u'http://www.chicagotribune.com/sports/basketball/ct-nba-trump-executive-order-20170128-story.html'},\n",
       " {u'wbez.org/shows/wbez-news/chicago-afterschool-programs-face-axe-under-trumps-budget/92b246fb-5ad1-4363-b18a-c7a197e8f152'},\n",
       " {u'http://www.milenio.com/internacional/donald_trump-muro-frontera-orden_ejecutiva-construccion-abc_entrevista_0_890911058.html'},\n",
       " {u'nettavisen.no/nyheter/utenriks/trumps-tale-skremmer-ekspertene/3423304786.html'},\n",
       " {u'sportingnews.com/au/mma/news/ronda-rousey-criticizes-donald-trumps-immigration-policy/w2si2xsm3btl11ysowdqrnmr0'},\n",
       " {u'wwd.com/fashion-news/fashion-scoops/first-lady-melania-trump-maison-ullens-for-brigitte-macron-meeting-10895830'},\n",
       " {u'kurier.at/politik/ausland/kanadas-premier-justin-trudeau-moechte-mit-us-praesident-donald-trump-ueber-den-erfolg-der-kanadischen-einwanderungs-und-fluechtlingspolitik-diskutieren/243.755.899'},\n",
       " {u'marieclaire.com/celebrity/news/a25305/chrissy-teigen-donald-trump-trolling'},\n",
       " {u'theguardian.com/film/2017/mar/25/daniel-clowes-wilson-interview-ghost-world-trump'},\n",
       " {u'rssfeeds.usatoday.com/~/267128856/0/usatoday-newstopstories~trumps-immigration-ban-how-we-ended-up-back-where-we-were-days-ago-for-now'},\n",
       " {u'breitbart.com/tag/donal-trump'},\n",
       " {u'breitbart.com/tag/donlad-trump'},\n",
       " {u'projects.fivethirtyeight.com/congress-trump-score/shelley-moore-capito'},\n",
       " {u'wgnradio.com/tag/trump-twitter'},\n",
       " {u'who.is/whois/trumporlando.com'},\n",
       " {u'who.is/whois/trumpresource.com'},\n",
       " {u'newsandletters.org/tag/donald-trump'},\n",
       " {u'breitbart.com/tag/bikers-for-trump'},\n",
       " {u'bendsource.com/bend/articlearchives?tag=anti%20trump%20protest'},\n",
       " {u'p2016.org/photos13/cpac13/trump031513spt.html'},\n",
       " {u'latinpost.com/tags/donadl-trump'},\n",
       " {u'http://rss.cnn.com/~r/rss/cnn_us/~3/6XlTTdsJ5FQ/trump-voters-applaud-ban-ac.cnn'},\n",
       " {u'politicalhumor.about.com/od/donald-trump/ss/donald-trump-protest-signs.htm#step13'},\n",
       " {u'politicalhumor.about.com/od/donald-trump/ss/donald-trump-protest-signs.htm#step10'},\n",
       " {u'grandluxuryhotels.com/hotel/trump-soho-new-york?gclid=cj0keqia_kvebrctznil4-kr-libeiqamgekf70qeahf-nauz7y6i6w7vtos76ujwbdwf-y8d_i0gluaalqh8p8haq'},\n",
       " {u'billboard.com/articles/columns/rock/7624585/metallica-kirk-hammett-trump-tour-interview'},\n",
       " {u'who.is/whois/trumpinitiatives.com'},\n",
       " {u'economictimes.indiatimes.com/markets/forex/chinas-yuan-dips-as-markets-await-trump-xi-meeting-march-data/articleshow/58042725.cms'},\n",
       " {u'news.com.au/world/north-america/donald-trump-calls-tax-report-by-david-cay-johnston-and-rachel-maddow-fake-news/news-story/ea040cfc86e84fc9255350c1a1748433'},\n",
       " {u'readersupportednews.org/opinion2/277-75/42429-the-deep-state-donald-trump-and-us'},\n",
       " {u'autonews.com/article/20160229/oem02/302299961/2-tales-of-cadillacs-trump-limos'},\n",
       " {u'who.is/whois/donaldtrumpsucks.com'},\n",
       " {u'thefword.org.uk/tag/trump'},\n",
       " {u'http://www.newspressnow.com/news/politics/ap/trump-administration-pulls-back-on-healthcare-gov-ads/article_687a7b58-335a-5279-9453-34414d4b3dc3.html'},\n",
       " {u'who.is/whois/trumprinks.com'},\n",
       " {u'indiaretailing.com/tag/trump-home'},\n",
       " {u'3.bp.blogspot.com/-u3dgo3dyikg/wgnqwurrepi/aaaaaaaam-y/kvbuj0ck7mimb1z4e1sxzq5ugwkqf7nmwclcb/s640/trumpfuckyourfeelings.jpg'},\n",
       " {u'metro.se/artikel/sveriges-helomv%c3%a4ndning-om-usa-%c3%a4lskade-obama-avskyr-trump'},\n",
       " {u'wgnradio.com/tag/trump-bump'},\n",
       " {u'nrk.no/urix/trump-anklager-pressen-for-a-skjule-terrorhandlinger-1.13364023'},\n",
       " {u'digitalspy.com/tv/the-crown/news/a822331/helen-mirren-wants-donald-trump-netflix-series-crown-writer-peter-morgan'},\n",
       " {u'theguardian.com/music/2013/feb/03/trumpeter-arve-henriksen'},\n",
       " {u'bloomberg.com/features/2017-trump-heartland-sentiment/?cmpid%3d=socialflow-twitter-politics#viviano'},\n",
       " {u'http://www.milenio.com/politica/hasta_ahora-reunion_pena-trump-mexico_y_eu-muro_fronterizo-visita_trabajo-tlc-milenio_0_891510865.html'},\n",
       " {u'krmg.com/news/entertainment/madame-tussauds-london-unveils-trump-wax-figure/ntzds/<blockquote class='},\n",
       " {u'dailycollegian.com/tag/pro-trump'},\n",
       " {u'mirror.co.uk/all-about/barron-trump'},\n",
       " {u'news965.com/news/national/things-know-now-shoots-down-syrian-fighter-london-attack-sailors-killed/9hrfcyrj99xnjicivtayum/news/spite-tweet-lawyer-says-trump-not-under-investigation/bbmbcwyomyei3gjrjukepi'},\n",
       " {u'http://www.milenio.com/politica/cubanos_tamaulipas-muro-trump_0_931707254.html'},\n",
       " {u'projects.fivethirtyeight.com/congress-trump-score/patrick-j-toomey'},\n",
       " {u'http://wwd.com/fashion-news/fashion-scoops/first-lady-melania-trump-calvin-klein-dress-for-morikami-gardens-visit-10787411/'},\n",
       " {u'rssfeeds.usatoday.com/~/268695136/0/usatoday-newstopstories~what-happened-to-all-the-south-american-trump-tower-plans'},\n",
       " {u'http://wwd.com/fashion-news/fashion-features/melania-trump-to-wear-karl-lagerfeld-ralph-lauren-to-inauguration-10753627/'},\n",
       " {u'amazon.com/trump-art-deal-donald-j/dp/0399594493/ref=sr_1_1?&_encoding=utf8&tag=columbia01-20&linkcode=ur2&linkid=750c2113f125ac587e3584e83c2a19a8&camp=1789&creative=9325'},\n",
       " {u'citynews.com.au/tag/refugee-deal-with-trump'},\n",
       " {u'parlamentnilisty.cz/arena/rozhovory/video-vaclav-klaus-se-pro-pl-rozjel-zapadni-kavarny-zahajily-utok-na-trumpa-plot-na-ceskych-hranicich-by-mi-nevadil-hloupy-roucek-a-toto-vam-reknu-k-sorosovi-473983'},\n",
       " {u'gp.se/nyheter/sverige/ok%c3%a4nd-bildt-vittnar-om-trumps-p%c3%a5st%c3%a5enden-1.4172520'},\n",
       " {u'adage.com/article/cmo-strategy/smirnoff-trolling-donald-trump-amid-russia-investigations/309366'},\n",
       " {u'rssfeeds.usatoday.com/~/284650144/0/usatoday-newstopstories~analysis-failure-to-repeal-obamacare-ends-terrible-week-for-trump-republicans'},\n",
       " {u'eluniversal.com.mx/articulo/nacion/seguridad/2017/01/30/polleros-desafian-el-muro-de-trump'},\n",
       " {u'who.is/whois/downloadtrump.com'},\n",
       " {u'wwd.com/fashion-news/fashion-scoops/ivanka-trump-leaving-fashion-label-trump-organization-10745428'},\n",
       " {u'wwd.com/beauty-industry-news/color-cosmetics/melania-trump-makeup-artist-nicole-bryl-10744799'},\n",
       " {u'rssfeeds.usatoday.com/~/263386930/0/usatoday-newstopstories~so-special-britains-may-warms-up-for-trump-talks'},\n",
       " {u'cnet.com/au/news/fbi-james-comey-house-intelligence-hearing-donald-trump-russia-hackers/houseintelligence%20committee%20chairman%20devin%20nunes'},\n",
       " {u'ok.co.uk/celebrity/donald-trump'},\n",
       " {u'rssfeeds.usatoday.com/~/281309454/0/usatoday-newstopstories~who-is-david-cay-johnston-what-to-know-about-trump-tax-return-reporter'},\n",
       " {u'wqlz.com/tag/emo-trump'},\n",
       " {u'http://www.milenio.com/politica/pena_nieto-trudeau-canada-libre_comercio-america_del_norte-donald_trump-milenio_0_889711026.html'},\n",
       " {u'wwaytv3.com/news-tags/trump-mlk'},\n",
       " {u'toledoblade.com/tag/us%20trump'},\n",
       " {u'eluniversal.com.mx/articulo/nacion/politica/2017/01/17/encuesta-mayoria-cree-que-mexico-no-pagara-muro-de-trump'},\n",
       " {u'http://www.eluniversal.com.mx/articulo/nacion/politica/2017/02/21/amlo-denunciara-trump-ante-la-onu-por-violar-dh'},\n",
       " {u'http://www.milenio.com/politica/muro-extremista-intolerante-sre-mexico_y_eu-onu-barreras_fisicas-donald_trump-milenio_0_913108689.html'},\n",
       " {u'http://www.espn.com/nfl/story/_/id/19535416/peyton-manning-president-play-golf-trump-national'},\n",
       " {u'variety.com/2017/film/global/hugh-jackman-patrick-stewart-logan-xmen-trump-berlinale-1201991396'},\n",
       " {u'hosted2.ap.org/apdefault/f70471f764144b2fab526d39972d37b3/article_2017-01-23-us%e2%80%94trump%20names%20fcc%20chairman/id-1476cbcad5b04264bbf1965abc2cc575'},\n",
       " {u'trumpinternationalrealty.com/about/trump-international-realty'},\n",
       " {u'aftonbladet.se/nyheter/a/4azpo/efter-trumps-pik-har-ar-osanningarna-i-fox-inslaget-om-sverige'},\n",
       " {u'metro.us/news/clinton-to-release-2015-tax-returns-within-days-criticizes-trump/krjphk---ejv7nlij3hazktlajvjc0a'},\n",
       " {u'wgnradio.com/tag/trump-mingle'},\n",
       " {u'krebsonsecurity.com/tag/trumps-dumps'},\n",
       " {u'owa.princeton.edu/owa/redir.aspx?c=y1femu6sz-9jvj_y2fxngae1xbn9mczvngszemykkxmnzjcextjuca..&url=https%3a%2f%2fwww.wagingpeace.org%2fopen-letter-trump%2f'},\n",
       " {u'bendsource.com/bend/articlearchives?tag=trump%20inauguration'},\n",
       " {u'saintsreport.com/forums/members/trump2016'},\n",
       " {u'mail01.tinyletterapp.com/coreyhutchins/should-a-colorado-newspaper-report-its-own-bad-news-calling-out-manufactured-quotes-a-new-social-justice-radio-station-and-more-colorado-local-news-media/7270853-www.seattletimes.com/seattle-news/marijuana/what-donald-trump-means-for-legal-weed-in-washington-state-we-ask-a-pot-pioneer/?c=23ddd1f1-271e-4ba8-bba9-fcd1778d772c'},\n",
       " {u'eluniversal.com.mx/articulo/nacion/politica/2016/09/12/fue-una-mala-decision-invitar-trump-encuesta'},\n",
       " {u'abcnews.go.com/topics/news/issues/russian-ties-to-trump.htm'},\n",
       " {u'reddit.com/r/fuckthealtright/comments/6fdvvy/proof_has_just_come_out_that_trumps_campaign_team/dihr34q'},\n",
       " {u'http://www.milenio.com/negocios/ford-mexico-donald_trump-planta-gabriel_lopez-milenio_noticias_0_903510119.html'},\n",
       " {u'espn.com/blog/boston/celtics/post/_/id/4724894/gerald-green-isaiah-thomas-50-point-game-trumped-paul-pierces'},\n",
       " {u'sportingnews.com/nfl/news/tom-brady-donald-trump-cannot-play-it-safe-michael-jordan-shoes-neutral-patriots/1xrz87d176kkv10pgxlvobmn52'},\n",
       " {u'projects.fivethirtyeight.com/congress-trump-score/lindsey-graham'},\n",
       " {u'readersupportednews.org/opinion2/277-75/40934-did-trump-have-sex-with-putin'},\n",
       " {u'news.com.au/entertainment/nicole-kidman-hits-out-at-critics-who-branded-her-a-trump-supporter-after-bbc-interview/news-story/a2ea0a67d0f916031bcf6ef7fe8b89cc'},\n",
       " {u'en.wikipedia.org/wiki/frederick_trump'},\n",
       " {u'http://www.milenio.com/negocios/mexico_reembolso-ford-cancelacion_planta_san_luis_potosi-donald_trump-milenio_0_877712428.html'},\n",
       " {u'projects.fivethirtyeight.com/congress-trump-score/collin-c-peterson'},\n",
       " {u'who.is/whois/trumpindia.com'},\n",
       " {u'http://www.sltrib.com/blogs/outofcontext/4879973-155/news-roundup-trumps-allies-are-readying'},\n",
       " {u'breitbart.com/tag/anti-trump-media'},\n",
       " {u'boiseweekly.com/boise/articlearchives?tag=idaho%20army%20national%20guard%7c%7cwashington%20county%7c%7cpresident%20donald%20trump%7c%7cintelligence%20agency%7c%7cleak%7c%7cboise%7c%7chyde%20park%7c%7ctavern%7c%7cbeer%20and%20wine'},\n",
       " {u'forbes.com/profile/donald-trump/?list=billionaires'},\n",
       " {u'wwd.com/fashion-news/fashion-scoops/donald-trump-favors-brioni-10704594'},\n",
       " {u'lightreading.com/video/video-services/trump-dump-atandt-tw-and-comcast-nbc/d/d-id/727223'},\n",
       " {u'who.is/whois/trumpnetwork.net'},\n",
       " {u'rssfeeds.usatoday.com/~/258538642/0/usatoday-newstopstories~pence-russia-story-is-distraction-attempt-to-delegitimize-trump'},\n",
       " {u'rssfeeds.usatoday.com/~/265828102/0/usatoday-newstopstories~syrian-refugee-to-trump-on-twitter-am-i-a-terrorist'},\n",
       " {u'africasacountry.com/tag/trump'},\n",
       " {u'wwaytv3.com/news-tags/trump-aide-plagiarism'},\n",
       " {u'rssfeeds.usatoday.com/~/265379176/0/usatoday-newstopstories~trump-pledges-fewer-regulations-more-competition-for-drug-makers'},\n",
       " {u'who.is/whois/trumpmustgo.com'},\n",
       " {u'sportingnews.com/nfl/news/robert-kraft-vladimir-putin-stolen-super-bowl-ring-president-donald-trump-russia-patriots/b2evp1pwgl6m19d1ywsqxm92d'},\n",
       " {u'memphisdailynews.com/search/search.aspx?redir=1&fn=&ln=trump+entrepreneur+initiative'},\n",
       " {u'lightreading.com/business-employment/jobs/ibms-rometty-announces-25000-new-collar-us-jobs-ahead-of-trump-meeting/d/d-id/728974'},\n",
       " {u'topix.com/member/profile/therealdonaldtrump'},\n",
       " {u'theguardian.com/film/2016/oct/11/wendi-deng-murdoch-rupert-trump-sky-ladder-art-of-cai-guo-qiang'},\n",
       " {u'dailynorthwestern.com/tag/donnie-trumpet-the-social-experiment'},\n",
       " {u'mypalmbeachpost.com/news/local-govt--politics/palm-beach-county-aviation-head-trump-flight-limits-will-hurt-airport/uszxscgrea13h80bct3u6n'},\n",
       " {u'wwd.com/eye/people/melania-trump-alice-roi-fashion-designer-collaboration-national-prayer-service-trump-inauguration-weekend-10763002'},\n",
       " {u'http://www.lbc.co.uk/radio/presenters/nigel-farage/somalian-man-tells-farage-trump-too-liberal/'},\n",
       " {u'http://www.lbc.co.uk/radio/presenters/ian-collins/ian-collins-nauseous-over-trump-protest-in-london/'},\n",
       " {u'rssfeeds.usatoday.com/~/266272468/0/usatoday-newstopstories~trump-vows-to-overturn-ban-on-political-activity-by-churches'},\n",
       " {u'espn.com/golf/story/_/id/7660286/donald-trump-plans-200-million-investment-doral-golf-resort'},\n",
       " {u'sfgate.com/search/?action=search&channel=news&inlinelink=1&searchindex=solr&query=%22donald+trump%22'},\n",
       " {u'http://www.milenio.com/negocios/carlos_slim-donald_trump-muro-mexico-mensaje-conferencia_0_892110880.html'},\n",
       " {u'arktimes.com/arkansas/articlearchives?tag=donald%20trump%20lies'},\n",
       " {u'dr.dk/nyheder/politik/ekspert-om-loekkes-skarpe-trump-kritik-et-markant-brud-med-danmarks-udenrigskurs'},\n",
       " {u'msn.com/en-us/money/other/tyra-banks-and-jessica-alba-distance-their-brands-from-trump/vp-aamjq73'},\n",
       " {u'play.google.com/store/apps/details?id=kwang.won.com.boycotttrump&hl=en'},\n",
       " {u'lightreading.com/regulation/trump-and-tech-round-1/d/d-id/730131'},\n",
       " {u'russia-insider.com/en/top-american-journalists-weigh-churkin-knew-too-much-recruited-trump-ussr/ri18995'},\n",
       " {u'boiseweekly.com/boise/articlearchives?tag=donald%20trump%7c%7cstanding%20rock%7c%7cdapl%7c%7cboise%20police%20department%7c%7cbpd%7c%7crobbery%7c%7charrison%20ford%7c%7clake%20pend%20oreille%7c%7clong%20bridge%7c%7cbonner%20county%20daily%20bee'},\n",
       " {u'russia-insider.com/en/have-russians-given-trump/ri19207'},\n",
       " {u'readersupportednews.org/opinion2/277-75/43164-trumps-worst-week-yet'},\n",
       " {u'breitbart.com/tag/donald-trump-taxes'},\n",
       " {u'breitbart.com/tag/trump-family'},\n",
       " {u'thesuperficial.com/photos/the-crap-we-missed-tuesday-3-14-17/us-politics-trump-healthcare'},\n",
       " {u'lbc.co.uk/radio/presenters/shelagh-fogarty/reporter-trump-in-conference-defends-president'},\n",
       " {u'who.is/whois/trumpspeedway.com'},\n",
       " {u'hosted2.ap.org/apdefault/89ae8247abe8493fae24405546e9a1aa/article_2017-02-21-us-trump-jews/id-6ad075bb023644b980cdbd40b07a173c'},\n",
       " {u'boiseweekly.com/boise/articlearchives?tag=unemployment%7c%7cdonald%20trump%7c%7cdodd-frank%7c%7cidaho%20legislature%7c%7clouvre%7c%7csuper%20bowl%7c%7cshea%20mclellin%7c%7cpotato%20chips'},\n",
       " {u'krmg.com/news/news/national/7-things-know-now-trump-putin-talk-march-life-cous/ntdgp/news/cousins-get-life-terms-1973-shotgun-slayings-girls/8mgyowwoglqmpo060dl5xl'},\n",
       " {u'wwaytv3.com/news-tags/donald-trump-waxwork'},\n",
       " {u'http://www.milenio.com/negocios/ohl-inversiones_mexico-donald_trump-comercio-tlcan-carreteras-milenio_0_891511247.html'},\n",
       " {u'variety.com/t/trumped'},\n",
       " {u'aftonbladet.se/nyheter/a/blpg9/chris-oneill-dissar-trump-skamlig?eav=7f4973978511c4ec2a3f0e78594e2b432d5d35c3'},\n",
       " {u'wgnradio.com/tag/donald-trump-campaign'},\n",
       " {u'who.is/whois/trumpvodkasucks.com'},\n",
       " {u'dr.dk/nyheder/udland/korrespondent-om-trumps-mur-hans-vaelgere-jubler-mens-immigranterne-er-frustrerede'},\n",
       " {u'texasmonthly.com/tag/trump-texas'},\n",
       " {u'financialexpress.com/market/south-korean-won-stocks-recoil-after-trump-threatens-to-scrap-trade-deal/645497'},\n",
       " {u'en.wikipedia.org/wiki/mary_anne_macleod_trump'},\n",
       " {u'identitytheory.com/tag/trump-train'},\n",
       " {u'rssfeeds.usatoday.com/~/299870900/0/usatoday-newstopstories~in-gettysburg-speech-trump-made-days-of-promises-did-he-keep-them'},\n",
       " {u'msn.com/en-us/money/companies/companies-plow-ahead-with-moves-to-mexico-despite-trumps-pressure/ar-aamjq9a'},\n",
       " {u'tomatonation.com/tag/shut-up-trump'},\n",
       " {u'wwaytv3.com/news-tags/meryl-streep-trump'},\n",
       " {u'crunchbase.com/person/donald-trump'},\n",
       " {u'lightreading.com/security/cloud-security/eurobites-trump-wont-trash-privacy-shield-us-officials-predict/d/d-id/728231'},\n",
       " {u'http://www.lbc.co.uk/radio/presenters/nigel-farage/farage-hails-trump-over-ttp-withdrawal/'},\n",
       " {u'es.wikipedia.org/wiki/donald_trump'},\n",
       " {u'http://images1.phoenixnewtimes.com/imager/u/original/9017161/jr-trumpart-douglasmiles.jpeg'},\n",
       " {u'sports.yahoo.com/nhl/blog/puck_daddy/post/making-case-for-stanley-cup-playoffs-trumping-nb;_ylt=akh5ohzyu6dqwpxcxdooz6f7vlyf?urn=nhl,235371'},\n",
       " {u'upi.com/top_news/us/2017/01/27/trump-signs-orders-to-beef-up-military-toughen-visa-checks-for-refugees/7421485554495'},\n",
       " {u'dailycollegian.com/tag/coalition-to-resist-trumps-policies-at-umass'},\n",
       " {u'wwd.com/fashion-news/fashion-scoops/president-bush-trump-clinton-election-fashion-10540292'},\n",
       " {u'kcrw.com/news-culture/shows/to-the-point/big-trouble-in-little-qatar-as-diplomatic-crisis-grows/trump-claims-doj-investigating-him'},\n",
       " {u'who.is/whois/trumpbaja.com'},\n",
       " {u'lightreading.com/services/mobile-services/t-mobile-cfo-on-trump-expect-more-consolidation-and-more-competition/d/d-id/728769'},\n",
       " {u'news965.com/news/news/national/donald-trumps-transition-latest-news/ntcb6'},\n",
       " {u'play.google.com/store/apps/details?id=com.berrybongobrother.donaldtrumpsoundboard&hl=en'},\n",
       " {u'marieclaire.com/celebrity/news/a25250/sophie-turner-burned-donald-trump-and-melania-with-one-savage-tweet'},\n",
       " {u'theringer.com/donald-trump-sports-radio-colin-cowherd-mike-francesa-190a7f57a543#.g5cz784mc'},\n",
       " {u'latinpost.com/tags/neopalpa-donaldtrumpi'},\n",
       " {u'msn.com/en-us/tv/news/chelsea-handler-wont-interview-melania-trump/ar-aambycv?li=bbnb7kz&ocid=iehp'},\n",
       " {u'http://wwd.com/fashion-news/fashion-scoops/melania-trump-inauguration-wearing-ralph-lauren-10756855/'},\n",
       " {u'hollywoodlife.com/celeb/ivanka-trump'},\n",
       " {u'krmg.com/news/news/national/7-things-know-now-winter-storm-closings-sessions-c/nth5c/news/dem-senator-court-pick-calls-trump-words-demoralizing/vkngfed8sk7ry6xybxsnal'},\n",
       " {u'who.is/whois/ilovedonaldtrump.com'},\n",
       " {u'hindustantimes.com/photos/world-news/the-work-begins-donald-trump-becomes-45th-president-of-united-states/photo-ry8rwerqvvlsoo3ozvppdi.html'},\n",
       " {u'hosted2.ap.org/apdefault/3d281c11a96b4ad082fe88aa0db04305/article_2017-01-26-us--trump-immigration-on%20the%20border/id-029355ca5c934051b0a47080b729aaee'},\n",
       " {u'wgnradio.com/tag/president-trumps-travel-ban'},\n",
       " {u'startribune.com/eric-trump-calls-father-s-critics-not-even-people/426972111'},\n",
       " {u'observer.com/2017/06/donald-trump-russian-espionage/the%2520diplomats,%2520widely%2520assumed%2520to%2520be%2520intelligence%2520operatives,%2520would%2520eventually%2520turn%2520up%2520in%2520odd%2520places,%2520often%2520in%2520middle-of-nowhere%2520usa.%2520one%2520was%2520found%2520on%2520a%2520beach,%2520nowhere%2520near%2520where%2520he%2520was%2520supposed%2520to%2520be.%2520in%2520one%2520particularly%2520bizarre%2520case,%2520relayed%2520by%2520a%2520u.s.%2520intelligence%2520official,%2520another%2520turned%2520up%2520wandering%2520around%2520in%2520the%2520middle%2520of%2520the%2520desert.%2520interestingly,%2520both%2520seemed%2520to%2520be%2520lingering%2520where%2520underground%2520fiber-optic%2520cables%2520tend%2520to%2520run.'},\n",
       " {u'palmbeachpost.com/news/see-what-was-the-menu-donald-trump-christmas-dinner/9zbshdgz1umtcsbmtyarel'},\n",
       " {u'who.is/whois/trumpcard.com'},\n",
       " {u'msn.com/en-us/news/politics/analysis-trump-just-made-some-very-strange-comments-about-stephen-k-bannon/ar-bbzjuuo?li=bbmkt5r&ocid=spartandhp'},\n",
       " {u'lightreading.com/net-neutrality/trump-win-will-reshape-fcc-/d/d-id/728197'},\n",
       " {u'worldtribune.com/tag/trump-immigraton-order'},\n",
       " {u'krmg.com/list/news/national/donald-trump-inauguration/anm8'},\n",
       " {u'herald.ng/tag/trump-rally'},\n",
       " {u'economictimes.indiatimes.com/nri/visa-and-immigration/trumps-h-1b-policy-sends-shock-waves-across-companies/articleshow/58002939.cms'},\n",
       " {u'belk.com/search/search_results.jsp?zz_st=ivanka%20trump&zz%3c%3etp=4294923540&zz%3c%3et=ivanka%20trump&folder%3c%3efolder_id=1408474395191292'},\n",
       " {u'deadline.com/tag/trump-it-happened-here'},\n",
       " {u'dn.se/nyheter/varlden/trumps-svar-jag-sag-det-pa-teve'},\n",
       " {u'http://www.lbc.co.uk/radio/presenters/nigel-farage/nigel-farage-trade-deal-trump-usa-eu/'},\n",
       " {u'rssfeeds.usatoday.com/~/278057514/0/usatoday-newstopstories~us-slips-to-seventh-best-country-in-the-world-after-trump-election-switzerland-tops-the-list'},\n",
       " {u'http://www.milenio.com/negocios/honda-inversion-operaciones-mexico-trump-aranceles-importaciones-milenio-noticias_0_896310404.html'},\n",
       " {u'who.is/whois/trumpmortgage.biz'}]"
      ]
     },
     "execution_count": 81,
     "metadata": {},
     "output_type": "execute_result"
    }
   ],
   "source": [
    "[srcs for t, srcs in sorted(sources_by_target.iteritems(),key=lambda (k,v):len(v), reverse=True) if 'trump' in t and not 'see-sweeping' in t]"
   ]
  },
  {
   "cell_type": "code",
   "execution_count": null,
   "metadata": {},
   "outputs": [],
   "source": []
  },
  {
   "cell_type": "code",
   "execution_count": 464,
   "metadata": {},
   "outputs": [
    {
     "data": {
      "text/plain": [
       "{u'abcnews.go.com/topics/news/donald-trump.htm',\n",
       " u'aurorasentinel.com/tag/president-donald-trump',\n",
       " u'blackamericaweb.com/tag/steve-bannon',\n",
       " u'boiseweekly.com/boise/articlearchives?tag=president%20donald%20trump',\n",
       " u'dailyegyptian.com/tag/donald-john-trump',\n",
       " u'economictimes.indiatimes.com/topic/us-president-donald-trump',\n",
       " u'electronicintifada.net/tags/muslim-ban',\n",
       " u'glamour.com/about/donald-trump',\n",
       " u'globalvillageextra.com/en/index.php/tag/president-donald-trump',\n",
       " u'golfdigest.com/topic/donald-trump',\n",
       " u'haaretz.com/misc/tags/tags-1.679173',\n",
       " u'herald.ng/tag/muslim-ban',\n",
       " u'independent.co.uk/topic/donaldtrump',\n",
       " u'justjared.com/tags/president-donald-trump',\n",
       " u'ksfm.cbslocal.com/tag/president-donald-trump',\n",
       " u'marquettewire.org/tag/president-donald-trump',\n",
       " u'mashable.com/category/donald-trump',\n",
       " u'mirror.co.uk/all-about/donald-trump-muslim-ban',\n",
       " u'newsone.com/tag/donald-trump',\n",
       " u'newsx.com/tags/donald-trump',\n",
       " u'pagesix.com/tag/president-donald-trump',\n",
       " u'people.com/people/news/category/0,,personstax:donaldtrump,00.html',\n",
       " u'self.com/tag/donald-trump',\n",
       " u'self.com/topic/donald-trump',\n",
       " u'thedailybeast.com/keyword/donald-trump',\n",
       " u'usmagazine.com/celebrities/donald-trump',\n",
       " u'walesonline.co.uk/all-about/donald-trump',\n",
       " u'wwaytv3.com/news-tags/president-donald-trump'}"
      ]
     },
     "execution_count": 464,
     "metadata": {},
     "output_type": "execute_result"
    }
   ],
   "source": [
    "sources_by_target[redirects['blackamericaweb.com/tag/steve-bannon']]"
   ]
  },
  {
   "cell_type": "code",
   "execution_count": 264,
   "metadata": {},
   "outputs": [
    {
     "data": {
      "text/plain": [
       "True"
      ]
     },
     "execution_count": 264,
     "metadata": {},
     "output_type": "execute_result"
    }
   ],
   "source": [
    "x, y = redirects['radiofreemoscow.org/tag/donald-trump'], redirects['nytimes.com/topic/person/donald-trump']\n",
    "key = (x, y) if x < y else (y, x)\n",
    "key in decided_pairs"
   ]
  },
  {
   "cell_type": "code",
   "execution_count": 163,
   "metadata": {},
   "outputs": [
    {
     "data": {
      "text/plain": [
       "{u'breitbart.com/tag/trump'}"
      ]
     },
     "execution_count": 163,
     "metadata": {},
     "output_type": "execute_result"
    }
   ],
   "source": [
    "sources_by_target[redirects['breitbart.com/tag/trump']]"
   ]
  },
  {
   "cell_type": "code",
   "execution_count": 271,
   "metadata": {},
   "outputs": [
    {
     "data": {
      "text/plain": [
       "{u'agcanada.com/tag/european-union',\n",
       " u'aljazeera.com/topics/organisations/european-union.html',\n",
       " u'arktimes.com/arkansas/articlearchives?tag=trump%20white%20house',\n",
       " u'aurorasentinel.com/tag/president-donald-trump',\n",
       " u'baltimoresun.com/topic/business/economy/european-union-orgov000067-topic.html',\n",
       " u'birminghammail.co.uk/all-about/european-union',\n",
       " u'blackamericaweb.com/tag/donald-trump',\n",
       " u'breitbart.com/tag/european-union',\n",
       " u'calvinayre.com/tag/donald-trump',\n",
       " u'capitalgazette.com/topic/politics-government/government/white-house-plcul000110-topic.html',\n",
       " u'carrollcountytimes.com/topic/politics-government/government/white-house-plcul000110-topic.html',\n",
       " u'chicagotribune.com/topic/business/economy/european-union-orgov000067-topic.html',\n",
       " u'chron.com/search/?action=search&channel=news%2fmedical&inlinelink=1&searchindex=gsa&query=%22trump+white+house%22',\n",
       " u'citypaper.com/topic/politics-government/donald-trump-pebsl000163-topic.html',\n",
       " u'courant.com/topic/business/economy/european-union-orgov000067-topic.html',\n",
       " u'dailycollegian.com/tag/president-donald-trump',\n",
       " u'deadline.com/tag/donald-trump',\n",
       " u'economictimes.indiatimes.com/topic/trump-white-house',\n",
       " u'electronicintifada.net/tags/donald-trump',\n",
       " u'france24.com/en/tag/european-union',\n",
       " u'glamourmagazine.co.uk/person/donald-trump',\n",
       " u'herald.ng/tag/european-union',\n",
       " u'independent.co.uk/topic/white-house',\n",
       " u'mcall.com/topic/business/economy/european-union-orgov000067-topic.html',\n",
       " u'mtv.com/news/personality/donald-trump',\n",
       " u'newyork.cbslocal.com/tag/donald-trump',\n",
       " u'pagesix.com/tag/president-donald-trump',\n",
       " u'pittsburgh.cbslocal.com/tag/donald-trump',\n",
       " u'radiofreemoscow.org/tag/donald-trump',\n",
       " u'self.com/tag/donald-trump',\n",
       " u'sputniknews.com/tags/tag_donald_trump',\n",
       " u'thedailybeast.com/keyword/trump-administration',\n",
       " u'thedailycougar.com/tag/donald-j-trump',\n",
       " u'theeagleonline.com.ng/tag/president-donald-trump',\n",
       " u'timesofindia.indiatimes.com/topic/white-house',\n",
       " u'washingtontimes.com/topics/european-union',\n",
       " u'wmagazine.com/topic/donald-trump'}"
      ]
     },
     "execution_count": 271,
     "metadata": {},
     "output_type": "execute_result"
    }
   ],
   "source": [
    "sources_by_target[redirects['radiofreemoscow.org/tag/donald-trump']]"
   ]
  },
  {
   "cell_type": "code",
   "execution_count": 270,
   "metadata": {},
   "outputs": [
    {
     "data": {
      "text/plain": [
       "{u'aurorasentinel.com/tag/president-trump',\n",
       " u'blackamericaweb.com/tag/president-trump',\n",
       " u'breitbart.com/tag/president-trump',\n",
       " u'dailycollegian.com/tag/president-trump',\n",
       " u'economictimes.indiatimes.com/topic/president-trump',\n",
       " u'herald.ng/tag/president-trump',\n",
       " u'krebsonsecurity.com/tag/president-trump',\n",
       " u'ksfm.cbslocal.com/tag/president-trump',\n",
       " u'northcoastjournal.com/humboldt/articlearchives?tag=president%20trump',\n",
       " u'nytimes.com/topic/person/donald-trump',\n",
       " u'orlandoweekly.com/orlando/articlearchives?tag=president%20trump',\n",
       " u'phillymag.com/tag/president-trump',\n",
       " u'rejournals.com/tag/president-trump',\n",
       " u'southflorida.com/topic/politics-government/donald-trump-pebsl000163-topic.html',\n",
       " u'thedailycougar.com/tag/president-trump',\n",
       " u'thefader.com/artist/donald-trump',\n",
       " u'universe.byu.edu/tag/president-trump',\n",
       " u'washingtontimes.com/topics/president-trump',\n",
       " u'wdef.com/tag/president-trump',\n",
       " u'wgnradio.com/tag/president-trump',\n",
       " u'wzdm.com/tag/president-trump',\n",
       " u'wzlx.cbslocal.com/tag/president-trump',\n",
       " u'yahoo.com/style/tagged/president-donald-trump'}"
      ]
     },
     "execution_count": 270,
     "metadata": {},
     "output_type": "execute_result"
    }
   ],
   "source": [
    "sources_by_target[redirects['nytimes.com/topic/person/donald-trump']]"
   ]
  },
  {
   "cell_type": "code",
   "execution_count": 161,
   "metadata": {},
   "outputs": [
    {
     "data": {
      "text/plain": [
       "u'thefader.com/artist/donald-trump'"
      ]
     },
     "execution_count": 161,
     "metadata": {},
     "output_type": "execute_result"
    }
   ],
   "source": [
    "redirects['nytimes.com/topic/person/donald-trump']"
   ]
  },
  {
   "cell_type": "code",
   "execution_count": 160,
   "metadata": {},
   "outputs": [
    {
     "data": {
      "text/plain": [
       "{u'breitbart.com/tag/melania-trump',\n",
       " u'capitalgazette.com/topic/politics-government/melania-trump-pcelb00150-topic.html',\n",
       " u'carrollcountytimes.com/topic/politics-government/melania-trump-pcelb00150-topic.html',\n",
       " u'chicagotribune.com/topic/melania-trump/pcelb00150-topic.html',\n",
       " u'dailypress.com/topic/melania-trump/pcelb00150-topic.html',\n",
       " u'economictimes.indiatimes.com/topic/melania-trump',\n",
       " u'mashable.com/category/melania-trump',\n",
       " u'mcall.com/topic/politics-government/melania-trump-pcelb00150-topic.html'}"
      ]
     },
     "execution_count": 160,
     "metadata": {},
     "output_type": "execute_result"
    }
   ],
   "source": [
    "sources_by_target[redirects['breitbart.com/tag/melania-trump']]"
   ]
  },
  {
   "cell_type": "code",
   "execution_count": 159,
   "metadata": {},
   "outputs": [
    {
     "data": {
      "text/plain": [
       "{u'breitbart.com/tag/ivanka-trump'}"
      ]
     },
     "execution_count": 159,
     "metadata": {},
     "output_type": "execute_result"
    }
   ],
   "source": [
    "sources_by_target[redirects['breitbart.com/tag/ivanka-trump']]"
   ]
  },
  {
   "cell_type": "code",
   "execution_count": 157,
   "metadata": {},
   "outputs": [
    {
     "data": {
      "text/plain": [
       "{u'bisnow.com/tags/trump-tower',\n",
       " u'breitbart.com/tag/trump-tower',\n",
       " u'dailycollegian.com/tag/trump-tower',\n",
       " u'gaycitynews.nyc/tag/trump-tower',\n",
       " u'thedailybeast.com/content/dailybeast/topics/trump-tower.html',\n",
       " u'torontoist.com/tag/trump-tower',\n",
       " u'yahoo.com/celebrity/tagged/trump-tower'}"
      ]
     },
     "execution_count": 157,
     "metadata": {},
     "output_type": "execute_result"
    }
   ],
   "source": [
    "sources_by_target[redirects['breitbart.com/tag/trump-tower']]"
   ]
  },
  {
   "cell_type": "code",
   "execution_count": 156,
   "metadata": {},
   "outputs": [
    {
     "data": {
      "text/plain": [
       "{u'thehill.com/people/hillary-clinton'}"
      ]
     },
     "execution_count": 156,
     "metadata": {},
     "output_type": "execute_result"
    }
   ],
   "source": [
    "sources_by_target[redirects['thehill.com/people/hillary-clinton']]"
   ]
  },
  {
   "cell_type": "code",
   "execution_count": 155,
   "metadata": {},
   "outputs": [
    {
     "data": {
      "text/plain": [
       "{u'chicagotribune.com/topic/sports/tennis/andrea-petkovic-pespt000009196-topic.html',\n",
       " u'economictimes.indiatimes.com/topic/andrea-petkovic',\n",
       " u'espn.com/sports/tennis/players/profile?playerid=735',\n",
       " u'mirror.co.uk/all-about/andrea-petkovic',\n",
       " u'sports.yahoo.com/olympics/rio-2016/a/1126203'}"
      ]
     },
     "execution_count": 155,
     "metadata": {},
     "output_type": "execute_result"
    }
   ],
   "source": [
    "sources_by_target[redirects['espn.com/sports/tennis/players/profile?playerid=735']]"
   ]
  },
  {
   "cell_type": "code",
   "execution_count": 154,
   "metadata": {},
   "outputs": [
    {
     "data": {
      "text/plain": [
       "{u'globalgrind.cassuislife.com/tag/kanye-west',\n",
       " u'indiewire.com/t/kanye-west',\n",
       " u'ksfm.cbslocal.com/tag/kanye-kardashian',\n",
       " u'metacritic.com/person/kanye-west?filter-options=music',\n",
       " u'ok.co.uk/search/kanye%20west',\n",
       " u'power92chicago.com/tag/kanye-west',\n",
       " u'radaronline.com/tag/kanye-west',\n",
       " u'teenvogue.com/tag/kanye-west',\n",
       " u'thesuperficial.com/tag/kanye-west',\n",
       " u'wwd.com/tag/kanye-west'}"
      ]
     },
     "execution_count": 154,
     "metadata": {},
     "output_type": "execute_result"
    }
   ],
   "source": [
    "sources_by_target[redirects['globalgrind.cassuislife.com/tag/kanye-west']]"
   ]
  },
  {
   "cell_type": "code",
   "execution_count": 153,
   "metadata": {},
   "outputs": [
    {
     "data": {
      "text/plain": [
       "{u'allure.com/topic/jessica-alba',\n",
       " u'broadwayworld.com/people/jessica-alba',\n",
       " u'chicagotribune.com/topic/entertainment/movies/jessica-alba-peclb000042-topic.html',\n",
       " u'contactmusic.com/jessica-alba',\n",
       " u'en.wikipedia.org/wiki/jessica_alba',\n",
       " u'eonline.com/au/news/jessica_alba',\n",
       " u'forbes.com/profile/jessica-alba',\n",
       " u'glamour.com/about/jessica-alba',\n",
       " u'hollywoodlife.com/tag/jessica-alba',\n",
       " u'imdb.com/name/nm0004695/?ref_=nv_sr_1',\n",
       " u'indiewire.com/t/jessica-alba',\n",
       " u'justjared.com/tags/jessica-alba',\n",
       " u'latinpost.com/tags/jessica-alba',\n",
       " u'macdailynews.com/tag/jessica-alba',\n",
       " u'nypost.com/tag/jessica-alba',\n",
       " u'self.com/topic/jessica-alba',\n",
       " u'tmz.com/person/jessica-alba',\n",
       " u'topix.com/who/jessica-alba',\n",
       " u'vanityfair.com/people/jessica-alba#intcid=dt-hot-link',\n",
       " u'vogue.com/tag/celebrity/jessica-alba',\n",
       " u'wwd.com/tag/jessica-alba',\n",
       " u'yahoo.com/celebrity/tagged/jessica-alba'}"
      ]
     },
     "execution_count": 153,
     "metadata": {},
     "output_type": "execute_result"
    }
   ],
   "source": [
    "sources_by_target[redirects['glamour.com/about/jessica-alba']]"
   ]
  },
  {
   "cell_type": "code",
   "execution_count": null,
   "metadata": {
    "collapsed": true
   },
   "outputs": [],
   "source": []
  },
  {
   "cell_type": "code",
   "execution_count": null,
   "metadata": {
    "collapsed": true
   },
   "outputs": [],
   "source": []
  },
  {
   "cell_type": "code",
   "execution_count": 876,
   "metadata": {},
   "outputs": [],
   "source": []
  },
  {
   "cell_type": "code",
   "execution_count": null,
   "metadata": {
    "collapsed": true
   },
   "outputs": [],
   "source": []
  },
  {
   "cell_type": "code",
   "execution_count": null,
   "metadata": {
    "collapsed": true
   },
   "outputs": [],
   "source": []
  },
  {
   "cell_type": "code",
   "execution_count": null,
   "metadata": {
    "collapsed": true
   },
   "outputs": [],
   "source": []
  },
  {
   "cell_type": "code",
   "execution_count": null,
   "metadata": {
    "collapsed": true
   },
   "outputs": [],
   "source": []
  },
  {
   "cell_type": "code",
   "execution_count": 38,
   "metadata": {
    "collapsed": true
   },
   "outputs": [],
   "source": [
    "target_anchors = dict(anchor_target_pairs\\\n",
    "    .map(lambda (k, v): (v, k))\\\n",
    "    .groupByKey()\\\n",
    "    .mapValues(list)\\\n",
    "    .collect())"
   ]
  },
  {
   "cell_type": "code",
   "execution_count": 62,
   "metadata": {
    "collapsed": true
   },
   "outputs": [],
   "source": [
    "anchor_targets_rdd = anchor_target_pairs.groupByKey().mapValues(list).coalesce(128).cache()"
   ]
  },
  {
   "cell_type": "code",
   "execution_count": 67,
   "metadata": {
    "collapsed": true
   },
   "outputs": [],
   "source": [
    "target_anchors_rdd = anchor_target_pairs.map(lambda (k, v): (v, k)).groupByKey().mapValues(list).coalesce(128).cache()"
   ]
  },
  {
   "cell_type": "code",
   "execution_count": 95,
   "metadata": {},
   "outputs": [],
   "source": []
  },
  {
   "cell_type": "code",
   "execution_count": 100,
   "metadata": {},
   "outputs": [
    {
     "data": {
      "text/plain": [
       "160"
      ]
     },
     "execution_count": 100,
     "metadata": {},
     "output_type": "execute_result"
    }
   ],
   "source": [
    "len(anchor_targets['trump'])"
   ]
  },
  {
   "cell_type": "code",
   "execution_count": 101,
   "metadata": {},
   "outputs": [
    {
     "data": {
      "text/plain": [
       "383"
      ]
     },
     "execution_count": 101,
     "metadata": {},
     "output_type": "execute_result"
    }
   ],
   "source": [
    "len(anchor_targets['donald trump'])"
   ]
  },
  {
   "cell_type": "code",
   "execution_count": 182,
   "metadata": {},
   "outputs": [
    {
     "data": {
      "text/plain": [
       "{u'41nbc.com/tag/trump',\n",
       " u'africasacountry.com/tag/trump',\n",
       " u'agcanada.com/tag/trump',\n",
       " u'arktimes.com/arkansas/articlearchives?tag=trump',\n",
       " u'aurorasentinel.com/tag/trump',\n",
       " u'baltimoresun.com/topic/business/ivanka-trump-peclb00000010046-topic.html',\n",
       " u'bankerandtradesman.com/tag/trump',\n",
       " u'breitbart.com/tag/trump',\n",
       " u'capitalgazette.com/topic/business/ivanka-trump-peclb00000010046-topic.html',\n",
       " u'carrollcountytimes.com/topic/business/ivanka-trump-peclb00000010046-topic.html',\n",
       " u'cccadvocate.com/tag/trump',\n",
       " u'chicagotribune.com/topic/business/ivanka-trump-peclb00000010046-topic.html',\n",
       " u'christianitytoday.com/ct/topics/d/donald-trump',\n",
       " u'citynews.com.au/tag/trump',\n",
       " u'collegian.com/tag/trump',\n",
       " u'commercialrecord.com/tag/trump',\n",
       " u'courant.com/topic/business/ivanka-trump-peclb00000010046-topic.html',\n",
       " u'csindy.com/coloradosprings/articlearchives?tag=trump',\n",
       " u'dailycollegian.com/tag/trump',\n",
       " u'dailyegyptian.com/tag/trump',\n",
       " u'dallasvoice.com/tag/trump',\n",
       " u'darkroom.baltimoresun.com/tag/trump',\n",
       " u'deconstructingdoctor.com/tag/trump',\n",
       " u'easterneronline.com/tag/trump',\n",
       " u'economictimes.indiatimes.com/topic/trump',\n",
       " u'flatheadbeacon.com/tag/trump',\n",
       " u'gadgets.ndtv.com/tags/trump',\n",
       " u'gq.com/about/donald-trump',\n",
       " u'haaretz.com/misc/tags/donald%20trump-1.679173',\n",
       " u'herald.ng/tag/trump',\n",
       " u'hilite.org/tag/trump',\n",
       " u'independent.co.uk/topic/ivanka-trump',\n",
       " u'indiewire.com/t/trump',\n",
       " u'indyweek.com/indyweek/articlearchives?tag=trump',\n",
       " u'inlander.com/spokane/articlearchives?tag=trump',\n",
       " u'krai.com/tag/trump',\n",
       " u'landscapearchitecturemagazine.org/tag/trump',\n",
       " u'latimes.com/topic/business/ivanka-trump-peclb00000010046-topic.html',\n",
       " u'mancunion.com/tag/trump',\n",
       " u'marquettewire.org/tag/trump',\n",
       " u'mcall.com/topic/business/ivanka-trump-peclb00000010046-topic.html',\n",
       " u'metrotimes.com/detroit/articlearchives?tag=trump',\n",
       " u'mirror.co.uk/all-about/ivanka-trump',\n",
       " u'mirror.co.uk/all-about/sandi-toksvig',\n",
       " u'mirror.co.uk/all-about/theresa-may',\n",
       " u'mix1041.cbslocal.com/tag/trump',\n",
       " u'mynegm.com/tag/trump',\n",
       " u'nationnews.ca/tag/trump',\n",
       " u'news.antiwar.com/tag/trump',\n",
       " u'newsinfo.inquirer.net/tag/trump',\n",
       " u'newswise.com/search/advanced/?search[tag]=trump',\n",
       " u'ninertimes.com/tag/trump',\n",
       " u'oneindia.com/topic/trump',\n",
       " u'orlandosentinel.com/topic/business/ivanka-trump-peclb00000010046-topic.html',\n",
       " u'orlandoweekly.com/orlando/articlearchives?tag=trump',\n",
       " u'outlookindia.com/newsscroll/topic/trump/9587',\n",
       " u'outsmartmagazine.com/tag/trump',\n",
       " u'pepperdine-graphic.com/tag/trump',\n",
       " u'power92chicago.com/tag/trump',\n",
       " u'rep-am.com/topics/trump',\n",
       " u'sandiegouniontribune.com/topic/business/ivanka-trump-peclb00000010046-topic.html',\n",
       " u'seattlepi.com/search/?action=search&channel=local%2fpolitics&inlinelink=1&searchindex=gsa&query=%22trump%22',\n",
       " u'seattlepi.com/search/?action=search&channel=local%2fpolitics&inlinelink=1&searchindex=solr&query=%22trump%22',\n",
       " u'seattlepi.com/search/?action=search&channel=local&inlinelink=1&searchindex=gsa&query=%22trump%22',\n",
       " u'sfgate.com/search/?action=search&channel=sports&inlinelink=1&searchindex=gsa&query=%22donald+trump%22',\n",
       " u'socialistparty.org.uk/keyword/trump',\n",
       " u'sun-sentinel.com/topic/business/ivanka-trump-peclb00000010046-topic.html',\n",
       " u'texasmonthly.com/tag/trump',\n",
       " u'thebeaverton.com/tag/trump',\n",
       " u'thedailycougar.com/tag/trump',\n",
       " u'thefword.org.uk/tag/trump',\n",
       " u'thehill.com/person/trump',\n",
       " u'theinternationalreporter.org/tag/trump',\n",
       " u'timesofindia.indiatimes.com/topic/trump',\n",
       " u'universetoday.com/tag/trump',\n",
       " u'uprootedpalestinians.wordpress.com/category/america/usa/trump',\n",
       " u'variety.com/t/trump',\n",
       " u'walesonline.co.uk/all-about/donald-trumphttp-wwwwalesonlinecouk-all-about-donald-trump',\n",
       " u'walesonline.co.uk/all-about/us-presidential-elections',\n",
       " u'washingtontimes.com/topics/barron-trump',\n",
       " u'washingtontimes.com/topics/donald-trump-jr',\n",
       " u'washingtontimes.com/topics/ivanka-trump',\n",
       " u'washingtontimes.com/topics/melania-trump',\n",
       " u'washingtontimes.com/topics/trump',\n",
       " u'washingtontimes.com/topics/trump-hotels',\n",
       " u'washingtontimes.com/topics/trump-pentagon',\n",
       " u'washingtontimes.com/topics/trump-tower',\n",
       " u'washingtontimes.com/topics/trump-university',\n",
       " u'wdef.com/tag/trump',\n",
       " u'wgnradio.com/tag/trump',\n",
       " u'wired.com/tag/trump',\n",
       " u'wmnf.org/tag/trump',\n",
       " u'wqlz.com/tag/trump',\n",
       " u'wtvq.com/tag/trump',\n",
       " u'wwaytv3.com/news-tags/trump',\n",
       " u'wwd.com/business-news/government-trade/day-of-the-titans-trump-meets-arnault-jack-ma-10743073',\n",
       " u'youtube.com/user/trumpsc'}"
      ]
     },
     "execution_count": 182,
     "metadata": {},
     "output_type": "execute_result"
    }
   ],
   "source": [
    "set(anchor_targets['trump']) - set(anchor_targets['donald trump'])"
   ]
  },
  {
   "cell_type": "code",
   "execution_count": 171,
   "metadata": {},
   "outputs": [
    {
     "data": {
      "text/plain": [
       "957573"
      ]
     },
     "execution_count": 171,
     "metadata": {},
     "output_type": "execute_result"
    }
   ],
   "source": [
    "anchor_target_pairs.map(lambda (k, v): v).distinct().count()"
   ]
  },
  {
   "cell_type": "code",
   "execution_count": null,
   "metadata": {
    "collapsed": true
   },
   "outputs": [],
   "source": [
    "a -> b\n",
    "a -> d\n",
    "\n",
    "b -> c"
   ]
  },
  {
   "cell_type": "code",
   "execution_count": 195,
   "metadata": {},
   "outputs": [],
   "source": [
    "from itertools import combinations"
   ]
  },
  {
   "cell_type": "code",
   "execution_count": 196,
   "metadata": {
    "collapsed": true
   },
   "outputs": [],
   "source": [
    "redirects = anchor_target_pairs\\\n",
    "    .groupByKey()\\\n",
    "    .filter(lambda (k, v): k not in bad_anchors)\\\n",
    "    .mapValues(sorted)\\\n",
    "    .flatMap(lambda (anchor, targets): combinations(targets, 2))"
   ]
  },
  {
   "cell_type": "code",
   "execution_count": null,
   "metadata": {
    "collapsed": true
   },
   "outputs": [],
   "source": [
    "anchor_target_pairs\\\n",
    "    .groupByKey()\\\n",
    "    .filter(lambda (k, v): k not in bad_anchors)\\\n",
    "    .mapValues(sorted)"
   ]
  },
  {
   "cell_type": "code",
   "execution_count": 200,
   "metadata": {},
   "outputs": [
    {
     "data": {
      "text/plain": [
       "69792476"
      ]
     },
     "execution_count": 200,
     "metadata": {},
     "output_type": "execute_result"
    }
   ],
   "source": [
    "clusters = .count()"
   ]
  },
  {
   "cell_type": "code",
   "execution_count": 202,
   "metadata": {},
   "outputs": [
    {
     "data": {
      "text/plain": [
       "[(u'tribuneonlineng.com/author/david', u'tribuneonlineng.com/author/toba'),\n",
       " (u'baseball-reference.com/player_search.cgi?results=sanchca01,sanche012car,sanche009car',\n",
       "  u'baseball-reference.com/search/search.fcgi?pid=sanchca01,sanche014car,sanche012car&search=carlos+sanchez'),\n",
       " (u'baseball-reference.com/player_search.cgi?results=sanchca01,sanche012car,sanche009car',\n",
       "  u'baseball-reference.com/search/search.fcgi?results=sanchca01,sanche012car,sanche014car&search=carlos+sanchez'),\n",
       " (u'baseball-reference.com/player_search.cgi?results=sanchca01,sanche012car,sanche009car',\n",
       "  u'baseball-reference.com/search/search.fcgi?results=sanchca01,sanche014car,sanche012car&search=carlos+sanchez'),\n",
       " (u'baseball-reference.com/player_search.cgi?results=sanchca01,sanche012car,sanche009car',\n",
       "  u'cbssports.com/mlb/players/playerpage/1956971/carlos-sanchez'),\n",
       " (u'baseball-reference.com/player_search.cgi?results=sanchca01,sanche012car,sanche009car',\n",
       "  u'espn.com/mlb/player/_/id/32264/carlos-sanchez'),\n",
       " (u'baseball-reference.com/player_search.cgi?results=sanchca01,sanche012car,sanche009car',\n",
       "  u'sports.yahoo.com/soccer/players/carlos-s\\xe1nchez'),\n",
       " (u'baseball-reference.com/player_search.cgi?results=sanchca01,sanche012car,sanche009car',\n",
       "  u'sportsmole.co.uk/people/carlos-sanchez'),\n",
       " (u'baseball-reference.com/search/search.fcgi?pid=sanchca01,sanche014car,sanche012car&search=carlos+sanchez',\n",
       "  u'baseball-reference.com/search/search.fcgi?results=sanchca01,sanche012car,sanche014car&search=carlos+sanchez'),\n",
       " (u'baseball-reference.com/search/search.fcgi?pid=sanchca01,sanche014car,sanche012car&search=carlos+sanchez',\n",
       "  u'baseball-reference.com/search/search.fcgi?results=sanchca01,sanche014car,sanche012car&search=carlos+sanchez')]"
      ]
     },
     "execution_count": 202,
     "metadata": {},
     "output_type": "execute_result"
    }
   ],
   "source": [
    "redirects.take(10)"
   ]
  },
  {
   "cell_type": "code",
   "execution_count": 199,
   "metadata": {},
   "outputs": [
    {
     "data": {
      "text/plain": [
       "69733175"
      ]
     },
     "execution_count": 199,
     "metadata": {},
     "output_type": "execute_result"
    }
   ],
   "source": [
    "redirects.distinct().count()"
   ]
  },
  {
   "cell_type": "code",
   "execution_count": 193,
   "metadata": {},
   "outputs": [
    {
     "data": {
      "text/plain": [
       "[]"
      ]
     },
     "execution_count": 193,
     "metadata": {},
     "output_type": "execute_result"
    }
   ],
   "source": [
    "redirects.filter(lambda (s, t): t == 'breitbart.com/tag/trump').take(1)"
   ]
  },
  {
   "cell_type": "code",
   "execution_count": 176,
   "metadata": {},
   "outputs": [
    {
     "data": {
      "text/plain": [
       "940321"
      ]
     },
     "execution_count": 176,
     "metadata": {},
     "output_type": "execute_result"
    }
   ],
   "source": [
    "redirects = anchor_target_pairs\\\n",
    "    .groupByKey()\\\n",
    "    .filter(lambda (k, v): k not in bad_anchors)\\\n",
    "    .mapValues(sorted)\\\n",
    "    .flatMap(lambda (anchor, targets): ((t, targets[0]) for t in targets))\\\n",
    "    .groupByKey()\\\n",
    "    .mapValues(sorted)\\\n",
    "    .flatMap(lambda (s, targets): ((s, targets[0]) for t in targets))\\\n",
    "    .distinct()\n",
    "redirects.count()"
   ]
  },
  {
   "cell_type": "code",
   "execution_count": 177,
   "metadata": {},
   "outputs": [
    {
     "data": {
      "text/plain": [
       "[u'24wrestling.com/tag/donald-trump']"
      ]
     },
     "execution_count": 177,
     "metadata": {},
     "output_type": "execute_result"
    }
   ],
   "source": [
    "redirects.lookup('abcnews.go.com/topics/news/donald-trump.htm')"
   ]
  },
  {
   "cell_type": "code",
   "execution_count": 179,
   "metadata": {},
   "outputs": [
    {
     "data": {
      "text/plain": [
       "[u'24wrestling.com/tag/donald-trump']"
      ]
     },
     "execution_count": 179,
     "metadata": {},
     "output_type": "execute_result"
    }
   ],
   "source": [
    "redirects.lookup('africasacountry.com/tag/donald-trump')"
   ]
  },
  {
   "cell_type": "code",
   "execution_count": 183,
   "metadata": {},
   "outputs": [
    {
     "data": {
      "text/plain": [
       "[u'41nbc.com/tag/trump']"
      ]
     },
     "execution_count": 183,
     "metadata": {},
     "output_type": "execute_result"
    }
   ],
   "source": [
    "redirects.lookup('breitbart.com/tag/trump')"
   ]
  },
  {
   "cell_type": "code",
   "execution_count": 188,
   "metadata": {},
   "outputs": [
    {
     "data": {
      "text/plain": [
       "[]"
      ]
     },
     "execution_count": 188,
     "metadata": {},
     "output_type": "execute_result"
    }
   ],
   "source": [
    "redirects2.lookup('24wrestling.com/tag/donald-trump')"
   ]
  },
  {
   "cell_type": "code",
   "execution_count": 170,
   "metadata": {
    "collapsed": true
   },
   "outputs": [],
   "source": [
    "redirects = redirects.collect()"
   ]
  },
  {
   "cell_type": "code",
   "execution_count": 185,
   "metadata": {},
   "outputs": [
    {
     "data": {
      "text/plain": [
       "583434"
      ]
     },
     "execution_count": 185,
     "metadata": {},
     "output_type": "execute_result"
    }
   ],
   "source": [
    "redirects2 = redirects\\\n",
    "    .map(lambda (s, t): (t, s))\\\n",
    "    .leftOuterJoin(redirects)\\\n",
    "    .map(lambda (target, (src, redirect)): (src, redirect or target))\\\n",
    "    .filter(lambda (s, t): s != t)\\\n",
    "    .distinct()\\\n",
    "    .cache()\n",
    "redirects2.count()"
   ]
  },
  {
   "cell_type": "code",
   "execution_count": 154,
   "metadata": {},
   "outputs": [
    {
     "data": {
      "text/plain": [
       "640716"
      ]
     },
     "execution_count": 154,
     "metadata": {},
     "output_type": "execute_result"
    }
   ],
   "source": [
    "redirects3 = redirects\\\n",
    "    .map(lambda (s, t): (t, s))\\\n",
    "    .leftOuterJoin(redirects)\\\n",
    "    .map(lambda (target, (src, redirect)): (src, redirect or target))\\\n",
    "    .filter(lambda (s, t): s != t)\\\n",
    "    .distinct()\\\n",
    "    .cache()\n",
    "redirects3.count()"
   ]
  },
  {
   "cell_type": "code",
   "execution_count": 132,
   "metadata": {},
   "outputs": [
    {
     "data": {
      "text/plain": [
       "118718"
      ]
     },
     "execution_count": 132,
     "metadata": {},
     "output_type": "execute_result"
    }
   ],
   "source": [
    "731221 - 612503"
   ]
  },
  {
   "cell_type": "code",
   "execution_count": 155,
   "metadata": {},
   "outputs": [],
   "source": [
    "rd1 = redirects.collect()"
   ]
  },
  {
   "cell_type": "code",
   "execution_count": 156,
   "metadata": {},
   "outputs": [],
   "source": [
    "rd2 = redirects2.collect()"
   ]
  },
  {
   "cell_type": "code",
   "execution_count": null,
   "metadata": {
    "collapsed": true
   },
   "outputs": [],
   "source": []
  },
  {
   "cell_type": "code",
   "execution_count": 161,
   "metadata": {},
   "outputs": [
    {
     "data": {
      "text/plain": [
       "[u'dailypost.co.uk/all-about/liverpool-fc']"
      ]
     },
     "execution_count": 161,
     "metadata": {},
     "output_type": "execute_result"
    }
   ],
   "source": [
    "[v for k, v in rd1 if k == 'liverpoolecho.co.uk/all-about/anfield']"
   ]
  },
  {
   "cell_type": "code",
   "execution_count": 164,
   "metadata": {},
   "outputs": [
    {
     "data": {
      "text/plain": [
       "[u'chroniclelive.co.uk/all-about/jurgen-klopp',\n",
       " u'chesterchronicle.co.uk/all-about/liverpool-fc',\n",
       " u'archdaily.com/tag/liverpool',\n",
       " u'chroniclelive.co.uk/all-about/liverpool-fc']"
      ]
     },
     "execution_count": 164,
     "metadata": {},
     "output_type": "execute_result"
    }
   ],
   "source": [
    "[v for k, v in rd2 if k == 'liverpoolecho.co.uk/all-about/anfield']"
   ]
  },
  {
   "cell_type": "code",
   "execution_count": 160,
   "metadata": {},
   "outputs": [
    {
     "data": {
      "text/plain": [
       "(u'liverpoolecho.co.uk/all-about/anfield',\n",
       " u'chroniclelive.co.uk/all-about/liverpool-fc')"
      ]
     },
     "execution_count": 160,
     "metadata": {},
     "output_type": "execute_result"
    }
   ],
   "source": [
    "list(set(rd2) - set(rd1))[0]"
   ]
  },
  {
   "cell_type": "code",
   "execution_count": 121,
   "metadata": {},
   "outputs": [
    {
     "data": {
      "text/plain": [
       "3400347"
      ]
     },
     "execution_count": 121,
     "metadata": {},
     "output_type": "execute_result"
    }
   ],
   "source": [
    "redirects = redirects\\\n",
    "    .map(lambda (s, t): (t, s))\\\n",
    "    .leftOuterJoin(redirects)\\\n",
    "    .map(lambda (target, (src, redirect)): (src, redirect or target))\\\n",
    "    .cache()\n",
    "redirects.count()"
   ]
  },
  {
   "cell_type": "code",
   "execution_count": 122,
   "metadata": {},
   "outputs": [
    {
     "data": {
      "text/plain": [
       "1329372"
      ]
     },
     "execution_count": 122,
     "metadata": {},
     "output_type": "execute_result"
    }
   ],
   "source": [
    "redirects.distinct().count()"
   ]
  },
  {
   "cell_type": "code",
   "execution_count": null,
   "metadata": {
    "collapsed": true
   },
   "outputs": [],
   "source": [
    "local_redirects = dict(redirects.collect())"
   ]
  },
  {
   "cell_type": "code",
   "execution_count": 51,
   "metadata": {},
   "outputs": [
    {
     "name": "stdout",
     "output_type": "stream",
     "text": [
      "55 \tgovernment\n",
      "6 \tgovernment’s\n",
      "5 \tthe government\n",
      "4 \ttory government\n",
      "3 \tmps\n",
      "3 \tpolitician\n",
      "3 \tgovernments\n",
      "3 \tcommons\n",
      "3 \tparliament\n",
      "3 \ttory\n",
      "3 \tprime minister\n",
      "3 \tconservatives\n",
      "3 \thouses of parliament\n",
      "3 \tconservative party\n",
      "3 \tpoliticians\n",
      "3 \tpolitical\n",
      "2 \tconservative\n",
      "2 \tby-election\n",
      "2 \tgovernment's\n",
      "2 \twhitehall\n",
      "2 \tgeneral election\n",
      "2 \tministers\n",
      "2 \tlocal authorities\n",
      "2 \tcouncil\n",
      "2 \tvote\n",
      "2 \tthe tories\n",
      "2 \tlabour\n",
      "2 \tdowning street\n",
      "2 \telections\n",
      "2 \tuk government\n"
     ]
    }
   ],
   "source": [
    "from collections import Counter\n",
    "anchors = Counter()\n",
    "for t in anchor_targets['government']:\n",
    "    anchors.update(target_anchors[t])\n",
    "\n",
    "for anchor, count in sorted(anchors.iteritems(), key=lambda (k, v): v, reverse=True)[:30]:\n",
    "    print count, '\\t', anchor"
   ]
  },
  {
   "cell_type": "code",
   "execution_count": 33,
   "metadata": {},
   "outputs": [
    {
     "name": "stdout",
     "output_type": "stream",
     "text": [
      "380 \tdonald trump\n",
      "69 \tdonald trump’s\n",
      "61 \ttrump\n",
      "54 \tpresident trump\n",
      "42 \tpresident donald trump\n",
      "23 \tdonald j. trump\n",
      "18 \tdonald trump \n",
      "18 \t donald trump\n",
      "16 \tpresident trump’s\n",
      "13 \tdonald trump's\n",
      "9 \ttrump \n",
      "9 \tus president donald trump\n",
      "9 \ttrump’s\n",
      "9 \tpresident donald trump’s\n",
      "8 \tdonald trump’\n",
      "8 \tdonald trump\n",
      "7 \tpresident\n",
      "7 \ttrump administration\n",
      "7 \tdonald\n",
      "6 \tdonald \n",
      "6 \tdonald trump,\n",
      "6 \tdonald trump.\n",
      "6 \tmr trump\n",
      "5 \tpresident \n",
      "5 \tpresident-elect donald trump\n",
      "5 \t donald trump \n",
      "5 \t[donald] trump\n",
      "5 \tmr. trump\n",
      "5 \tpresident trump's\n",
      "4 \tu.s. president donald trump\n"
     ]
    }
   ],
   "source": []
  },
  {
   "cell_type": "code",
   "execution_count": null,
   "metadata": {
    "collapsed": true
   },
   "outputs": [],
   "source": [
    "anchor_targets"
   ]
  },
  {
   "cell_type": "code",
   "execution_count": null,
   "metadata": {
    "collapsed": true
   },
   "outputs": [],
   "source": []
  }
 ],
 "metadata": {
  "kernelspec": {
   "display_name": "Python 2",
   "language": "python",
   "name": "python2"
  },
  "language_info": {
   "codemirror_mode": {
    "name": "ipython",
    "version": 2
   },
   "file_extension": ".py",
   "mimetype": "text/x-python",
   "name": "python",
   "nbconvert_exporter": "python",
   "pygments_lexer": "ipython2",
   "version": "2.7.6"
  }
 },
 "nbformat": 4,
 "nbformat_minor": 1
}
